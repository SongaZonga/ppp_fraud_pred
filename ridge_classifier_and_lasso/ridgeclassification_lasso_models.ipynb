{
 "cells": [
  {
   "cell_type": "markdown",
   "metadata": {},
   "source": [
    "### For updated features based on the ppp_transformed_updated.csv\n",
    "\n",
    "Transformations include:\n",
    "- Converting Term from numeric/ordinal to categorical (less than 24, 24, between 24 and 60, 60, more than 60)\n",
    "    - Justification: most concentrated around 24 and 60. the standard for ppp is 24 months, but can be extended to 60 months\n",
    "    - Could also see it as whether a loan extension was applied\n",
    "- Log transformation on large numeric variables\n",
    "    - Normalises the data before standardising\n",
    "    - MinMax shrinks the range but preserves the skew\n",
    "    - shrinking 0-1B to 0-1 results in long decimals (eg. 0.988887622845627891), which usually gets binned together\n",
    "    - new columns will be standardised as well\n",
    "- Including dummy variables \n",
    "- Splitting dataset based on original (non-categorical), encoded, scaled_standardised, log_standardised, dummy"
   ]
  },
  {
   "cell_type": "code",
   "execution_count": 41,
   "metadata": {},
   "outputs": [],
   "source": [
    "import pandas as pd \n",
    "import numpy as np\n",
    "import matplotlib.pyplot as plt\n",
    "import seaborn as sns\n",
    "import joblib \n",
    "\n",
    "from sklearn.preprocessing import StandardScaler\n",
    "\n",
    "import warnings\n",
    "warnings.filterwarnings(action = 'ignore', category = UserWarning)"
   ]
  },
  {
   "cell_type": "code",
   "execution_count": 42,
   "metadata": {},
   "outputs": [
    {
     "data": {
      "text/plain": [
       "Index(['LoanNumber', 'DateApproved', 'SBAOfficeCode', 'ProcessingMethod',\n",
       "       'BorrowerName', 'BorrowerCity', 'BorrowerState', 'BorrowerZip',\n",
       "       'LoanStatus', 'Term', 'InitialApprovalAmount', 'CurrentApprovalAmount',\n",
       "       'FranchiseName', 'ServicingLenderName', 'ServicingLenderZip',\n",
       "       'RuralUrbanIndicator', 'HubzoneIndicator', 'LMIIndicator',\n",
       "       'BusinessAgeDescription', 'ProjectCity', 'JobsReported', 'NAICSCode',\n",
       "       'Race', 'Ethnicity', 'BusinessType', 'Gender', 'Veteran',\n",
       "       'TOTAL_PROCEED', 'PROCEED_Diff', 'UTILITIES_PROCEED_pct',\n",
       "       'PAYROLL_PROCEED_pct', 'MORTGAGE_INTEREST_PROCEED_pct',\n",
       "       'RENT_PROCEED_pct', 'REFINANCE_EIDL_PROCEED_pct',\n",
       "       'HEALTH_CARE_PROCEED_pct', 'DEBT_INTEREST_PROCEED_pct',\n",
       "       'PROCEED_Per_Job', 'isAfterBiden', 'isDiffBorrowerAndProjectCity',\n",
       "       'Industry', 'Subsector', 'ProcessingMethod_encoded',\n",
       "       'LoanStatus_encoded', 'RuralUrbanIndicator_encoded',\n",
       "       'HubzoneIndicator_encoded', 'LMIIndicator_encoded',\n",
       "       'BusinessAgeDescription_encoded', 'Race_encoded', 'Ethnicity_encoded',\n",
       "       'BusinessType_encoded', 'Gender_encoded', 'Veteran_encoded',\n",
       "       'Industry_encoded', 'Term_standardised', 'JobsReported_standardised',\n",
       "       'PROCEED_Diff_standardised', 'UTILITIES_PROCEED_pct_standardised',\n",
       "       'PAYROLL_PROCEED_pct_standardised',\n",
       "       'MORTGAGE_INTEREST_PROCEED_pct_standardised',\n",
       "       'RENT_PROCEED_pct_standardised',\n",
       "       'REFINANCE_EIDL_PROCEED_pct_standardised',\n",
       "       'HEALTH_CARE_PROCEED_pct_standardised',\n",
       "       'DEBT_INTEREST_PROCEED_pct_standardised',\n",
       "       'InitialApprovalAmount_scaled_standardised',\n",
       "       'CurrentApprovalAmount_scaled_standardised',\n",
       "       'TOTAL_PROCEED_scaled_standardised',\n",
       "       'PROCEED_Per_Job_scaled_standardised', 'isFraud'],\n",
       "      dtype='object')"
      ]
     },
     "execution_count": 42,
     "metadata": {},
     "output_type": "execute_result"
    }
   ],
   "source": [
    "df = pd.read_csv(\"C:/Users/wei-z/OneDrive - Singapore Management University/Sch Docs/IS424 Data Mining/project/PPP/ppp_transformed_updated.csv\")\n",
    "df_original = df.copy()\n",
    "df.columns"
   ]
  },
  {
   "cell_type": "markdown",
   "metadata": {},
   "source": [
    "#### Converting 'Term' to categorical"
   ]
  },
  {
   "cell_type": "code",
   "execution_count": 43,
   "metadata": {},
   "outputs": [],
   "source": [
    "def term_transform(row):\n",
    "    \"\"\"\n",
    "    Transforms 'Term' column into a new column with categorical (string) values\n",
    "    > 60  : more than 60\n",
    "    == 60 : 60\n",
    "    > 24  : between 24 and 60\n",
    "    == 24 : 24\n",
    "    < 24  : less than 24 \n",
    "    \"\"\"\n",
    "    if row > 60:\n",
    "        label = 'more_than_60'\n",
    "    elif row == 60:\n",
    "        label = 'is_60'\n",
    "    elif row > 24:\n",
    "        label = 'between_24_60'\n",
    "    elif row == 24:\n",
    "        label = 'is_24'\n",
    "    else:\n",
    "        label = 'less_than_24'\n",
    "    return label"
   ]
  },
  {
   "cell_type": "code",
   "execution_count": 44,
   "metadata": {},
   "outputs": [
    {
     "data": {
      "text/html": [
       "<div>\n",
       "<style scoped>\n",
       "    .dataframe tbody tr th:only-of-type {\n",
       "        vertical-align: middle;\n",
       "    }\n",
       "\n",
       "    .dataframe tbody tr th {\n",
       "        vertical-align: top;\n",
       "    }\n",
       "\n",
       "    .dataframe thead th {\n",
       "        text-align: right;\n",
       "    }\n",
       "</style>\n",
       "<table border=\"1\" class=\"dataframe\">\n",
       "  <thead>\n",
       "    <tr style=\"text-align: right;\">\n",
       "      <th></th>\n",
       "      <th>Term</th>\n",
       "      <th>Term_cat</th>\n",
       "    </tr>\n",
       "  </thead>\n",
       "  <tbody>\n",
       "    <tr>\n",
       "      <th>0</th>\n",
       "      <td>24</td>\n",
       "      <td>is_24</td>\n",
       "    </tr>\n",
       "    <tr>\n",
       "      <th>1</th>\n",
       "      <td>24</td>\n",
       "      <td>is_24</td>\n",
       "    </tr>\n",
       "    <tr>\n",
       "      <th>2</th>\n",
       "      <td>24</td>\n",
       "      <td>is_24</td>\n",
       "    </tr>\n",
       "    <tr>\n",
       "      <th>3</th>\n",
       "      <td>24</td>\n",
       "      <td>is_24</td>\n",
       "    </tr>\n",
       "    <tr>\n",
       "      <th>4</th>\n",
       "      <td>24</td>\n",
       "      <td>is_24</td>\n",
       "    </tr>\n",
       "  </tbody>\n",
       "</table>\n",
       "</div>"
      ],
      "text/plain": [
       "   Term Term_cat\n",
       "0    24    is_24\n",
       "1    24    is_24\n",
       "2    24    is_24\n",
       "3    24    is_24\n",
       "4    24    is_24"
      ]
     },
     "execution_count": 44,
     "metadata": {},
     "output_type": "execute_result"
    }
   ],
   "source": [
    "# transform Term column into categorical\n",
    "df['Term_cat'] = df['Term'].apply(term_transform)\n",
    "df[['Term', 'Term_cat']].head(5)"
   ]
  },
  {
   "cell_type": "markdown",
   "metadata": {},
   "source": [
    "### Log-transform 'InitialApprovalAmount','CurrentApprovalAmount','TOTAL_PROCEED','PROCEED_Per_Job','JobsReported'\n",
    "'PROCEED_Diff' not log-transformed due to log(0) resulting in -inf, please use the original scaled_standard"
   ]
  },
  {
   "cell_type": "code",
   "execution_count": 45,
   "metadata": {},
   "outputs": [],
   "source": [
    "# following variables are significantly large in scale\n",
    "big = ['InitialApprovalAmount','CurrentApprovalAmount','TOTAL_PROCEED','PROCEED_Per_Job','JobsReported']\n",
    "\n",
    "for var in big:\n",
    "    #df[f'log_{var}'] = np.log(df[var]) \n",
    "    df[f'log_{var}'] = [np.log(x) if x > 0 else 0 for x in df[var]]"
   ]
  },
  {
   "cell_type": "markdown",
   "metadata": {},
   "source": [
    "### Standardising log-transformed variables"
   ]
  },
  {
   "cell_type": "code",
   "execution_count": 47,
   "metadata": {},
   "outputs": [],
   "source": [
    "log_to_standardise = ['log_InitialApprovalAmount','log_CurrentApprovalAmount', 'log_TOTAL_PROCEED','log_PROCEED_Per_Job']\n",
    "\n",
    "scaler = StandardScaler()\n",
    "\n",
    "for field in log_to_standardise:\n",
    "    df[f'{field}_standardised'] = scaler.fit_transform(df[[field]])"
   ]
  },
  {
   "cell_type": "markdown",
   "metadata": {},
   "source": [
    "### Percentages variables transformation\n",
    "\n",
    "Since all _pct variables are summed to 1 for each row, and noticing that most rows have 1 to PAYROLL_PROCEED_pct (indicating 100% allocation to payroll), we will take a ratio of proceeds that went to payroll versus proceeds that went to all other aspects. \n",
    "\n",
    "The formula: ln((1+payroll_proceed_pct)/(1+sum(all other pct)))\n",
    "\n",
    "1 is added to numerator and denominator to aid in calculation"
   ]
  },
  {
   "cell_type": "code",
   "execution_count": 48,
   "metadata": {},
   "outputs": [],
   "source": [
    "payroll_scaler = StandardScaler()\n",
    "\n",
    "df['payroll_over_other'] = np.log((1+df['PAYROLL_PROCEED_pct'])/(1+df[['UTILITIES_PROCEED_pct','MORTGAGE_INTEREST_PROCEED_pct','RENT_PROCEED_pct',\n",
    "                                                                       'REFINANCE_EIDL_PROCEED_pct','HEALTH_CARE_PROCEED_pct','DEBT_INTEREST_PROCEED_pct'\n",
    "                                                                       ]].sum(axis=1)))\n",
    "\n",
    "df['payroll_over_other'] = payroll_scaler.fit_transform(df['payroll_over_other'].values.reshape((-1, 1)))"
   ]
  },
  {
   "cell_type": "markdown",
   "metadata": {},
   "source": [
    "Just for clarity, the dataframes will be split into \n",
    "\n",
    "1. Original dataset as loaded (df_original)\n",
    "2. Dataset as transformed up to now (df_new)\n",
    "\n",
    "Lists of various variables are provided, please feel free to drop accordingly.\n",
    "\n",
    "If your model requires dummy variables, please use the next section."
   ]
  },
  {
   "cell_type": "code",
   "execution_count": 50,
   "metadata": {},
   "outputs": [],
   "source": [
    "# list of encoded variables\n",
    "encoded = ['ProcessingMethod_encoded','LoanStatus_encoded','RuralUrbanIndicator_encoded','HubzoneIndicator_encoded','LMIIndicator_encoded',\n",
    "           'BusinessAgeDescription_encoded','Race_encoded','Ethnicity_encoded','BusinessType_encoded','Gender_encoded','Veteran_encoded','Industry_encoded']\n",
    "\n",
    "# list of existing standardised variables\n",
    "standardised = ['Term_standardised','JobsReported_standardised','UTILITIES_PROCEED_pct_standardised','PAYROLL_PROCEED_pct_standardised',\n",
    "                'MORTGAGE_INTEREST_PROCEED_pct_standardised','RENT_PROCEED_pct_standardised','REFINANCE_EIDL_PROCEED_pct_standardised','HEALTH_CARE_PROCEED_pct_standardised',\n",
    "                'DEBT_INTEREST_PROCEED_pct_standardised','InitialApprovalAmount_scaled_standardised','CurrentApprovalAmount_scaled_standardised','TOTAL_PROCEED_scaled_standardised',\n",
    "                'PROCEED_Per_Job_scaled_standardised']\n",
    "\n",
    "# list of log_transformed variables\n",
    "logged = ['log_InitialApprovalAmount','log_CurrentApprovalAmount','log_TOTAL_PROCEED','log_PROCEED_Per_Job','log_JobsReported']\n",
    "\n",
    "# list of log_transformed_standardised variables\n",
    "log_standardise = ['log_InitialApprovalAmount_standardised','log_CurrentApprovalAmount_standardised','log_TOTAL_PROCEED_standardised',\n",
    "                   'log_PROCEED_Per_Job_standardised','log_JobsReported_standardised']\n",
    "\n",
    "# list of pct variables\n",
    "pct = ['PAYROLL_PROCEED_pct','UTILITIES_PROCEED_pct','MORTGAGE_INTEREST_PROCEED_pct','RENT_PROCEED_pct','REFINANCE_EIDL_PROCEED_pct','HEALTH_CARE_PROCEED_pct','DEBT_INTEREST_PROCEED_pct']\n",
    "\n",
    "# list of commonly dropped varibles (please feel free to use your own)\n",
    "drop = ['LoanNumber','DateApproved','SBAOfficeCode','BorrowerName','BorrowerCity','BorrowerZip','Term','InitialApprovalAmount','CurrentApprovalAmount',\n",
    "        'FranchiseName','ServicingLenderName','ServicingLenderZip','ProjectCity','NAICSCode','TOTAL_PROCEED','PROCEED_Diff','JobsReported','PROCEED_Per_Job','Subsector']\n",
    "\n",
    "# original dataframe from ppp_transformed_updated.csv\n",
    "# df_original\n",
    "\n",
    "# original dataframe with Term transformation, log transformation, log standardised and dummies -> new dataframe transformed up to now\n",
    "df_new = df.copy()"
   ]
  },
  {
   "cell_type": "code",
   "execution_count": 51,
   "metadata": {},
   "outputs": [],
   "source": [
    "# drop columns that are not required in your model\n",
    "df = df_new.drop(encoded+standardised+logged+pct+drop, axis = 1)"
   ]
  },
  {
   "cell_type": "markdown",
   "metadata": {},
   "source": [
    "### Creating dummy variables"
   ]
  },
  {
   "cell_type": "code",
   "execution_count": 53,
   "metadata": {},
   "outputs": [
    {
     "data": {
      "text/plain": [
       "Index(['PROCEED_Diff_standardised', 'isFraud',\n",
       "       'log_InitialApprovalAmount_standardised',\n",
       "       'log_CurrentApprovalAmount_standardised',\n",
       "       'log_TOTAL_PROCEED_standardised', 'log_PROCEED_Per_Job_standardised',\n",
       "       'payroll_over_other', 'ProcessingMethod_PPP', 'ProcessingMethod_PPS',\n",
       "       'LoanStatus_Active Un-Disbursed',\n",
       "       ...\n",
       "       'BorrowerState_VT', 'BorrowerState_WA', 'BorrowerState_WI',\n",
       "       'BorrowerState_WV', 'BorrowerState_WY', 'Term_cat_between_24_60',\n",
       "       'Term_cat_is_24', 'Term_cat_is_60', 'Term_cat_less_than_24',\n",
       "       'Term_cat_more_than_60'],\n",
       "      dtype='object', length=154)"
      ]
     },
     "execution_count": 53,
     "metadata": {},
     "output_type": "execute_result"
    }
   ],
   "source": [
    "df = df # please add the dataframe you are using\n",
    "\n",
    "dummies = ['ProcessingMethod','LoanStatus','RuralUrbanIndicator','HubzoneIndicator',\n",
    "           'LMIIndicator','BusinessAgeDescription','Race','Ethnicity','BusinessType','Gender',\n",
    "           'Veteran','isAfterBiden','isDiffBorrowerAndProjectCity','Industry','BorrowerState','Term_cat']\n",
    "\n",
    "df_no_dummies = df.copy()\n",
    "df = pd.get_dummies(df, columns = dummies)\n",
    "\n",
    "df.columns"
   ]
  },
  {
   "cell_type": "markdown",
   "metadata": {},
   "source": [
    "### Modelling data preparation"
   ]
  },
  {
   "cell_type": "code",
   "execution_count": 54,
   "metadata": {},
   "outputs": [],
   "source": [
    "from sklearn.model_selection import train_test_split\n",
    "from sklearn.linear_model import RidgeClassifier, RidgeClassifierCV, Lasso, LassoCV, LogisticRegression\n",
    "from sklearn.metrics import classification_report, accuracy_score, confusion_matrix, roc_curve, roc_auc_score, RocCurveDisplay, auc\n",
    "from sklearn.model_selection import GridSearchCV\n",
    "\n",
    "from imblearn.over_sampling import SMOTE\n",
    "from imblearn.under_sampling import RandomUnderSampler"
   ]
  },
  {
   "cell_type": "code",
   "execution_count": 55,
   "metadata": {},
   "outputs": [],
   "source": [
    "# split train-test dataset\n",
    "X = df.drop('isFraud', axis = 1)\n",
    "y = df['isFraud']\n",
    "\n",
    "X_train, X_test, y_train, y_test = train_test_split(X, y, test_size = 0.2, stratify = y, random_state = 99)"
   ]
  },
  {
   "cell_type": "code",
   "execution_count": 56,
   "metadata": {},
   "outputs": [
    {
     "data": {
      "text/plain": [
       "isFraud\n",
       "0    769095\n",
       "1    769095\n",
       "Name: count, dtype: int64"
      ]
     },
     "execution_count": 56,
     "metadata": {},
     "output_type": "execute_result"
    }
   ],
   "source": [
    "# apply oversamppling through SMOTE\n",
    "smote = SMOTE(random_state = 99)\n",
    "X_train_resampled, y_train_resampled = smote.fit_resample(X_train, y_train)\n",
    "\n",
    "y_train_resampled.value_counts()"
   ]
  },
  {
   "cell_type": "code",
   "execution_count": 57,
   "metadata": {},
   "outputs": [
    {
     "data": {
      "text/plain": [
       "(1254, 153)"
      ]
     },
     "execution_count": 57,
     "metadata": {},
     "output_type": "execute_result"
    }
   ],
   "source": [
    "# apply undersampling through RandomUnderSampler\n",
    "undersample = RandomUnderSampler(sampling_strategy = 0.5, random_state = 99)\n",
    "X_train_undersampled, y_train_undersampled = undersample.fit_resample(X_train, y_train)\n",
    "\n",
    "X_train_undersampled.shape"
   ]
  },
  {
   "cell_type": "code",
   "execution_count": 58,
   "metadata": {},
   "outputs": [],
   "source": [
    "# ROC AUC function\n",
    "def plot_score_roc_auc(y_pred):\n",
    "    fpr, tpr, _ = roc_curve(y_test, y_pred)\n",
    "    roc_auc = auc(fpr, tpr)\n",
    "    RocCurveDisplay(fpr = fpr, tpr = tpr, roc_auc = roc_auc).plot()\n",
    "    plt.show()"
   ]
  },
  {
   "cell_type": "markdown",
   "metadata": {},
   "source": [
    "#### Ridge Classifier"
   ]
  },
  {
   "cell_type": "code",
   "execution_count": 59,
   "metadata": {},
   "outputs": [
    {
     "name": "stdout",
     "output_type": "stream",
     "text": [
      "Accuracy: 0.9963873395744858\n",
      "Classification Report:\n",
      "              precision    recall  f1-score   support\n",
      "\n",
      "           0       1.00      1.00      1.00    192274\n",
      "           1       0.12      0.91      0.22       105\n",
      "\n",
      "    accuracy                           1.00    192379\n",
      "   macro avg       0.56      0.96      0.61    192379\n",
      "weighted avg       1.00      1.00      1.00    192379\n",
      "\n",
      "[[191588    686]\n",
      " [     9     96]]\n"
     ]
    }
   ],
   "source": [
    "# train ridge classifier model\n",
    "ridge_classifier = RidgeClassifier(alpha = 1.0, solver = 'auto')\n",
    "\n",
    "ridge_classifier.fit(X_train_resampled, y_train_resampled)\n",
    "\n",
    "# model evaluation\n",
    "y_pred_ridge = ridge_classifier.predict(X_test)\n",
    "\n",
    "accuracy_ridge = accuracy_score(y_test, y_pred_ridge)\n",
    "classification_report_result_ridge = classification_report(y_test, y_pred_ridge)\n",
    "\n",
    "print(f'Accuracy: {accuracy_ridge}')\n",
    "print(f'Classification Report:\\n{classification_report_result_ridge}')\n",
    "\n",
    "# confusion matrix\n",
    "print(confusion_matrix(y_test, y_pred_ridge))"
   ]
  },
  {
   "cell_type": "code",
   "execution_count": 60,
   "metadata": {},
   "outputs": [
    {
     "name": "stdout",
     "output_type": "stream",
     "text": [
      "Accuracy: 0.989442714641411\n",
      "Classification Report:\n",
      "              precision    recall  f1-score   support\n",
      "\n",
      "           0       1.00      0.99      0.99    192274\n",
      "           1       0.05      0.96      0.09       105\n",
      "\n",
      "    accuracy                           0.99    192379\n",
      "   macro avg       0.52      0.98      0.54    192379\n",
      "weighted avg       1.00      0.99      0.99    192379\n",
      "\n",
      "[[190247   2027]\n",
      " [     4    101]]\n"
     ]
    }
   ],
   "source": [
    "# train ridge classifier model\n",
    "ridge_classifier = RidgeClassifier(alpha = 1.0, solver = 'auto')\n",
    "\n",
    "ridge_classifier.fit(X_train_undersampled, y_train_undersampled)\n",
    "\n",
    "# model evaluation\n",
    "y_pred_ridge = ridge_classifier.predict(X_test)\n",
    "\n",
    "accuracy_ridge = accuracy_score(y_test, y_pred_ridge)\n",
    "classification_report_result_ridge = classification_report(y_test, y_pred_ridge)\n",
    "\n",
    "print(f'Accuracy: {accuracy_ridge}')\n",
    "print(f'Classification Report:\\n{classification_report_result_ridge}')\n",
    "\n",
    "# confusion matrix\n",
    "print(confusion_matrix(y_test, y_pred_ridge))"
   ]
  },
  {
   "cell_type": "markdown",
   "metadata": {},
   "source": [
    "#### LASSO"
   ]
  },
  {
   "cell_type": "code",
   "execution_count": 61,
   "metadata": {},
   "outputs": [
    {
     "name": "stdout",
     "output_type": "stream",
     "text": [
      "Accuracy: 0.9974321521579799\n",
      "Classification Report:\n",
      "              precision    recall  f1-score   support\n",
      "\n",
      "           0       1.00      1.00      1.00    192274\n",
      "           1       0.16      0.90      0.28       105\n",
      "\n",
      "    accuracy                           1.00    192379\n",
      "   macro avg       0.58      0.95      0.64    192379\n",
      "weighted avg       1.00      1.00      1.00    192379\n",
      "\n",
      "[[191790    484]\n",
      " [    10     95]]\n"
     ]
    }
   ],
   "source": [
    "# train lasso model\n",
    "lasso_regression = Lasso(alpha = 0.1)\n",
    "\n",
    "lasso_regression.fit(X_train_resampled, y_train_resampled)\n",
    "\n",
    "# model evaluation\n",
    "y_pred_lasso = lasso_regression.predict(X_test)\n",
    "\n",
    "# note that prediction output is 0 < y < 1, hence convert into binary\n",
    "y_pred_lasso_binary = [1 if i > 0.5 else 0 for i in y_pred_lasso]\n",
    "\n",
    "# generate accuracy and classification report\n",
    "accuracy_lasso = accuracy_score(y_test, y_pred_lasso_binary)\n",
    "classification_report_result_lasso = classification_report(y_test, y_pred_lasso_binary)\n",
    "\n",
    "print(f'Accuracy: {accuracy_lasso}')\n",
    "print(f'Classification Report:\\n{classification_report_result_lasso}')\n",
    "\n",
    "# confusion matrix\n",
    "print(confusion_matrix(y_test, y_pred_lasso_binary))"
   ]
  },
  {
   "cell_type": "code",
   "execution_count": 62,
   "metadata": {},
   "outputs": [
    {
     "name": "stdout",
     "output_type": "stream",
     "text": [
      "Accuracy: 0.9974321521579799\n",
      "Classification Report:\n",
      "              precision    recall  f1-score   support\n",
      "\n",
      "           0       1.00      1.00      1.00    192274\n",
      "           1       0.16      0.90      0.28       105\n",
      "\n",
      "    accuracy                           1.00    192379\n",
      "   macro avg       0.58      0.95      0.64    192379\n",
      "weighted avg       1.00      1.00      1.00    192379\n",
      "\n",
      "[[191790    484]\n",
      " [    10     95]]\n"
     ]
    }
   ],
   "source": [
    "# train lasso model\n",
    "lasso_regression = Lasso(alpha = 0.1)\n",
    "\n",
    "lasso_regression.fit(X_train_undersampled, y_train_undersampled)\n",
    "\n",
    "# model evaluation\n",
    "y_pred_lasso = lasso_regression.predict(X_test)\n",
    "\n",
    "# note that prediction output is 0 < y < 1, hence convert into binary\n",
    "y_pred_lasso_binary = [1 if i > 0.5 else 0 for i in y_pred_lasso]\n",
    "\n",
    "# generate accuracy and classification report\n",
    "accuracy_lasso = accuracy_score(y_test, y_pred_lasso_binary)\n",
    "classification_report_result_lasso = classification_report(y_test, y_pred_lasso_binary)\n",
    "\n",
    "print(f'Accuracy: {accuracy_lasso}')\n",
    "print(f'Classification Report:\\n{classification_report_result_lasso}')\n",
    "\n",
    "# confusion matrix\n",
    "print(confusion_matrix(y_test, y_pred_lasso_binary))"
   ]
  },
  {
   "cell_type": "markdown",
   "metadata": {},
   "source": [
    "#### Logistic Regression\n",
    "\n",
    "For both over and undersampling, as well as l1 and l2 penalties. "
   ]
  },
  {
   "cell_type": "code",
   "execution_count": 63,
   "metadata": {},
   "outputs": [
    {
     "name": "stdout",
     "output_type": "stream",
     "text": [
      "Accuracy: 0.9896194491082706\n",
      "Classification Report:\n",
      "              precision    recall  f1-score   support\n",
      "\n",
      "           0       1.00      0.99      0.99    192274\n",
      "           1       0.05      0.97      0.09       105\n",
      "\n",
      "    accuracy                           0.99    192379\n",
      "   macro avg       0.52      0.98      0.54    192379\n",
      "weighted avg       1.00      0.99      0.99    192379\n",
      "\n",
      "[[190280   1994]\n",
      " [     3    102]]\n"
     ]
    }
   ],
   "source": [
    "# train logistic model\n",
    "logist_regression = LogisticRegression(penalty='l2', solver='saga')\n",
    "\n",
    "logist_regression.fit(X_train_resampled, y_train_resampled)\n",
    "\n",
    "# model evaluation\n",
    "y_pred_logist = logist_regression.predict(X_test)\n",
    "\n",
    "# note that prediction output is 0 < y < 1, hence convert into binary\n",
    "y_pred_logist_binary = [1 if i > 0.5 else 0 for i in y_pred_logist]\n",
    "\n",
    "# generate accuracy and classification report\n",
    "accuracy_logist = accuracy_score(y_test, y_pred_logist_binary)\n",
    "classification_report_result_logist = classification_report(y_test, y_pred_logist_binary)\n",
    "\n",
    "print(f'Accuracy: {accuracy_logist}')\n",
    "print(f'Classification Report:\\n{classification_report_result_logist}')\n",
    "\n",
    "# confusion matrix\n",
    "print(confusion_matrix(y_test, y_pred_logist_binary))"
   ]
  },
  {
   "cell_type": "code",
   "execution_count": 64,
   "metadata": {},
   "outputs": [
    {
     "name": "stdout",
     "output_type": "stream",
     "text": [
      "Accuracy: 0.9822745725884842\n",
      "Classification Report:\n",
      "              precision    recall  f1-score   support\n",
      "\n",
      "           0       1.00      0.98      0.99    192274\n",
      "           1       0.03      0.99      0.06       105\n",
      "\n",
      "    accuracy                           0.98    192379\n",
      "   macro avg       0.51      0.99      0.52    192379\n",
      "weighted avg       1.00      0.98      0.99    192379\n",
      "\n",
      "[[188865   3409]\n",
      " [     1    104]]\n"
     ]
    }
   ],
   "source": [
    "# train logistic model\n",
    "logist_regression = LogisticRegression(penalty='l2', solver='saga')\n",
    "\n",
    "logist_regression.fit(X_train_undersampled, y_train_undersampled)\n",
    "\n",
    "# model evaluation\n",
    "y_pred_logist = logist_regression.predict(X_test)\n",
    "\n",
    "# note that prediction output is 0 < y < 1, hence convert into binary\n",
    "y_pred_logist_binary = [1 if i > 0.5 else 0 for i in y_pred_logist]\n",
    "\n",
    "# generate accuracy and classification report\n",
    "accuracy_logist = accuracy_score(y_test, y_pred_logist_binary)\n",
    "classification_report_result_logist = classification_report(y_test, y_pred_logist_binary)\n",
    "\n",
    "print(f'Accuracy: {accuracy_logist}')\n",
    "print(f'Classification Report:\\n{classification_report_result_logist}')\n",
    "\n",
    "# confusion matrix\n",
    "print(confusion_matrix(y_test, y_pred_logist_binary))"
   ]
  },
  {
   "cell_type": "code",
   "execution_count": 65,
   "metadata": {},
   "outputs": [
    {
     "name": "stdout",
     "output_type": "stream",
     "text": [
      "Accuracy: 0.9896246471808253\n",
      "Classification Report:\n",
      "              precision    recall  f1-score   support\n",
      "\n",
      "           0       1.00      0.99      0.99    192274\n",
      "           1       0.05      0.97      0.09       105\n",
      "\n",
      "    accuracy                           0.99    192379\n",
      "   macro avg       0.52      0.98      0.54    192379\n",
      "weighted avg       1.00      0.99      0.99    192379\n",
      "\n",
      "[[190281   1993]\n",
      " [     3    102]]\n"
     ]
    }
   ],
   "source": [
    "# train logistic model\n",
    "logist_regression = LogisticRegression(penalty='l1', solver='saga')\n",
    "\n",
    "logist_regression.fit(X_train_resampled, y_train_resampled)\n",
    "\n",
    "# model evaluation\n",
    "y_pred_logist = logist_regression.predict(X_test)\n",
    "\n",
    "# note that prediction output is 0 < y < 1, hence convert into binary\n",
    "y_pred_logist_binary = [1 if i > 0.5 else 0 for i in y_pred_logist]\n",
    "\n",
    "# generate accuracy and classification report\n",
    "accuracy_logist = accuracy_score(y_test, y_pred_logist_binary)\n",
    "classification_report_result_logist = classification_report(y_test, y_pred_logist_binary)\n",
    "\n",
    "print(f'Accuracy: {accuracy_logist}')\n",
    "print(f'Classification Report:\\n{classification_report_result_logist}')\n",
    "\n",
    "# confusion matrix\n",
    "print(confusion_matrix(y_test, y_pred_logist_binary))"
   ]
  },
  {
   "cell_type": "code",
   "execution_count": 66,
   "metadata": {},
   "outputs": [
    {
     "name": "stdout",
     "output_type": "stream",
     "text": [
      "Accuracy: 0.9805488125003249\n",
      "Classification Report:\n",
      "              precision    recall  f1-score   support\n",
      "\n",
      "           0       1.00      0.98      0.99    192274\n",
      "           1       0.03      0.99      0.05       105\n",
      "\n",
      "    accuracy                           0.98    192379\n",
      "   macro avg       0.51      0.99      0.52    192379\n",
      "weighted avg       1.00      0.98      0.99    192379\n",
      "\n",
      "[[188533   3741]\n",
      " [     1    104]]\n"
     ]
    }
   ],
   "source": [
    "# train logistic model\n",
    "logist_regression = LogisticRegression(penalty='l1', solver='saga')\n",
    "\n",
    "logist_regression.fit(X_train_undersampled, y_train_undersampled)\n",
    "\n",
    "# model evaluation\n",
    "y_pred_logist = logist_regression.predict(X_test)\n",
    "\n",
    "# note that prediction output is 0 < y < 1, hence convert into binary\n",
    "y_pred_logist_binary = [1 if i > 0.5 else 0 for i in y_pred_logist]\n",
    "\n",
    "# generate accuracy and classification report\n",
    "accuracy_logist = accuracy_score(y_test, y_pred_logist_binary)\n",
    "classification_report_result_logist = classification_report(y_test, y_pred_logist_binary)\n",
    "\n",
    "print(f'Accuracy: {accuracy_logist}')\n",
    "print(f'Classification Report:\\n{classification_report_result_logist}')\n",
    "\n",
    "# confusion matrix\n",
    "print(confusion_matrix(y_test, y_pred_logist_binary))"
   ]
  },
  {
   "cell_type": "markdown",
   "metadata": {},
   "source": [
    "### Ridge Classifier Hyperparameter Tuning"
   ]
  },
  {
   "cell_type": "markdown",
   "metadata": {},
   "source": [
    "#### Ridge Classifier Model oversampled"
   ]
  },
  {
   "cell_type": "code",
   "execution_count": 67,
   "metadata": {},
   "outputs": [
    {
     "name": "stderr",
     "output_type": "stream",
     "text": [
      "C:\\Users\\wei-z\\AppData\\Local\\Packages\\PythonSoftwareFoundation.Python.3.10_qbz5n2kfra8p0\\LocalCache\\local-packages\\Python310\\site-packages\\sklearn\\linear_model\\_ridge.py:211: LinAlgWarning: Ill-conditioned matrix (rcond=7.41218e-21): result may not be accurate.\n",
      "  return linalg.solve(A, Xy, assume_a=\"pos\", overwrite_a=True).T\n",
      "C:\\Users\\wei-z\\AppData\\Local\\Packages\\PythonSoftwareFoundation.Python.3.10_qbz5n2kfra8p0\\LocalCache\\local-packages\\Python310\\site-packages\\sklearn\\linear_model\\_ridge.py:211: LinAlgWarning: Ill-conditioned matrix (rcond=7.4113e-21): result may not be accurate.\n",
      "  return linalg.solve(A, Xy, assume_a=\"pos\", overwrite_a=True).T\n"
     ]
    }
   ],
   "source": [
    "# param_grid alpha values\n",
    "grid = dict()\n",
    "grid['alpha'] = np.arange(0, 1, 0.02)\n",
    "\n",
    "ridge = RidgeClassifier()\n",
    "ridge_model1 = GridSearchCV(ridge, param_grid=grid, scoring='roc_auc', cv = 10)\n",
    "ridge_model1.fit(X_train_resampled, y_train_resampled)\n",
    "\n",
    "# predict y values based on lasso model\n",
    "y_pred = ridge_model1.predict(X_test)"
   ]
  },
  {
   "cell_type": "code",
   "execution_count": 68,
   "metadata": {},
   "outputs": [
    {
     "name": "stdout",
     "output_type": "stream",
     "text": [
      "Alpha: {'alpha': 0.02}\n",
      "Accuracy: 0.9963873395744858\n",
      "Classification Report:\n",
      "              precision    recall  f1-score   support\n",
      "\n",
      "           0       1.00      1.00      1.00    192274\n",
      "           1       0.12      0.91      0.22       105\n",
      "\n",
      "    accuracy                           1.00    192379\n",
      "   macro avg       0.56      0.96      0.61    192379\n",
      "weighted avg       1.00      1.00      1.00    192379\n",
      "\n",
      "[[191588    686]\n",
      " [     9     96]]\n"
     ]
    }
   ],
   "source": [
    "# generate accuracy and classification report\n",
    "accuracy = accuracy_score(y_test, y_pred)\n",
    "classification_report_result = classification_report(y_test, y_pred)\n",
    "\n",
    "print(f\"Alpha: {ridge_model1.best_params_}\")\n",
    "print(f'Accuracy: {accuracy}')\n",
    "print(f'Classification Report:\\n{classification_report_result}')\n",
    "print(confusion_matrix(y_test, y_pred))"
   ]
  },
  {
   "cell_type": "code",
   "execution_count": 69,
   "metadata": {},
   "outputs": [
    {
     "data": {
      "text/plain": [
       "['ridge_model_oversampled.pkl']"
      ]
     },
     "execution_count": 69,
     "metadata": {},
     "output_type": "execute_result"
    }
   ],
   "source": [
    "# save model\n",
    "joblib.dump(ridge_model1, 'ridge_model_oversampled.pkl')"
   ]
  },
  {
   "cell_type": "code",
   "execution_count": 70,
   "metadata": {},
   "outputs": [],
   "source": [
    "# load model\n",
    "ridge_model1 = joblib.load('ridge_model_oversampled.pkl')"
   ]
  },
  {
   "cell_type": "code",
   "execution_count": 71,
   "metadata": {},
   "outputs": [
    {
     "data": {
      "image/png": "[encoded data removed]",
      "text/plain": [
       "<Figure size 640x480 with 1 Axes>"
      ]
     },
     "metadata": {},
     "output_type": "display_data"
    }
   ],
   "source": [
    "results = pd.DataFrame(ridge_model1.cv_results_)[['params', 'mean_test_score', 'rank_test_score']]\n",
    "results.plot(x = 'params', y = 'mean_test_score')\n",
    "plt.title('Ridge Classifier Model oversampled (scoring=recall, step=0.02, cv=10)')\n",
    "plt.xticks(rotation = 90)\n",
    "plt.xlabel('alpha')\n",
    "plt.show()"
   ]
  },
  {
   "cell_type": "code",
   "execution_count": 72,
   "metadata": {},
   "outputs": [
    {
     "data": {
      "image/png": "[encoded data removed]",
      "text/plain": [
       "<Figure size 640x480 with 1 Axes>"
      ]
     },
     "metadata": {},
     "output_type": "display_data"
    }
   ],
   "source": [
    "plot_score_roc_auc(y_pred)"
   ]
  },
  {
   "cell_type": "code",
   "execution_count": 73,
   "metadata": {},
   "outputs": [
    {
     "data": {
      "text/html": [
       "<div>\n",
       "<style scoped>\n",
       "    .dataframe tbody tr th:only-of-type {\n",
       "        vertical-align: middle;\n",
       "    }\n",
       "\n",
       "    .dataframe tbody tr th {\n",
       "        vertical-align: top;\n",
       "    }\n",
       "\n",
       "    .dataframe thead th {\n",
       "        text-align: right;\n",
       "    }\n",
       "</style>\n",
       "<table border=\"1\" class=\"dataframe\">\n",
       "  <thead>\n",
       "    <tr style=\"text-align: right;\">\n",
       "      <th></th>\n",
       "      <th>feature</th>\n",
       "      <th>coef</th>\n",
       "      <th>abs_coef</th>\n",
       "    </tr>\n",
       "  </thead>\n",
       "  <tbody>\n",
       "    <tr>\n",
       "      <th>91</th>\n",
       "      <td>BorrowerState_AK</td>\n",
       "      <td>1.537931</td>\n",
       "      <td>1.537931</td>\n",
       "    </tr>\n",
       "    <tr>\n",
       "      <th>25</th>\n",
       "      <td>Race_Eskimo &amp; Aleut</td>\n",
       "      <td>-1.289539</td>\n",
       "      <td>1.289539</td>\n",
       "    </tr>\n",
       "    <tr>\n",
       "      <th>139</th>\n",
       "      <td>BorrowerState_UNK</td>\n",
       "      <td>0.923285</td>\n",
       "      <td>0.923285</td>\n",
       "    </tr>\n",
       "    <tr>\n",
       "      <th>151</th>\n",
       "      <td>Term_cat_less_than_24</td>\n",
       "      <td>0.793207</td>\n",
       "      <td>0.793207</td>\n",
       "    </tr>\n",
       "    <tr>\n",
       "      <th>99</th>\n",
       "      <td>BorrowerState_DC</td>\n",
       "      <td>0.679254</td>\n",
       "      <td>0.679254</td>\n",
       "    </tr>\n",
       "    <tr>\n",
       "      <th>74</th>\n",
       "      <td>Industry_Construction</td>\n",
       "      <td>0.410003</td>\n",
       "      <td>0.410003</td>\n",
       "    </tr>\n",
       "    <tr>\n",
       "      <th>87</th>\n",
       "      <td>Industry_Retail trade</td>\n",
       "      <td>0.399456</td>\n",
       "      <td>0.399456</td>\n",
       "    </tr>\n",
       "    <tr>\n",
       "      <th>73</th>\n",
       "      <td>Industry_Arts, entertainment, and recreation</td>\n",
       "      <td>0.395405</td>\n",
       "      <td>0.395405</td>\n",
       "    </tr>\n",
       "    <tr>\n",
       "      <th>6</th>\n",
       "      <td>ProcessingMethod_PPP</td>\n",
       "      <td>0.386334</td>\n",
       "      <td>0.386334</td>\n",
       "    </tr>\n",
       "    <tr>\n",
       "      <th>77</th>\n",
       "      <td>Industry_Health care and social assistance</td>\n",
       "      <td>0.375370</td>\n",
       "      <td>0.375370</td>\n",
       "    </tr>\n",
       "    <tr>\n",
       "      <th>76</th>\n",
       "      <td>Industry_Finance and insurance</td>\n",
       "      <td>0.366175</td>\n",
       "      <td>0.366175</td>\n",
       "    </tr>\n",
       "    <tr>\n",
       "      <th>71</th>\n",
       "      <td>Industry_Administrative and support and waste ...</td>\n",
       "      <td>0.365423</td>\n",
       "      <td>0.365423</td>\n",
       "    </tr>\n",
       "    <tr>\n",
       "      <th>84</th>\n",
       "      <td>Industry_Professional, scientific, and technic...</td>\n",
       "      <td>0.360005</td>\n",
       "      <td>0.360005</td>\n",
       "    </tr>\n",
       "    <tr>\n",
       "      <th>88</th>\n",
       "      <td>Industry_Transportation and warehousing</td>\n",
       "      <td>0.352404</td>\n",
       "      <td>0.352404</td>\n",
       "    </tr>\n",
       "    <tr>\n",
       "      <th>78</th>\n",
       "      <td>Industry_Information</td>\n",
       "      <td>0.346792</td>\n",
       "      <td>0.346792</td>\n",
       "    </tr>\n",
       "    <tr>\n",
       "      <th>90</th>\n",
       "      <td>Industry_Wholesale trade</td>\n",
       "      <td>0.337796</td>\n",
       "      <td>0.337796</td>\n",
       "    </tr>\n",
       "    <tr>\n",
       "      <th>59</th>\n",
       "      <td>BusinessType_Unknown</td>\n",
       "      <td>0.336354</td>\n",
       "      <td>0.336354</td>\n",
       "    </tr>\n",
       "    <tr>\n",
       "      <th>148</th>\n",
       "      <td>Term_cat_between_24_60</td>\n",
       "      <td>0.336136</td>\n",
       "      <td>0.336136</td>\n",
       "    </tr>\n",
       "    <tr>\n",
       "      <th>80</th>\n",
       "      <td>Industry_Manufacturing</td>\n",
       "      <td>0.335367</td>\n",
       "      <td>0.335367</td>\n",
       "    </tr>\n",
       "    <tr>\n",
       "      <th>70</th>\n",
       "      <td>Industry_Accommodation and food services</td>\n",
       "      <td>0.332726</td>\n",
       "      <td>0.332726</td>\n",
       "    </tr>\n",
       "  </tbody>\n",
       "</table>\n",
       "</div>"
      ],
      "text/plain": [
       "                                               feature      coef  abs_coef\n",
       "91                                    BorrowerState_AK  1.537931  1.537931\n",
       "25                                 Race_Eskimo & Aleut -1.289539  1.289539\n",
       "139                                  BorrowerState_UNK  0.923285  0.923285\n",
       "151                              Term_cat_less_than_24  0.793207  0.793207\n",
       "99                                    BorrowerState_DC  0.679254  0.679254\n",
       "74                               Industry_Construction  0.410003  0.410003\n",
       "87                               Industry_Retail trade  0.399456  0.399456\n",
       "73        Industry_Arts, entertainment, and recreation  0.395405  0.395405\n",
       "6                                 ProcessingMethod_PPP  0.386334  0.386334\n",
       "77          Industry_Health care and social assistance  0.375370  0.375370\n",
       "76                      Industry_Finance and insurance  0.366175  0.366175\n",
       "71   Industry_Administrative and support and waste ...  0.365423  0.365423\n",
       "84   Industry_Professional, scientific, and technic...  0.360005  0.360005\n",
       "88             Industry_Transportation and warehousing  0.352404  0.352404\n",
       "78                                Industry_Information  0.346792  0.346792\n",
       "90                            Industry_Wholesale trade  0.337796  0.337796\n",
       "59                                BusinessType_Unknown  0.336354  0.336354\n",
       "148                             Term_cat_between_24_60  0.336136  0.336136\n",
       "80                              Industry_Manufacturing  0.335367  0.335367\n",
       "70            Industry_Accommodation and food services  0.332726  0.332726"
      ]
     },
     "execution_count": 73,
     "metadata": {},
     "output_type": "execute_result"
    }
   ],
   "source": [
    "# top 20 feature coefficients\n",
    "feature_coef = pd.DataFrame({'feature':ridge_model1.feature_names_in_,'coef':ridge_model1.best_estimator_.coef_[0]})\n",
    "feature_coef['abs_coef'] = abs(feature_coef['coef'])\n",
    "feature_coef.sort_values(by = 'abs_coef', ascending = False).head(20)"
   ]
  },
  {
   "cell_type": "markdown",
   "metadata": {},
   "source": [
    "#### Ridge Classifier Model undersampled"
   ]
  },
  {
   "cell_type": "code",
   "execution_count": 74,
   "metadata": {},
   "outputs": [],
   "source": [
    "# param_grid alpha values\n",
    "grid = dict()\n",
    "grid['alpha'] = np.arange(0, 1, 0.02)\n",
    "\n",
    "ridge = RidgeClassifier()\n",
    "ridge_model2 = GridSearchCV(ridge, param_grid=grid, scoring='roc_auc', cv = 10)\n",
    "ridge_model2.fit(X_train_undersampled, y_train_undersampled)\n",
    "\n",
    "# predict y values based on lasso model\n",
    "y_pred = ridge_model2.predict(X_test)"
   ]
  },
  {
   "cell_type": "code",
   "execution_count": 75,
   "metadata": {},
   "outputs": [
    {
     "name": "stdout",
     "output_type": "stream",
     "text": [
      "Alpha: {'alpha': 0.9}\n",
      "Accuracy: 0.9894323184963015\n",
      "Classification Report:\n",
      "              precision    recall  f1-score   support\n",
      "\n",
      "           0       1.00      0.99      0.99    192274\n",
      "           1       0.05      0.96      0.09       105\n",
      "\n",
      "    accuracy                           0.99    192379\n",
      "   macro avg       0.52      0.98      0.54    192379\n",
      "weighted avg       1.00      0.99      0.99    192379\n",
      "\n",
      "[[190245   2029]\n",
      " [     4    101]]\n"
     ]
    }
   ],
   "source": [
    "# generate accuracy and classification report\n",
    "accuracy = accuracy_score(y_test, y_pred)\n",
    "classification_report_result = classification_report(y_test, y_pred)\n",
    "\n",
    "print(f\"Alpha: {ridge_model2.best_params_}\")\n",
    "print(f'Accuracy: {accuracy}')\n",
    "print(f'Classification Report:\\n{classification_report_result}')\n",
    "print(confusion_matrix(y_test, y_pred))"
   ]
  },
  {
   "cell_type": "code",
   "execution_count": 76,
   "metadata": {},
   "outputs": [
    {
     "data": {
      "text/plain": [
       "['ridge_model_undersampled.pkl']"
      ]
     },
     "execution_count": 76,
     "metadata": {},
     "output_type": "execute_result"
    }
   ],
   "source": [
    "# save model\n",
    "joblib.dump(ridge_model2, 'ridge_model_undersampled.pkl')"
   ]
  },
  {
   "cell_type": "code",
   "execution_count": 77,
   "metadata": {},
   "outputs": [],
   "source": [
    "ridge_model2 = joblib.load('ridge_model_undersampled.pkl')"
   ]
  },
  {
   "cell_type": "code",
   "execution_count": 78,
   "metadata": {},
   "outputs": [
    {
     "data": {
      "image/png": "[encoded data removed]",
      "text/plain": [
       "<Figure size 640x480 with 1 Axes>"
      ]
     },
     "metadata": {},
     "output_type": "display_data"
    }
   ],
   "source": [
    "results = pd.DataFrame(ridge_model2.cv_results_)[['params', 'mean_test_score', 'rank_test_score']]\n",
    "\n",
    "results.plot(x = 'params', y = 'mean_test_score')\n",
    "plt.title('Ridge Classifier Model undersampled (scoring=recall, step=0.02, cv=10)')\n",
    "plt.xticks(rotation = 90)\n",
    "plt.xlabel('alpha')\n",
    "plt.show()"
   ]
  },
  {
   "cell_type": "code",
   "execution_count": 79,
   "metadata": {},
   "outputs": [
    {
     "data": {
      "image/png": "[encoded data removed]",
      "text/plain": [
       "<Figure size 640x480 with 1 Axes>"
      ]
     },
     "metadata": {},
     "output_type": "display_data"
    }
   ],
   "source": [
    "plot_score_roc_auc(y_pred)"
   ]
  },
  {
   "cell_type": "code",
   "execution_count": 80,
   "metadata": {},
   "outputs": [
    {
     "data": {
      "text/html": [
       "<div>\n",
       "<style scoped>\n",
       "    .dataframe tbody tr th:only-of-type {\n",
       "        vertical-align: middle;\n",
       "    }\n",
       "\n",
       "    .dataframe tbody tr th {\n",
       "        vertical-align: top;\n",
       "    }\n",
       "\n",
       "    .dataframe thead th {\n",
       "        text-align: right;\n",
       "    }\n",
       "</style>\n",
       "<table border=\"1\" class=\"dataframe\">\n",
       "  <thead>\n",
       "    <tr style=\"text-align: right;\">\n",
       "      <th></th>\n",
       "      <th>feature</th>\n",
       "      <th>coef</th>\n",
       "      <th>abs_coef</th>\n",
       "    </tr>\n",
       "  </thead>\n",
       "  <tbody>\n",
       "    <tr>\n",
       "      <th>91</th>\n",
       "      <td>BorrowerState_AK</td>\n",
       "      <td>1.815228</td>\n",
       "      <td>1.815228</td>\n",
       "    </tr>\n",
       "    <tr>\n",
       "      <th>139</th>\n",
       "      <td>BorrowerState_UNK</td>\n",
       "      <td>1.660253</td>\n",
       "      <td>1.660253</td>\n",
       "    </tr>\n",
       "    <tr>\n",
       "      <th>52</th>\n",
       "      <td>BusinessType_Self-Employed Individuals</td>\n",
       "      <td>0.627034</td>\n",
       "      <td>0.627034</td>\n",
       "    </tr>\n",
       "    <tr>\n",
       "      <th>99</th>\n",
       "      <td>BorrowerState_DC</td>\n",
       "      <td>0.574780</td>\n",
       "      <td>0.574780</td>\n",
       "    </tr>\n",
       "    <tr>\n",
       "      <th>149</th>\n",
       "      <td>Term_cat_is_24</td>\n",
       "      <td>-0.487191</td>\n",
       "      <td>0.487191</td>\n",
       "    </tr>\n",
       "    <tr>\n",
       "      <th>148</th>\n",
       "      <td>Term_cat_between_24_60</td>\n",
       "      <td>0.452101</td>\n",
       "      <td>0.452101</td>\n",
       "    </tr>\n",
       "    <tr>\n",
       "      <th>151</th>\n",
       "      <td>Term_cat_less_than_24</td>\n",
       "      <td>0.359151</td>\n",
       "      <td>0.359151</td>\n",
       "    </tr>\n",
       "    <tr>\n",
       "      <th>150</th>\n",
       "      <td>Term_cat_is_60</td>\n",
       "      <td>-0.324062</td>\n",
       "      <td>0.324062</td>\n",
       "    </tr>\n",
       "    <tr>\n",
       "      <th>144</th>\n",
       "      <td>BorrowerState_WA</td>\n",
       "      <td>-0.227887</td>\n",
       "      <td>0.227887</td>\n",
       "    </tr>\n",
       "    <tr>\n",
       "      <th>114</th>\n",
       "      <td>BorrowerState_ME</td>\n",
       "      <td>-0.225270</td>\n",
       "      <td>0.225270</td>\n",
       "    </tr>\n",
       "    <tr>\n",
       "      <th>10</th>\n",
       "      <td>LoanStatus_Paid in Full</td>\n",
       "      <td>-0.198512</td>\n",
       "      <td>0.198512</td>\n",
       "    </tr>\n",
       "    <tr>\n",
       "      <th>9</th>\n",
       "      <td>LoanStatus_Exemption 4</td>\n",
       "      <td>0.198512</td>\n",
       "      <td>0.198512</td>\n",
       "    </tr>\n",
       "    <tr>\n",
       "      <th>141</th>\n",
       "      <td>BorrowerState_VA</td>\n",
       "      <td>0.196534</td>\n",
       "      <td>0.196534</td>\n",
       "    </tr>\n",
       "    <tr>\n",
       "      <th>121</th>\n",
       "      <td>BorrowerState_NC</td>\n",
       "      <td>-0.195383</td>\n",
       "      <td>0.195383</td>\n",
       "    </tr>\n",
       "    <tr>\n",
       "      <th>54</th>\n",
       "      <td>BusinessType_Sole Proprietorship</td>\n",
       "      <td>0.191805</td>\n",
       "      <td>0.191805</td>\n",
       "    </tr>\n",
       "    <tr>\n",
       "      <th>92</th>\n",
       "      <td>BorrowerState_AL</td>\n",
       "      <td>-0.188986</td>\n",
       "      <td>0.188986</td>\n",
       "    </tr>\n",
       "    <tr>\n",
       "      <th>89</th>\n",
       "      <td>Industry_Utilities</td>\n",
       "      <td>-0.179265</td>\n",
       "      <td>0.179265</td>\n",
       "    </tr>\n",
       "    <tr>\n",
       "      <th>126</th>\n",
       "      <td>BorrowerState_NM</td>\n",
       "      <td>-0.173848</td>\n",
       "      <td>0.173848</td>\n",
       "    </tr>\n",
       "    <tr>\n",
       "      <th>107</th>\n",
       "      <td>BorrowerState_IL</td>\n",
       "      <td>-0.173228</td>\n",
       "      <td>0.173228</td>\n",
       "    </tr>\n",
       "    <tr>\n",
       "      <th>75</th>\n",
       "      <td>Industry_Educational services</td>\n",
       "      <td>-0.170668</td>\n",
       "      <td>0.170668</td>\n",
       "    </tr>\n",
       "  </tbody>\n",
       "</table>\n",
       "</div>"
      ],
      "text/plain": [
       "                                    feature      coef  abs_coef\n",
       "91                         BorrowerState_AK  1.815228  1.815228\n",
       "139                       BorrowerState_UNK  1.660253  1.660253\n",
       "52   BusinessType_Self-Employed Individuals  0.627034  0.627034\n",
       "99                         BorrowerState_DC  0.574780  0.574780\n",
       "149                          Term_cat_is_24 -0.487191  0.487191\n",
       "148                  Term_cat_between_24_60  0.452101  0.452101\n",
       "151                   Term_cat_less_than_24  0.359151  0.359151\n",
       "150                          Term_cat_is_60 -0.324062  0.324062\n",
       "144                        BorrowerState_WA -0.227887  0.227887\n",
       "114                        BorrowerState_ME -0.225270  0.225270\n",
       "10                  LoanStatus_Paid in Full -0.198512  0.198512\n",
       "9                    LoanStatus_Exemption 4  0.198512  0.198512\n",
       "141                        BorrowerState_VA  0.196534  0.196534\n",
       "121                        BorrowerState_NC -0.195383  0.195383\n",
       "54         BusinessType_Sole Proprietorship  0.191805  0.191805\n",
       "92                         BorrowerState_AL -0.188986  0.188986\n",
       "89                       Industry_Utilities -0.179265  0.179265\n",
       "126                        BorrowerState_NM -0.173848  0.173848\n",
       "107                        BorrowerState_IL -0.173228  0.173228\n",
       "75            Industry_Educational services -0.170668  0.170668"
      ]
     },
     "execution_count": 80,
     "metadata": {},
     "output_type": "execute_result"
    }
   ],
   "source": [
    "# top 20 feature coefficients\n",
    "feature_coef = pd.DataFrame({'feature':ridge_model2.feature_names_in_,'coef':ridge_model2.best_estimator_.coef_[0]})\n",
    "feature_coef['abs_coef'] = abs(feature_coef['coef'])\n",
    "feature_coef.sort_values(by = 'abs_coef', ascending = False).head(20)"
   ]
  },
  {
   "cell_type": "markdown",
   "metadata": {},
   "source": [
    "### Lasso Hyperparameter Tuning"
   ]
  },
  {
   "cell_type": "markdown",
   "metadata": {},
   "source": [
    "#### Lasso Model oversampled"
   ]
  },
  {
   "cell_type": "code",
   "execution_count": 81,
   "metadata": {},
   "outputs": [],
   "source": [
    "# param_grid alpha values\n",
    "grid = {'alpha': np.arange(0, 1, 0.02)}\n",
    "# grid['alpha'] = np.arange(0, 1, 0.05)\n",
    "\n",
    "lasso = Lasso()\n",
    "lasso_model1 = GridSearchCV(lasso, param_grid=grid, scoring='neg_mean_squared_error', cv = 10)\n",
    "lasso_model1.fit(X_train_resampled, y_train_resampled)\n",
    "\n",
    "# predict y values based on lasso model\n",
    "y_pred = lasso_model1.predict(X_test)\n",
    "\n",
    "# note that prediction output is 0 < y < 1, hence convert into binary\n",
    "y_pred_binary = [1 if i > 0.5 else 0 for i in y_pred]"
   ]
  },
  {
   "cell_type": "code",
   "execution_count": 82,
   "metadata": {},
   "outputs": [
    {
     "name": "stdout",
     "output_type": "stream",
     "text": [
      "Alpha: {'alpha': 0.0}\n",
      "Accuracy: 0.9963873395744858\n",
      "Classification Report:\n",
      "              precision    recall  f1-score   support\n",
      "\n",
      "           0       1.00      1.00      1.00    192274\n",
      "           1       0.12      0.91      0.22       105\n",
      "\n",
      "    accuracy                           1.00    192379\n",
      "   macro avg       0.56      0.96      0.61    192379\n",
      "weighted avg       1.00      1.00      1.00    192379\n",
      "\n",
      "[[191588    686]\n",
      " [     9     96]]\n"
     ]
    }
   ],
   "source": [
    "# generate accuracy and classification report\n",
    "accuracy = accuracy_score(y_test, y_pred_binary)\n",
    "classification_report_result = classification_report(y_test, y_pred_binary)\n",
    "\n",
    "print(f\"Alpha: {lasso_model1.best_params_}\")\n",
    "print(f'Accuracy: {accuracy}')\n",
    "print(f'Classification Report:\\n{classification_report_result}')\n",
    "print(confusion_matrix(y_test, y_pred_binary))"
   ]
  },
  {
   "cell_type": "code",
   "execution_count": 83,
   "metadata": {},
   "outputs": [
    {
     "data": {
      "text/plain": [
       "['lasso_model_oversampled.pkl']"
      ]
     },
     "execution_count": 83,
     "metadata": {},
     "output_type": "execute_result"
    }
   ],
   "source": [
    "# save model\n",
    "joblib.dump(lasso_model1, 'lasso_model_oversampled.pkl')"
   ]
  },
  {
   "cell_type": "code",
   "execution_count": 84,
   "metadata": {},
   "outputs": [],
   "source": [
    "lasso_model1 = joblib.load('lasso_model_oversampled.pkl')"
   ]
  },
  {
   "cell_type": "code",
   "execution_count": 85,
   "metadata": {},
   "outputs": [
    {
     "data": {
      "image/png": "[encoded data removed]",
      "text/plain": [
       "<Figure size 640x480 with 1 Axes>"
      ]
     },
     "metadata": {},
     "output_type": "display_data"
    }
   ],
   "source": [
    "results = pd.DataFrame(lasso_model1.cv_results_)[['params', 'mean_test_score', 'rank_test_score']]\n",
    "\n",
    "results.plot(x = 'params', y = 'mean_test_score')\n",
    "plt.title('Lasso Model oversampled (scoring=neg mean sq error, step=0.02 , cv=10)')\n",
    "plt.xticks(rotation = 90)\n",
    "plt.xlabel('alpha')\n",
    "plt.show()"
   ]
  },
  {
   "cell_type": "code",
   "execution_count": 86,
   "metadata": {},
   "outputs": [
    {
     "data": {
      "image/png": "[encoded data removed]",
      "text/plain": [
       "<Figure size 640x480 with 1 Axes>"
      ]
     },
     "metadata": {},
     "output_type": "display_data"
    }
   ],
   "source": [
    "plot_score_roc_auc(y_pred_binary)"
   ]
  },
  {
   "cell_type": "code",
   "execution_count": 87,
   "metadata": {},
   "outputs": [
    {
     "data": {
      "text/html": [
       "<div>\n",
       "<style scoped>\n",
       "    .dataframe tbody tr th:only-of-type {\n",
       "        vertical-align: middle;\n",
       "    }\n",
       "\n",
       "    .dataframe tbody tr th {\n",
       "        vertical-align: top;\n",
       "    }\n",
       "\n",
       "    .dataframe thead th {\n",
       "        text-align: right;\n",
       "    }\n",
       "</style>\n",
       "<table border=\"1\" class=\"dataframe\">\n",
       "  <thead>\n",
       "    <tr style=\"text-align: right;\">\n",
       "      <th></th>\n",
       "      <th>feature</th>\n",
       "      <th>coef</th>\n",
       "      <th>abs_coef</th>\n",
       "    </tr>\n",
       "  </thead>\n",
       "  <tbody>\n",
       "    <tr>\n",
       "      <th>91</th>\n",
       "      <td>BorrowerState_AK</td>\n",
       "      <td>0.768967</td>\n",
       "      <td>0.768967</td>\n",
       "    </tr>\n",
       "    <tr>\n",
       "      <th>25</th>\n",
       "      <td>Race_Eskimo &amp; Aleut</td>\n",
       "      <td>-0.657664</td>\n",
       "      <td>0.657664</td>\n",
       "    </tr>\n",
       "    <tr>\n",
       "      <th>139</th>\n",
       "      <td>BorrowerState_UNK</td>\n",
       "      <td>0.461644</td>\n",
       "      <td>0.461644</td>\n",
       "    </tr>\n",
       "    <tr>\n",
       "      <th>151</th>\n",
       "      <td>Term_cat_less_than_24</td>\n",
       "      <td>0.396604</td>\n",
       "      <td>0.396604</td>\n",
       "    </tr>\n",
       "    <tr>\n",
       "      <th>99</th>\n",
       "      <td>BorrowerState_DC</td>\n",
       "      <td>0.339629</td>\n",
       "      <td>0.339629</td>\n",
       "    </tr>\n",
       "    <tr>\n",
       "      <th>74</th>\n",
       "      <td>Industry_Construction</td>\n",
       "      <td>0.205002</td>\n",
       "      <td>0.205002</td>\n",
       "    </tr>\n",
       "    <tr>\n",
       "      <th>87</th>\n",
       "      <td>Industry_Retail trade</td>\n",
       "      <td>0.199728</td>\n",
       "      <td>0.199728</td>\n",
       "    </tr>\n",
       "    <tr>\n",
       "      <th>73</th>\n",
       "      <td>Industry_Arts, entertainment, and recreation</td>\n",
       "      <td>0.197703</td>\n",
       "      <td>0.197703</td>\n",
       "    </tr>\n",
       "    <tr>\n",
       "      <th>6</th>\n",
       "      <td>ProcessingMethod_PPP</td>\n",
       "      <td>0.193167</td>\n",
       "      <td>0.193167</td>\n",
       "    </tr>\n",
       "    <tr>\n",
       "      <th>77</th>\n",
       "      <td>Industry_Health care and social assistance</td>\n",
       "      <td>0.187685</td>\n",
       "      <td>0.187685</td>\n",
       "    </tr>\n",
       "    <tr>\n",
       "      <th>76</th>\n",
       "      <td>Industry_Finance and insurance</td>\n",
       "      <td>0.183088</td>\n",
       "      <td>0.183088</td>\n",
       "    </tr>\n",
       "    <tr>\n",
       "      <th>71</th>\n",
       "      <td>Industry_Administrative and support and waste ...</td>\n",
       "      <td>0.182712</td>\n",
       "      <td>0.182712</td>\n",
       "    </tr>\n",
       "    <tr>\n",
       "      <th>84</th>\n",
       "      <td>Industry_Professional, scientific, and technic...</td>\n",
       "      <td>0.180002</td>\n",
       "      <td>0.180002</td>\n",
       "    </tr>\n",
       "    <tr>\n",
       "      <th>88</th>\n",
       "      <td>Industry_Transportation and warehousing</td>\n",
       "      <td>0.176202</td>\n",
       "      <td>0.176202</td>\n",
       "    </tr>\n",
       "    <tr>\n",
       "      <th>78</th>\n",
       "      <td>Industry_Information</td>\n",
       "      <td>0.173396</td>\n",
       "      <td>0.173396</td>\n",
       "    </tr>\n",
       "    <tr>\n",
       "      <th>90</th>\n",
       "      <td>Industry_Wholesale trade</td>\n",
       "      <td>0.168898</td>\n",
       "      <td>0.168898</td>\n",
       "    </tr>\n",
       "    <tr>\n",
       "      <th>59</th>\n",
       "      <td>BusinessType_Unknown</td>\n",
       "      <td>0.168177</td>\n",
       "      <td>0.168177</td>\n",
       "    </tr>\n",
       "    <tr>\n",
       "      <th>148</th>\n",
       "      <td>Term_cat_between_24_60</td>\n",
       "      <td>0.168067</td>\n",
       "      <td>0.168067</td>\n",
       "    </tr>\n",
       "    <tr>\n",
       "      <th>80</th>\n",
       "      <td>Industry_Manufacturing</td>\n",
       "      <td>0.167684</td>\n",
       "      <td>0.167684</td>\n",
       "    </tr>\n",
       "    <tr>\n",
       "      <th>70</th>\n",
       "      <td>Industry_Accommodation and food services</td>\n",
       "      <td>0.166363</td>\n",
       "      <td>0.166363</td>\n",
       "    </tr>\n",
       "  </tbody>\n",
       "</table>\n",
       "</div>"
      ],
      "text/plain": [
       "                                               feature      coef  abs_coef\n",
       "91                                    BorrowerState_AK  0.768967  0.768967\n",
       "25                                 Race_Eskimo & Aleut -0.657664  0.657664\n",
       "139                                  BorrowerState_UNK  0.461644  0.461644\n",
       "151                              Term_cat_less_than_24  0.396604  0.396604\n",
       "99                                    BorrowerState_DC  0.339629  0.339629\n",
       "74                               Industry_Construction  0.205002  0.205002\n",
       "87                               Industry_Retail trade  0.199728  0.199728\n",
       "73        Industry_Arts, entertainment, and recreation  0.197703  0.197703\n",
       "6                                 ProcessingMethod_PPP  0.193167  0.193167\n",
       "77          Industry_Health care and social assistance  0.187685  0.187685\n",
       "76                      Industry_Finance and insurance  0.183088  0.183088\n",
       "71   Industry_Administrative and support and waste ...  0.182712  0.182712\n",
       "84   Industry_Professional, scientific, and technic...  0.180002  0.180002\n",
       "88             Industry_Transportation and warehousing  0.176202  0.176202\n",
       "78                                Industry_Information  0.173396  0.173396\n",
       "90                            Industry_Wholesale trade  0.168898  0.168898\n",
       "59                                BusinessType_Unknown  0.168177  0.168177\n",
       "148                             Term_cat_between_24_60  0.168067  0.168067\n",
       "80                              Industry_Manufacturing  0.167684  0.167684\n",
       "70            Industry_Accommodation and food services  0.166363  0.166363"
      ]
     },
     "execution_count": 87,
     "metadata": {},
     "output_type": "execute_result"
    }
   ],
   "source": [
    "# top 20 feature coefficients\n",
    "feature_coef = pd.DataFrame({'feature':lasso_model1.feature_names_in_,'coef':lasso_model1.best_estimator_.coef_})\n",
    "feature_coef['abs_coef'] = abs(feature_coef['coef'])\n",
    "feature_coef.sort_values(by = 'abs_coef', ascending = False).head(20)"
   ]
  },
  {
   "cell_type": "markdown",
   "metadata": {},
   "source": [
    "#### Lasso Model undersampled"
   ]
  },
  {
   "cell_type": "code",
   "execution_count": 88,
   "metadata": {},
   "outputs": [],
   "source": [
    "# param_grid alpha values\n",
    "grid = {'alpha': np.arange(0, 1, 0.02)}\n",
    "# grid['alpha'] = np.arange(0, 1, 0.05)\n",
    "\n",
    "lasso = Lasso()\n",
    "lasso_model2 = GridSearchCV(lasso, param_grid=grid, scoring='neg_mean_squared_error', cv = 10)\n",
    "lasso_model2.fit(X_train_undersampled, y_train_undersampled)\n",
    "\n",
    "# predict y values based on lasso model\n",
    "y_pred = lasso_model2.predict(X_test)\n",
    "\n",
    "# note that prediction output is 0 < y < 1, hence convert into binary\n",
    "y_pred_binary = [1 if i > 0.5 else 0 for i in y_pred]"
   ]
  },
  {
   "cell_type": "code",
   "execution_count": 89,
   "metadata": {},
   "outputs": [
    {
     "data": {
      "text/plain": [
       "['lasso_model_undersampled.pkl']"
      ]
     },
     "execution_count": 89,
     "metadata": {},
     "output_type": "execute_result"
    }
   ],
   "source": [
    "# save model\n",
    "joblib.dump(lasso_model2, 'lasso_model_undersampled.pkl')"
   ]
  },
  {
   "cell_type": "code",
   "execution_count": 90,
   "metadata": {},
   "outputs": [],
   "source": [
    "lasso_model2 = joblib.load('lasso_model_undersampled.pkl')"
   ]
  },
  {
   "cell_type": "code",
   "execution_count": 91,
   "metadata": {},
   "outputs": [
    {
     "name": "stdout",
     "output_type": "stream",
     "text": [
      "Alpha: {'alpha': 0.0}\n",
      "Accuracy: 0.988995680401707\n",
      "Classification Report:\n",
      "              precision    recall  f1-score   support\n",
      "\n",
      "           0       1.00      0.99      0.99    192274\n",
      "           1       0.05      0.96      0.09       105\n",
      "\n",
      "    accuracy                           0.99    192379\n",
      "   macro avg       0.52      0.98      0.54    192379\n",
      "weighted avg       1.00      0.99      0.99    192379\n",
      "\n",
      "[[190161   2113]\n",
      " [     4    101]]\n"
     ]
    }
   ],
   "source": [
    "# generate accuracy and classification report\n",
    "accuracy = accuracy_score(y_test, y_pred_binary)\n",
    "classification_report_result = classification_report(y_test, y_pred_binary)\n",
    "\n",
    "print(f\"Alpha: {lasso_model2.best_params_}\")\n",
    "print(f'Accuracy: {accuracy}')\n",
    "print(f'Classification Report:\\n{classification_report_result}')\n",
    "print(confusion_matrix(y_test, y_pred_binary))"
   ]
  },
  {
   "cell_type": "code",
   "execution_count": 92,
   "metadata": {},
   "outputs": [
    {
     "data": {
      "image/png": "[encoded data removed]",
      "text/plain": [
       "<Figure size 640x480 with 1 Axes>"
      ]
     },
     "metadata": {},
     "output_type": "display_data"
    }
   ],
   "source": [
    "results = pd.DataFrame(lasso_model2.cv_results_)[['params', 'mean_test_score', 'rank_test_score']]\n",
    "\n",
    "results.plot(x = 'params', y = 'mean_test_score')\n",
    "plt.title('Lasso Model undersampled (scoring=neg mean sq error, step=0.02 , cv=10)')\n",
    "plt.xticks(rotation = 90)\n",
    "plt.xlabel('alpha')\n",
    "plt.show()"
   ]
  },
  {
   "cell_type": "code",
   "execution_count": 93,
   "metadata": {},
   "outputs": [
    {
     "data": {
      "image/png": "[encoded data removed]",
      "text/plain": [
       "<Figure size 640x480 with 1 Axes>"
      ]
     },
     "metadata": {},
     "output_type": "display_data"
    }
   ],
   "source": [
    "plot_score_roc_auc(y_pred_binary)"
   ]
  },
  {
   "cell_type": "code",
   "execution_count": 94,
   "metadata": {},
   "outputs": [
    {
     "data": {
      "text/html": [
       "<div>\n",
       "<style scoped>\n",
       "    .dataframe tbody tr th:only-of-type {\n",
       "        vertical-align: middle;\n",
       "    }\n",
       "\n",
       "    .dataframe tbody tr th {\n",
       "        vertical-align: top;\n",
       "    }\n",
       "\n",
       "    .dataframe thead th {\n",
       "        text-align: right;\n",
       "    }\n",
       "</style>\n",
       "<table border=\"1\" class=\"dataframe\">\n",
       "  <thead>\n",
       "    <tr style=\"text-align: right;\">\n",
       "      <th></th>\n",
       "      <th>feature</th>\n",
       "      <th>coef</th>\n",
       "      <th>abs_coef</th>\n",
       "    </tr>\n",
       "  </thead>\n",
       "  <tbody>\n",
       "    <tr>\n",
       "      <th>0</th>\n",
       "      <td>PROCEED_Diff_standardised</td>\n",
       "      <td>-8.672768</td>\n",
       "      <td>8.672768</td>\n",
       "    </tr>\n",
       "    <tr>\n",
       "      <th>139</th>\n",
       "      <td>BorrowerState_UNK</td>\n",
       "      <td>0.939202</td>\n",
       "      <td>0.939202</td>\n",
       "    </tr>\n",
       "    <tr>\n",
       "      <th>91</th>\n",
       "      <td>BorrowerState_AK</td>\n",
       "      <td>0.932085</td>\n",
       "      <td>0.932085</td>\n",
       "    </tr>\n",
       "    <tr>\n",
       "      <th>52</th>\n",
       "      <td>BusinessType_Self-Employed Individuals</td>\n",
       "      <td>0.454293</td>\n",
       "      <td>0.454293</td>\n",
       "    </tr>\n",
       "    <tr>\n",
       "      <th>148</th>\n",
       "      <td>Term_cat_between_24_60</td>\n",
       "      <td>0.363463</td>\n",
       "      <td>0.363463</td>\n",
       "    </tr>\n",
       "    <tr>\n",
       "      <th>99</th>\n",
       "      <td>BorrowerState_DC</td>\n",
       "      <td>0.342838</td>\n",
       "      <td>0.342838</td>\n",
       "    </tr>\n",
       "    <tr>\n",
       "      <th>151</th>\n",
       "      <td>Term_cat_less_than_24</td>\n",
       "      <td>0.302702</td>\n",
       "      <td>0.302702</td>\n",
       "    </tr>\n",
       "    <tr>\n",
       "      <th>9</th>\n",
       "      <td>LoanStatus_Exemption 4</td>\n",
       "      <td>0.201029</td>\n",
       "      <td>0.201029</td>\n",
       "    </tr>\n",
       "    <tr>\n",
       "      <th>89</th>\n",
       "      <td>Industry_Utilities</td>\n",
       "      <td>-0.132994</td>\n",
       "      <td>0.132994</td>\n",
       "    </tr>\n",
       "    <tr>\n",
       "      <th>114</th>\n",
       "      <td>BorrowerState_ME</td>\n",
       "      <td>-0.123055</td>\n",
       "      <td>0.123055</td>\n",
       "    </tr>\n",
       "    <tr>\n",
       "      <th>141</th>\n",
       "      <td>BorrowerState_VA</td>\n",
       "      <td>0.118746</td>\n",
       "      <td>0.118746</td>\n",
       "    </tr>\n",
       "    <tr>\n",
       "      <th>149</th>\n",
       "      <td>Term_cat_is_24</td>\n",
       "      <td>-0.118582</td>\n",
       "      <td>0.118582</td>\n",
       "    </tr>\n",
       "    <tr>\n",
       "      <th>59</th>\n",
       "      <td>BusinessType_Unknown</td>\n",
       "      <td>-0.106066</td>\n",
       "      <td>0.106066</td>\n",
       "    </tr>\n",
       "    <tr>\n",
       "      <th>75</th>\n",
       "      <td>Industry_Educational services</td>\n",
       "      <td>-0.104835</td>\n",
       "      <td>0.104835</td>\n",
       "    </tr>\n",
       "    <tr>\n",
       "      <th>144</th>\n",
       "      <td>BorrowerState_WA</td>\n",
       "      <td>-0.099244</td>\n",
       "      <td>0.099244</td>\n",
       "    </tr>\n",
       "    <tr>\n",
       "      <th>54</th>\n",
       "      <td>BusinessType_Sole Proprietorship</td>\n",
       "      <td>0.098101</td>\n",
       "      <td>0.098101</td>\n",
       "    </tr>\n",
       "    <tr>\n",
       "      <th>121</th>\n",
       "      <td>BorrowerState_NC</td>\n",
       "      <td>-0.092129</td>\n",
       "      <td>0.092129</td>\n",
       "    </tr>\n",
       "    <tr>\n",
       "      <th>38</th>\n",
       "      <td>BusinessType_Cooperative</td>\n",
       "      <td>-0.088953</td>\n",
       "      <td>0.088953</td>\n",
       "    </tr>\n",
       "    <tr>\n",
       "      <th>104</th>\n",
       "      <td>BorrowerState_HI</td>\n",
       "      <td>-0.087714</td>\n",
       "      <td>0.087714</td>\n",
       "    </tr>\n",
       "    <tr>\n",
       "      <th>66</th>\n",
       "      <td>isAfterBiden_0</td>\n",
       "      <td>0.084101</td>\n",
       "      <td>0.084101</td>\n",
       "    </tr>\n",
       "  </tbody>\n",
       "</table>\n",
       "</div>"
      ],
      "text/plain": [
       "                                    feature      coef  abs_coef\n",
       "0                 PROCEED_Diff_standardised -8.672768  8.672768\n",
       "139                       BorrowerState_UNK  0.939202  0.939202\n",
       "91                         BorrowerState_AK  0.932085  0.932085\n",
       "52   BusinessType_Self-Employed Individuals  0.454293  0.454293\n",
       "148                  Term_cat_between_24_60  0.363463  0.363463\n",
       "99                         BorrowerState_DC  0.342838  0.342838\n",
       "151                   Term_cat_less_than_24  0.302702  0.302702\n",
       "9                    LoanStatus_Exemption 4  0.201029  0.201029\n",
       "89                       Industry_Utilities -0.132994  0.132994\n",
       "114                        BorrowerState_ME -0.123055  0.123055\n",
       "141                        BorrowerState_VA  0.118746  0.118746\n",
       "149                          Term_cat_is_24 -0.118582  0.118582\n",
       "59                     BusinessType_Unknown -0.106066  0.106066\n",
       "75            Industry_Educational services -0.104835  0.104835\n",
       "144                        BorrowerState_WA -0.099244  0.099244\n",
       "54         BusinessType_Sole Proprietorship  0.098101  0.098101\n",
       "121                        BorrowerState_NC -0.092129  0.092129\n",
       "38                 BusinessType_Cooperative -0.088953  0.088953\n",
       "104                        BorrowerState_HI -0.087714  0.087714\n",
       "66                           isAfterBiden_0  0.084101  0.084101"
      ]
     },
     "execution_count": 94,
     "metadata": {},
     "output_type": "execute_result"
    }
   ],
   "source": [
    "# top 20 feature coefficients\n",
    "feature_coef = pd.DataFrame({'feature':lasso_model2.feature_names_in_,'coef':lasso_model2.best_estimator_.coef_})\n",
    "feature_coef['abs_coef'] = abs(feature_coef['coef'])\n",
    "feature_coef.sort_values(by = 'abs_coef', ascending = False).head(20)"
   ]
  },
  {
   "cell_type": "markdown",
   "metadata": {},
   "source": [
    "## Logistic Regression Hyperparameter Tuning\n",
    "\n",
    "Since Lasso model with undersampling performed well and provided explainable coefficients, but at an alpha value of 0 which is a logistic regression, we directly attempt a logistic regression with param l1 and l2 penalties."
   ]
  },
  {
   "cell_type": "code",
   "execution_count": 95,
   "metadata": {},
   "outputs": [],
   "source": [
    "from sklearn.linear_model import LogisticRegression\n",
    "\n",
    "logistic_regression = LogisticRegression(solver='saga')\n",
    "\n",
    "param_grid = {\n",
    "    'penalty': ['l1', 'l2', None],\n",
    "    'C': np.logspace(-3, 3, 7)}\n",
    "\n",
    "logistic_regression = GridSearchCV(logistic_regression, param_grid = param_grid, scoring = 'roc_auc', cv = 10)\n",
    "\n",
    "logistic_regression.fit(X_train_undersampled, y_train_undersampled)\n",
    "\n",
    "# predict y values based on lasso model\n",
    "y_pred = logistic_regression.predict(X_test)\n",
    "\n",
    "# note that prediction output is 0 < y < 1, hence convert into binary\n",
    "y_pred_binary = [1 if i > 0.5 else 0 for i in y_pred]"
   ]
  },
  {
   "cell_type": "code",
   "execution_count": 96,
   "metadata": {},
   "outputs": [
    {
     "data": {
      "text/plain": [
       "['logistic_model_undersampled.pkl']"
      ]
     },
     "execution_count": 96,
     "metadata": {},
     "output_type": "execute_result"
    }
   ],
   "source": [
    "# save model\n",
    "joblib.dump(logistic_regression, 'logistic_model_undersampled.pkl')"
   ]
  },
  {
   "cell_type": "code",
   "execution_count": 97,
   "metadata": {},
   "outputs": [],
   "source": [
    "logistic_regression = joblib.load('logistic_model_undersampled.pkl')"
   ]
  },
  {
   "cell_type": "code",
   "execution_count": 98,
   "metadata": {},
   "outputs": [
    {
     "name": "stdout",
     "output_type": "stream",
     "text": [
      "Best param: {'C': 100.0, 'penalty': 'l1'}\n",
      "Accuracy: 0.9803356915255823\n",
      "Classification Report:\n",
      "              precision    recall  f1-score   support\n",
      "\n",
      "           0       1.00      0.98      0.99    192274\n",
      "           1       0.03      0.99      0.05       105\n",
      "\n",
      "    accuracy                           0.98    192379\n",
      "   macro avg       0.51      0.99      0.52    192379\n",
      "weighted avg       1.00      0.98      0.99    192379\n",
      "\n",
      "[[188492   3782]\n",
      " [     1    104]]\n"
     ]
    }
   ],
   "source": [
    "# generate accuracy and classification report\n",
    "accuracy = accuracy_score(y_test, y_pred_binary)\n",
    "classification_report_result = classification_report(y_test, y_pred_binary)\n",
    "\n",
    "print(f\"Best param: {logistic_regression.best_params_}\")\n",
    "print(f'Accuracy: {accuracy}')\n",
    "print(f'Classification Report:\\n{classification_report_result}')\n",
    "print(confusion_matrix(y_test, y_pred_binary))"
   ]
  },
  {
   "cell_type": "code",
   "execution_count": 99,
   "metadata": {},
   "outputs": [
    {
     "data": {
      "image/png": "[encoded data removed]",
      "text/plain": [
       "<Figure size 640x480 with 1 Axes>"
      ]
     },
     "metadata": {},
     "output_type": "display_data"
    }
   ],
   "source": [
    "results = pd.DataFrame(logistic_regression.cv_results_)[['params', 'mean_test_score', 'rank_test_score']]\n",
    "\n",
    "results.plot(x = 'params', y = 'mean_test_score')\n",
    "plt.title('Logistic Regression Model (step=0.02 , cv=10)')\n",
    "plt.xticks(rotation = 90)\n",
    "plt.xlabel('parameters')\n",
    "plt.show()"
   ]
  },
  {
   "cell_type": "code",
   "execution_count": 100,
   "metadata": {},
   "outputs": [
    {
     "data": {
      "image/png": "[encoded data removed]",
      "text/plain": [
       "<Figure size 640x480 with 1 Axes>"
      ]
     },
     "metadata": {},
     "output_type": "display_data"
    }
   ],
   "source": [
    "plot_score_roc_auc(y_pred_binary)"
   ]
  },
  {
   "cell_type": "code",
   "execution_count": 101,
   "metadata": {},
   "outputs": [
    {
     "data": {
      "text/html": [
       "<div>\n",
       "<style scoped>\n",
       "    .dataframe tbody tr th:only-of-type {\n",
       "        vertical-align: middle;\n",
       "    }\n",
       "\n",
       "    .dataframe tbody tr th {\n",
       "        vertical-align: top;\n",
       "    }\n",
       "\n",
       "    .dataframe thead th {\n",
       "        text-align: right;\n",
       "    }\n",
       "</style>\n",
       "<table border=\"1\" class=\"dataframe\">\n",
       "  <thead>\n",
       "    <tr style=\"text-align: right;\">\n",
       "      <th></th>\n",
       "      <th>feature</th>\n",
       "      <th>coef</th>\n",
       "      <th>abs_coef</th>\n",
       "    </tr>\n",
       "  </thead>\n",
       "  <tbody>\n",
       "    <tr>\n",
       "      <th>91</th>\n",
       "      <td>BorrowerState_AK</td>\n",
       "      <td>9.228940</td>\n",
       "      <td>9.228940</td>\n",
       "    </tr>\n",
       "    <tr>\n",
       "      <th>139</th>\n",
       "      <td>BorrowerState_UNK</td>\n",
       "      <td>3.511062</td>\n",
       "      <td>3.511062</td>\n",
       "    </tr>\n",
       "    <tr>\n",
       "      <th>10</th>\n",
       "      <td>LoanStatus_Paid in Full</td>\n",
       "      <td>-1.837010</td>\n",
       "      <td>1.837010</td>\n",
       "    </tr>\n",
       "    <tr>\n",
       "      <th>9</th>\n",
       "      <td>LoanStatus_Exemption 4</td>\n",
       "      <td>1.665841</td>\n",
       "      <td>1.665841</td>\n",
       "    </tr>\n",
       "    <tr>\n",
       "      <th>148</th>\n",
       "      <td>Term_cat_between_24_60</td>\n",
       "      <td>1.501413</td>\n",
       "      <td>1.501413</td>\n",
       "    </tr>\n",
       "    <tr>\n",
       "      <th>144</th>\n",
       "      <td>BorrowerState_WA</td>\n",
       "      <td>-1.288833</td>\n",
       "      <td>1.288833</td>\n",
       "    </tr>\n",
       "    <tr>\n",
       "      <th>149</th>\n",
       "      <td>Term_cat_is_24</td>\n",
       "      <td>-1.253486</td>\n",
       "      <td>1.253486</td>\n",
       "    </tr>\n",
       "    <tr>\n",
       "      <th>96</th>\n",
       "      <td>BorrowerState_CA</td>\n",
       "      <td>-1.087111</td>\n",
       "      <td>1.087111</td>\n",
       "    </tr>\n",
       "    <tr>\n",
       "      <th>107</th>\n",
       "      <td>BorrowerState_IL</td>\n",
       "      <td>-1.054078</td>\n",
       "      <td>1.054078</td>\n",
       "    </tr>\n",
       "    <tr>\n",
       "      <th>67</th>\n",
       "      <td>isAfterBiden_1</td>\n",
       "      <td>-0.965984</td>\n",
       "      <td>0.965984</td>\n",
       "    </tr>\n",
       "    <tr>\n",
       "      <th>121</th>\n",
       "      <td>BorrowerState_NC</td>\n",
       "      <td>-0.959925</td>\n",
       "      <td>0.959925</td>\n",
       "    </tr>\n",
       "    <tr>\n",
       "      <th>101</th>\n",
       "      <td>BorrowerState_FL</td>\n",
       "      <td>-0.952295</td>\n",
       "      <td>0.952295</td>\n",
       "    </tr>\n",
       "    <tr>\n",
       "      <th>55</th>\n",
       "      <td>BusinessType_Subchapter S Corporation</td>\n",
       "      <td>-0.945044</td>\n",
       "      <td>0.945044</td>\n",
       "    </tr>\n",
       "    <tr>\n",
       "      <th>70</th>\n",
       "      <td>Industry_Accommodation and food services</td>\n",
       "      <td>-0.855605</td>\n",
       "      <td>0.855605</td>\n",
       "    </tr>\n",
       "    <tr>\n",
       "      <th>128</th>\n",
       "      <td>BorrowerState_NY</td>\n",
       "      <td>-0.844180</td>\n",
       "      <td>0.844180</td>\n",
       "    </tr>\n",
       "    <tr>\n",
       "      <th>132</th>\n",
       "      <td>BorrowerState_PA</td>\n",
       "      <td>-0.820018</td>\n",
       "      <td>0.820018</td>\n",
       "    </tr>\n",
       "    <tr>\n",
       "      <th>18</th>\n",
       "      <td>BusinessAgeDescription_Existing or more than 2...</td>\n",
       "      <td>-0.812841</td>\n",
       "      <td>0.812841</td>\n",
       "    </tr>\n",
       "    <tr>\n",
       "      <th>66</th>\n",
       "      <td>isAfterBiden_0</td>\n",
       "      <td>0.794954</td>\n",
       "      <td>0.794954</td>\n",
       "    </tr>\n",
       "    <tr>\n",
       "      <th>54</th>\n",
       "      <td>BusinessType_Sole Proprietorship</td>\n",
       "      <td>0.786915</td>\n",
       "      <td>0.786915</td>\n",
       "    </tr>\n",
       "    <tr>\n",
       "      <th>150</th>\n",
       "      <td>Term_cat_is_60</td>\n",
       "      <td>-0.717606</td>\n",
       "      <td>0.717606</td>\n",
       "    </tr>\n",
       "  </tbody>\n",
       "</table>\n",
       "</div>"
      ],
      "text/plain": [
       "                                               feature      coef  abs_coef\n",
       "91                                    BorrowerState_AK  9.228940  9.228940\n",
       "139                                  BorrowerState_UNK  3.511062  3.511062\n",
       "10                             LoanStatus_Paid in Full -1.837010  1.837010\n",
       "9                               LoanStatus_Exemption 4  1.665841  1.665841\n",
       "148                             Term_cat_between_24_60  1.501413  1.501413\n",
       "144                                   BorrowerState_WA -1.288833  1.288833\n",
       "149                                     Term_cat_is_24 -1.253486  1.253486\n",
       "96                                    BorrowerState_CA -1.087111  1.087111\n",
       "107                                   BorrowerState_IL -1.054078  1.054078\n",
       "67                                      isAfterBiden_1 -0.965984  0.965984\n",
       "121                                   BorrowerState_NC -0.959925  0.959925\n",
       "101                                   BorrowerState_FL -0.952295  0.952295\n",
       "55               BusinessType_Subchapter S Corporation -0.945044  0.945044\n",
       "70            Industry_Accommodation and food services -0.855605  0.855605\n",
       "128                                   BorrowerState_NY -0.844180  0.844180\n",
       "132                                   BorrowerState_PA -0.820018  0.820018\n",
       "18   BusinessAgeDescription_Existing or more than 2... -0.812841  0.812841\n",
       "66                                      isAfterBiden_0  0.794954  0.794954\n",
       "54                    BusinessType_Sole Proprietorship  0.786915  0.786915\n",
       "150                                     Term_cat_is_60 -0.717606  0.717606"
      ]
     },
     "execution_count": 101,
     "metadata": {},
     "output_type": "execute_result"
    }
   ],
   "source": [
    "# top 20 feature coefficients\n",
    "feature_coef = pd.DataFrame({'feature':logistic_regression.feature_names_in_,'coef':logistic_regression.best_estimator_.coef_.flatten()})\n",
    "feature_coef['abs_coef'] = abs(feature_coef['coef'])\n",
    "feature_coef.sort_values(by = 'abs_coef', ascending = False).head(20)"
   ]
  }
 ],
 "metadata": {
  "kernelspec": {
   "display_name": "base",
   "language": "python",
   "name": "python3"
  },
  "language_info": {
   "codemirror_mode": {
    "name": "ipython",
    "version": 3
   },
   "file_extension": ".py",
   "mimetype": "text/x-python",
   "name": "python",
   "nbconvert_exporter": "python",
   "pygments_lexer": "ipython3",
   "version": "3.10.11"
  }
 },
 "nbformat": 4,
 "nbformat_minor": 2
}
