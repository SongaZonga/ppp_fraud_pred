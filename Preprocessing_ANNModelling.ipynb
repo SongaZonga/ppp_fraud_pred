{
 "cells": [
  {
   "cell_type": "markdown",
   "metadata": {
    "id": "TewmynE2mjbF"
   },
   "source": [
    "### For updated features based on the ppp_transformed_updated.csv\n",
    "\n",
    "Transformations include:\n",
    "- Converting Term from numeric/ordinal to categorical (less than 24, 24, between 24 and 60, 60, more than 60)\n",
    "    - Justification: most concentrated around 24 and 60. the standard for ppp is 24 months, but can be extended to 60 months\n",
    "    - Could also see it as whether a loan extension was applied\n",
    "- Log transformation on large numeric variables\n",
    "    - Normalises the data before standardising\n",
    "    - MinMax shrinks the range but preserves the skew\n",
    "    - shrinking 0-1B to 0-1 results in long decimals (eg. 0.988887622845627891), which usually gets binned together\n",
    "    - new columns will be standardised as well\n",
    "- Including dummy variables\n",
    "- Splitting dataset based on original (non-categorical), encoded, scaled_standardised, log_standardised, dummy"
   ]
  },
  {
   "cell_type": "code",
   "execution_count": null,
   "metadata": {
    "id": "6JgtcFZqmjbH"
   },
   "outputs": [],
   "source": [
    "import pandas as pd\n",
    "import numpy as np\n",
    "import matplotlib.pyplot as plt\n",
    "import seaborn as sns\n",
    "\n",
    "from sklearn.preprocessing import StandardScaler"
   ]
  },
  {
   "cell_type": "code",
   "execution_count": null,
   "metadata": {
    "colab": {
     "base_uri": "https://localhost:8080/"
    },
    "executionInfo": {
     "elapsed": 21004,
     "status": "ok",
     "timestamp": 1697447950183,
     "user": {
      "displayName": "Silver Lining",
      "userId": "05352521854002397653"
     },
     "user_tz": -480
    },
    "id": "3RNAx98Rm6iu",
    "outputId": "4d925f55-470b-42eb-cb65-d4db536bdd8d"
   },
   "outputs": [
    {
     "name": "stdout",
     "output_type": "stream",
     "text": [
      "Mounted at /content/drive\n",
      "/content/drive/MyDrive/Colab Notebooks\n"
     ]
    }
   ],
   "source": [
    "from google.colab import drive\n",
    "drive.mount('/content/drive')\n",
    "%cd /content/drive/MyDrive/Colab Notebooks"
   ]
  },
  {
   "cell_type": "code",
   "execution_count": null,
   "metadata": {
    "colab": {
     "base_uri": "https://localhost:8080/"
    },
    "executionInfo": {
     "elapsed": 14954,
     "status": "ok",
     "timestamp": 1697447965127,
     "user": {
      "displayName": "Silver Lining",
      "userId": "05352521854002397653"
     },
     "user_tz": -480
    },
    "id": "mCIrQDxxmjbH",
    "outputId": "d21f246f-59fa-4f37-e7e4-eb47080b9480"
   },
   "outputs": [
    {
     "data": {
      "text/plain": [
       "Index(['Unnamed: 0', 'LoanNumber', 'DateApproved', 'SBAOfficeCode',\n",
       "       'ProcessingMethod', 'BorrowerName', 'BorrowerCity', 'BorrowerState',\n",
       "       'BorrowerZip', 'LoanStatus', 'Term', 'InitialApprovalAmount',\n",
       "       'CurrentApprovalAmount', 'FranchiseName', 'ServicingLenderName',\n",
       "       'ServicingLenderZip', 'RuralUrbanIndicator', 'HubzoneIndicator',\n",
       "       'LMIIndicator', 'BusinessAgeDescription', 'ProjectCity', 'JobsReported',\n",
       "       'NAICSCode', 'Race', 'Ethnicity', 'BusinessType', 'Gender', 'Veteran',\n",
       "       'TOTAL_PROCEED', 'PROCEED_Diff', 'UTILITIES_PROCEED_pct',\n",
       "       'PAYROLL_PROCEED_pct', 'MORTGAGE_INTEREST_PROCEED_pct',\n",
       "       'RENT_PROCEED_pct', 'REFINANCE_EIDL_PROCEED_pct',\n",
       "       'HEALTH_CARE_PROCEED_pct', 'DEBT_INTEREST_PROCEED_pct',\n",
       "       'PROCEED_Per_Job', 'isAfterBiden', 'isDiffBorrowerAndProjectCity',\n",
       "       'Industry', 'Subsector', 'ProcessingMethod_encoded',\n",
       "       'LoanStatus_encoded', 'RuralUrbanIndicator_encoded',\n",
       "       'HubzoneIndicator_encoded', 'LMIIndicator_encoded',\n",
       "       'BusinessAgeDescription_encoded', 'Race_encoded', 'Ethnicity_encoded',\n",
       "       'BusinessType_encoded', 'Gender_encoded', 'Veteran_encoded',\n",
       "       'Industry_encoded', 'Term_standardised', 'JobsReported_standardised',\n",
       "       'PROCEED_Diff_standardised', 'UTILITIES_PROCEED_pct_standardised',\n",
       "       'PAYROLL_PROCEED_pct_standardised',\n",
       "       'MORTGAGE_INTEREST_PROCEED_pct_standardised',\n",
       "       'RENT_PROCEED_pct_standardised',\n",
       "       'REFINANCE_EIDL_PROCEED_pct_standardised',\n",
       "       'HEALTH_CARE_PROCEED_pct_standardised',\n",
       "       'DEBT_INTEREST_PROCEED_pct_standardised',\n",
       "       'InitialApprovalAmount_scaled_standardised',\n",
       "       'CurrentApprovalAmount_scaled_standardised',\n",
       "       'TOTAL_PROCEED_scaled_standardised',\n",
       "       'PROCEED_Per_Job_scaled_standardised', 'isFraud'],\n",
       "      dtype='object')"
      ]
     },
     "execution_count": 3,
     "metadata": {},
     "output_type": "execute_result"
    }
   ],
   "source": [
    "df = pd.read_csv(\"ppp_transformed_updated.csv\")\n",
    "df_original = df.copy()\n",
    "df.columns"
   ]
  },
  {
   "cell_type": "markdown",
   "metadata": {
    "id": "ubGQnvYEmjbI"
   },
   "source": [
    "#### Converting 'Term' to categorical"
   ]
  },
  {
   "cell_type": "code",
   "execution_count": null,
   "metadata": {
    "id": "-Tn7xOQgmjbI"
   },
   "outputs": [],
   "source": [
    "def term_transform(row):\n",
    "    \"\"\"\n",
    "    Transforms 'Term' column into a new column with categorical (string) values\n",
    "    > 60  : more than 60\n",
    "    == 60 : 60\n",
    "    > 24  : between 24 and 60\n",
    "    == 24 : 24\n",
    "    < 24  : less than 24\n",
    "    \"\"\"\n",
    "    if row > 60:\n",
    "        label = 'more_than_60'\n",
    "    elif row == 60:\n",
    "        label = 'is_60'\n",
    "    elif row > 24:\n",
    "        label = 'between_24_60'\n",
    "    elif row == 24:\n",
    "        label = 'is_24'\n",
    "    else:\n",
    "        label = 'less_than_24'\n",
    "    return label"
   ]
  },
  {
   "cell_type": "code",
   "execution_count": null,
   "metadata": {
    "colab": {
     "base_uri": "https://localhost:8080/",
     "height": 206
    },
    "executionInfo": {
     "elapsed": 735,
     "status": "ok",
     "timestamp": 1697447967711,
     "user": {
      "displayName": "Silver Lining",
      "userId": "05352521854002397653"
     },
     "user_tz": -480
    },
    "id": "lIS2Z7mDmjbJ",
    "outputId": "1fb80959-1c7e-4631-c95e-df6b0b08e98c"
   },
   "outputs": [
    {
     "data": {
      "text/html": [
       "\n",
       "  <div id=\"df-1c4d254c-bdce-4f4b-a3f3-92a6173aa51e\" class=\"colab-df-container\">\n",
       "    <div>\n",
       "<style scoped>\n",
       "    .dataframe tbody tr th:only-of-type {\n",
       "        vertical-align: middle;\n",
       "    }\n",
       "\n",
       "    .dataframe tbody tr th {\n",
       "        vertical-align: top;\n",
       "    }\n",
       "\n",
       "    .dataframe thead th {\n",
       "        text-align: right;\n",
       "    }\n",
       "</style>\n",
       "<table border=\"1\" class=\"dataframe\">\n",
       "  <thead>\n",
       "    <tr style=\"text-align: right;\">\n",
       "      <th></th>\n",
       "      <th>Term</th>\n",
       "      <th>Term_cat</th>\n",
       "    </tr>\n",
       "  </thead>\n",
       "  <tbody>\n",
       "    <tr>\n",
       "      <th>0</th>\n",
       "      <td>24</td>\n",
       "      <td>is_24</td>\n",
       "    </tr>\n",
       "    <tr>\n",
       "      <th>1</th>\n",
       "      <td>24</td>\n",
       "      <td>is_24</td>\n",
       "    </tr>\n",
       "    <tr>\n",
       "      <th>2</th>\n",
       "      <td>24</td>\n",
       "      <td>is_24</td>\n",
       "    </tr>\n",
       "    <tr>\n",
       "      <th>3</th>\n",
       "      <td>24</td>\n",
       "      <td>is_24</td>\n",
       "    </tr>\n",
       "    <tr>\n",
       "      <th>4</th>\n",
       "      <td>24</td>\n",
       "      <td>is_24</td>\n",
       "    </tr>\n",
       "  </tbody>\n",
       "</table>\n",
       "</div>\n",
       "    <div class=\"colab-df-buttons\">\n",
       "\n",
       "  <div class=\"colab-df-container\">\n",
       "    <button class=\"colab-df-convert\" onclick=\"convertToInteractive('df-1c4d254c-bdce-4f4b-a3f3-92a6173aa51e')\"\n",
       "            title=\"Convert this dataframe to an interactive table.\"\n",
       "            style=\"display:none;\">\n",
       "\n",
       "  <svg xmlns=\"http://www.w3.org/2000/svg\" height=\"24px\" viewBox=\"0 -960 960 960\">\n",
       "    <path d=\"M120-120v-720h720v720H120Zm60-500h600v-160H180v160Zm220 220h160v-160H400v160Zm0 220h160v-160H400v160ZM180-400h160v-160H180v160Zm440 0h160v-160H620v160ZM180-180h160v-160H180v160Zm440 0h160v-160H620v160Z\"/>\n",
       "  </svg>\n",
       "    </button>\n",
       "\n",
       "  <style>\n",
       "    .colab-df-container {\n",
       "      display:flex;\n",
       "      gap: 12px;\n",
       "    }\n",
       "\n",
       "    .colab-df-convert {\n",
       "      background-color: #E8F0FE;\n",
       "      border: none;\n",
       "      border-radius: 50%;\n",
       "      cursor: pointer;\n",
       "      display: none;\n",
       "      fill: #1967D2;\n",
       "      height: 32px;\n",
       "      padding: 0 0 0 0;\n",
       "      width: 32px;\n",
       "    }\n",
       "\n",
       "    .colab-df-convert:hover {\n",
       "      background-color: #E2EBFA;\n",
       "      box-shadow: 0px 1px 2px rgba(60, 64, 67, 0.3), 0px 1px 3px 1px rgba(60, 64, 67, 0.15);\n",
       "      fill: #174EA6;\n",
       "    }\n",
       "\n",
       "    .colab-df-buttons div {\n",
       "      margin-bottom: 4px;\n",
       "    }\n",
       "\n",
       "    [theme=dark] .colab-df-convert {\n",
       "      background-color: #3B4455;\n",
       "      fill: #D2E3FC;\n",
       "    }\n",
       "\n",
       "    [theme=dark] .colab-df-convert:hover {\n",
       "      background-color: #434B5C;\n",
       "      box-shadow: 0px 1px 3px 1px rgba(0, 0, 0, 0.15);\n",
       "      filter: drop-shadow(0px 1px 2px rgba(0, 0, 0, 0.3));\n",
       "      fill: #FFFFFF;\n",
       "    }\n",
       "  </style>\n",
       "\n",
       "    <script>\n",
       "      const buttonEl =\n",
       "        document.querySelector('#df-1c4d254c-bdce-4f4b-a3f3-92a6173aa51e button.colab-df-convert');\n",
       "      buttonEl.style.display =\n",
       "        google.colab.kernel.accessAllowed ? 'block' : 'none';\n",
       "\n",
       "      async function convertToInteractive(key) {\n",
       "        const element = document.querySelector('#df-1c4d254c-bdce-4f4b-a3f3-92a6173aa51e');\n",
       "        const dataTable =\n",
       "          await google.colab.kernel.invokeFunction('convertToInteractive',\n",
       "                                                    [key], {});\n",
       "        if (!dataTable) return;\n",
       "\n",
       "        const docLinkHtml = 'Like what you see? Visit the ' +\n",
       "          '<a target=\"_blank\" href=https://colab.research.google.com/notebooks/data_table.ipynb>data table notebook</a>'\n",
       "          + ' to learn more about interactive tables.';\n",
       "        element.innerHTML = '';\n",
       "        dataTable['output_type'] = 'display_data';\n",
       "        await google.colab.output.renderOutput(dataTable, element);\n",
       "        const docLink = document.createElement('div');\n",
       "        docLink.innerHTML = docLinkHtml;\n",
       "        element.appendChild(docLink);\n",
       "      }\n",
       "    </script>\n",
       "  </div>\n",
       "\n",
       "\n",
       "<div id=\"df-aa9b423a-0ab4-4a8f-bbfc-1a9719b6eddd\">\n",
       "  <button class=\"colab-df-quickchart\" onclick=\"quickchart('df-aa9b423a-0ab4-4a8f-bbfc-1a9719b6eddd')\"\n",
       "            title=\"Suggest charts.\"\n",
       "            style=\"display:none;\">\n",
       "\n",
       "<svg xmlns=\"http://www.w3.org/2000/svg\" height=\"24px\"viewBox=\"0 0 24 24\"\n",
       "     width=\"24px\">\n",
       "    <g>\n",
       "        <path d=\"M19 3H5c-1.1 0-2 .9-2 2v14c0 1.1.9 2 2 2h14c1.1 0 2-.9 2-2V5c0-1.1-.9-2-2-2zM9 17H7v-7h2v7zm4 0h-2V7h2v10zm4 0h-2v-4h2v4z\"/>\n",
       "    </g>\n",
       "</svg>\n",
       "  </button>\n",
       "\n",
       "<style>\n",
       "  .colab-df-quickchart {\n",
       "      --bg-color: #E8F0FE;\n",
       "      --fill-color: #1967D2;\n",
       "      --hover-bg-color: #E2EBFA;\n",
       "      --hover-fill-color: #174EA6;\n",
       "      --disabled-fill-color: #AAA;\n",
       "      --disabled-bg-color: #DDD;\n",
       "  }\n",
       "\n",
       "  [theme=dark] .colab-df-quickchart {\n",
       "      --bg-color: #3B4455;\n",
       "      --fill-color: #D2E3FC;\n",
       "      --hover-bg-color: #434B5C;\n",
       "      --hover-fill-color: #FFFFFF;\n",
       "      --disabled-bg-color: #3B4455;\n",
       "      --disabled-fill-color: #666;\n",
       "  }\n",
       "\n",
       "  .colab-df-quickchart {\n",
       "    background-color: var(--bg-color);\n",
       "    border: none;\n",
       "    border-radius: 50%;\n",
       "    cursor: pointer;\n",
       "    display: none;\n",
       "    fill: var(--fill-color);\n",
       "    height: 32px;\n",
       "    padding: 0;\n",
       "    width: 32px;\n",
       "  }\n",
       "\n",
       "  .colab-df-quickchart:hover {\n",
       "    background-color: var(--hover-bg-color);\n",
       "    box-shadow: 0 1px 2px rgba(60, 64, 67, 0.3), 0 1px 3px 1px rgba(60, 64, 67, 0.15);\n",
       "    fill: var(--button-hover-fill-color);\n",
       "  }\n",
       "\n",
       "  .colab-df-quickchart-complete:disabled,\n",
       "  .colab-df-quickchart-complete:disabled:hover {\n",
       "    background-color: var(--disabled-bg-color);\n",
       "    fill: var(--disabled-fill-color);\n",
       "    box-shadow: none;\n",
       "  }\n",
       "\n",
       "  .colab-df-spinner {\n",
       "    border: 2px solid var(--fill-color);\n",
       "    border-color: transparent;\n",
       "    border-bottom-color: var(--fill-color);\n",
       "    animation:\n",
       "      spin 1s steps(1) infinite;\n",
       "  }\n",
       "\n",
       "  @keyframes spin {\n",
       "    0% {\n",
       "      border-color: transparent;\n",
       "      border-bottom-color: var(--fill-color);\n",
       "      border-left-color: var(--fill-color);\n",
       "    }\n",
       "    20% {\n",
       "      border-color: transparent;\n",
       "      border-left-color: var(--fill-color);\n",
       "      border-top-color: var(--fill-color);\n",
       "    }\n",
       "    30% {\n",
       "      border-color: transparent;\n",
       "      border-left-color: var(--fill-color);\n",
       "      border-top-color: var(--fill-color);\n",
       "      border-right-color: var(--fill-color);\n",
       "    }\n",
       "    40% {\n",
       "      border-color: transparent;\n",
       "      border-right-color: var(--fill-color);\n",
       "      border-top-color: var(--fill-color);\n",
       "    }\n",
       "    60% {\n",
       "      border-color: transparent;\n",
       "      border-right-color: var(--fill-color);\n",
       "    }\n",
       "    80% {\n",
       "      border-color: transparent;\n",
       "      border-right-color: var(--fill-color);\n",
       "      border-bottom-color: var(--fill-color);\n",
       "    }\n",
       "    90% {\n",
       "      border-color: transparent;\n",
       "      border-bottom-color: var(--fill-color);\n",
       "    }\n",
       "  }\n",
       "</style>\n",
       "\n",
       "  <script>\n",
       "    async function quickchart(key) {\n",
       "      const quickchartButtonEl =\n",
       "        document.querySelector('#' + key + ' button');\n",
       "      quickchartButtonEl.disabled = true;  // To prevent multiple clicks.\n",
       "      quickchartButtonEl.classList.add('colab-df-spinner');\n",
       "      try {\n",
       "        const charts = await google.colab.kernel.invokeFunction(\n",
       "            'suggestCharts', [key], {});\n",
       "      } catch (error) {\n",
       "        console.error('Error during call to suggestCharts:', error);\n",
       "      }\n",
       "      quickchartButtonEl.classList.remove('colab-df-spinner');\n",
       "      quickchartButtonEl.classList.add('colab-df-quickchart-complete');\n",
       "    }\n",
       "    (() => {\n",
       "      let quickchartButtonEl =\n",
       "        document.querySelector('#df-aa9b423a-0ab4-4a8f-bbfc-1a9719b6eddd button');\n",
       "      quickchartButtonEl.style.display =\n",
       "        google.colab.kernel.accessAllowed ? 'block' : 'none';\n",
       "    })();\n",
       "  </script>\n",
       "</div>\n",
       "    </div>\n",
       "  </div>\n"
      ],
      "text/plain": [
       "   Term Term_cat\n",
       "0    24    is_24\n",
       "1    24    is_24\n",
       "2    24    is_24\n",
       "3    24    is_24\n",
       "4    24    is_24"
      ]
     },
     "execution_count": 5,
     "metadata": {},
     "output_type": "execute_result"
    }
   ],
   "source": [
    "# transform Term column into categorical\n",
    "df['Term_cat'] = df['Term'].apply(term_transform)\n",
    "df[['Term', 'Term_cat']].head(5)"
   ]
  },
  {
   "cell_type": "code",
   "execution_count": null,
   "metadata": {
    "colab": {
     "base_uri": "https://localhost:8080/"
    },
    "executionInfo": {
     "elapsed": 348,
     "status": "ok",
     "timestamp": 1697447972709,
     "user": {
      "displayName": "Silver Lining",
      "userId": "05352521854002397653"
     },
     "user_tz": -480
    },
    "id": "rnuAo63imjbJ",
    "outputId": "bdb83461-0e1f-4fdc-a230-dd5596a369a8"
   },
   "outputs": [
    {
     "data": {
      "text/plain": [
       "is_24            623146\n",
       "is_60            329485\n",
       "less_than_24       4951\n",
       "between_24_60      4300\n",
       "more_than_60         10\n",
       "Name: Term_cat, dtype: int64"
      ]
     },
     "execution_count": 6,
     "metadata": {},
     "output_type": "execute_result"
    }
   ],
   "source": [
    "df['Term_cat'].value_counts()"
   ]
  },
  {
   "cell_type": "code",
   "execution_count": null,
   "metadata": {
    "colab": {
     "base_uri": "https://localhost:8080/"
    },
    "executionInfo": {
     "elapsed": 514,
     "status": "ok",
     "timestamp": 1697447974020,
     "user": {
      "displayName": "Silver Lining",
      "userId": "05352521854002397653"
     },
     "user_tz": -480
    },
    "id": "TyKWewFxmjbJ",
    "outputId": "23c0a072-548b-45f4-cf1e-4dbb2e38ad4c"
   },
   "outputs": [
    {
     "data": {
      "text/plain": [
       "24     623146\n",
       "60     329485\n",
       "59       3145\n",
       "4        1072\n",
       "3         955\n",
       "5         942\n",
       "23        633\n",
       "2         439\n",
       "6         400\n",
       "41        288\n",
       "42        269\n",
       "1         268\n",
       "40        163\n",
       "7          89\n",
       "58         83\n",
       "8          79\n",
       "43         78\n",
       "44         44\n",
       "9          38\n",
       "49         28\n",
       "45         26\n",
       "39         25\n",
       "53         17\n",
       "52         16\n",
       "51         15\n",
       "46         15\n",
       "0          14\n",
       "47         13\n",
       "48         13\n",
       "50         11\n",
       "38         11\n",
       "10          9\n",
       "54          6\n",
       "55          6\n",
       "36          6\n",
       "33          5\n",
       "19          5\n",
       "37          4\n",
       "120         4\n",
       "30          3\n",
       "34          3\n",
       "27          3\n",
       "11          2\n",
       "25          2\n",
       "61          2\n",
       "12          2\n",
       "13          2\n",
       "81          1\n",
       "28          1\n",
       "21          1\n",
       "22          1\n",
       "29          1\n",
       "84          1\n",
       "70          1\n",
       "83          1\n",
       "Name: Term, dtype: int64"
      ]
     },
     "execution_count": 7,
     "metadata": {},
     "output_type": "execute_result"
    }
   ],
   "source": [
    "df['Term'].value_counts()"
   ]
  },
  {
   "cell_type": "markdown",
   "metadata": {
    "id": "4os_sARGmjbJ"
   },
   "source": [
    "### Log-transform 'InitialApprovalAmount','CurrentApprovalAmount','TOTAL_PROCEED','PROCEED_Per_Job','JobsReported'\n",
    "'PROCEED_Diff' not log-transformed due to log(0) resulting in -inf, please use the original scaled_standard"
   ]
  },
  {
   "cell_type": "code",
   "execution_count": null,
   "metadata": {
    "id": "5-mK6cRPmjbJ"
   },
   "outputs": [],
   "source": [
    "# following variables are significantly large in scale\n",
    "big = ['InitialApprovalAmount','CurrentApprovalAmount','TOTAL_PROCEED','PROCEED_Per_Job','JobsReported']\n",
    "\n",
    "for var in big:\n",
    "    #df[f'log_{var}'] = np.log(df[var])\n",
    "    df[f'log_{var}'] = [np.log(x) if x > 0 else 0 for x in df[var]]"
   ]
  },
  {
   "cell_type": "markdown",
   "metadata": {
    "id": "H-HvhbSImjbK"
   },
   "source": [
    "Comparing columns before and after transformation, we expect the x-axis to be more manageable."
   ]
  },
  {
   "cell_type": "code",
   "execution_count": null,
   "metadata": {
    "colab": {
     "base_uri": "https://localhost:8080/",
     "height": 171
    },
    "executionInfo": {
     "elapsed": 17052,
     "status": "ok",
     "timestamp": 1697445298838,
     "user": {
      "displayName": "Silver Lining",
      "userId": "05352521854002397653"
     },
     "user_tz": -480
    },
    "id": "v1swapeLmjbK",
    "outputId": "2daffe01-5026-4363-bcd1-3313fdc27eaf"
   },
   "outputs": [
    {
     "data": {
      "image/png": "[encoded data removed]",
      "text/plain": [
       "<Figure size 1600x400 with 2 Axes>"
      ]
     },
     "metadata": {},
     "output_type": "display_data"
    }
   ],
   "source": [
    "fig, axes = plt.subplots(1,2, figsize = (16,4))\n",
    "\n",
    "sns.histplot(df[['InitialApprovalAmount']], kde = True, ax = axes[0])\n",
    "sns.histplot(df[['log_InitialApprovalAmount']], kde = True, ax = axes[1])\n",
    "plt.tight_layout()\n",
    "plt.show()"
   ]
  },
  {
   "cell_type": "code",
   "execution_count": null,
   "metadata": {
    "colab": {
     "base_uri": "https://localhost:8080/",
     "height": 171
    },
    "executionInfo": {
     "elapsed": 15554,
     "status": "ok",
     "timestamp": 1697445417572,
     "user": {
      "displayName": "Silver Lining",
      "userId": "05352521854002397653"
     },
     "user_tz": -480
    },
    "id": "avJpIHm0mjbK",
    "outputId": "0d01c2ce-352b-460f-a584-1623509dbdc6"
   },
   "outputs": [
    {
     "data": {
      "image/png": "[encoded data removed]",
      "text/plain": [
       "<Figure size 1600x400 with 2 Axes>"
      ]
     },
     "metadata": {},
     "output_type": "display_data"
    }
   ],
   "source": [
    "fig, axes = plt.subplots(1,2, figsize = (16,4))\n",
    "\n",
    "sns.histplot(df[['CurrentApprovalAmount']], kde = True, ax = axes[0])\n",
    "sns.histplot(df[['log_CurrentApprovalAmount']], kde = True, ax = axes[1])\n",
    "plt.tight_layout()\n",
    "plt.show()"
   ]
  },
  {
   "cell_type": "code",
   "execution_count": null,
   "metadata": {
    "colab": {
     "base_uri": "https://localhost:8080/",
     "height": 171
    },
    "executionInfo": {
     "elapsed": 15747,
     "status": "ok",
     "timestamp": 1697445400442,
     "user": {
      "displayName": "Silver Lining",
      "userId": "05352521854002397653"
     },
     "user_tz": -480
    },
    "id": "nTsmXu94mjbK",
    "outputId": "ba16c7c6-9813-4488-9353-c20b954095eb"
   },
   "outputs": [
    {
     "data": {
      "image/png": "[encoded data removed]",
      "text/plain": [
       "<Figure size 1600x400 with 2 Axes>"
      ]
     },
     "metadata": {},
     "output_type": "display_data"
    }
   ],
   "source": [
    "fig, axes = plt.subplots(1,2, figsize = (16,4))\n",
    "\n",
    "sns.histplot(df[['TOTAL_PROCEED']], kde = True, ax = axes[0])\n",
    "sns.histplot(df[['log_TOTAL_PROCEED']], kde = True, ax = axes[1])\n",
    "plt.tight_layout()\n",
    "plt.show()"
   ]
  },
  {
   "cell_type": "code",
   "execution_count": null,
   "metadata": {
    "colab": {
     "base_uri": "https://localhost:8080/",
     "height": 171
    },
    "executionInfo": {
     "elapsed": 96387,
     "status": "ok",
     "timestamp": 1697445513943,
     "user": {
      "displayName": "Silver Lining",
      "userId": "05352521854002397653"
     },
     "user_tz": -480
    },
    "id": "hkuBBG6ImjbK",
    "outputId": "68dfb414-1c87-4b6b-dceb-224c322ddf92"
   },
   "outputs": [
    {
     "data": {
      "image/png": "[encoded data removed]",
      "text/plain": [
       "<Figure size 1600x400 with 2 Axes>"
      ]
     },
     "metadata": {},
     "output_type": "display_data"
    }
   ],
   "source": [
    "fig, axes = plt.subplots(1,2, figsize = (16,4))\n",
    "\n",
    "sns.histplot(df[['PROCEED_Per_Job']], kde = True, ax = axes[0])\n",
    "sns.histplot(df[['log_PROCEED_Per_Job']], kde = True, ax = axes[1])\n",
    "plt.tight_layout()\n",
    "plt.show()"
   ]
  },
  {
   "cell_type": "code",
   "execution_count": null,
   "metadata": {
    "colab": {
     "base_uri": "https://localhost:8080/",
     "height": 171
    },
    "executionInfo": {
     "elapsed": 16856,
     "status": "ok",
     "timestamp": 1697445556988,
     "user": {
      "displayName": "Silver Lining",
      "userId": "05352521854002397653"
     },
     "user_tz": -480
    },
    "id": "ZKBVptnbmjbL",
    "outputId": "fc177b98-61ef-4318-89b0-07e09dadbb1e"
   },
   "outputs": [
    {
     "data": {
      "image/png": "[encoded data removed]",
      "text/plain": [
       "<Figure size 1600x400 with 2 Axes>"
      ]
     },
     "metadata": {},
     "output_type": "display_data"
    }
   ],
   "source": [
    "fig, axes = plt.subplots(1,2, figsize = (16,4))\n",
    "\n",
    "sns.histplot(df[['JobsReported']], kde = True, ax = axes[0])\n",
    "sns.histplot(df[['log_JobsReported']], kde = True, ax = axes[1])\n",
    "plt.tight_layout()\n",
    "plt.show()"
   ]
  },
  {
   "cell_type": "markdown",
   "metadata": {
    "id": "6K69A_KymjbL"
   },
   "source": [
    "### Standardising log-transformed variables"
   ]
  },
  {
   "cell_type": "code",
   "execution_count": null,
   "metadata": {
    "id": "dAP0wiRPmjbL"
   },
   "outputs": [],
   "source": [
    "log_to_standardise = ['log_InitialApprovalAmount','log_CurrentApprovalAmount', 'log_TOTAL_PROCEED','log_PROCEED_Per_Job','log_JobsReported']\n",
    "\n",
    "scaler = StandardScaler()\n",
    "\n",
    "for field in log_to_standardise:\n",
    "    df[f'{field}_standardised'] = scaler.fit_transform(df[[field]])"
   ]
  },
  {
   "cell_type": "markdown",
   "metadata": {
    "id": "3HqvGk-ImjbL"
   },
   "source": [
    "### Percentages variables transformation\n",
    "\n",
    "Since all _pct variables are summed to 1 for each row, and noticing that most rows have 1 to PAYROLL_PROCEED_pct (indicating 100% allocation to payroll), we will take a ratio of proceeds that went to payroll versus proceeds that went to all other aspects.\n",
    "\n",
    "The formula: ln((1+payroll_proceed_pct)/(1+sum(all other pct)))\n",
    "\n",
    "1 is added to numerator and denominator to aid in calculation"
   ]
  },
  {
   "cell_type": "code",
   "execution_count": null,
   "metadata": {
    "id": "t5g01Z1amjbL"
   },
   "outputs": [],
   "source": [
    "payroll_scaler = StandardScaler()\n",
    "\n",
    "df['payroll_over_other'] = np.log((1+df['PAYROLL_PROCEED_pct'])/(1+df[['UTILITIES_PROCEED_pct','MORTGAGE_INTEREST_PROCEED_pct','RENT_PROCEED_pct',\n",
    "                                                                       'REFINANCE_EIDL_PROCEED_pct','HEALTH_CARE_PROCEED_pct','DEBT_INTEREST_PROCEED_pct'\n",
    "                                                                       ]].sum(axis=1)))\n",
    "\n",
    "df['payroll_over_other'] = payroll_scaler.fit_transform(df['payroll_over_other'].values.reshape((-1, 1)))"
   ]
  },
  {
   "cell_type": "markdown",
   "metadata": {
    "id": "jAALY6P6mjbL"
   },
   "source": [
    "Just for clarity, the dataframes will be split into\n",
    "\n",
    "1. Original dataset as loaded (df_original)\n",
    "2. Dataset as transformed up to now (df_new)\n",
    "\n",
    "Lists of various variables are provided, please feel free to drop accordingly.\n",
    "\n",
    "If your model requires dummy variables, please use the next section."
   ]
  },
  {
   "cell_type": "code",
   "execution_count": null,
   "metadata": {
    "id": "7WZzWSaimjbL"
   },
   "outputs": [],
   "source": [
    "# list of encoded variables\n",
    "encoded = ['ProcessingMethod_encoded','LoanStatus_encoded','RuralUrbanIndicator_encoded','HubzoneIndicator_encoded','LMIIndicator_encoded',\n",
    "           'BusinessAgeDescription_encoded','Race_encoded','Ethnicity_encoded','BusinessType_encoded','Gender_encoded','Veteran_encoded','Industry_encoded']\n",
    "\n",
    "encoded_drop = ['ProcessingMethod_encoded','LoanStatus_encoded','RuralUrbanIndicator_encoded',\n",
    "           'BusinessAgeDescription_encoded','Race_encoded','Ethnicity_encoded','BusinessType_encoded','Gender_encoded','Veteran_encoded','Industry_encoded']\n",
    "\n",
    "\n",
    "# list of existing standardised variables - drop\n",
    "standardised_drop = ['Term_standardised','JobsReported_standardised','UTILITIES_PROCEED_pct_standardised','PAYROLL_PROCEED_pct_standardised',\n",
    "                'MORTGAGE_INTEREST_PROCEED_pct_standardised','RENT_PROCEED_pct_standardised','REFINANCE_EIDL_PROCEED_pct_standardised','HEALTH_CARE_PROCEED_pct_standardised',\n",
    "                'DEBT_INTEREST_PROCEED_pct_standardised','InitialApprovalAmount_scaled_standardised','CurrentApprovalAmount_scaled_standardised','TOTAL_PROCEED_scaled_standardised',\n",
    "                'PROCEED_Per_Job_scaled_standardised']\n",
    "\n",
    "standardised_keep = ['PROCEED_Diff_standardised']\n",
    "\n",
    "# list of log_transformed variables\n",
    "logged = ['log_InitialApprovalAmount','log_CurrentApprovalAmount','log_TOTAL_PROCEED','log_PROCEED_Per_Job','log_JobsReported']\n",
    "\n",
    "# list of log_transformed_standardised variables\n",
    "log_standardise = ['log_InitialApprovalAmount_standardised','log_CurrentApprovalAmount_standardised','log_TOTAL_PROCEED_standardised',\n",
    "                   'log_PROCEED_Per_Job_standardised','log_JobsReported_standardised']\n",
    "\n",
    "# list of pct variables - drop\n",
    "pct = ['PAYROLL_PROCEED_pct','UTILITIES_PROCEED_pct','MORTGAGE_INTEREST_PROCEED_pct','RENT_PROCEED_pct','REFINANCE_EIDL_PROCEED_pct','HEALTH_CARE_PROCEED_pct','DEBT_INTEREST_PROCEED_pct']\n",
    "\n",
    "# list of commonly dropped varibles (please feel free to use your own)\n",
    "drop = ['Unnamed: 0', 'LoanNumber','DateApproved','SBAOfficeCode','BorrowerName','BorrowerCity','BorrowerZip','Term','InitialApprovalAmount','CurrentApprovalAmount',\n",
    "        'FranchiseName','ServicingLenderName','ServicingLenderZip', 'ProjectCity','NAICSCode','TOTAL_PROCEED','PROCEED_Diff']\n",
    "\n",
    "# original dataframe from ppp_transformed_updated.csv\n",
    "# df_original\n",
    "\n",
    "# original dataframe with Term transformation, log transformation, log standardised and dummies -> new dataframe transformed up to now\n",
    "df_new = df.copy()"
   ]
  },
  {
   "cell_type": "code",
   "execution_count": null,
   "metadata": {
    "id": "1udHmgj6mjbM"
   },
   "outputs": [],
   "source": [
    "# drop columns that are not required in your model"
   ]
  },
  {
   "cell_type": "markdown",
   "metadata": {
    "id": "ze2-uPzZmjbM"
   },
   "source": [
    "### Creating dummy variables"
   ]
  },
  {
   "cell_type": "code",
   "execution_count": null,
   "metadata": {
    "colab": {
     "base_uri": "https://localhost:8080/"
    },
    "executionInfo": {
     "elapsed": 3066,
     "status": "ok",
     "timestamp": 1697448275581,
     "user": {
      "displayName": "Silver Lining",
      "userId": "05352521854002397653"
     },
     "user_tz": -480
    },
    "id": "gZDa11DomjbN",
    "outputId": "e6d038e8-d0a4-485e-cad2-5286fdfb3bf0"
   },
   "outputs": [
    {
     "data": {
      "text/plain": [
       "Index(['Unnamed: 0', 'LoanNumber', 'DateApproved', 'SBAOfficeCode',\n",
       "       'BorrowerName', 'BorrowerCity', 'BorrowerZip', 'Term',\n",
       "       'InitialApprovalAmount', 'CurrentApprovalAmount',\n",
       "       ...\n",
       "       'Industry_Mining, quarrying, and oil and gas extraction',\n",
       "       'Industry_Nonclassifiable establishment',\n",
       "       'Industry_Other services (except public administration) ',\n",
       "       'Industry_Professional, scientific, and technical services',\n",
       "       'Industry_Public service ',\n",
       "       'Industry_Real estate and rental and leasing', 'Industry_Retail trade',\n",
       "       'Industry_Transportation and warehousing', 'Industry_Utilities',\n",
       "       'Industry_Wholesale trade'],\n",
       "      dtype='object', length=208)"
      ]
     },
     "execution_count": 23,
     "metadata": {},
     "output_type": "execute_result"
    }
   ],
   "source": [
    "df = df # please add the dataframe you are using\n",
    "\n",
    "dummies = ['BorrowerState', 'Term_cat','ProcessingMethod','LoanStatus','RuralUrbanIndicator',\n",
    "          'BusinessAgeDescription','Race','Ethnicity','BusinessType','Gender',\n",
    "           'Veteran','Industry']\n",
    "\n",
    "df_with_dummies = df.copy()\n",
    "df_with_dummies = pd.get_dummies(df_with_dummies, columns = dummies)\n",
    "\n",
    "df_with_dummies.columns"
   ]
  },
  {
   "cell_type": "code",
   "execution_count": null,
   "metadata": {
    "colab": {
     "base_uri": "https://localhost:8080/"
    },
    "executionInfo": {
     "elapsed": 7,
     "status": "ok",
     "timestamp": 1697448275582,
     "user": {
      "displayName": "Silver Lining",
      "userId": "05352521854002397653"
     },
     "user_tz": -480
    },
    "id": "F-2iMIl0t5p4",
    "outputId": "f7bad478-99be-4129-c76f-e3c2d12b1486"
   },
   "outputs": [
    {
     "name": "stdout",
     "output_type": "stream",
     "text": [
      "<class 'pandas.core.frame.DataFrame'>\n",
      "RangeIndex: 961892 entries, 0 to 961891\n",
      "Columns: 208 entries, Unnamed: 0 to Industry_Wholesale trade\n",
      "dtypes: float64(38), int64(20), object(11), uint8(139)\n",
      "memory usage: 633.9+ MB\n"
     ]
    }
   ],
   "source": [
    "df_with_dummies.info()"
   ]
  },
  {
   "cell_type": "code",
   "execution_count": null,
   "metadata": {
    "colab": {
     "base_uri": "https://localhost:8080/"
    },
    "executionInfo": {
     "elapsed": 8,
     "status": "ok",
     "timestamp": 1697448276062,
     "user": {
      "displayName": "Silver Lining",
      "userId": "05352521854002397653"
     },
     "user_tz": -480
    },
    "id": "0Z_7TtE-xW0o",
    "outputId": "986cdb7b-2628-49eb-f5ab-ba3acf42cc4a"
   },
   "outputs": [
    {
     "data": {
      "text/plain": [
       "Index(['Unnamed: 0', 'LoanNumber', 'DateApproved', 'SBAOfficeCode',\n",
       "       'BorrowerName', 'BorrowerCity', 'BorrowerZip', 'Term',\n",
       "       'InitialApprovalAmount', 'CurrentApprovalAmount',\n",
       "       ...\n",
       "       'Industry_Mining, quarrying, and oil and gas extraction',\n",
       "       'Industry_Nonclassifiable establishment',\n",
       "       'Industry_Other services (except public administration) ',\n",
       "       'Industry_Professional, scientific, and technical services',\n",
       "       'Industry_Public service ',\n",
       "       'Industry_Real estate and rental and leasing', 'Industry_Retail trade',\n",
       "       'Industry_Transportation and warehousing', 'Industry_Utilities',\n",
       "       'Industry_Wholesale trade'],\n",
       "      dtype='object', length=208)"
      ]
     },
     "execution_count": 25,
     "metadata": {},
     "output_type": "execute_result"
    }
   ],
   "source": [
    "df_with_dummies.columns"
   ]
  },
  {
   "cell_type": "code",
   "execution_count": null,
   "metadata": {
    "colab": {
     "base_uri": "https://localhost:8080/"
    },
    "executionInfo": {
     "elapsed": 8,
     "status": "ok",
     "timestamp": 1697448329579,
     "user": {
      "displayName": "Silver Lining",
      "userId": "05352521854002397653"
     },
     "user_tz": -480
    },
    "id": "sgOdNcdPzaig",
    "outputId": "57ba7a14-a201-45ad-8e93-9daecd2a4e0c"
   },
   "outputs": [
    {
     "data": {
      "text/plain": [
       "['Unnamed: 0',\n",
       " 'LoanNumber',\n",
       " 'DateApproved',\n",
       " 'SBAOfficeCode',\n",
       " 'BorrowerName',\n",
       " 'BorrowerCity',\n",
       " 'BorrowerZip',\n",
       " 'Term',\n",
       " 'InitialApprovalAmount',\n",
       " 'CurrentApprovalAmount',\n",
       " 'FranchiseName',\n",
       " 'ServicingLenderName',\n",
       " 'ServicingLenderZip',\n",
       " 'HubzoneIndicator',\n",
       " 'LMIIndicator',\n",
       " 'ProjectCity',\n",
       " 'JobsReported',\n",
       " 'NAICSCode',\n",
       " 'TOTAL_PROCEED',\n",
       " 'PROCEED_Diff',\n",
       " 'UTILITIES_PROCEED_pct',\n",
       " 'PAYROLL_PROCEED_pct',\n",
       " 'MORTGAGE_INTEREST_PROCEED_pct',\n",
       " 'RENT_PROCEED_pct',\n",
       " 'REFINANCE_EIDL_PROCEED_pct',\n",
       " 'HEALTH_CARE_PROCEED_pct',\n",
       " 'DEBT_INTEREST_PROCEED_pct',\n",
       " 'PROCEED_Per_Job',\n",
       " 'isAfterBiden',\n",
       " 'isDiffBorrowerAndProjectCity',\n",
       " 'Subsector',\n",
       " 'ProcessingMethod_encoded',\n",
       " 'LoanStatus_encoded',\n",
       " 'RuralUrbanIndicator_encoded',\n",
       " 'HubzoneIndicator_encoded',\n",
       " 'LMIIndicator_encoded',\n",
       " 'BusinessAgeDescription_encoded',\n",
       " 'Race_encoded',\n",
       " 'Ethnicity_encoded',\n",
       " 'BusinessType_encoded',\n",
       " 'Gender_encoded',\n",
       " 'Veteran_encoded',\n",
       " 'Industry_encoded',\n",
       " 'Term_standardised',\n",
       " 'JobsReported_standardised',\n",
       " 'PROCEED_Diff_standardised',\n",
       " 'UTILITIES_PROCEED_pct_standardised',\n",
       " 'PAYROLL_PROCEED_pct_standardised',\n",
       " 'MORTGAGE_INTEREST_PROCEED_pct_standardised',\n",
       " 'RENT_PROCEED_pct_standardised',\n",
       " 'REFINANCE_EIDL_PROCEED_pct_standardised',\n",
       " 'HEALTH_CARE_PROCEED_pct_standardised',\n",
       " 'DEBT_INTEREST_PROCEED_pct_standardised',\n",
       " 'InitialApprovalAmount_scaled_standardised',\n",
       " 'CurrentApprovalAmount_scaled_standardised',\n",
       " 'TOTAL_PROCEED_scaled_standardised',\n",
       " 'PROCEED_Per_Job_scaled_standardised',\n",
       " 'isFraud',\n",
       " 'log_InitialApprovalAmount',\n",
       " 'log_CurrentApprovalAmount',\n",
       " 'log_TOTAL_PROCEED',\n",
       " 'log_PROCEED_Per_Job',\n",
       " 'log_JobsReported',\n",
       " 'log_InitialApprovalAmount_standardised',\n",
       " 'log_CurrentApprovalAmount_standardised',\n",
       " 'log_TOTAL_PROCEED_standardised',\n",
       " 'log_PROCEED_Per_Job_standardised',\n",
       " 'log_JobsReported_standardised',\n",
       " 'payroll_over_other',\n",
       " 'BorrowerState_AK',\n",
       " 'BorrowerState_AL',\n",
       " 'BorrowerState_AR',\n",
       " 'BorrowerState_AS',\n",
       " 'BorrowerState_AZ',\n",
       " 'BorrowerState_CA',\n",
       " 'BorrowerState_CO',\n",
       " 'BorrowerState_CT',\n",
       " 'BorrowerState_DC',\n",
       " 'BorrowerState_DE',\n",
       " 'BorrowerState_FL',\n",
       " 'BorrowerState_GA',\n",
       " 'BorrowerState_GU',\n",
       " 'BorrowerState_HI',\n",
       " 'BorrowerState_IA',\n",
       " 'BorrowerState_ID',\n",
       " 'BorrowerState_IL',\n",
       " 'BorrowerState_IN',\n",
       " 'BorrowerState_KS',\n",
       " 'BorrowerState_KY',\n",
       " 'BorrowerState_LA',\n",
       " 'BorrowerState_MA',\n",
       " 'BorrowerState_MD',\n",
       " 'BorrowerState_ME',\n",
       " 'BorrowerState_MI',\n",
       " 'BorrowerState_MN',\n",
       " 'BorrowerState_MO',\n",
       " 'BorrowerState_MP',\n",
       " 'BorrowerState_MS',\n",
       " 'BorrowerState_MT',\n",
       " 'BorrowerState_NC',\n",
       " 'BorrowerState_ND',\n",
       " 'BorrowerState_NE',\n",
       " 'BorrowerState_NH',\n",
       " 'BorrowerState_NJ',\n",
       " 'BorrowerState_NM',\n",
       " 'BorrowerState_NV',\n",
       " 'BorrowerState_NY',\n",
       " 'BorrowerState_OH',\n",
       " 'BorrowerState_OK',\n",
       " 'BorrowerState_OR',\n",
       " 'BorrowerState_PA',\n",
       " 'BorrowerState_PR',\n",
       " 'BorrowerState_RI',\n",
       " 'BorrowerState_SC',\n",
       " 'BorrowerState_SD',\n",
       " 'BorrowerState_TN',\n",
       " 'BorrowerState_TX',\n",
       " 'BorrowerState_UNK',\n",
       " 'BorrowerState_UT',\n",
       " 'BorrowerState_VA',\n",
       " 'BorrowerState_VI',\n",
       " 'BorrowerState_VT',\n",
       " 'BorrowerState_WA',\n",
       " 'BorrowerState_WI',\n",
       " 'BorrowerState_WV',\n",
       " 'BorrowerState_WY',\n",
       " 'Term_cat_between_24_60',\n",
       " 'Term_cat_is_24',\n",
       " 'Term_cat_is_60',\n",
       " 'Term_cat_less_than_24',\n",
       " 'Term_cat_more_than_60',\n",
       " 'ProcessingMethod_PPP',\n",
       " 'ProcessingMethod_PPS',\n",
       " 'LoanStatus_Active Un-Disbursed',\n",
       " 'LoanStatus_Exemption 4',\n",
       " 'LoanStatus_Paid in Full',\n",
       " 'RuralUrbanIndicator_R',\n",
       " 'RuralUrbanIndicator_U',\n",
       " 'BusinessAgeDescription_Change of Ownership',\n",
       " 'BusinessAgeDescription_Existing or more than 2 years old',\n",
       " 'BusinessAgeDescription_New Business or 2 years or less',\n",
       " 'BusinessAgeDescription_Startup, Loan Funds will Open Business',\n",
       " 'BusinessAgeDescription_Unanswered',\n",
       " 'Race_American Indian or Alaska Native',\n",
       " 'Race_Asian',\n",
       " 'Race_Black or African American',\n",
       " 'Race_Eskimo & Aleut',\n",
       " 'Race_Multi Group',\n",
       " 'Race_Native Hawaiian or Other Pacific Islander',\n",
       " 'Race_Puerto Rican',\n",
       " 'Race_Unanswered',\n",
       " 'Race_White',\n",
       " 'Ethnicity_Hispanic or Latino',\n",
       " 'Ethnicity_Not Hispanic or Latino',\n",
       " 'Ethnicity_Unknown/NotStated',\n",
       " 'BusinessType_501(c) – Non Profit except 3,4,6,',\n",
       " 'BusinessType_501(c)19 – Non Profit Veterans',\n",
       " 'BusinessType_501(c)3 – Non Profit',\n",
       " 'BusinessType_501(c)6 – Non Profit Membership',\n",
       " 'BusinessType_Cooperative',\n",
       " 'BusinessType_Corporation',\n",
       " 'BusinessType_Employee Stock Ownership Plan(ESOP)',\n",
       " 'BusinessType_Housing Co-op',\n",
       " 'BusinessType_Independent Contractors',\n",
       " 'BusinessType_Joint Venture',\n",
       " 'BusinessType_Limited  Liability Company(LLC)',\n",
       " 'BusinessType_Limited Liability Partnership',\n",
       " 'BusinessType_Non-Profit Childcare Center',\n",
       " 'BusinessType_Non-Profit Organization',\n",
       " 'BusinessType_Partnership',\n",
       " 'BusinessType_Professional Association',\n",
       " 'BusinessType_Qualified Joint-Venture (spouses)',\n",
       " 'BusinessType_Rollover as Business Start-Ups (ROB',\n",
       " 'BusinessType_Self-Employed Individuals',\n",
       " 'BusinessType_Single Member LLC',\n",
       " 'BusinessType_Sole Proprietorship',\n",
       " 'BusinessType_Subchapter S Corporation',\n",
       " 'BusinessType_Tenant in Common',\n",
       " 'BusinessType_Tribal Concerns',\n",
       " 'BusinessType_Trust',\n",
       " 'BusinessType_Unknown',\n",
       " 'Gender_Female Owned',\n",
       " 'Gender_Male Owned',\n",
       " 'Gender_Unanswered',\n",
       " 'Veteran_Non-Veteran',\n",
       " 'Veteran_Unanswered',\n",
       " 'Veteran_Veteran',\n",
       " 'Industry_Accommodation and food services',\n",
       " 'Industry_Administrative and support and waste management and remediation services',\n",
       " 'Industry_Agriculture, forestry, fishing and hunting',\n",
       " 'Industry_Arts, entertainment, and recreation',\n",
       " 'Industry_Construction',\n",
       " 'Industry_Educational services',\n",
       " 'Industry_Finance and insurance',\n",
       " 'Industry_Health care and social assistance',\n",
       " 'Industry_Information',\n",
       " 'Industry_Management of companies and enterprises',\n",
       " 'Industry_Manufacturing',\n",
       " 'Industry_Mining, quarrying, and oil and gas extraction',\n",
       " 'Industry_Nonclassifiable establishment',\n",
       " 'Industry_Other services (except public administration) ',\n",
       " 'Industry_Professional, scientific, and technical services',\n",
       " 'Industry_Public service ',\n",
       " 'Industry_Real estate and rental and leasing',\n",
       " 'Industry_Retail trade',\n",
       " 'Industry_Transportation and warehousing',\n",
       " 'Industry_Utilities',\n",
       " 'Industry_Wholesale trade']"
      ]
     },
     "execution_count": 27,
     "metadata": {},
     "output_type": "execute_result"
    }
   ],
   "source": [
    "df_with_dummies.columns.tolist()"
   ]
  },
  {
   "cell_type": "code",
   "execution_count": null,
   "metadata": {
    "id": "NTUgEqADuzKk"
   },
   "outputs": [],
   "source": [
    "df_with_dummies.drop(columns=drop, inplace = True)\n",
    "df_with_dummies.drop(columns=encoded_drop, inplace = True)\n",
    "df_with_dummies.drop(columns=standardised_drop, inplace = True)\n",
    "df_with_dummies.drop(columns=pct, inplace = True)\n",
    "\n"
   ]
  },
  {
   "cell_type": "code",
   "execution_count": null,
   "metadata": {
    "colab": {
     "base_uri": "https://localhost:8080/"
    },
    "executionInfo": {
     "elapsed": 6,
     "status": "ok",
     "timestamp": 1697448437669,
     "user": {
      "displayName": "Silver Lining",
      "userId": "05352521854002397653"
     },
     "user_tz": -480
    },
    "id": "HvcPHrl1wpIV",
    "outputId": "acd3b7fa-1b4e-4843-8d79-0d36e2cbf2e9"
   },
   "outputs": [
    {
     "name": "stdout",
     "output_type": "stream",
     "text": [
      "<class 'pandas.core.frame.DataFrame'>\n",
      "RangeIndex: 961892 entries, 0 to 961891\n",
      "Columns: 161 entries, HubzoneIndicator to Industry_Wholesale trade\n",
      "dtypes: float64(14), int64(5), object(3), uint8(139)\n",
      "memory usage: 289.0+ MB\n"
     ]
    }
   ],
   "source": [
    "df_with_dummies.info()"
   ]
  },
  {
   "cell_type": "code",
   "execution_count": null,
   "metadata": {
    "colab": {
     "base_uri": "https://localhost:8080/"
    },
    "executionInfo": {
     "elapsed": 306,
     "status": "ok",
     "timestamp": 1697448441257,
     "user": {
      "displayName": "Silver Lining",
      "userId": "05352521854002397653"
     },
     "user_tz": -480
    },
    "id": "Hfp39mBNvD9E",
    "outputId": "a2fa9bba-a249-433a-b197-70339d9d1298"
   },
   "outputs": [
    {
     "data": {
      "text/plain": [
       "Index(['HubzoneIndicator', 'LMIIndicator', 'JobsReported', 'PROCEED_Per_Job',\n",
       "       'isAfterBiden', 'isDiffBorrowerAndProjectCity', 'Subsector',\n",
       "       'HubzoneIndicator_encoded', 'LMIIndicator_encoded',\n",
       "       'PROCEED_Diff_standardised',\n",
       "       ...\n",
       "       'Industry_Mining, quarrying, and oil and gas extraction',\n",
       "       'Industry_Nonclassifiable establishment',\n",
       "       'Industry_Other services (except public administration) ',\n",
       "       'Industry_Professional, scientific, and technical services',\n",
       "       'Industry_Public service ',\n",
       "       'Industry_Real estate and rental and leasing', 'Industry_Retail trade',\n",
       "       'Industry_Transportation and warehousing', 'Industry_Utilities',\n",
       "       'Industry_Wholesale trade'],\n",
       "      dtype='object', length=161)"
      ]
     },
     "execution_count": 33,
     "metadata": {},
     "output_type": "execute_result"
    }
   ],
   "source": [
    "df_with_dummies.columns"
   ]
  },
  {
   "cell_type": "code",
   "execution_count": null,
   "metadata": {
    "colab": {
     "base_uri": "https://localhost:8080/"
    },
    "executionInfo": {
     "elapsed": 5,
     "status": "ok",
     "timestamp": 1697448859385,
     "user": {
      "displayName": "Silver Lining",
      "userId": "05352521854002397653"
     },
     "user_tz": -480
    },
    "id": "j2rsjv180s-P",
    "outputId": "bb0a396c-6ade-403c-cca2-4b2b15cb0f8d"
   },
   "outputs": [
    {
     "data": {
      "text/plain": [
       " 0.335918     821996\n",
       "-2.617949      36248\n",
       "-2.046572      18366\n",
       "-11.144927      1865\n",
       "-0.878205       1753\n",
       "               ...  \n",
       "-8.693480          1\n",
       "-6.217031          1\n",
       "-6.117406          1\n",
       "-10.454217         1\n",
       "-4.014991          1\n",
       "Name: payroll_over_other, Length: 2129, dtype: int64"
      ]
     },
     "execution_count": 37,
     "metadata": {},
     "output_type": "execute_result"
    }
   ],
   "source": [
    "df_with_dummies['payroll_over_other'].value_counts()"
   ]
  },
  {
   "cell_type": "code",
   "execution_count": null,
   "metadata": {
    "id": "7B4UcDoG0JPq"
   },
   "outputs": [],
   "source": [
    "df_with_dummies.drop(columns=['HubzoneIndicator',\n",
    " 'LMIIndicator', 'JobsReported',\n",
    " 'PROCEED_Per_Job', 'log_InitialApprovalAmount',\n",
    " 'log_CurrentApprovalAmount',\n",
    " 'log_TOTAL_PROCEED',\n",
    " 'log_PROCEED_Per_Job',\n",
    " 'log_JobsReported', 'Subsector'], inplace=True)"
   ]
  },
  {
   "cell_type": "code",
   "execution_count": null,
   "metadata": {
    "colab": {
     "base_uri": "https://localhost:8080/"
    },
    "executionInfo": {
     "elapsed": 500,
     "status": "ok",
     "timestamp": 1697448903087,
     "user": {
      "displayName": "Silver Lining",
      "userId": "05352521854002397653"
     },
     "user_tz": -480
    },
    "id": "cZvb-Xc9xsWx",
    "outputId": "899fa77c-8cc2-42ce-d4a6-f51406b6a3af"
   },
   "outputs": [
    {
     "data": {
      "text/plain": [
       "['isAfterBiden',\n",
       " 'isDiffBorrowerAndProjectCity',\n",
       " 'HubzoneIndicator_encoded',\n",
       " 'LMIIndicator_encoded',\n",
       " 'PROCEED_Diff_standardised',\n",
       " 'isFraud',\n",
       " 'log_InitialApprovalAmount_standardised',\n",
       " 'log_CurrentApprovalAmount_standardised',\n",
       " 'log_TOTAL_PROCEED_standardised',\n",
       " 'log_PROCEED_Per_Job_standardised',\n",
       " 'log_JobsReported_standardised',\n",
       " 'payroll_over_other',\n",
       " 'BorrowerState_AK',\n",
       " 'BorrowerState_AL',\n",
       " 'BorrowerState_AR',\n",
       " 'BorrowerState_AS',\n",
       " 'BorrowerState_AZ',\n",
       " 'BorrowerState_CA',\n",
       " 'BorrowerState_CO',\n",
       " 'BorrowerState_CT',\n",
       " 'BorrowerState_DC',\n",
       " 'BorrowerState_DE',\n",
       " 'BorrowerState_FL',\n",
       " 'BorrowerState_GA',\n",
       " 'BorrowerState_GU',\n",
       " 'BorrowerState_HI',\n",
       " 'BorrowerState_IA',\n",
       " 'BorrowerState_ID',\n",
       " 'BorrowerState_IL',\n",
       " 'BorrowerState_IN',\n",
       " 'BorrowerState_KS',\n",
       " 'BorrowerState_KY',\n",
       " 'BorrowerState_LA',\n",
       " 'BorrowerState_MA',\n",
       " 'BorrowerState_MD',\n",
       " 'BorrowerState_ME',\n",
       " 'BorrowerState_MI',\n",
       " 'BorrowerState_MN',\n",
       " 'BorrowerState_MO',\n",
       " 'BorrowerState_MP',\n",
       " 'BorrowerState_MS',\n",
       " 'BorrowerState_MT',\n",
       " 'BorrowerState_NC',\n",
       " 'BorrowerState_ND',\n",
       " 'BorrowerState_NE',\n",
       " 'BorrowerState_NH',\n",
       " 'BorrowerState_NJ',\n",
       " 'BorrowerState_NM',\n",
       " 'BorrowerState_NV',\n",
       " 'BorrowerState_NY',\n",
       " 'BorrowerState_OH',\n",
       " 'BorrowerState_OK',\n",
       " 'BorrowerState_OR',\n",
       " 'BorrowerState_PA',\n",
       " 'BorrowerState_PR',\n",
       " 'BorrowerState_RI',\n",
       " 'BorrowerState_SC',\n",
       " 'BorrowerState_SD',\n",
       " 'BorrowerState_TN',\n",
       " 'BorrowerState_TX',\n",
       " 'BorrowerState_UNK',\n",
       " 'BorrowerState_UT',\n",
       " 'BorrowerState_VA',\n",
       " 'BorrowerState_VI',\n",
       " 'BorrowerState_VT',\n",
       " 'BorrowerState_WA',\n",
       " 'BorrowerState_WI',\n",
       " 'BorrowerState_WV',\n",
       " 'BorrowerState_WY',\n",
       " 'Term_cat_between_24_60',\n",
       " 'Term_cat_is_24',\n",
       " 'Term_cat_is_60',\n",
       " 'Term_cat_less_than_24',\n",
       " 'Term_cat_more_than_60',\n",
       " 'ProcessingMethod_PPP',\n",
       " 'ProcessingMethod_PPS',\n",
       " 'LoanStatus_Active Un-Disbursed',\n",
       " 'LoanStatus_Exemption 4',\n",
       " 'LoanStatus_Paid in Full',\n",
       " 'RuralUrbanIndicator_R',\n",
       " 'RuralUrbanIndicator_U',\n",
       " 'BusinessAgeDescription_Change of Ownership',\n",
       " 'BusinessAgeDescription_Existing or more than 2 years old',\n",
       " 'BusinessAgeDescription_New Business or 2 years or less',\n",
       " 'BusinessAgeDescription_Startup, Loan Funds will Open Business',\n",
       " 'BusinessAgeDescription_Unanswered',\n",
       " 'Race_American Indian or Alaska Native',\n",
       " 'Race_Asian',\n",
       " 'Race_Black or African American',\n",
       " 'Race_Eskimo & Aleut',\n",
       " 'Race_Multi Group',\n",
       " 'Race_Native Hawaiian or Other Pacific Islander',\n",
       " 'Race_Puerto Rican',\n",
       " 'Race_Unanswered',\n",
       " 'Race_White',\n",
       " 'Ethnicity_Hispanic or Latino',\n",
       " 'Ethnicity_Not Hispanic or Latino',\n",
       " 'Ethnicity_Unknown/NotStated',\n",
       " 'BusinessType_501(c) – Non Profit except 3,4,6,',\n",
       " 'BusinessType_501(c)19 – Non Profit Veterans',\n",
       " 'BusinessType_501(c)3 – Non Profit',\n",
       " 'BusinessType_501(c)6 – Non Profit Membership',\n",
       " 'BusinessType_Cooperative',\n",
       " 'BusinessType_Corporation',\n",
       " 'BusinessType_Employee Stock Ownership Plan(ESOP)',\n",
       " 'BusinessType_Housing Co-op',\n",
       " 'BusinessType_Independent Contractors',\n",
       " 'BusinessType_Joint Venture',\n",
       " 'BusinessType_Limited  Liability Company(LLC)',\n",
       " 'BusinessType_Limited Liability Partnership',\n",
       " 'BusinessType_Non-Profit Childcare Center',\n",
       " 'BusinessType_Non-Profit Organization',\n",
       " 'BusinessType_Partnership',\n",
       " 'BusinessType_Professional Association',\n",
       " 'BusinessType_Qualified Joint-Venture (spouses)',\n",
       " 'BusinessType_Rollover as Business Start-Ups (ROB',\n",
       " 'BusinessType_Self-Employed Individuals',\n",
       " 'BusinessType_Single Member LLC',\n",
       " 'BusinessType_Sole Proprietorship',\n",
       " 'BusinessType_Subchapter S Corporation',\n",
       " 'BusinessType_Tenant in Common',\n",
       " 'BusinessType_Tribal Concerns',\n",
       " 'BusinessType_Trust',\n",
       " 'BusinessType_Unknown',\n",
       " 'Gender_Female Owned',\n",
       " 'Gender_Male Owned',\n",
       " 'Gender_Unanswered',\n",
       " 'Veteran_Non-Veteran',\n",
       " 'Veteran_Unanswered',\n",
       " 'Veteran_Veteran',\n",
       " 'Industry_Accommodation and food services',\n",
       " 'Industry_Administrative and support and waste management and remediation services',\n",
       " 'Industry_Agriculture, forestry, fishing and hunting',\n",
       " 'Industry_Arts, entertainment, and recreation',\n",
       " 'Industry_Construction',\n",
       " 'Industry_Educational services',\n",
       " 'Industry_Finance and insurance',\n",
       " 'Industry_Health care and social assistance',\n",
       " 'Industry_Information',\n",
       " 'Industry_Management of companies and enterprises',\n",
       " 'Industry_Manufacturing',\n",
       " 'Industry_Mining, quarrying, and oil and gas extraction',\n",
       " 'Industry_Nonclassifiable establishment',\n",
       " 'Industry_Other services (except public administration) ',\n",
       " 'Industry_Professional, scientific, and technical services',\n",
       " 'Industry_Public service ',\n",
       " 'Industry_Real estate and rental and leasing',\n",
       " 'Industry_Retail trade',\n",
       " 'Industry_Transportation and warehousing',\n",
       " 'Industry_Utilities',\n",
       " 'Industry_Wholesale trade']"
      ]
     },
     "execution_count": 40,
     "metadata": {},
     "output_type": "execute_result"
    }
   ],
   "source": [
    "df_with_dummies.columns.tolist()"
   ]
  },
  {
   "cell_type": "code",
   "execution_count": null,
   "metadata": {
    "id": "wFN_csUFy5Bl"
   },
   "outputs": [],
   "source": [
    "df_with_dummies.to_csv('/content/drive/MyDrive/ppp_transformed_new.csv')"
   ]
  },
  {
   "cell_type": "code",
   "execution_count": null,
   "metadata": {
    "id": "8QI208U76EtF"
   },
   "outputs": [],
   "source": []
  },
  {
   "cell_type": "code",
   "execution_count": null,
   "metadata": {
    "colab": {
     "base_uri": "https://localhost:8080/"
    },
    "executionInfo": {
     "elapsed": 24323,
     "status": "ok",
     "timestamp": 1699023130091,
     "user": {
      "displayName": "Silver Lining",
      "userId": "05352521854002397653"
     },
     "user_tz": -480
    },
    "id": "QwghQ28vv8-J",
    "outputId": "ce0efd61-3cb9-45a4-bc96-c7ad328d6fbb"
   },
   "outputs": [
    {
     "name": "stdout",
     "output_type": "stream",
     "text": [
      "Mounted at /content/drive\n"
     ]
    }
   ],
   "source": [
    "from google.colab import drive\n",
    "drive.mount('/content/drive')\n",
    "# %cd /content/drive/MyDrive/Colab Notebooks"
   ]
  },
  {
   "cell_type": "code",
   "execution_count": null,
   "metadata": {
    "id": "hxK6OTke9-A-"
   },
   "outputs": [],
   "source": [
    "import pandas as pd\n",
    "import sklearn.metrics as metrique\n",
    "from pandas import Series\n",
    "from sklearn.preprocessing import StandardScaler, MinMaxScaler\n",
    "from matplotlib import pyplot\n",
    "from sklearn.model_selection import train_test_split\n",
    "import numpy as np\n",
    "import tensorflow as tf\n",
    "\n",
    "\n",
    "\n",
    "from tensorflow.python.keras.utils import np_utils\n",
    "from keras.callbacks import EarlyStopping\n",
    "# from keras.utils import np_utils\n",
    "# from tensorflow.keras.utils import np_utils\n",
    "from sklearn.utils.class_weight import compute_class_weight\n",
    "\n",
    "from keras.callbacks import ModelCheckpoint\n",
    "from sklearn.metrics import accuracy_score\n",
    "from sklearn.metrics import classification_report, confusion_matrix\n",
    "from keras.models import Sequential\n",
    "# from keras.utils import np_utils\n",
    "from keras.layers import LSTM, Dense, Embedding, Dropout,Input, Attention, Layer, Concatenate, Permute, Dot, Multiply, Flatten, Reshape\n",
    "from keras.layers import RepeatVector, Dense, Activation, Lambda\n",
    "from keras.models import Sequential\n",
    "from keras import backend as K, regularizers, Model, metrics\n",
    "from keras.backend import cast"
   ]
  },
  {
   "cell_type": "code",
   "execution_count": null,
   "metadata": {
    "colab": {
     "base_uri": "https://localhost:8080/"
    },
    "executionInfo": {
     "elapsed": 546,
     "status": "ok",
     "timestamp": 1699001091678,
     "user": {
      "displayName": "Silver Lining",
      "userId": "05352521854002397653"
     },
     "user_tz": -480
    },
    "id": "eSo3VqrI9-HV",
    "outputId": "d737001e-6a75-4f80-e34c-64e63f2d47c0"
   },
   "outputs": [
    {
     "name": "stdout",
     "output_type": "stream",
     "text": [
      "/content/drive/MyDrive\n"
     ]
    }
   ],
   "source": [
    "%cd /content/drive/MyDrive"
   ]
  },
  {
   "cell_type": "code",
   "execution_count": null,
   "metadata": {
    "id": "fBgGeUaq-FWZ"
   },
   "outputs": [],
   "source": [
    "data1 = pd.read_csv(\"DMBA/ppp_transformed_new.csv\")"
   ]
  },
  {
   "cell_type": "code",
   "execution_count": null,
   "metadata": {
    "colab": {
     "base_uri": "https://localhost:8080/"
    },
    "executionInfo": {
     "elapsed": 496,
     "status": "ok",
     "timestamp": 1699001312430,
     "user": {
      "displayName": "Silver Lining",
      "userId": "05352521854002397653"
     },
     "user_tz": -480
    },
    "id": "fH2Ybud5-H35",
    "outputId": "f34cce72-7c00-4203-ca56-5e41acde0b66"
   },
   "outputs": [
    {
     "name": "stdout",
     "output_type": "stream",
     "text": [
      "<class 'pandas.core.frame.DataFrame'>\n",
      "RangeIndex: 961892 entries, 0 to 961891\n",
      "Columns: 152 entries, Unnamed: 0 to Industry_Wholesale trade\n",
      "dtypes: float64(7), int64(145)\n",
      "memory usage: 1.1 GB\n"
     ]
    }
   ],
   "source": [
    "data1.info()"
   ]
  },
  {
   "cell_type": "code",
   "execution_count": null,
   "metadata": {
    "colab": {
     "base_uri": "https://localhost:8080/"
    },
    "executionInfo": {
     "elapsed": 484,
     "status": "ok",
     "timestamp": 1699001315361,
     "user": {
      "displayName": "Silver Lining",
      "userId": "05352521854002397653"
     },
     "user_tz": -480
    },
    "id": "9iD1iKQAkZkQ",
    "outputId": "05673b53-6851-46ea-89bc-6f133cef9ed4"
   },
   "outputs": [
    {
     "data": {
      "text/plain": [
       "['Unnamed: 0',\n",
       " 'isAfterBiden',\n",
       " 'isDiffBorrowerAndProjectCity',\n",
       " 'HubzoneIndicator_encoded',\n",
       " 'LMIIndicator_encoded',\n",
       " 'PROCEED_Diff_standardised',\n",
       " 'isFraud',\n",
       " 'log_InitialApprovalAmount_standardised',\n",
       " 'log_CurrentApprovalAmount_standardised',\n",
       " 'log_TOTAL_PROCEED_standardised',\n",
       " 'log_PROCEED_Per_Job_standardised',\n",
       " 'log_JobsReported_standardised',\n",
       " 'payroll_over_other',\n",
       " 'BorrowerState_AK',\n",
       " 'BorrowerState_AL',\n",
       " 'BorrowerState_AR',\n",
       " 'BorrowerState_AS',\n",
       " 'BorrowerState_AZ',\n",
       " 'BorrowerState_CA',\n",
       " 'BorrowerState_CO',\n",
       " 'BorrowerState_CT',\n",
       " 'BorrowerState_DC',\n",
       " 'BorrowerState_DE',\n",
       " 'BorrowerState_FL',\n",
       " 'BorrowerState_GA',\n",
       " 'BorrowerState_GU',\n",
       " 'BorrowerState_HI',\n",
       " 'BorrowerState_IA',\n",
       " 'BorrowerState_ID',\n",
       " 'BorrowerState_IL',\n",
       " 'BorrowerState_IN',\n",
       " 'BorrowerState_KS',\n",
       " 'BorrowerState_KY',\n",
       " 'BorrowerState_LA',\n",
       " 'BorrowerState_MA',\n",
       " 'BorrowerState_MD',\n",
       " 'BorrowerState_ME',\n",
       " 'BorrowerState_MI',\n",
       " 'BorrowerState_MN',\n",
       " 'BorrowerState_MO',\n",
       " 'BorrowerState_MP',\n",
       " 'BorrowerState_MS',\n",
       " 'BorrowerState_MT',\n",
       " 'BorrowerState_NC',\n",
       " 'BorrowerState_ND',\n",
       " 'BorrowerState_NE',\n",
       " 'BorrowerState_NH',\n",
       " 'BorrowerState_NJ',\n",
       " 'BorrowerState_NM',\n",
       " 'BorrowerState_NV',\n",
       " 'BorrowerState_NY',\n",
       " 'BorrowerState_OH',\n",
       " 'BorrowerState_OK',\n",
       " 'BorrowerState_OR',\n",
       " 'BorrowerState_PA',\n",
       " 'BorrowerState_PR',\n",
       " 'BorrowerState_RI',\n",
       " 'BorrowerState_SC',\n",
       " 'BorrowerState_SD',\n",
       " 'BorrowerState_TN',\n",
       " 'BorrowerState_TX',\n",
       " 'BorrowerState_UNK',\n",
       " 'BorrowerState_UT',\n",
       " 'BorrowerState_VA',\n",
       " 'BorrowerState_VI',\n",
       " 'BorrowerState_VT',\n",
       " 'BorrowerState_WA',\n",
       " 'BorrowerState_WI',\n",
       " 'BorrowerState_WV',\n",
       " 'BorrowerState_WY',\n",
       " 'Term_cat_between_24_60',\n",
       " 'Term_cat_is_24',\n",
       " 'Term_cat_is_60',\n",
       " 'Term_cat_less_than_24',\n",
       " 'Term_cat_more_than_60',\n",
       " 'ProcessingMethod_PPP',\n",
       " 'ProcessingMethod_PPS',\n",
       " 'LoanStatus_Active Un-Disbursed',\n",
       " 'LoanStatus_Exemption 4',\n",
       " 'LoanStatus_Paid in Full',\n",
       " 'RuralUrbanIndicator_R',\n",
       " 'RuralUrbanIndicator_U',\n",
       " 'BusinessAgeDescription_Change of Ownership',\n",
       " 'BusinessAgeDescription_Existing or more than 2 years old',\n",
       " 'BusinessAgeDescription_New Business or 2 years or less',\n",
       " 'BusinessAgeDescription_Startup, Loan Funds will Open Business',\n",
       " 'BusinessAgeDescription_Unanswered',\n",
       " 'Race_American Indian or Alaska Native',\n",
       " 'Race_Asian',\n",
       " 'Race_Black or African American',\n",
       " 'Race_Eskimo & Aleut',\n",
       " 'Race_Multi Group',\n",
       " 'Race_Native Hawaiian or Other Pacific Islander',\n",
       " 'Race_Puerto Rican',\n",
       " 'Race_Unanswered',\n",
       " 'Race_White',\n",
       " 'Ethnicity_Hispanic or Latino',\n",
       " 'Ethnicity_Not Hispanic or Latino',\n",
       " 'Ethnicity_Unknown/NotStated',\n",
       " 'BusinessType_501(c) – Non Profit except 3,4,6,',\n",
       " 'BusinessType_501(c)19 – Non Profit Veterans',\n",
       " 'BusinessType_501(c)3 – Non Profit',\n",
       " 'BusinessType_501(c)6 – Non Profit Membership',\n",
       " 'BusinessType_Cooperative',\n",
       " 'BusinessType_Corporation',\n",
       " 'BusinessType_Employee Stock Ownership Plan(ESOP)',\n",
       " 'BusinessType_Housing Co-op',\n",
       " 'BusinessType_Independent Contractors',\n",
       " 'BusinessType_Joint Venture',\n",
       " 'BusinessType_Limited  Liability Company(LLC)',\n",
       " 'BusinessType_Limited Liability Partnership',\n",
       " 'BusinessType_Non-Profit Childcare Center',\n",
       " 'BusinessType_Non-Profit Organization',\n",
       " 'BusinessType_Partnership',\n",
       " 'BusinessType_Professional Association',\n",
       " 'BusinessType_Qualified Joint-Venture (spouses)',\n",
       " 'BusinessType_Rollover as Business Start-Ups (ROB',\n",
       " 'BusinessType_Self-Employed Individuals',\n",
       " 'BusinessType_Single Member LLC',\n",
       " 'BusinessType_Sole Proprietorship',\n",
       " 'BusinessType_Subchapter S Corporation',\n",
       " 'BusinessType_Tenant in Common',\n",
       " 'BusinessType_Tribal Concerns',\n",
       " 'BusinessType_Trust',\n",
       " 'BusinessType_Unknown',\n",
       " 'Gender_Female Owned',\n",
       " 'Gender_Male Owned',\n",
       " 'Gender_Unanswered',\n",
       " 'Veteran_Non-Veteran',\n",
       " 'Veteran_Unanswered',\n",
       " 'Veteran_Veteran',\n",
       " 'Industry_Accommodation and food services',\n",
       " 'Industry_Administrative and support and waste management and remediation services',\n",
       " 'Industry_Agriculture, forestry, fishing and hunting',\n",
       " 'Industry_Arts, entertainment, and recreation',\n",
       " 'Industry_Construction',\n",
       " 'Industry_Educational services',\n",
       " 'Industry_Finance and insurance',\n",
       " 'Industry_Health care and social assistance',\n",
       " 'Industry_Information',\n",
       " 'Industry_Management of companies and enterprises',\n",
       " 'Industry_Manufacturing',\n",
       " 'Industry_Mining, quarrying, and oil and gas extraction',\n",
       " 'Industry_Nonclassifiable establishment',\n",
       " 'Industry_Other services (except public administration) ',\n",
       " 'Industry_Professional, scientific, and technical services',\n",
       " 'Industry_Public service ',\n",
       " 'Industry_Real estate and rental and leasing',\n",
       " 'Industry_Retail trade',\n",
       " 'Industry_Transportation and warehousing',\n",
       " 'Industry_Utilities',\n",
       " 'Industry_Wholesale trade']"
      ]
     },
     "execution_count": 6,
     "metadata": {},
     "output_type": "execute_result"
    }
   ],
   "source": [
    "data1.columns.tolist()"
   ]
  },
  {
   "cell_type": "code",
   "execution_count": null,
   "metadata": {
    "id": "_bCB5NL38q4i"
   },
   "outputs": [],
   "source": [
    "data1.drop(columns=['Unnamed: 0'], inplace=True)"
   ]
  },
  {
   "cell_type": "code",
   "execution_count": null,
   "metadata": {
    "id": "1LHRdwvB-uhp"
   },
   "outputs": [],
   "source": [
    "new_df1 = data1"
   ]
  },
  {
   "cell_type": "code",
   "execution_count": null,
   "metadata": {
    "id": "KXUMOD8IB69P"
   },
   "outputs": [],
   "source": [
    "X = new_df1.drop(['isFraud'], axis = 'columns')\n",
    "Label_Data = new_df1['isFraud']"
   ]
  },
  {
   "cell_type": "code",
   "execution_count": null,
   "metadata": {
    "colab": {
     "base_uri": "https://localhost:8080/"
    },
    "executionInfo": {
     "elapsed": 6,
     "status": "ok",
     "timestamp": 1699003597816,
     "user": {
      "displayName": "Silver Lining",
      "userId": "05352521854002397653"
     },
     "user_tz": -480
    },
    "id": "EI7ZOU0nQAbX",
    "outputId": "d1affa03-4724-4057-b2b8-21c690fc22a5"
   },
   "outputs": [
    {
     "name": "stdout",
     "output_type": "stream",
     "text": [
      "Counter({0: 961369, 1: 523})\n"
     ]
    }
   ],
   "source": [
    "# Generate and plot imbalanced classification dataset\n",
    "from collections import Counter\n",
    "from matplotlib import pyplot\n",
    "from numpy import where\n",
    "# summarize class distribution\n",
    "counter = Counter(new_df1['isFraud'])\n",
    "print(counter)\n",
    "# scatter plot of examples by class label\n",
    "for label, _ in counter.items():\n",
    "\trow_ix = where(new_df1['isFraud'] == label)[0]"
   ]
  },
  {
   "cell_type": "code",
   "execution_count": null,
   "metadata": {
    "colab": {
     "base_uri": "https://localhost:8080/"
    },
    "executionInfo": {
     "elapsed": 7,
     "status": "ok",
     "timestamp": 1699003601711,
     "user": {
      "displayName": "Silver Lining",
      "userId": "05352521854002397653"
     },
     "user_tz": -480
    },
    "id": "EvlPOelQynkE",
    "outputId": "cb04bfc2-0c92-4c44-8030-6f93746c0df2"
   },
   "outputs": [
    {
     "data": {
      "text/plain": [
       "['isAfterBiden',\n",
       " 'isDiffBorrowerAndProjectCity',\n",
       " 'HubzoneIndicator_encoded',\n",
       " 'LMIIndicator_encoded',\n",
       " 'PROCEED_Diff_standardised',\n",
       " 'log_InitialApprovalAmount_standardised',\n",
       " 'log_CurrentApprovalAmount_standardised',\n",
       " 'log_TOTAL_PROCEED_standardised',\n",
       " 'log_PROCEED_Per_Job_standardised',\n",
       " 'log_JobsReported_standardised',\n",
       " 'payroll_over_other',\n",
       " 'BorrowerState_AK',\n",
       " 'BorrowerState_AL',\n",
       " 'BorrowerState_AR',\n",
       " 'BorrowerState_AS',\n",
       " 'BorrowerState_AZ',\n",
       " 'BorrowerState_CA',\n",
       " 'BorrowerState_CO',\n",
       " 'BorrowerState_CT',\n",
       " 'BorrowerState_DC',\n",
       " 'BorrowerState_DE',\n",
       " 'BorrowerState_FL',\n",
       " 'BorrowerState_GA',\n",
       " 'BorrowerState_GU',\n",
       " 'BorrowerState_HI',\n",
       " 'BorrowerState_IA',\n",
       " 'BorrowerState_ID',\n",
       " 'BorrowerState_IL',\n",
       " 'BorrowerState_IN',\n",
       " 'BorrowerState_KS',\n",
       " 'BorrowerState_KY',\n",
       " 'BorrowerState_LA',\n",
       " 'BorrowerState_MA',\n",
       " 'BorrowerState_MD',\n",
       " 'BorrowerState_ME',\n",
       " 'BorrowerState_MI',\n",
       " 'BorrowerState_MN',\n",
       " 'BorrowerState_MO',\n",
       " 'BorrowerState_MP',\n",
       " 'BorrowerState_MS',\n",
       " 'BorrowerState_MT',\n",
       " 'BorrowerState_NC',\n",
       " 'BorrowerState_ND',\n",
       " 'BorrowerState_NE',\n",
       " 'BorrowerState_NH',\n",
       " 'BorrowerState_NJ',\n",
       " 'BorrowerState_NM',\n",
       " 'BorrowerState_NV',\n",
       " 'BorrowerState_NY',\n",
       " 'BorrowerState_OH',\n",
       " 'BorrowerState_OK',\n",
       " 'BorrowerState_OR',\n",
       " 'BorrowerState_PA',\n",
       " 'BorrowerState_PR',\n",
       " 'BorrowerState_RI',\n",
       " 'BorrowerState_SC',\n",
       " 'BorrowerState_SD',\n",
       " 'BorrowerState_TN',\n",
       " 'BorrowerState_TX',\n",
       " 'BorrowerState_UNK',\n",
       " 'BorrowerState_UT',\n",
       " 'BorrowerState_VA',\n",
       " 'BorrowerState_VI',\n",
       " 'BorrowerState_VT',\n",
       " 'BorrowerState_WA',\n",
       " 'BorrowerState_WI',\n",
       " 'BorrowerState_WV',\n",
       " 'BorrowerState_WY',\n",
       " 'Term_cat_between_24_60',\n",
       " 'Term_cat_is_24',\n",
       " 'Term_cat_is_60',\n",
       " 'Term_cat_less_than_24',\n",
       " 'Term_cat_more_than_60',\n",
       " 'ProcessingMethod_PPP',\n",
       " 'ProcessingMethod_PPS',\n",
       " 'LoanStatus_Active Un-Disbursed',\n",
       " 'LoanStatus_Exemption 4',\n",
       " 'LoanStatus_Paid in Full',\n",
       " 'RuralUrbanIndicator_R',\n",
       " 'RuralUrbanIndicator_U',\n",
       " 'BusinessAgeDescription_Change of Ownership',\n",
       " 'BusinessAgeDescription_Existing or more than 2 years old',\n",
       " 'BusinessAgeDescription_New Business or 2 years or less',\n",
       " 'BusinessAgeDescription_Startup, Loan Funds will Open Business',\n",
       " 'BusinessAgeDescription_Unanswered',\n",
       " 'Race_American Indian or Alaska Native',\n",
       " 'Race_Asian',\n",
       " 'Race_Black or African American',\n",
       " 'Race_Eskimo & Aleut',\n",
       " 'Race_Multi Group',\n",
       " 'Race_Native Hawaiian or Other Pacific Islander',\n",
       " 'Race_Puerto Rican',\n",
       " 'Race_Unanswered',\n",
       " 'Race_White',\n",
       " 'Ethnicity_Hispanic or Latino',\n",
       " 'Ethnicity_Not Hispanic or Latino',\n",
       " 'Ethnicity_Unknown/NotStated',\n",
       " 'BusinessType_501(c) – Non Profit except 3,4,6,',\n",
       " 'BusinessType_501(c)19 – Non Profit Veterans',\n",
       " 'BusinessType_501(c)3 – Non Profit',\n",
       " 'BusinessType_501(c)6 – Non Profit Membership',\n",
       " 'BusinessType_Cooperative',\n",
       " 'BusinessType_Corporation',\n",
       " 'BusinessType_Employee Stock Ownership Plan(ESOP)',\n",
       " 'BusinessType_Housing Co-op',\n",
       " 'BusinessType_Independent Contractors',\n",
       " 'BusinessType_Joint Venture',\n",
       " 'BusinessType_Limited  Liability Company(LLC)',\n",
       " 'BusinessType_Limited Liability Partnership',\n",
       " 'BusinessType_Non-Profit Childcare Center',\n",
       " 'BusinessType_Non-Profit Organization',\n",
       " 'BusinessType_Partnership',\n",
       " 'BusinessType_Professional Association',\n",
       " 'BusinessType_Qualified Joint-Venture (spouses)',\n",
       " 'BusinessType_Rollover as Business Start-Ups (ROB',\n",
       " 'BusinessType_Self-Employed Individuals',\n",
       " 'BusinessType_Single Member LLC',\n",
       " 'BusinessType_Sole Proprietorship',\n",
       " 'BusinessType_Subchapter S Corporation',\n",
       " 'BusinessType_Tenant in Common',\n",
       " 'BusinessType_Tribal Concerns',\n",
       " 'BusinessType_Trust',\n",
       " 'BusinessType_Unknown',\n",
       " 'Gender_Female Owned',\n",
       " 'Gender_Male Owned',\n",
       " 'Gender_Unanswered',\n",
       " 'Veteran_Non-Veteran',\n",
       " 'Veteran_Unanswered',\n",
       " 'Veteran_Veteran',\n",
       " 'Industry_Accommodation and food services',\n",
       " 'Industry_Administrative and support and waste management and remediation services',\n",
       " 'Industry_Agriculture, forestry, fishing and hunting',\n",
       " 'Industry_Arts, entertainment, and recreation',\n",
       " 'Industry_Construction',\n",
       " 'Industry_Educational services',\n",
       " 'Industry_Finance and insurance',\n",
       " 'Industry_Health care and social assistance',\n",
       " 'Industry_Information',\n",
       " 'Industry_Management of companies and enterprises',\n",
       " 'Industry_Manufacturing',\n",
       " 'Industry_Mining, quarrying, and oil and gas extraction',\n",
       " 'Industry_Nonclassifiable establishment',\n",
       " 'Industry_Other services (except public administration) ',\n",
       " 'Industry_Professional, scientific, and technical services',\n",
       " 'Industry_Public service ',\n",
       " 'Industry_Real estate and rental and leasing',\n",
       " 'Industry_Retail trade',\n",
       " 'Industry_Transportation and warehousing',\n",
       " 'Industry_Utilities',\n",
       " 'Industry_Wholesale trade']"
      ]
     },
     "execution_count": 11,
     "metadata": {},
     "output_type": "execute_result"
    }
   ],
   "source": [
    "X.columns.tolist()"
   ]
  },
  {
   "cell_type": "code",
   "execution_count": null,
   "metadata": {
    "colab": {
     "base_uri": "https://localhost:8080/",
     "height": 308
    },
    "executionInfo": {
     "elapsed": 729,
     "status": "ok",
     "timestamp": 1699003608970,
     "user": {
      "displayName": "Silver Lining",
      "userId": "05352521854002397653"
     },
     "user_tz": -480
    },
    "id": "yK-JTxDWQAzm",
    "outputId": "91b5c6a2-1949-4061-cf01-fc7832b05ba3"
   },
   "outputs": [
    {
     "data": {
      "text/html": [
       "\n",
       "  <div id=\"df-f57d5b1b-67f7-4b4d-b579-0e0202cf6a53\" class=\"colab-df-container\">\n",
       "    <div>\n",
       "<style scoped>\n",
       "    .dataframe tbody tr th:only-of-type {\n",
       "        vertical-align: middle;\n",
       "    }\n",
       "\n",
       "    .dataframe tbody tr th {\n",
       "        vertical-align: top;\n",
       "    }\n",
       "\n",
       "    .dataframe thead th {\n",
       "        text-align: right;\n",
       "    }\n",
       "</style>\n",
       "<table border=\"1\" class=\"dataframe\">\n",
       "  <thead>\n",
       "    <tr style=\"text-align: right;\">\n",
       "      <th></th>\n",
       "      <th>isAfterBiden</th>\n",
       "      <th>isDiffBorrowerAndProjectCity</th>\n",
       "      <th>HubzoneIndicator_encoded</th>\n",
       "      <th>LMIIndicator_encoded</th>\n",
       "      <th>PROCEED_Diff_standardised</th>\n",
       "      <th>log_InitialApprovalAmount_standardised</th>\n",
       "      <th>log_CurrentApprovalAmount_standardised</th>\n",
       "      <th>log_TOTAL_PROCEED_standardised</th>\n",
       "      <th>log_PROCEED_Per_Job_standardised</th>\n",
       "      <th>log_JobsReported_standardised</th>\n",
       "      <th>...</th>\n",
       "      <th>Industry_Mining, quarrying, and oil and gas extraction</th>\n",
       "      <th>Industry_Nonclassifiable establishment</th>\n",
       "      <th>Industry_Other services (except public administration)</th>\n",
       "      <th>Industry_Professional, scientific, and technical services</th>\n",
       "      <th>Industry_Public service</th>\n",
       "      <th>Industry_Real estate and rental and leasing</th>\n",
       "      <th>Industry_Retail trade</th>\n",
       "      <th>Industry_Transportation and warehousing</th>\n",
       "      <th>Industry_Utilities</th>\n",
       "      <th>Industry_Wholesale trade</th>\n",
       "    </tr>\n",
       "  </thead>\n",
       "  <tbody>\n",
       "    <tr>\n",
       "      <th>0</th>\n",
       "      <td>0</td>\n",
       "      <td>0</td>\n",
       "      <td>0</td>\n",
       "      <td>0</td>\n",
       "      <td>-0.004199</td>\n",
       "      <td>0.985015</td>\n",
       "      <td>0.995606</td>\n",
       "      <td>0.995611</td>\n",
       "      <td>0.255028</td>\n",
       "      <td>0.715986</td>\n",
       "      <td>...</td>\n",
       "      <td>0</td>\n",
       "      <td>0</td>\n",
       "      <td>0</td>\n",
       "      <td>0</td>\n",
       "      <td>0</td>\n",
       "      <td>0</td>\n",
       "      <td>0</td>\n",
       "      <td>0</td>\n",
       "      <td>0</td>\n",
       "      <td>0</td>\n",
       "    </tr>\n",
       "    <tr>\n",
       "      <th>1</th>\n",
       "      <td>0</td>\n",
       "      <td>0</td>\n",
       "      <td>1</td>\n",
       "      <td>1</td>\n",
       "      <td>-0.004199</td>\n",
       "      <td>0.928765</td>\n",
       "      <td>0.938581</td>\n",
       "      <td>0.938587</td>\n",
       "      <td>-0.036805</td>\n",
       "      <td>0.904422</td>\n",
       "      <td>...</td>\n",
       "      <td>0</td>\n",
       "      <td>0</td>\n",
       "      <td>0</td>\n",
       "      <td>0</td>\n",
       "      <td>0</td>\n",
       "      <td>0</td>\n",
       "      <td>0</td>\n",
       "      <td>0</td>\n",
       "      <td>0</td>\n",
       "      <td>0</td>\n",
       "    </tr>\n",
       "    <tr>\n",
       "      <th>2</th>\n",
       "      <td>0</td>\n",
       "      <td>0</td>\n",
       "      <td>0</td>\n",
       "      <td>0</td>\n",
       "      <td>-0.004199</td>\n",
       "      <td>0.421815</td>\n",
       "      <td>0.424650</td>\n",
       "      <td>0.424659</td>\n",
       "      <td>1.176095</td>\n",
       "      <td>-0.533077</td>\n",
       "      <td>...</td>\n",
       "      <td>0</td>\n",
       "      <td>0</td>\n",
       "      <td>0</td>\n",
       "      <td>0</td>\n",
       "      <td>0</td>\n",
       "      <td>0</td>\n",
       "      <td>0</td>\n",
       "      <td>0</td>\n",
       "      <td>0</td>\n",
       "      <td>0</td>\n",
       "    </tr>\n",
       "    <tr>\n",
       "      <th>3</th>\n",
       "      <td>0</td>\n",
       "      <td>0</td>\n",
       "      <td>0</td>\n",
       "      <td>0</td>\n",
       "      <td>-0.004199</td>\n",
       "      <td>0.019799</td>\n",
       "      <td>0.017099</td>\n",
       "      <td>0.017109</td>\n",
       "      <td>0.494347</td>\n",
       "      <td>-0.331917</td>\n",
       "      <td>...</td>\n",
       "      <td>0</td>\n",
       "      <td>0</td>\n",
       "      <td>0</td>\n",
       "      <td>0</td>\n",
       "      <td>0</td>\n",
       "      <td>0</td>\n",
       "      <td>0</td>\n",
       "      <td>1</td>\n",
       "      <td>0</td>\n",
       "      <td>0</td>\n",
       "    </tr>\n",
       "    <tr>\n",
       "      <th>4</th>\n",
       "      <td>0</td>\n",
       "      <td>0</td>\n",
       "      <td>0</td>\n",
       "      <td>0</td>\n",
       "      <td>-0.004199</td>\n",
       "      <td>-0.125152</td>\n",
       "      <td>-0.129848</td>\n",
       "      <td>-0.129838</td>\n",
       "      <td>0.518176</td>\n",
       "      <td>-0.479404</td>\n",
       "      <td>...</td>\n",
       "      <td>0</td>\n",
       "      <td>0</td>\n",
       "      <td>0</td>\n",
       "      <td>0</td>\n",
       "      <td>0</td>\n",
       "      <td>0</td>\n",
       "      <td>0</td>\n",
       "      <td>0</td>\n",
       "      <td>0</td>\n",
       "      <td>0</td>\n",
       "    </tr>\n",
       "  </tbody>\n",
       "</table>\n",
       "<p>5 rows × 150 columns</p>\n",
       "</div>\n",
       "    <div class=\"colab-df-buttons\">\n",
       "\n",
       "  <div class=\"colab-df-container\">\n",
       "    <button class=\"colab-df-convert\" onclick=\"convertToInteractive('df-f57d5b1b-67f7-4b4d-b579-0e0202cf6a53')\"\n",
       "            title=\"Convert this dataframe to an interactive table.\"\n",
       "            style=\"display:none;\">\n",
       "\n",
       "  <svg xmlns=\"http://www.w3.org/2000/svg\" height=\"24px\" viewBox=\"0 -960 960 960\">\n",
       "    <path d=\"M120-120v-720h720v720H120Zm60-500h600v-160H180v160Zm220 220h160v-160H400v160Zm0 220h160v-160H400v160ZM180-400h160v-160H180v160Zm440 0h160v-160H620v160ZM180-180h160v-160H180v160Zm440 0h160v-160H620v160Z\"/>\n",
       "  </svg>\n",
       "    </button>\n",
       "\n",
       "  <style>\n",
       "    .colab-df-container {\n",
       "      display:flex;\n",
       "      gap: 12px;\n",
       "    }\n",
       "\n",
       "    .colab-df-convert {\n",
       "      background-color: #E8F0FE;\n",
       "      border: none;\n",
       "      border-radius: 50%;\n",
       "      cursor: pointer;\n",
       "      display: none;\n",
       "      fill: #1967D2;\n",
       "      height: 32px;\n",
       "      padding: 0 0 0 0;\n",
       "      width: 32px;\n",
       "    }\n",
       "\n",
       "    .colab-df-convert:hover {\n",
       "      background-color: #E2EBFA;\n",
       "      box-shadow: 0px 1px 2px rgba(60, 64, 67, 0.3), 0px 1px 3px 1px rgba(60, 64, 67, 0.15);\n",
       "      fill: #174EA6;\n",
       "    }\n",
       "\n",
       "    .colab-df-buttons div {\n",
       "      margin-bottom: 4px;\n",
       "    }\n",
       "\n",
       "    [theme=dark] .colab-df-convert {\n",
       "      background-color: #3B4455;\n",
       "      fill: #D2E3FC;\n",
       "    }\n",
       "\n",
       "    [theme=dark] .colab-df-convert:hover {\n",
       "      background-color: #434B5C;\n",
       "      box-shadow: 0px 1px 3px 1px rgba(0, 0, 0, 0.15);\n",
       "      filter: drop-shadow(0px 1px 2px rgba(0, 0, 0, 0.3));\n",
       "      fill: #FFFFFF;\n",
       "    }\n",
       "  </style>\n",
       "\n",
       "    <script>\n",
       "      const buttonEl =\n",
       "        document.querySelector('#df-f57d5b1b-67f7-4b4d-b579-0e0202cf6a53 button.colab-df-convert');\n",
       "      buttonEl.style.display =\n",
       "        google.colab.kernel.accessAllowed ? 'block' : 'none';\n",
       "\n",
       "      async function convertToInteractive(key) {\n",
       "        const element = document.querySelector('#df-f57d5b1b-67f7-4b4d-b579-0e0202cf6a53');\n",
       "        const dataTable =\n",
       "          await google.colab.kernel.invokeFunction('convertToInteractive',\n",
       "                                                    [key], {});\n",
       "        if (!dataTable) return;\n",
       "\n",
       "        const docLinkHtml = 'Like what you see? Visit the ' +\n",
       "          '<a target=\"_blank\" href=https://colab.research.google.com/notebooks/data_table.ipynb>data table notebook</a>'\n",
       "          + ' to learn more about interactive tables.';\n",
       "        element.innerHTML = '';\n",
       "        dataTable['output_type'] = 'display_data';\n",
       "        await google.colab.output.renderOutput(dataTable, element);\n",
       "        const docLink = document.createElement('div');\n",
       "        docLink.innerHTML = docLinkHtml;\n",
       "        element.appendChild(docLink);\n",
       "      }\n",
       "    </script>\n",
       "  </div>\n",
       "\n",
       "\n",
       "<div id=\"df-86c1b9f0-6948-4744-ba58-c2c4dd178d99\">\n",
       "  <button class=\"colab-df-quickchart\" onclick=\"quickchart('df-86c1b9f0-6948-4744-ba58-c2c4dd178d99')\"\n",
       "            title=\"Suggest charts.\"\n",
       "            style=\"display:none;\">\n",
       "\n",
       "<svg xmlns=\"http://www.w3.org/2000/svg\" height=\"24px\"viewBox=\"0 0 24 24\"\n",
       "     width=\"24px\">\n",
       "    <g>\n",
       "        <path d=\"M19 3H5c-1.1 0-2 .9-2 2v14c0 1.1.9 2 2 2h14c1.1 0 2-.9 2-2V5c0-1.1-.9-2-2-2zM9 17H7v-7h2v7zm4 0h-2V7h2v10zm4 0h-2v-4h2v4z\"/>\n",
       "    </g>\n",
       "</svg>\n",
       "  </button>\n",
       "\n",
       "<style>\n",
       "  .colab-df-quickchart {\n",
       "      --bg-color: #E8F0FE;\n",
       "      --fill-color: #1967D2;\n",
       "      --hover-bg-color: #E2EBFA;\n",
       "      --hover-fill-color: #174EA6;\n",
       "      --disabled-fill-color: #AAA;\n",
       "      --disabled-bg-color: #DDD;\n",
       "  }\n",
       "\n",
       "  [theme=dark] .colab-df-quickchart {\n",
       "      --bg-color: #3B4455;\n",
       "      --fill-color: #D2E3FC;\n",
       "      --hover-bg-color: #434B5C;\n",
       "      --hover-fill-color: #FFFFFF;\n",
       "      --disabled-bg-color: #3B4455;\n",
       "      --disabled-fill-color: #666;\n",
       "  }\n",
       "\n",
       "  .colab-df-quickchart {\n",
       "    background-color: var(--bg-color);\n",
       "    border: none;\n",
       "    border-radius: 50%;\n",
       "    cursor: pointer;\n",
       "    display: none;\n",
       "    fill: var(--fill-color);\n",
       "    height: 32px;\n",
       "    padding: 0;\n",
       "    width: 32px;\n",
       "  }\n",
       "\n",
       "  .colab-df-quickchart:hover {\n",
       "    background-color: var(--hover-bg-color);\n",
       "    box-shadow: 0 1px 2px rgba(60, 64, 67, 0.3), 0 1px 3px 1px rgba(60, 64, 67, 0.15);\n",
       "    fill: var(--button-hover-fill-color);\n",
       "  }\n",
       "\n",
       "  .colab-df-quickchart-complete:disabled,\n",
       "  .colab-df-quickchart-complete:disabled:hover {\n",
       "    background-color: var(--disabled-bg-color);\n",
       "    fill: var(--disabled-fill-color);\n",
       "    box-shadow: none;\n",
       "  }\n",
       "\n",
       "  .colab-df-spinner {\n",
       "    border: 2px solid var(--fill-color);\n",
       "    border-color: transparent;\n",
       "    border-bottom-color: var(--fill-color);\n",
       "    animation:\n",
       "      spin 1s steps(1) infinite;\n",
       "  }\n",
       "\n",
       "  @keyframes spin {\n",
       "    0% {\n",
       "      border-color: transparent;\n",
       "      border-bottom-color: var(--fill-color);\n",
       "      border-left-color: var(--fill-color);\n",
       "    }\n",
       "    20% {\n",
       "      border-color: transparent;\n",
       "      border-left-color: var(--fill-color);\n",
       "      border-top-color: var(--fill-color);\n",
       "    }\n",
       "    30% {\n",
       "      border-color: transparent;\n",
       "      border-left-color: var(--fill-color);\n",
       "      border-top-color: var(--fill-color);\n",
       "      border-right-color: var(--fill-color);\n",
       "    }\n",
       "    40% {\n",
       "      border-color: transparent;\n",
       "      border-right-color: var(--fill-color);\n",
       "      border-top-color: var(--fill-color);\n",
       "    }\n",
       "    60% {\n",
       "      border-color: transparent;\n",
       "      border-right-color: var(--fill-color);\n",
       "    }\n",
       "    80% {\n",
       "      border-color: transparent;\n",
       "      border-right-color: var(--fill-color);\n",
       "      border-bottom-color: var(--fill-color);\n",
       "    }\n",
       "    90% {\n",
       "      border-color: transparent;\n",
       "      border-bottom-color: var(--fill-color);\n",
       "    }\n",
       "  }\n",
       "</style>\n",
       "\n",
       "  <script>\n",
       "    async function quickchart(key) {\n",
       "      const quickchartButtonEl =\n",
       "        document.querySelector('#' + key + ' button');\n",
       "      quickchartButtonEl.disabled = true;  // To prevent multiple clicks.\n",
       "      quickchartButtonEl.classList.add('colab-df-spinner');\n",
       "      try {\n",
       "        const charts = await google.colab.kernel.invokeFunction(\n",
       "            'suggestCharts', [key], {});\n",
       "      } catch (error) {\n",
       "        console.error('Error during call to suggestCharts:', error);\n",
       "      }\n",
       "      quickchartButtonEl.classList.remove('colab-df-spinner');\n",
       "      quickchartButtonEl.classList.add('colab-df-quickchart-complete');\n",
       "    }\n",
       "    (() => {\n",
       "      let quickchartButtonEl =\n",
       "        document.querySelector('#df-86c1b9f0-6948-4744-ba58-c2c4dd178d99 button');\n",
       "      quickchartButtonEl.style.display =\n",
       "        google.colab.kernel.accessAllowed ? 'block' : 'none';\n",
       "    })();\n",
       "  </script>\n",
       "</div>\n",
       "    </div>\n",
       "  </div>\n"
      ],
      "text/plain": [
       "   isAfterBiden  isDiffBorrowerAndProjectCity  HubzoneIndicator_encoded  \\\n",
       "0             0                             0                         0   \n",
       "1             0                             0                         1   \n",
       "2             0                             0                         0   \n",
       "3             0                             0                         0   \n",
       "4             0                             0                         0   \n",
       "\n",
       "   LMIIndicator_encoded  PROCEED_Diff_standardised  \\\n",
       "0                     0                  -0.004199   \n",
       "1                     1                  -0.004199   \n",
       "2                     0                  -0.004199   \n",
       "3                     0                  -0.004199   \n",
       "4                     0                  -0.004199   \n",
       "\n",
       "   log_InitialApprovalAmount_standardised  \\\n",
       "0                                0.985015   \n",
       "1                                0.928765   \n",
       "2                                0.421815   \n",
       "3                                0.019799   \n",
       "4                               -0.125152   \n",
       "\n",
       "   log_CurrentApprovalAmount_standardised  log_TOTAL_PROCEED_standardised  \\\n",
       "0                                0.995606                        0.995611   \n",
       "1                                0.938581                        0.938587   \n",
       "2                                0.424650                        0.424659   \n",
       "3                                0.017099                        0.017109   \n",
       "4                               -0.129848                       -0.129838   \n",
       "\n",
       "   log_PROCEED_Per_Job_standardised  log_JobsReported_standardised  ...  \\\n",
       "0                          0.255028                       0.715986  ...   \n",
       "1                         -0.036805                       0.904422  ...   \n",
       "2                          1.176095                      -0.533077  ...   \n",
       "3                          0.494347                      -0.331917  ...   \n",
       "4                          0.518176                      -0.479404  ...   \n",
       "\n",
       "   Industry_Mining, quarrying, and oil and gas extraction  \\\n",
       "0                                                  0        \n",
       "1                                                  0        \n",
       "2                                                  0        \n",
       "3                                                  0        \n",
       "4                                                  0        \n",
       "\n",
       "   Industry_Nonclassifiable establishment  \\\n",
       "0                                       0   \n",
       "1                                       0   \n",
       "2                                       0   \n",
       "3                                       0   \n",
       "4                                       0   \n",
       "\n",
       "   Industry_Other services (except public administration)   \\\n",
       "0                                                  0         \n",
       "1                                                  0         \n",
       "2                                                  0         \n",
       "3                                                  0         \n",
       "4                                                  0         \n",
       "\n",
       "   Industry_Professional, scientific, and technical services  \\\n",
       "0                                                  0           \n",
       "1                                                  0           \n",
       "2                                                  0           \n",
       "3                                                  0           \n",
       "4                                                  0           \n",
       "\n",
       "   Industry_Public service   Industry_Real estate and rental and leasing  \\\n",
       "0                         0                                            0   \n",
       "1                         0                                            0   \n",
       "2                         0                                            0   \n",
       "3                         0                                            0   \n",
       "4                         0                                            0   \n",
       "\n",
       "   Industry_Retail trade  Industry_Transportation and warehousing  \\\n",
       "0                      0                                        0   \n",
       "1                      0                                        0   \n",
       "2                      0                                        0   \n",
       "3                      0                                        1   \n",
       "4                      0                                        0   \n",
       "\n",
       "   Industry_Utilities  Industry_Wholesale trade  \n",
       "0                   0                         0  \n",
       "1                   0                         0  \n",
       "2                   0                         0  \n",
       "3                   0                         0  \n",
       "4                   0                         0  \n",
       "\n",
       "[5 rows x 150 columns]"
      ]
     },
     "execution_count": 12,
     "metadata": {},
     "output_type": "execute_result"
    }
   ],
   "source": [
    "X.head()"
   ]
  },
  {
   "cell_type": "code",
   "execution_count": null,
   "metadata": {
    "id": "befcq7_1y65K"
   },
   "outputs": [],
   "source": [
    "y = Label_Data"
   ]
  },
  {
   "cell_type": "code",
   "execution_count": null,
   "metadata": {
    "colab": {
     "base_uri": "https://localhost:8080/"
    },
    "executionInfo": {
     "elapsed": 5,
     "status": "ok",
     "timestamp": 1699003613969,
     "user": {
      "displayName": "Silver Lining",
      "userId": "05352521854002397653"
     },
     "user_tz": -480
    },
    "id": "7-eJ4RbpXmKz",
    "outputId": "bcda167b-c627-4462-f2d8-db76634c26a2"
   },
   "outputs": [
    {
     "data": {
      "text/plain": [
       "0    961369\n",
       "1       523\n",
       "Name: isFraud, dtype: int64"
      ]
     },
     "execution_count": 14,
     "metadata": {},
     "output_type": "execute_result"
    }
   ],
   "source": [
    "y.value_counts()"
   ]
  },
  {
   "cell_type": "code",
   "execution_count": null,
   "metadata": {
    "colab": {
     "base_uri": "https://localhost:8080/"
    },
    "executionInfo": {
     "elapsed": 6,
     "status": "ok",
     "timestamp": 1699003616455,
     "user": {
      "displayName": "Silver Lining",
      "userId": "05352521854002397653"
     },
     "user_tz": -480
    },
    "id": "QrwQ4Vo2YP1q",
    "outputId": "83d841ad-e4a9-4751-aa0d-db8c3a0b1d48"
   },
   "outputs": [
    {
     "data": {
      "text/plain": [
       "array([0, 1])"
      ]
     },
     "execution_count": 15,
     "metadata": {},
     "output_type": "execute_result"
    }
   ],
   "source": [
    "np.unique(y)"
   ]
  },
  {
   "cell_type": "code",
   "execution_count": null,
   "metadata": {
    "colab": {
     "base_uri": "https://localhost:8080/"
    },
    "executionInfo": {
     "elapsed": 6,
     "status": "ok",
     "timestamp": 1699003618248,
     "user": {
      "displayName": "Silver Lining",
      "userId": "05352521854002397653"
     },
     "user_tz": -480
    },
    "id": "-ksKz9KCYUWG",
    "outputId": "3a6627cd-b719-4cbc-885c-d57e87023c89"
   },
   "outputs": [
    {
     "data": {
      "text/plain": [
       "pandas.core.series.Series"
      ]
     },
     "execution_count": 16,
     "metadata": {},
     "output_type": "execute_result"
    }
   ],
   "source": [
    "type(y)"
   ]
  },
  {
   "cell_type": "code",
   "execution_count": null,
   "metadata": {
    "id": "uhnxSo5tYfBQ"
   },
   "outputs": [],
   "source": [
    "y_arr = pd.Series.to_numpy(y)"
   ]
  },
  {
   "cell_type": "code",
   "execution_count": null,
   "metadata": {
    "colab": {
     "base_uri": "https://localhost:8080/"
    },
    "executionInfo": {
     "elapsed": 7,
     "status": "ok",
     "timestamp": 1699003622476,
     "user": {
      "displayName": "Silver Lining",
      "userId": "05352521854002397653"
     },
     "user_tz": -480
    },
    "id": "acSVgWbZYqxY",
    "outputId": "6f7d2532-ec91-42eb-8025-3a3b1e74d64d"
   },
   "outputs": [
    {
     "data": {
      "text/plain": [
       "0         1\n",
       "1         1\n",
       "2         1\n",
       "3         1\n",
       "4         1\n",
       "         ..\n",
       "961887    0\n",
       "961888    0\n",
       "961889    0\n",
       "961890    0\n",
       "961891    0\n",
       "Name: isFraud, Length: 961892, dtype: int64"
      ]
     },
     "execution_count": 18,
     "metadata": {},
     "output_type": "execute_result"
    }
   ],
   "source": [
    "y"
   ]
  },
  {
   "cell_type": "code",
   "execution_count": null,
   "metadata": {
    "colab": {
     "base_uri": "https://localhost:8080/"
    },
    "executionInfo": {
     "elapsed": 497,
     "status": "ok",
     "timestamp": 1699003624903,
     "user": {
      "displayName": "Silver Lining",
      "userId": "05352521854002397653"
     },
     "user_tz": -480
    },
    "id": "iVnLMaUVYnBX",
    "outputId": "e38d418c-1b36-478d-eb3a-dc587ae7845a"
   },
   "outputs": [
    {
     "data": {
      "text/plain": [
       "array([1, 1, 1, ..., 0, 0, 0])"
      ]
     },
     "execution_count": 19,
     "metadata": {},
     "output_type": "execute_result"
    }
   ],
   "source": [
    "y_arr"
   ]
  },
  {
   "cell_type": "code",
   "execution_count": null,
   "metadata": {
    "id": "ChaHCLSdXnwh"
   },
   "outputs": [],
   "source": [
    "# weight_array = compute_class_weight('balanced', np.unique(y), y_arr)  # y is the array containing your labels\n",
    "weight_array = compute_class_weight(class_weight='balanced', classes= np.unique(y), y= y_arr)\n",
    "weight_dict = dict(zip(np.unique(y), weight_array))  # dictionary containing your weights"
   ]
  },
  {
   "cell_type": "code",
   "execution_count": null,
   "metadata": {
    "colab": {
     "base_uri": "https://localhost:8080/"
    },
    "executionInfo": {
     "elapsed": 13,
     "status": "ok",
     "timestamp": 1699003628234,
     "user": {
      "displayName": "Silver Lining",
      "userId": "05352521854002397653"
     },
     "user_tz": -480
    },
    "id": "LFIpkiB7Za35",
    "outputId": "0583eee0-baff-4402-aa04-27aed1021059"
   },
   "outputs": [
    {
     "data": {
      "text/plain": [
       "array([5.00272008e-01, 9.19590822e+02])"
      ]
     },
     "execution_count": 21,
     "metadata": {},
     "output_type": "execute_result"
    }
   ],
   "source": [
    "weight_array"
   ]
  },
  {
   "cell_type": "code",
   "execution_count": null,
   "metadata": {
    "colab": {
     "base_uri": "https://localhost:8080/"
    },
    "executionInfo": {
     "elapsed": 2346,
     "status": "ok",
     "timestamp": 1699003774279,
     "user": {
      "displayName": "Silver Lining",
      "userId": "05352521854002397653"
     },
     "user_tz": -480
    },
    "id": "TeHwbc9Vm9ju",
    "outputId": "4743df27-0820-40b2-c23f-00a28b9f4838"
   },
   "outputs": [
    {
     "name": "stdout",
     "output_type": "stream",
     "text": [
      "0    576821\n",
      "1       314\n",
      "Name: isFraud, dtype: int64\n",
      "0    384548\n",
      "1       209\n",
      "Name: isFraud, dtype: int64\n",
      "0    192274\n",
      "1       104\n",
      "Name: isFraud, dtype: int64\n",
      "0    192274\n",
      "1       105\n",
      "Name: isFraud, dtype: int64\n"
     ]
    }
   ],
   "source": [
    "X_train, X_test, y_train, y_test = train_test_split(X, y, test_size=0.4, stratify=y)\n",
    "print(y_train.value_counts())\n",
    "print(y_test.value_counts())\n",
    "X_val, X_test, y_val, y_test = train_test_split(X_test, y_test, test_size=0.5, stratify=y_test)\n",
    "print(y_val.value_counts())\n",
    "print(y_test.value_counts())\n"
   ]
  },
  {
   "cell_type": "code",
   "execution_count": null,
   "metadata": {
    "id": "r9sBlO0QXd54"
   },
   "outputs": [],
   "source": [
    "from sklearn.preprocessing import StandardScaler\n",
    "## Standardizing the data\n",
    "std_scale = StandardScaler()\n",
    "X_train_trans = std_scale.fit_transform(X_train)\n",
    "X_test_trans = std_scale.transform(X_test)\n",
    "X_val_trans = std_scale.transform(X_val)"
   ]
  },
  {
   "cell_type": "code",
   "execution_count": null,
   "metadata": {
    "colab": {
     "base_uri": "https://localhost:8080/"
    },
    "executionInfo": {
     "elapsed": 2364,
     "status": "ok",
     "timestamp": 1699003786596,
     "user": {
      "displayName": "Silver Lining",
      "userId": "05352521854002397653"
     },
     "user_tz": -480
    },
    "id": "ULq_BwcaS5l0",
    "outputId": "61654fdc-dfd5-49ab-c21b-a176ba17a55d"
   },
   "outputs": [
    {
     "name": "stdout",
     "output_type": "stream",
     "text": [
      "Counter({0: 576821, 1: 576821})\n"
     ]
    }
   ],
   "source": [
    "# transform the dataset\n",
    "from imblearn.over_sampling import SMOTE\n",
    "oversample = SMOTE()\n",
    "X_oversampled, Y_oversampled = oversample.fit_resample(X_train_trans, y_train)\n",
    "# summarize the new class distribution\n",
    "counter = Counter(Y_oversampled)\n",
    "print(counter)\n",
    "# scatter plot of examples by class label\n",
    "for label, _ in counter.items():\n",
    "\trow_ix = where(Y_oversampled == label)[0]"
   ]
  },
  {
   "cell_type": "code",
   "execution_count": null,
   "metadata": {
    "colab": {
     "base_uri": "https://localhost:8080/"
    },
    "executionInfo": {
     "elapsed": 10,
     "status": "ok",
     "timestamp": 1699003788637,
     "user": {
      "displayName": "Silver Lining",
      "userId": "05352521854002397653"
     },
     "user_tz": -480
    },
    "id": "JbWxtbRgU7rz",
    "outputId": "f049bc73-7934-48dd-8481-c045d195c879"
   },
   "outputs": [
    {
     "data": {
      "text/plain": [
       "(577135, 150)"
      ]
     },
     "execution_count": 25,
     "metadata": {},
     "output_type": "execute_result"
    }
   ],
   "source": [
    "X_train.shape"
   ]
  },
  {
   "cell_type": "code",
   "execution_count": null,
   "metadata": {
    "colab": {
     "base_uri": "https://localhost:8080/"
    },
    "executionInfo": {
     "elapsed": 5,
     "status": "ok",
     "timestamp": 1699003790379,
     "user": {
      "displayName": "Silver Lining",
      "userId": "05352521854002397653"
     },
     "user_tz": -480
    },
    "id": "c2E3AhzvU70q",
    "outputId": "1bf76e5e-08e8-4604-9090-878ed91f656b"
   },
   "outputs": [
    {
     "data": {
      "text/plain": [
       "(192379, 150)"
      ]
     },
     "execution_count": 26,
     "metadata": {},
     "output_type": "execute_result"
    }
   ],
   "source": [
    "X_test.shape"
   ]
  },
  {
   "cell_type": "code",
   "execution_count": null,
   "metadata": {
    "id": "TrZjaNirVCNS"
   },
   "outputs": [],
   "source": [
    "# design network\n",
    "np.random.seed(7)\n",
    "\n",
    "# X_train et X_val sont des dataframe qui contient les features\n",
    "X_train=X_oversampled\n",
    "val_X=X_val_trans\n",
    "\n",
    "\n",
    "\n",
    "\n",
    "#-- new code --#\n",
    "feature_shape = X_train.shape[1]\n",
    "## Reshape input to be 3D [samples, timesteps, features] (format for LSTM)\n",
    "X_train = X_train.reshape(X_train.shape[0], feature_shape) #\n",
    "val_X = val_X.reshape(val_X.shape[0], feature_shape)\n",
    "\n",
    "\n",
    "y_train=Y_oversampled\n"
   ]
  },
  {
   "cell_type": "code",
   "execution_count": null,
   "metadata": {
    "colab": {
     "base_uri": "https://localhost:8080/"
    },
    "executionInfo": {
     "elapsed": 755,
     "status": "ok",
     "timestamp": 1699003795729,
     "user": {
      "displayName": "Silver Lining",
      "userId": "05352521854002397653"
     },
     "user_tz": -480
    },
    "id": "vowa1RVrVCV1",
    "outputId": "d0b0265d-49d9-4e71-c68d-e1d904e3d192"
   },
   "outputs": [
    {
     "data": {
      "text/plain": [
       "1153642"
      ]
     },
     "execution_count": 28,
     "metadata": {},
     "output_type": "execute_result"
    }
   ],
   "source": [
    "X_train.shape[0]"
   ]
  },
  {
   "cell_type": "code",
   "execution_count": null,
   "metadata": {
    "colab": {
     "base_uri": "https://localhost:8080/"
    },
    "executionInfo": {
     "elapsed": 9,
     "status": "ok",
     "timestamp": 1699003796220,
     "user": {
      "displayName": "Silver Lining",
      "userId": "05352521854002397653"
     },
     "user_tz": -480
    },
    "id": "-oRqWSeA9t9J",
    "outputId": "da419a8f-8332-4ef1-c6d0-ec57ecaf214d"
   },
   "outputs": [
    {
     "data": {
      "text/plain": [
       "192378"
      ]
     },
     "execution_count": 29,
     "metadata": {},
     "output_type": "execute_result"
    }
   ],
   "source": [
    "X_val.shape[0]"
   ]
  },
  {
   "cell_type": "code",
   "execution_count": null,
   "metadata": {
    "colab": {
     "base_uri": "https://localhost:8080/"
    },
    "executionInfo": {
     "elapsed": 7,
     "status": "ok",
     "timestamp": 1699003798450,
     "user": {
      "displayName": "Silver Lining",
      "userId": "05352521854002397653"
     },
     "user_tz": -480
    },
    "id": "PHamVdRsVCcm",
    "outputId": "bb2f0ddb-bf07-47cf-fa7a-9efad626ee95"
   },
   "outputs": [
    {
     "data": {
      "text/plain": [
       "150"
      ]
     },
     "execution_count": 30,
     "metadata": {},
     "output_type": "execute_result"
    }
   ],
   "source": [
    "X_train.shape[1]"
   ]
  },
  {
   "cell_type": "code",
   "execution_count": null,
   "metadata": {
    "colab": {
     "base_uri": "https://localhost:8080/"
    },
    "executionInfo": {
     "elapsed": 10,
     "status": "ok",
     "timestamp": 1699003800003,
     "user": {
      "displayName": "Silver Lining",
      "userId": "05352521854002397653"
     },
     "user_tz": -480
    },
    "id": "Gq8lHqs0K-2-",
    "outputId": "43d61f75-4f6a-4cc3-e752-0d06bf44722b"
   },
   "outputs": [
    {
     "data": {
      "text/plain": [
       "150"
      ]
     },
     "execution_count": 31,
     "metadata": {},
     "output_type": "execute_result"
    }
   ],
   "source": [
    "feature_shape"
   ]
  },
  {
   "cell_type": "code",
   "execution_count": null,
   "metadata": {
    "colab": {
     "base_uri": "https://localhost:8080/"
    },
    "executionInfo": {
     "elapsed": 7,
     "status": "ok",
     "timestamp": 1699003801442,
     "user": {
      "displayName": "Silver Lining",
      "userId": "05352521854002397653"
     },
     "user_tz": -480
    },
    "id": "qoSvHCjwZxUK",
    "outputId": "852d9021-8166-4b26-ffd9-a60692921c40"
   },
   "outputs": [
    {
     "data": {
      "text/plain": [
       "(1153642, 150)"
      ]
     },
     "execution_count": 32,
     "metadata": {},
     "output_type": "execute_result"
    }
   ],
   "source": [
    "X_train.shape"
   ]
  },
  {
   "cell_type": "code",
   "execution_count": null,
   "metadata": {
    "id": "1FYsx_-TFIKg"
   },
   "outputs": [],
   "source": [
    "# Create Sequential model\n",
    "model = Sequential()\n",
    "\n",
    "# Add layers\n",
    "model.add(Dense(64, input_dim=X_train.shape[1], activation='relu'))\n",
    "model.add(Dense(32, activation='relu'))\n",
    "\n",
    "# Output layer\n",
    "model.add(Dense(1, activation='sigmoid'))"
   ]
  },
  {
   "cell_type": "code",
   "execution_count": null,
   "metadata": {
    "id": "sPspHqbFiOlG"
   },
   "outputs": [],
   "source": []
  },
  {
   "cell_type": "code",
   "execution_count": null,
   "metadata": {
    "id": "06lLacxgZ3jr"
   },
   "outputs": [],
   "source": [
    "#Another way of implementing lstm\n",
    "# inputs = Input((1, feature_shape))\n",
    "# x1=LSTM(50,dropout=0.3,recurrent_dropout=0.2, return_sequences=True)(inputs)\n",
    "# # print(x1.shape)\n",
    "# x2=LSTM(50,dropout=0.3,recurrent_dropout=0.2)(x1)\n",
    "# outputs=Dense(1,activation='sigmoid')(x2)\n",
    "# model=Model(inputs,outputs)"
   ]
  },
  {
   "cell_type": "code",
   "execution_count": null,
   "metadata": {
    "id": "X-aCA919Z-Vh"
   },
   "outputs": [],
   "source": [
    "model.compile(loss='binary_crossentropy', optimizer='adam', metrics=['accuracy'])"
   ]
  },
  {
   "cell_type": "code",
   "execution_count": null,
   "metadata": {
    "colab": {
     "base_uri": "https://localhost:8080/"
    },
    "executionInfo": {
     "elapsed": 44603,
     "status": "ok",
     "timestamp": 1699003856771,
     "user": {
      "displayName": "Silver Lining",
      "userId": "05352521854002397653"
     },
     "user_tz": -480
    },
    "id": "B6Mzo55V-7mY",
    "outputId": "772caad4-c506-403e-b9c0-e2c13c365ba3"
   },
   "outputs": [
    {
     "name": "stdout",
     "output_type": "stream",
     "text": [
      "Epoch 1/50\n",
      "116/116 [==============================] - 7s 12ms/step - loss: 37.0613 - accuracy: 0.5234 - val_loss: 1.5684 - val_accuracy: 8.4209e-04\n",
      "Epoch 2/50\n",
      "116/116 [==============================] - 1s 6ms/step - loss: 0.8861 - accuracy: 0.5012 - val_loss: 1.5393 - val_accuracy: 0.0028\n",
      "Epoch 3/50\n",
      "116/116 [==============================] - 1s 6ms/step - loss: 0.7589 - accuracy: 0.5047 - val_loss: 1.4049 - val_accuracy: 0.0097\n",
      "Epoch 4/50\n",
      "116/116 [==============================] - 1s 6ms/step - loss: 0.6601 - accuracy: 0.5127 - val_loss: 1.2624 - val_accuracy: 0.0279\n",
      "Epoch 5/50\n",
      "116/116 [==============================] - 1s 6ms/step - loss: 0.5583 - accuracy: 0.5411 - val_loss: 1.0467 - val_accuracy: 0.1634\n",
      "Epoch 6/50\n",
      "116/116 [==============================] - 1s 6ms/step - loss: 0.4209 - accuracy: 0.6592 - val_loss: 0.7898 - val_accuracy: 0.5261\n",
      "Epoch 7/50\n",
      "116/116 [==============================] - 1s 6ms/step - loss: 0.2980 - accuracy: 0.8007 - val_loss: 0.5457 - val_accuracy: 0.8211\n",
      "Epoch 8/50\n",
      "116/116 [==============================] - 1s 6ms/step - loss: 0.2025 - accuracy: 0.8931 - val_loss: 0.3684 - val_accuracy: 0.9207\n",
      "Epoch 9/50\n",
      "116/116 [==============================] - 1s 6ms/step - loss: 0.1434 - accuracy: 0.9327 - val_loss: 0.2569 - val_accuracy: 0.9551\n",
      "Epoch 10/50\n",
      "116/116 [==============================] - 1s 6ms/step - loss: 0.1080 - accuracy: 0.9528 - val_loss: 0.1867 - val_accuracy: 0.9716\n",
      "Epoch 11/50\n",
      "116/116 [==============================] - 1s 6ms/step - loss: 0.0861 - accuracy: 0.9644 - val_loss: 0.1409 - val_accuracy: 0.9809\n",
      "Epoch 12/50\n",
      "116/116 [==============================] - 1s 6ms/step - loss: 0.0718 - accuracy: 0.9717 - val_loss: 0.1093 - val_accuracy: 0.9866\n",
      "Epoch 13/50\n",
      "116/116 [==============================] - 1s 6ms/step - loss: 0.0618 - accuracy: 0.9766 - val_loss: 0.0867 - val_accuracy: 0.9904\n",
      "Epoch 14/50\n",
      "116/116 [==============================] - 1s 6ms/step - loss: 0.0543 - accuracy: 0.9801 - val_loss: 0.0704 - val_accuracy: 0.9927\n",
      "Epoch 15/50\n",
      "116/116 [==============================] - 1s 6ms/step - loss: 0.0484 - accuracy: 0.9827 - val_loss: 0.0578 - val_accuracy: 0.9943\n",
      "Epoch 16/50\n",
      "116/116 [==============================] - 1s 6ms/step - loss: 0.0437 - accuracy: 0.9848 - val_loss: 0.0478 - val_accuracy: 0.9955\n",
      "Epoch 17/50\n",
      "116/116 [==============================] - 1s 6ms/step - loss: 0.0397 - accuracy: 0.9864 - val_loss: 0.0403 - val_accuracy: 0.9962\n",
      "Epoch 18/50\n",
      "116/116 [==============================] - 1s 6ms/step - loss: 0.0364 - accuracy: 0.9878 - val_loss: 0.0344 - val_accuracy: 0.9968\n",
      "Epoch 19/50\n",
      "116/116 [==============================] - 1s 6ms/step - loss: 0.0336 - accuracy: 0.9889 - val_loss: 0.0294 - val_accuracy: 0.9973\n",
      "Epoch 20/50\n",
      "116/116 [==============================] - 1s 6ms/step - loss: 0.0311 - accuracy: 0.9899 - val_loss: 0.0254 - val_accuracy: 0.9977\n",
      "Epoch 21/50\n",
      "116/116 [==============================] - 1s 6ms/step - loss: 0.0290 - accuracy: 0.9908 - val_loss: 0.0219 - val_accuracy: 0.9980\n",
      "Epoch 22/50\n",
      "116/116 [==============================] - 1s 6ms/step - loss: 0.0270 - accuracy: 0.9915 - val_loss: 0.0191 - val_accuracy: 0.9983\n",
      "Epoch 23/50\n",
      "116/116 [==============================] - 1s 6ms/step - loss: 0.0252 - accuracy: 0.9922 - val_loss: 0.0164 - val_accuracy: 0.9985\n",
      "Epoch 24/50\n",
      "116/116 [==============================] - 1s 6ms/step - loss: 0.0235 - accuracy: 0.9928 - val_loss: 0.0144 - val_accuracy: 0.9986\n",
      "Epoch 25/50\n",
      "116/116 [==============================] - 1s 6ms/step - loss: 0.0220 - accuracy: 0.9934 - val_loss: 0.0128 - val_accuracy: 0.9988\n",
      "Epoch 26/50\n",
      "116/116 [==============================] - 1s 6ms/step - loss: 0.0206 - accuracy: 0.9939 - val_loss: 0.0114 - val_accuracy: 0.9989\n",
      "Epoch 27/50\n",
      "116/116 [==============================] - 1s 6ms/step - loss: 0.0193 - accuracy: 0.9943 - val_loss: 0.0103 - val_accuracy: 0.9990\n",
      "Epoch 28/50\n",
      "116/116 [==============================] - 1s 6ms/step - loss: 0.0180 - accuracy: 0.9947 - val_loss: 0.0094 - val_accuracy: 0.9990\n",
      "Epoch 29/50\n",
      "116/116 [==============================] - 1s 6ms/step - loss: 0.0168 - accuracy: 0.9951 - val_loss: 0.0086 - val_accuracy: 0.9991\n",
      "Epoch 30/50\n",
      "116/116 [==============================] - 1s 6ms/step - loss: 0.0157 - accuracy: 0.9954 - val_loss: 0.0080 - val_accuracy: 0.9992\n",
      "Epoch 31/50\n",
      "116/116 [==============================] - 1s 6ms/step - loss: 0.0147 - accuracy: 0.9957 - val_loss: 0.0074 - val_accuracy: 0.9992\n",
      "Epoch 32/50\n",
      "116/116 [==============================] - 1s 6ms/step - loss: 0.0138 - accuracy: 0.9960 - val_loss: 0.0070 - val_accuracy: 0.9992\n",
      "Epoch 33/50\n",
      "116/116 [==============================] - 1s 6ms/step - loss: 0.0129 - accuracy: 0.9963 - val_loss: 0.0066 - val_accuracy: 0.9993\n",
      "Epoch 34/50\n",
      "116/116 [==============================] - 1s 6ms/step - loss: 0.0121 - accuracy: 0.9965 - val_loss: 0.0063 - val_accuracy: 0.9993\n",
      "Epoch 35/50\n",
      "116/116 [==============================] - 1s 6ms/step - loss: 0.0113 - accuracy: 0.9967 - val_loss: 0.0060 - val_accuracy: 0.9993\n",
      "Epoch 36/50\n",
      "116/116 [==============================] - 1s 6ms/step - loss: 0.0106 - accuracy: 0.9969 - val_loss: 0.0058 - val_accuracy: 0.9993\n",
      "Epoch 37/50\n",
      "116/116 [==============================] - 1s 7ms/step - loss: 0.0098 - accuracy: 0.9971 - val_loss: 0.0056 - val_accuracy: 0.9994\n",
      "Epoch 38/50\n",
      "116/116 [==============================] - 1s 7ms/step - loss: 0.0092 - accuracy: 0.9973 - val_loss: 0.0055 - val_accuracy: 0.9994\n",
      "Epoch 39/50\n",
      "116/116 [==============================] - 1s 6ms/step - loss: 0.0085 - accuracy: 0.9975 - val_loss: 0.0054 - val_accuracy: 0.9994\n",
      "Epoch 40/50\n",
      "116/116 [==============================] - 1s 6ms/step - loss: 0.0080 - accuracy: 0.9977 - val_loss: 0.0053 - val_accuracy: 0.9994\n",
      "Epoch 41/50\n",
      "116/116 [==============================] - 1s 6ms/step - loss: 0.0074 - accuracy: 0.9979 - val_loss: 0.0053 - val_accuracy: 0.9994\n",
      "Epoch 42/50\n",
      "116/116 [==============================] - 1s 6ms/step - loss: 0.0070 - accuracy: 0.9980 - val_loss: 0.0052 - val_accuracy: 0.9994\n",
      "Epoch 43/50\n",
      "116/116 [==============================] - 1s 6ms/step - loss: 0.0065 - accuracy: 0.9981 - val_loss: 0.0052 - val_accuracy: 0.9994\n",
      "Epoch 44/50\n",
      "116/116 [==============================] - 1s 6ms/step - loss: 0.0061 - accuracy: 0.9982 - val_loss: 0.0051 - val_accuracy: 0.9994\n",
      "Epoch 45/50\n",
      "116/116 [==============================] - 1s 6ms/step - loss: 0.0058 - accuracy: 0.9984 - val_loss: 0.0051 - val_accuracy: 0.9994\n",
      "Epoch 46/50\n",
      "116/116 [==============================] - 1s 6ms/step - loss: 0.0055 - accuracy: 0.9985 - val_loss: 0.0051 - val_accuracy: 0.9994\n",
      "Epoch 47/50\n",
      "116/116 [==============================] - 1s 6ms/step - loss: 0.0052 - accuracy: 0.9985 - val_loss: 0.0051 - val_accuracy: 0.9994\n",
      "Epoch 48/50\n",
      "116/116 [==============================] - 1s 6ms/step - loss: 0.0049 - accuracy: 0.9987 - val_loss: 0.0052 - val_accuracy: 0.9994\n",
      "Epoch 49/50\n",
      "116/116 [==============================] - 1s 6ms/step - loss: 0.0047 - accuracy: 0.9987 - val_loss: 0.0052 - val_accuracy: 0.9994\n",
      "Epoch 50/50\n",
      "116/116 [==============================] - 1s 6ms/step - loss: 0.0045 - accuracy: 0.9988 - val_loss: 0.0052 - val_accuracy: 0.9994\n"
     ]
    }
   ],
   "source": [
    "history = model.fit(X_train, y_train, epochs=50, batch_size=10000, validation_data=(X_val, y_val), class_weight=weight_dict)"
   ]
  },
  {
   "cell_type": "code",
   "execution_count": null,
   "metadata": {
    "id": "ZQt6w8dARbVl"
   },
   "outputs": [],
   "source": []
  },
  {
   "cell_type": "code",
   "execution_count": null,
   "metadata": {
    "colab": {
     "base_uri": "https://localhost:8080/"
    },
    "executionInfo": {
     "elapsed": 755,
     "status": "ok",
     "timestamp": 1699003896045,
     "user": {
      "displayName": "Silver Lining",
      "userId": "05352521854002397653"
     },
     "user_tz": -480
    },
    "id": "Uag93n4dcNMD",
    "outputId": "128a445c-151f-47c2-aa38-cf29469373ac"
   },
   "outputs": [
    {
     "name": "stdout",
     "output_type": "stream",
     "text": [
      "Saved model to disk\n"
     ]
    },
    {
     "name": "stderr",
     "output_type": "stream",
     "text": [
      "/usr/local/lib/python3.10/dist-packages/keras/src/engine/training.py:3079: UserWarning: You are saving your model as an HDF5 file via `model.save()`. This file format is considered legacy. We recommend using instead the native Keras format, e.g. `model.save('my_model.keras')`.\n",
      "  saving_api.save_model(\n"
     ]
    }
   ],
   "source": [
    "model.save('ANN_v2_3Nov.h5')\n",
    "print(\"Saved model to disk\")"
   ]
  },
  {
   "cell_type": "markdown",
   "metadata": {
    "id": "qS8X9RJQyRj9"
   },
   "source": [
    "## Load Model"
   ]
  },
  {
   "cell_type": "code",
   "execution_count": null,
   "metadata": {
    "colab": {
     "base_uri": "https://localhost:8080/"
    },
    "executionInfo": {
     "elapsed": 789,
     "status": "ok",
     "timestamp": 1699003910174,
     "user": {
      "displayName": "Silver Lining",
      "userId": "05352521854002397653"
     },
     "user_tz": -480
    },
    "id": "JjtLBxpjcqRH",
    "outputId": "1636b699-639b-4b6a-aae6-5223e359d4f1"
   },
   "outputs": [
    {
     "name": "stdout",
     "output_type": "stream",
     "text": [
      "Model: \"sequential\"\n",
      "_________________________________________________________________\n",
      " Layer (type)                Output Shape              Param #   \n",
      "=================================================================\n",
      " dense (Dense)               (None, 64)                9664      \n",
      "                                                                 \n",
      " dense_1 (Dense)             (None, 32)                2080      \n",
      "                                                                 \n",
      " dense_2 (Dense)             (None, 1)                 33        \n",
      "                                                                 \n",
      "=================================================================\n",
      "Total params: 11777 (46.00 KB)\n",
      "Trainable params: 11777 (46.00 KB)\n",
      "Non-trainable params: 0 (0.00 Byte)\n",
      "_________________________________________________________________\n"
     ]
    }
   ],
   "source": [
    "# load and evaluate a saved model\n",
    "from numpy import loadtxt\n",
    "from keras.models import load_model\n",
    "\n",
    "# load model\n",
    "model = load_model('ANN_v2_3Nov.h5')\n",
    "# summarize model.\n",
    "model.summary()"
   ]
  },
  {
   "cell_type": "code",
   "execution_count": null,
   "metadata": {
    "colab": {
     "base_uri": "https://localhost:8080/"
    },
    "executionInfo": {
     "elapsed": 66409,
     "status": "ok",
     "timestamp": 1699003980122,
     "user": {
      "displayName": "Silver Lining",
      "userId": "05352521854002397653"
     },
     "user_tz": -480
    },
    "id": "8nnnurb8csPD",
    "outputId": "95cdcc86-457c-4690-821a-551617ef6c27"
   },
   "outputs": [
    {
     "name": "stdout",
     "output_type": "stream",
     "text": [
      "Train: 0.999, Validation: 0.999\n"
     ]
    }
   ],
   "source": [
    "\n",
    "# evaluate the model\n",
    "_, train_acc = model.evaluate(X_train, y_train, verbose=0)\n",
    "_, val_acc = model.evaluate(X_val, y_val, verbose=0)\n",
    "print('Train: %.3f, Validation: %.3f' % (train_acc, val_acc))"
   ]
  },
  {
   "cell_type": "code",
   "execution_count": null,
   "metadata": {
    "colab": {
     "base_uri": "https://localhost:8080/",
     "height": 452
    },
    "executionInfo": {
     "elapsed": 556,
     "status": "ok",
     "timestamp": 1699004006860,
     "user": {
      "displayName": "Silver Lining",
      "userId": "05352521854002397653"
     },
     "user_tz": -480
    },
    "id": "bBwAshrucx1z",
    "outputId": "d322e48f-4f27-4c86-9d8d-f27264bd324a"
   },
   "outputs": [
    {
     "data": {
      "image/png": "[encoded data removed]",
      "text/plain": [
       "<Figure size 640x480 with 2 Axes>"
      ]
     },
     "metadata": {},
     "output_type": "display_data"
    }
   ],
   "source": [
    "# plot loss during training\n",
    "pyplot.subplot(211)\n",
    "pyplot.title('Loss')\n",
    "pyplot.plot(history.history['loss'], label='train')\n",
    "pyplot.plot(history.history['val_loss'], label='validation')\n",
    "pyplot.legend()\n",
    "# plot accuracy during training\n",
    "pyplot.subplot(212)\n",
    "pyplot.title('Accuracy')\n",
    "pyplot.plot(history.history['accuracy'], label='train')\n",
    "pyplot.plot(history.history['val_accuracy'], label='validation')\n",
    "pyplot.legend()\n",
    "pyplot.show()"
   ]
  },
  {
   "cell_type": "code",
   "execution_count": null,
   "metadata": {
    "colab": {
     "base_uri": "https://localhost:8080/"
    },
    "executionInfo": {
     "elapsed": 7,
     "status": "ok",
     "timestamp": 1699004015828,
     "user": {
      "displayName": "Silver Lining",
      "userId": "05352521854002397653"
     },
     "user_tz": -480
    },
    "id": "IFKfbIWGAc36",
    "outputId": "e0ae6482-ee52-470a-d58e-872b4e182aa0"
   },
   "outputs": [
    {
     "data": {
      "text/plain": [
       "array([[-0.65216856, -0.02195272, -0.60690882, ...,  5.37416896,\n",
       "        -0.04877953, -0.23537639],\n",
       "       [-0.65216856, -0.02195272, -0.60690882, ..., -0.18607528,\n",
       "        -0.04877953, -0.23537639],\n",
       "       [-0.65216856, -0.02195272, -0.60690882, ..., -0.18607528,\n",
       "        -0.04877953, -0.23537639],\n",
       "       ...,\n",
       "       [-0.65216856, -0.02195272, -0.60690882, ..., -0.18607528,\n",
       "        -0.04877953, -0.23537639],\n",
       "       [ 1.53334591, -0.02195272,  1.64769396, ..., -0.18607528,\n",
       "        -0.04877953, -0.23537639],\n",
       "       [-0.65216856, -0.02195272, -0.60690882, ..., -0.18607528,\n",
       "        -0.04877953, -0.23537639]])"
      ]
     },
     "execution_count": 40,
     "metadata": {},
     "output_type": "execute_result"
    }
   ],
   "source": [
    "X_test_trans"
   ]
  },
  {
   "cell_type": "code",
   "execution_count": null,
   "metadata": {
    "colab": {
     "base_uri": "https://localhost:8080/"
    },
    "executionInfo": {
     "elapsed": 6,
     "status": "ok",
     "timestamp": 1699004018913,
     "user": {
      "displayName": "Silver Lining",
      "userId": "05352521854002397653"
     },
     "user_tz": -480
    },
    "id": "-Rrp1kfkAqvW",
    "outputId": "99e5dcd6-298b-4cba-c18e-37a52a5afa69"
   },
   "outputs": [
    {
     "name": "stdout",
     "output_type": "stream",
     "text": [
      "(1153642, 150)\n",
      "(192378, 150)\n",
      "(192379, 150)\n"
     ]
    }
   ],
   "source": [
    "print(X_train.shape)\n",
    "print(X_val.shape)\n",
    "print(X_test_trans.shape)"
   ]
  },
  {
   "cell_type": "code",
   "execution_count": null,
   "metadata": {
    "id": "b7R0_bRrAqRY"
   },
   "outputs": [],
   "source": [
    "X_test = X_test_trans.reshape(X_test_trans.shape[0], feature_shape)"
   ]
  },
  {
   "cell_type": "code",
   "execution_count": null,
   "metadata": {
    "colab": {
     "base_uri": "https://localhost:8080/"
    },
    "executionInfo": {
     "elapsed": 9,
     "status": "ok",
     "timestamp": 1699004022999,
     "user": {
      "displayName": "Silver Lining",
      "userId": "05352521854002397653"
     },
     "user_tz": -480
    },
    "id": "b_GdfpFzBHvM",
    "outputId": "4f079a2c-1331-4c43-cfb7-7f8e932379d2"
   },
   "outputs": [
    {
     "name": "stdout",
     "output_type": "stream",
     "text": [
      "(192379, 150)\n"
     ]
    }
   ],
   "source": [
    "print(X_test.shape)"
   ]
  },
  {
   "cell_type": "code",
   "execution_count": null,
   "metadata": {
    "id": "A6fG_5hjcx_K"
   },
   "outputs": [],
   "source": [
    "\n",
    "# predict probabilities for test set\n",
    "yhat_probs = model.predict(X_test, verbose=0)\n",
    "# reduce to 1d array\n",
    "yhat_probs = yhat_probs[:, 0]"
   ]
  },
  {
   "cell_type": "code",
   "execution_count": null,
   "metadata": {
    "colab": {
     "base_uri": "https://localhost:8080/"
    },
    "executionInfo": {
     "elapsed": 505,
     "status": "ok",
     "timestamp": 1699004051663,
     "user": {
      "displayName": "Silver Lining",
      "userId": "05352521854002397653"
     },
     "user_tz": -480
    },
    "id": "dg_5vkldIMIs",
    "outputId": "18d30171-a87e-412c-af2b-d2e45ddc960b"
   },
   "outputs": [
    {
     "data": {
      "text/plain": [
       "array([2.8829008e-09, 5.1051720e-06, 1.9309315e-08, ..., 4.6596955e-11,\n",
       "       2.9197684e-08, 1.2963822e-10], dtype=float32)"
      ]
     },
     "execution_count": 45,
     "metadata": {},
     "output_type": "execute_result"
    }
   ],
   "source": [
    "yhat_probs"
   ]
  },
  {
   "cell_type": "code",
   "execution_count": null,
   "metadata": {
    "colab": {
     "base_uri": "https://localhost:8080/"
    },
    "executionInfo": {
     "elapsed": 10280,
     "status": "ok",
     "timestamp": 1699004064115,
     "user": {
      "displayName": "Silver Lining",
      "userId": "05352521854002397653"
     },
     "user_tz": -480
    },
    "id": "LpDLaSghdNml",
    "outputId": "fa5cda8a-a60a-489e-841f-3ac68f766129"
   },
   "outputs": [
    {
     "name": "stdout",
     "output_type": "stream",
     "text": [
      "6012/6012 [==============================] - 8s 1ms/step\n"
     ]
    }
   ],
   "source": [
    "predictions = model.predict(X_test)\n",
    "preds = predictions > 0.5"
   ]
  },
  {
   "cell_type": "code",
   "execution_count": null,
   "metadata": {
    "colab": {
     "base_uri": "https://localhost:8080/"
    },
    "executionInfo": {
     "elapsed": 542,
     "status": "ok",
     "timestamp": 1699004067880,
     "user": {
      "displayName": "Silver Lining",
      "userId": "05352521854002397653"
     },
     "user_tz": -480
    },
    "id": "3HJlmgrUdNxG",
    "outputId": "ef7b05de-b2bd-415b-9694-eb750332638b"
   },
   "outputs": [
    {
     "data": {
      "text/plain": [
       "array([[2.8829008e-09],\n",
       "       [5.1051720e-06],\n",
       "       [1.9309315e-08],\n",
       "       ...,\n",
       "       [4.6596955e-11],\n",
       "       [2.9197684e-08],\n",
       "       [1.2963822e-10]], dtype=float32)"
      ]
     },
     "execution_count": 47,
     "metadata": {},
     "output_type": "execute_result"
    }
   ],
   "source": [
    "predictions"
   ]
  },
  {
   "cell_type": "code",
   "execution_count": null,
   "metadata": {
    "colab": {
     "base_uri": "https://localhost:8080/",
     "height": 764
    },
    "executionInfo": {
     "elapsed": 747,
     "status": "ok",
     "timestamp": 1699004073203,
     "user": {
      "displayName": "Silver Lining",
      "userId": "05352521854002397653"
     },
     "user_tz": -480
    },
    "id": "cERIjXDLdZ6x",
    "outputId": "74dc4938-0f32-4316-abf7-4fa188ae8aba"
   },
   "outputs": [
    {
     "name": "stderr",
     "output_type": "stream",
     "text": [
      "<ipython-input-48-bfe060d1fbf3>:8: DeprecationWarning: `np.int` is a deprecated alias for the builtin `int`. To silence this warning, use `int` by itself. Doing this will not modify any behavior and is safe. When replacing `np.int`, you may wish to use e.g. `np.int64` or `np.int32` to specify the precision. If you wish to review your current use, check the release note link for additional information.\n",
      "Deprecated in NumPy 1.20; for more details and guidance: https://numpy.org/devdocs/release/1.20.0-notes.html#deprecations\n",
      "  n_correct = np.int((corr_pred[0][0] + corr_pred[1][1]))\n",
      "<ipython-input-48-bfe060d1fbf3>:10: DeprecationWarning: `np.int` is a deprecated alias for the builtin `int`. To silence this warning, use `int` by itself. Doing this will not modify any behavior and is safe. When replacing `np.int`, you may wish to use e.g. `np.int64` or `np.int32` to specify the precision. If you wish to review your current use, check the release note link for additional information.\n",
      "Deprecated in NumPy 1.20; for more details and guidance: https://numpy.org/devdocs/release/1.20.0-notes.html#deprecations\n",
      "  n_wrongs = np.int((corr_pred[0][1] + (corr_pred[1][0])))\n"
     ]
    },
    {
     "name": "stdout",
     "output_type": "stream",
     "text": [
      "> Correct Predictions: 191893\n",
      "> Wrong Predictions: 486\n",
      "              precision    recall  f1-score   support\n",
      "\n",
      "    NonFraud       1.00      1.00      1.00    192274\n",
      "       Fraud       0.16      0.83      0.26       105\n",
      "\n",
      "    accuracy                           1.00    192379\n",
      "   macro avg       0.58      0.91      0.63    192379\n",
      "weighted avg       1.00      1.00      1.00    192379\n",
      "\n"
     ]
    },
    {
     "data": {
      "image/png": "[encoded data removed]",
      "text/plain": [
       "<Figure size 640x480 with 1 Axes>"
      ]
     },
     "metadata": {},
     "output_type": "display_data"
    }
   ],
   "source": [
    "import seaborn as sns\n",
    "from sklearn import metrics\n",
    "\n",
    "from sklearn.metrics import RocCurveDisplay\n",
    "\n",
    "corr_pred = metrics.confusion_matrix(y_test, preds)\n",
    "\n",
    "n_correct = np.int((corr_pred[0][0] + corr_pred[1][1]))\n",
    "print('> Correct Predictions:', n_correct)\n",
    "n_wrongs = np.int((corr_pred[0][1] + (corr_pred[1][0])))\n",
    "print('> Wrong Predictions:', n_wrongs)\n",
    "\n",
    "fpr, tpr, _ = metrics.roc_curve(y_test, preds)\n",
    "\n",
    "disp = RocCurveDisplay(fpr=fpr, tpr=tpr)\n",
    "disp.plot()\n",
    "\n",
    "print(metrics.classification_report(y_test, preds,\n",
    "                           target_names=[\"NonFraud\", \"Fraud\"]))"
   ]
  },
  {
   "cell_type": "code",
   "execution_count": null,
   "metadata": {
    "id": "sdv0PNkydaDD"
   },
   "outputs": [],
   "source": []
  },
  {
   "cell_type": "code",
   "execution_count": null,
   "metadata": {
    "id": "fN2q7Tv9c7ua"
   },
   "outputs": [],
   "source": [
    "conf_matrix = confusion_matrix(y_test, preds)"
   ]
  },
  {
   "cell_type": "code",
   "execution_count": null,
   "metadata": {
    "colab": {
     "base_uri": "https://localhost:8080/"
    },
    "executionInfo": {
     "elapsed": 11,
     "status": "ok",
     "timestamp": 1699004131240,
     "user": {
      "displayName": "Silver Lining",
      "userId": "05352521854002397653"
     },
     "user_tz": -480
    },
    "id": "X_JC0EIGc7n8",
    "outputId": "ef791612-6a18-49ac-c26a-9904485a235a"
   },
   "outputs": [
    {
     "data": {
      "text/plain": [
       "array([[191806,    468],\n",
       "       [    18,     87]])"
      ]
     },
     "execution_count": 50,
     "metadata": {},
     "output_type": "execute_result"
    }
   ],
   "source": [
    "conf_matrix"
   ]
  },
  {
   "cell_type": "code",
   "execution_count": null,
   "metadata": {
    "id": "m_Un3DFqc718"
   },
   "outputs": [],
   "source": [
    "tn, fp, fn, tp = confusion_matrix(y_test, preds).ravel()"
   ]
  },
  {
   "cell_type": "code",
   "execution_count": null,
   "metadata": {
    "colab": {
     "base_uri": "https://localhost:8080/"
    },
    "executionInfo": {
     "elapsed": 6,
     "status": "ok",
     "timestamp": 1699004133710,
     "user": {
      "displayName": "Silver Lining",
      "userId": "05352521854002397653"
     },
     "user_tz": -480
    },
    "id": "tsgmYy5gc_VD",
    "outputId": "07febafe-72ec-4fbd-ae48-929de67b150b"
   },
   "outputs": [
    {
     "name": "stdout",
     "output_type": "stream",
     "text": [
      "191806 468 18 87\n"
     ]
    }
   ],
   "source": [
    "print(tn, fp, fn, tp)"
   ]
  },
  {
   "cell_type": "code",
   "execution_count": null,
   "metadata": {
    "colab": {
     "base_uri": "https://localhost:8080/"
    },
    "executionInfo": {
     "elapsed": 501,
     "status": "ok",
     "timestamp": 1699004136642,
     "user": {
      "displayName": "Silver Lining",
      "userId": "05352521854002397653"
     },
     "user_tz": -480
    },
    "id": "rtOrKtQbdAqC",
    "outputId": "59bdecf2-cfa2-4f0c-aaf2-3d50f0781ecb"
   },
   "outputs": [
    {
     "name": "stdout",
     "output_type": "stream",
     "text": [
      "Accuracy score: 0.9974737367384174\n",
      "Precision score: 0.15675675675675677\n",
      "Recall score: 0.8285714285714286\n",
      "F1 score: 0.2636363636363636\n"
     ]
    }
   ],
   "source": [
    "accuracy = ((tp+tn)/(tp+tn+fp+fn))\n",
    "precision = tp / (tp+fp)\n",
    "recall = tp /(tp+fn)\n",
    "f1_score = (2*precision*recall)/(precision+recall)\n",
    "\n",
    "print(\"Accuracy score:\", accuracy)\n",
    "print(\"Precision score:\", precision)\n",
    "print(\"Recall score:\", recall)\n",
    "print(\"F1 score:\", f1_score)"
   ]
  },
  {
   "cell_type": "code",
   "execution_count": null,
   "metadata": {
    "colab": {
     "base_uri": "https://localhost:8080/"
    },
    "executionInfo": {
     "elapsed": 515,
     "status": "ok",
     "timestamp": 1699004140301,
     "user": {
      "displayName": "Silver Lining",
      "userId": "05352521854002397653"
     },
     "user_tz": -480
    },
    "id": "terPQmB6fEc5",
    "outputId": "7949ddbb-00ac-4cce-a3e5-dce41e5b4e90"
   },
   "outputs": [
    {
     "name": "stdout",
     "output_type": "stream",
     "text": [
      "Accuracy: 0.997474\n",
      "Precision: 0.156757\n",
      "Recall: 0.828571\n"
     ]
    }
   ],
   "source": [
    "\n",
    "# demonstration of calculating metrics for a neural network model using sklearn\n",
    "from sklearn.metrics import accuracy_score\n",
    "from sklearn.metrics import precision_score\n",
    "from sklearn.metrics import recall_score\n",
    "from sklearn.metrics import confusion_matrix\n",
    "\n",
    "# Assuming yhat_probs are probabilities ranging from 0 to 1\n",
    "threshold = 0.5\n",
    "yhat_classes = (yhat_probs >= threshold).astype(int)\n",
    "\n",
    "# Now yhat_classes contains binary class labels (0 or 1)\n",
    "accuracy = accuracy_score(y_test, yhat_classes)\n",
    "precision = precision_score(y_test, yhat_classes)\n",
    "recall = recall_score(y_test, yhat_classes)\n",
    "\n",
    "print('Accuracy: %f' % accuracy)\n",
    "print('Precision: %f' % precision)\n",
    "print('Recall: %f' % recall)"
   ]
  },
  {
   "cell_type": "code",
   "execution_count": null,
   "metadata": {
    "colab": {
     "base_uri": "https://localhost:8080/"
    },
    "executionInfo": {
     "elapsed": 14,
     "status": "ok",
     "timestamp": 1699004146094,
     "user": {
      "displayName": "Silver Lining",
      "userId": "05352521854002397653"
     },
     "user_tz": -480
    },
    "id": "sB8e1JzIE0xc",
    "outputId": "38b3172d-6ba1-4214-f492-d98185817a2c"
   },
   "outputs": [
    {
     "data": {
      "text/plain": [
       "array([0, 0, 0, ..., 0, 0, 0])"
      ]
     },
     "execution_count": 55,
     "metadata": {},
     "output_type": "execute_result"
    }
   ],
   "source": [
    "yhat_classes"
   ]
  },
  {
   "cell_type": "code",
   "execution_count": null,
   "metadata": {
    "colab": {
     "base_uri": "https://localhost:8080/"
    },
    "executionInfo": {
     "elapsed": 13,
     "status": "ok",
     "timestamp": 1699004146094,
     "user": {
      "displayName": "Silver Lining",
      "userId": "05352521854002397653"
     },
     "user_tz": -480
    },
    "id": "VL562VZMcXMz",
    "outputId": "4edfe7ea-fb19-4a6c-edfe-c3e8dfa8d75a"
   },
   "outputs": [
    {
     "data": {
      "text/plain": [
       "192379"
      ]
     },
     "execution_count": 56,
     "metadata": {},
     "output_type": "execute_result"
    }
   ],
   "source": [
    "y_test.count()"
   ]
  },
  {
   "cell_type": "code",
   "execution_count": null,
   "metadata": {
    "id": "0YG_prFTho-6"
   },
   "outputs": [],
   "source": [
    "%matplotlib inline\n",
    "from sklearn.metrics import confusion_matrix\n",
    "import itertools\n",
    "import matplotlib.pyplot as plt"
   ]
  },
  {
   "cell_type": "code",
   "execution_count": null,
   "metadata": {
    "id": "pBD4CuHxhpG0"
   },
   "outputs": [],
   "source": [
    "cm = confusion_matrix(y_true=y_test, y_pred=yhat_classes)\n"
   ]
  },
  {
   "cell_type": "code",
   "execution_count": null,
   "metadata": {
    "id": "AjCMCdL_hxey"
   },
   "outputs": [],
   "source": [
    "def plot_confusion_matrix(cm, classes,\n",
    "                        normalize=False,\n",
    "                        title='Confusion matrix',\n",
    "                        cmap=plt.cm.Blues):\n",
    "    \"\"\"\n",
    "    This function prints and plots the confusion matrix.\n",
    "    Normalization can be applied by setting `normalize=True`.\n",
    "    \"\"\"\n",
    "    plt.imshow(cm, interpolation='nearest', cmap=cmap)\n",
    "    plt.title(title)\n",
    "    plt.colorbar()\n",
    "    tick_marks = np.arange(len(classes))\n",
    "    plt.xticks(tick_marks, classes, rotation=45)\n",
    "    plt.yticks(tick_marks, classes)\n",
    "\n",
    "    if normalize:\n",
    "        cm = cm.astype('float') / cm.sum(axis=1)[:, np.newaxis]\n",
    "        print(\"Normalized confusion matrix\")\n",
    "    else:\n",
    "        print('Confusion matrix, without normalization')\n",
    "\n",
    "    print(cm)\n",
    "\n",
    "    thresh = cm.max() / 2.\n",
    "    for i, j in itertools.product(range(cm.shape[0]), range(cm.shape[1])):\n",
    "        plt.text(j, i, cm[i, j],\n",
    "            horizontalalignment=\"center\",\n",
    "            color=\"white\" if cm[i, j] > thresh else \"black\")\n",
    "\n",
    "    plt.tight_layout()\n",
    "    plt.ylabel('True label')\n",
    "    plt.xlabel('Predicted label')\n",
    "labels = ['Non Fraud','Fraud']"
   ]
  },
  {
   "cell_type": "code",
   "execution_count": null,
   "metadata": {
    "colab": {
     "base_uri": "https://localhost:8080/",
     "height": 558
    },
    "executionInfo": {
     "elapsed": 559,
     "status": "ok",
     "timestamp": 1699004152605,
     "user": {
      "displayName": "Silver Lining",
      "userId": "05352521854002397653"
     },
     "user_tz": -480
    },
    "id": "ksonCdPph1M7",
    "outputId": "3e47edd0-c032-474c-8179-6f918e752bcf"
   },
   "outputs": [
    {
     "name": "stdout",
     "output_type": "stream",
     "text": [
      "Confusion matrix, without normalization\n",
      "[[191806    468]\n",
      " [    18     87]]\n"
     ]
    },
    {
     "data": {
      "image/png": "[encoded data removed]",
      "text/plain": [
       "<Figure size 640x480 with 2 Axes>"
      ]
     },
     "metadata": {},
     "output_type": "display_data"
    }
   ],
   "source": [
    "plot_confusion_matrix(cm=cm, classes=labels, title='ANN')\n"
   ]
  },
  {
   "cell_type": "code",
   "execution_count": null,
   "metadata": {
    "colab": {
     "base_uri": "https://localhost:8080/",
     "height": 447
    },
    "executionInfo": {
     "elapsed": 624,
     "status": "ok",
     "timestamp": 1699004158388,
     "user": {
      "displayName": "Silver Lining",
      "userId": "05352521854002397653"
     },
     "user_tz": -480
    },
    "id": "-MpAU72xIdyp",
    "outputId": "22d2adfa-aa5a-4043-be30-9c6ec5d5bc77"
   },
   "outputs": [
    {
     "data": {
      "text/plain": [
       "<Axes: >"
      ]
     },
     "execution_count": 61,
     "metadata": {},
     "output_type": "execute_result"
    },
    {
     "data": {
      "image/png": "[encoded data removed]",
      "text/plain": [
       "<Figure size 640x480 with 2 Axes>"
      ]
     },
     "metadata": {},
     "output_type": "display_data"
    }
   ],
   "source": [
    "group_names = [\"True Neg\",\"False Pos\",\"False Neg\",\"True Pos\"]\n",
    "group_counts = [\"{0:0.0f}\".format(value) for value in\n",
    "                conf_matrix.flatten()]\n",
    "group_percentages = [\"{0:.2%}\".format(value) for value in\n",
    "                     conf_matrix.flatten()/np.sum(conf_matrix)]\n",
    "labels = [f\"{v1}\\n{v2}\\n{v3}\" for v1, v2, v3 in\n",
    "          zip(group_names,group_counts,group_percentages)]\n",
    "labels = np.asarray(labels).reshape(2,2)\n",
    "sns.heatmap(conf_matrix, annot=labels, fmt='', cmap='Blues')"
   ]
  }
 ],
 "metadata": {
  "accelerator": "TPU",
  "colab": {
   "machine_shape": "hm",
   "provenance": []
  },
  "kernelspec": {
   "display_name": "Python 3",
   "name": "python3"
  },
  "language_info": {
   "codemirror_mode": {
    "name": "ipython",
    "version": 3
   },
   "file_extension": ".py",
   "mimetype": "text/x-python",
   "name": "python",
   "nbconvert_exporter": "python",
   "pygments_lexer": "ipython3",
   "version": "3.9.13"
  }
 },
 "nbformat": 4,
 "nbformat_minor": 0
}
