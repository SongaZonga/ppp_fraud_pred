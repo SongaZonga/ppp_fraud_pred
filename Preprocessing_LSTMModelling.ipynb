{
  "cells": [
    {
      "cell_type": "markdown",
      "metadata": {
        "id": "TewmynE2mjbF"
      },
      "source": [
        "### For updated features based on the ppp_transformed_updated.csv\n",
        "\n",
        "Transformations include:\n",
        "- Converting Term from numeric/ordinal to categorical (less than 24, 24, between 24 and 60, 60, more than 60)\n",
        "    - Justification: most concentrated around 24 and 60. the standard for ppp is 24 months, but can be extended to 60 months\n",
        "    - Could also see it as whether a loan extension was applied\n",
        "- Log transformation on large numeric variables\n",
        "    - Normalises the data before standardising\n",
        "    - MinMax shrinks the range but preserves the skew\n",
        "    - shrinking 0-1B to 0-1 results in long decimals (eg. 0.988887622845627891), which usually gets binned together\n",
        "    - new columns will be standardised as well\n",
        "- Including dummy variables\n",
        "- Splitting dataset based on original (non-categorical), encoded, scaled_standardised, log_standardised, dummy"
      ]
    },
    {
      "cell_type": "code",
      "execution_count": null,
      "metadata": {
        "id": "6JgtcFZqmjbH"
      },
      "outputs": [],
      "source": [
        "import pandas as pd\n",
        "import numpy as np\n",
        "import matplotlib.pyplot as plt\n",
        "import seaborn as sns\n",
        "\n",
        "from sklearn.preprocessing import StandardScaler"
      ]
    },
    {
      "cell_type": "code",
      "execution_count": null,
      "metadata": {
        "colab": {
          "base_uri": "https://localhost:8080/"
        },
        "id": "3RNAx98Rm6iu",
        "outputId": "4d925f55-470b-42eb-cb65-d4db536bdd8d"
      },
      "outputs": [
        {
          "name": "stdout",
          "output_type": "stream",
          "text": [
            "Mounted at /content/drive\n",
            "/content/drive/MyDrive/Colab Notebooks\n"
          ]
        }
      ],
      "source": [
        "from google.colab import drive\n",
        "drive.mount('/content/drive')\n",
        "%cd /content/drive/MyDrive/Colab Notebooks"
      ]
    },
    {
      "cell_type": "code",
      "execution_count": null,
      "metadata": {
        "colab": {
          "base_uri": "https://localhost:8080/"
        },
        "id": "mCIrQDxxmjbH",
        "outputId": "d21f246f-59fa-4f37-e7e4-eb47080b9480"
      },
      "outputs": [
        {
          "data": {
            "text/plain": [
              "Index(['Unnamed: 0', 'LoanNumber', 'DateApproved', 'SBAOfficeCode',\n",
              "       'ProcessingMethod', 'BorrowerName', 'BorrowerCity', 'BorrowerState',\n",
              "       'BorrowerZip', 'LoanStatus', 'Term', 'InitialApprovalAmount',\n",
              "       'CurrentApprovalAmount', 'FranchiseName', 'ServicingLenderName',\n",
              "       'ServicingLenderZip', 'RuralUrbanIndicator', 'HubzoneIndicator',\n",
              "       'LMIIndicator', 'BusinessAgeDescription', 'ProjectCity', 'JobsReported',\n",
              "       'NAICSCode', 'Race', 'Ethnicity', 'BusinessType', 'Gender', 'Veteran',\n",
              "       'TOTAL_PROCEED', 'PROCEED_Diff', 'UTILITIES_PROCEED_pct',\n",
              "       'PAYROLL_PROCEED_pct', 'MORTGAGE_INTEREST_PROCEED_pct',\n",
              "       'RENT_PROCEED_pct', 'REFINANCE_EIDL_PROCEED_pct',\n",
              "       'HEALTH_CARE_PROCEED_pct', 'DEBT_INTEREST_PROCEED_pct',\n",
              "       'PROCEED_Per_Job', 'isAfterBiden', 'isDiffBorrowerAndProjectCity',\n",
              "       'Industry', 'Subsector', 'ProcessingMethod_encoded',\n",
              "       'LoanStatus_encoded', 'RuralUrbanIndicator_encoded',\n",
              "       'HubzoneIndicator_encoded', 'LMIIndicator_encoded',\n",
              "       'BusinessAgeDescription_encoded', 'Race_encoded', 'Ethnicity_encoded',\n",
              "       'BusinessType_encoded', 'Gender_encoded', 'Veteran_encoded',\n",
              "       'Industry_encoded', 'Term_standardised', 'JobsReported_standardised',\n",
              "       'PROCEED_Diff_standardised', 'UTILITIES_PROCEED_pct_standardised',\n",
              "       'PAYROLL_PROCEED_pct_standardised',\n",
              "       'MORTGAGE_INTEREST_PROCEED_pct_standardised',\n",
              "       'RENT_PROCEED_pct_standardised',\n",
              "       'REFINANCE_EIDL_PROCEED_pct_standardised',\n",
              "       'HEALTH_CARE_PROCEED_pct_standardised',\n",
              "       'DEBT_INTEREST_PROCEED_pct_standardised',\n",
              "       'InitialApprovalAmount_scaled_standardised',\n",
              "       'CurrentApprovalAmount_scaled_standardised',\n",
              "       'TOTAL_PROCEED_scaled_standardised',\n",
              "       'PROCEED_Per_Job_scaled_standardised', 'isFraud'],\n",
              "      dtype='object')"
            ]
          },
          "execution_count": 3,
          "metadata": {},
          "output_type": "execute_result"
        }
      ],
      "source": [
        "df = pd.read_csv(\"ppp_transformed_updated.csv\")\n",
        "df_original = df.copy()\n",
        "df.columns"
      ]
    },
    {
      "cell_type": "markdown",
      "metadata": {
        "id": "ubGQnvYEmjbI"
      },
      "source": [
        "#### Converting 'Term' to categorical"
      ]
    },
    {
      "cell_type": "code",
      "execution_count": null,
      "metadata": {
        "id": "-Tn7xOQgmjbI"
      },
      "outputs": [],
      "source": [
        "def term_transform(row):\n",
        "    \"\"\"\n",
        "    Transforms 'Term' column into a new column with categorical (string) values\n",
        "    > 60  : more than 60\n",
        "    == 60 : 60\n",
        "    > 24  : between 24 and 60\n",
        "    == 24 : 24\n",
        "    < 24  : less than 24\n",
        "    \"\"\"\n",
        "    if row > 60:\n",
        "        label = 'more_than_60'\n",
        "    elif row == 60:\n",
        "        label = 'is_60'\n",
        "    elif row > 24:\n",
        "        label = 'between_24_60'\n",
        "    elif row == 24:\n",
        "        label = 'is_24'\n",
        "    else:\n",
        "        label = 'less_than_24'\n",
        "    return label"
      ]
    },
    {
      "cell_type": "code",
      "execution_count": null,
      "metadata": {
        "colab": {
          "base_uri": "https://localhost:8080/",
          "height": 206
        },
        "id": "lIS2Z7mDmjbJ",
        "outputId": "1fb80959-1c7e-4631-c95e-df6b0b08e98c"
      },
      "outputs": [
        {
          "data": {
            "text/html": [
              "\n",
              "  <div id=\"df-1c4d254c-bdce-4f4b-a3f3-92a6173aa51e\" class=\"colab-df-container\">\n",
              "    <div>\n",
              "<style scoped>\n",
              "    .dataframe tbody tr th:only-of-type {\n",
              "        vertical-align: middle;\n",
              "    }\n",
              "\n",
              "    .dataframe tbody tr th {\n",
              "        vertical-align: top;\n",
              "    }\n",
              "\n",
              "    .dataframe thead th {\n",
              "        text-align: right;\n",
              "    }\n",
              "</style>\n",
              "<table border=\"1\" class=\"dataframe\">\n",
              "  <thead>\n",
              "    <tr style=\"text-align: right;\">\n",
              "      <th></th>\n",
              "      <th>Term</th>\n",
              "      <th>Term_cat</th>\n",
              "    </tr>\n",
              "  </thead>\n",
              "  <tbody>\n",
              "    <tr>\n",
              "      <th>0</th>\n",
              "      <td>24</td>\n",
              "      <td>is_24</td>\n",
              "    </tr>\n",
              "    <tr>\n",
              "      <th>1</th>\n",
              "      <td>24</td>\n",
              "      <td>is_24</td>\n",
              "    </tr>\n",
              "    <tr>\n",
              "      <th>2</th>\n",
              "      <td>24</td>\n",
              "      <td>is_24</td>\n",
              "    </tr>\n",
              "    <tr>\n",
              "      <th>3</th>\n",
              "      <td>24</td>\n",
              "      <td>is_24</td>\n",
              "    </tr>\n",
              "    <tr>\n",
              "      <th>4</th>\n",
              "      <td>24</td>\n",
              "      <td>is_24</td>\n",
              "    </tr>\n",
              "  </tbody>\n",
              "</table>\n",
              "</div>\n",
              "    <div class=\"colab-df-buttons\">\n",
              "\n",
              "  <div class=\"colab-df-container\">\n",
              "    <button class=\"colab-df-convert\" onclick=\"convertToInteractive('df-1c4d254c-bdce-4f4b-a3f3-92a6173aa51e')\"\n",
              "            title=\"Convert this dataframe to an interactive table.\"\n",
              "            style=\"display:none;\">\n",
              "\n",
              "  <svg xmlns=\"http://www.w3.org/2000/svg\" height=\"24px\" viewBox=\"0 -960 960 960\">\n",
              "    <path d=\"M120-120v-720h720v720H120Zm60-500h600v-160H180v160Zm220 220h160v-160H400v160Zm0 220h160v-160H400v160ZM180-400h160v-160H180v160Zm440 0h160v-160H620v160ZM180-180h160v-160H180v160Zm440 0h160v-160H620v160Z\"/>\n",
              "  </svg>\n",
              "    </button>\n",
              "\n",
              "  <style>\n",
              "    .colab-df-container {\n",
              "      display:flex;\n",
              "      gap: 12px;\n",
              "    }\n",
              "\n",
              "    .colab-df-convert {\n",
              "      background-color: #E8F0FE;\n",
              "      border: none;\n",
              "      border-radius: 50%;\n",
              "      cursor: pointer;\n",
              "      display: none;\n",
              "      fill: #1967D2;\n",
              "      height: 32px;\n",
              "      padding: 0 0 0 0;\n",
              "      width: 32px;\n",
              "    }\n",
              "\n",
              "    .colab-df-convert:hover {\n",
              "      background-color: #E2EBFA;\n",
              "      box-shadow: 0px 1px 2px rgba(60, 64, 67, 0.3), 0px 1px 3px 1px rgba(60, 64, 67, 0.15);\n",
              "      fill: #174EA6;\n",
              "    }\n",
              "\n",
              "    .colab-df-buttons div {\n",
              "      margin-bottom: 4px;\n",
              "    }\n",
              "\n",
              "    [theme=dark] .colab-df-convert {\n",
              "      background-color: #3B4455;\n",
              "      fill: #D2E3FC;\n",
              "    }\n",
              "\n",
              "    [theme=dark] .colab-df-convert:hover {\n",
              "      background-color: #434B5C;\n",
              "      box-shadow: 0px 1px 3px 1px rgba(0, 0, 0, 0.15);\n",
              "      filter: drop-shadow(0px 1px 2px rgba(0, 0, 0, 0.3));\n",
              "      fill: #FFFFFF;\n",
              "    }\n",
              "  </style>\n",
              "\n",
              "    <script>\n",
              "      const buttonEl =\n",
              "        document.querySelector('#df-1c4d254c-bdce-4f4b-a3f3-92a6173aa51e button.colab-df-convert');\n",
              "      buttonEl.style.display =\n",
              "        google.colab.kernel.accessAllowed ? 'block' : 'none';\n",
              "\n",
              "      async function convertToInteractive(key) {\n",
              "        const element = document.querySelector('#df-1c4d254c-bdce-4f4b-a3f3-92a6173aa51e');\n",
              "        const dataTable =\n",
              "          await google.colab.kernel.invokeFunction('convertToInteractive',\n",
              "                                                    [key], {});\n",
              "        if (!dataTable) return;\n",
              "\n",
              "        const docLinkHtml = 'Like what you see? Visit the ' +\n",
              "          '<a target=\"_blank\" href=https://colab.research.google.com/notebooks/data_table.ipynb>data table notebook</a>'\n",
              "          + ' to learn more about interactive tables.';\n",
              "        element.innerHTML = '';\n",
              "        dataTable['output_type'] = 'display_data';\n",
              "        await google.colab.output.renderOutput(dataTable, element);\n",
              "        const docLink = document.createElement('div');\n",
              "        docLink.innerHTML = docLinkHtml;\n",
              "        element.appendChild(docLink);\n",
              "      }\n",
              "    </script>\n",
              "  </div>\n",
              "\n",
              "\n",
              "<div id=\"df-aa9b423a-0ab4-4a8f-bbfc-1a9719b6eddd\">\n",
              "  <button class=\"colab-df-quickchart\" onclick=\"quickchart('df-aa9b423a-0ab4-4a8f-bbfc-1a9719b6eddd')\"\n",
              "            title=\"Suggest charts.\"\n",
              "            style=\"display:none;\">\n",
              "\n",
              "<svg xmlns=\"http://www.w3.org/2000/svg\" height=\"24px\"viewBox=\"0 0 24 24\"\n",
              "     width=\"24px\">\n",
              "    <g>\n",
              "        <path d=\"M19 3H5c-1.1 0-2 .9-2 2v14c0 1.1.9 2 2 2h14c1.1 0 2-.9 2-2V5c0-1.1-.9-2-2-2zM9 17H7v-7h2v7zm4 0h-2V7h2v10zm4 0h-2v-4h2v4z\"/>\n",
              "    </g>\n",
              "</svg>\n",
              "  </button>\n",
              "\n",
              "<style>\n",
              "  .colab-df-quickchart {\n",
              "      --bg-color: #E8F0FE;\n",
              "      --fill-color: #1967D2;\n",
              "      --hover-bg-color: #E2EBFA;\n",
              "      --hover-fill-color: #174EA6;\n",
              "      --disabled-fill-color: #AAA;\n",
              "      --disabled-bg-color: #DDD;\n",
              "  }\n",
              "\n",
              "  [theme=dark] .colab-df-quickchart {\n",
              "      --bg-color: #3B4455;\n",
              "      --fill-color: #D2E3FC;\n",
              "      --hover-bg-color: #434B5C;\n",
              "      --hover-fill-color: #FFFFFF;\n",
              "      --disabled-bg-color: #3B4455;\n",
              "      --disabled-fill-color: #666;\n",
              "  }\n",
              "\n",
              "  .colab-df-quickchart {\n",
              "    background-color: var(--bg-color);\n",
              "    border: none;\n",
              "    border-radius: 50%;\n",
              "    cursor: pointer;\n",
              "    display: none;\n",
              "    fill: var(--fill-color);\n",
              "    height: 32px;\n",
              "    padding: 0;\n",
              "    width: 32px;\n",
              "  }\n",
              "\n",
              "  .colab-df-quickchart:hover {\n",
              "    background-color: var(--hover-bg-color);\n",
              "    box-shadow: 0 1px 2px rgba(60, 64, 67, 0.3), 0 1px 3px 1px rgba(60, 64, 67, 0.15);\n",
              "    fill: var(--button-hover-fill-color);\n",
              "  }\n",
              "\n",
              "  .colab-df-quickchart-complete:disabled,\n",
              "  .colab-df-quickchart-complete:disabled:hover {\n",
              "    background-color: var(--disabled-bg-color);\n",
              "    fill: var(--disabled-fill-color);\n",
              "    box-shadow: none;\n",
              "  }\n",
              "\n",
              "  .colab-df-spinner {\n",
              "    border: 2px solid var(--fill-color);\n",
              "    border-color: transparent;\n",
              "    border-bottom-color: var(--fill-color);\n",
              "    animation:\n",
              "      spin 1s steps(1) infinite;\n",
              "  }\n",
              "\n",
              "  @keyframes spin {\n",
              "    0% {\n",
              "      border-color: transparent;\n",
              "      border-bottom-color: var(--fill-color);\n",
              "      border-left-color: var(--fill-color);\n",
              "    }\n",
              "    20% {\n",
              "      border-color: transparent;\n",
              "      border-left-color: var(--fill-color);\n",
              "      border-top-color: var(--fill-color);\n",
              "    }\n",
              "    30% {\n",
              "      border-color: transparent;\n",
              "      border-left-color: var(--fill-color);\n",
              "      border-top-color: var(--fill-color);\n",
              "      border-right-color: var(--fill-color);\n",
              "    }\n",
              "    40% {\n",
              "      border-color: transparent;\n",
              "      border-right-color: var(--fill-color);\n",
              "      border-top-color: var(--fill-color);\n",
              "    }\n",
              "    60% {\n",
              "      border-color: transparent;\n",
              "      border-right-color: var(--fill-color);\n",
              "    }\n",
              "    80% {\n",
              "      border-color: transparent;\n",
              "      border-right-color: var(--fill-color);\n",
              "      border-bottom-color: var(--fill-color);\n",
              "    }\n",
              "    90% {\n",
              "      border-color: transparent;\n",
              "      border-bottom-color: var(--fill-color);\n",
              "    }\n",
              "  }\n",
              "</style>\n",
              "\n",
              "  <script>\n",
              "    async function quickchart(key) {\n",
              "      const quickchartButtonEl =\n",
              "        document.querySelector('#' + key + ' button');\n",
              "      quickchartButtonEl.disabled = true;  // To prevent multiple clicks.\n",
              "      quickchartButtonEl.classList.add('colab-df-spinner');\n",
              "      try {\n",
              "        const charts = await google.colab.kernel.invokeFunction(\n",
              "            'suggestCharts', [key], {});\n",
              "      } catch (error) {\n",
              "        console.error('Error during call to suggestCharts:', error);\n",
              "      }\n",
              "      quickchartButtonEl.classList.remove('colab-df-spinner');\n",
              "      quickchartButtonEl.classList.add('colab-df-quickchart-complete');\n",
              "    }\n",
              "    (() => {\n",
              "      let quickchartButtonEl =\n",
              "        document.querySelector('#df-aa9b423a-0ab4-4a8f-bbfc-1a9719b6eddd button');\n",
              "      quickchartButtonEl.style.display =\n",
              "        google.colab.kernel.accessAllowed ? 'block' : 'none';\n",
              "    })();\n",
              "  </script>\n",
              "</div>\n",
              "    </div>\n",
              "  </div>\n"
            ],
            "text/plain": [
              "   Term Term_cat\n",
              "0    24    is_24\n",
              "1    24    is_24\n",
              "2    24    is_24\n",
              "3    24    is_24\n",
              "4    24    is_24"
            ]
          },
          "execution_count": 5,
          "metadata": {},
          "output_type": "execute_result"
        }
      ],
      "source": [
        "# transform Term column into categorical\n",
        "df['Term_cat'] = df['Term'].apply(term_transform)\n",
        "df[['Term', 'Term_cat']].head(5)"
      ]
    },
    {
      "cell_type": "code",
      "execution_count": null,
      "metadata": {
        "colab": {
          "base_uri": "https://localhost:8080/"
        },
        "id": "rnuAo63imjbJ",
        "outputId": "bdb83461-0e1f-4fdc-a230-dd5596a369a8"
      },
      "outputs": [
        {
          "data": {
            "text/plain": [
              "is_24            623146\n",
              "is_60            329485\n",
              "less_than_24       4951\n",
              "between_24_60      4300\n",
              "more_than_60         10\n",
              "Name: Term_cat, dtype: int64"
            ]
          },
          "execution_count": 6,
          "metadata": {},
          "output_type": "execute_result"
        }
      ],
      "source": [
        "df['Term_cat'].value_counts()"
      ]
    },
    {
      "cell_type": "code",
      "execution_count": null,
      "metadata": {
        "colab": {
          "base_uri": "https://localhost:8080/"
        },
        "id": "TyKWewFxmjbJ",
        "outputId": "23c0a072-548b-45f4-cf1e-4dbb2e38ad4c"
      },
      "outputs": [
        {
          "data": {
            "text/plain": [
              "24     623146\n",
              "60     329485\n",
              "59       3145\n",
              "4        1072\n",
              "3         955\n",
              "5         942\n",
              "23        633\n",
              "2         439\n",
              "6         400\n",
              "41        288\n",
              "42        269\n",
              "1         268\n",
              "40        163\n",
              "7          89\n",
              "58         83\n",
              "8          79\n",
              "43         78\n",
              "44         44\n",
              "9          38\n",
              "49         28\n",
              "45         26\n",
              "39         25\n",
              "53         17\n",
              "52         16\n",
              "51         15\n",
              "46         15\n",
              "0          14\n",
              "47         13\n",
              "48         13\n",
              "50         11\n",
              "38         11\n",
              "10          9\n",
              "54          6\n",
              "55          6\n",
              "36          6\n",
              "33          5\n",
              "19          5\n",
              "37          4\n",
              "120         4\n",
              "30          3\n",
              "34          3\n",
              "27          3\n",
              "11          2\n",
              "25          2\n",
              "61          2\n",
              "12          2\n",
              "13          2\n",
              "81          1\n",
              "28          1\n",
              "21          1\n",
              "22          1\n",
              "29          1\n",
              "84          1\n",
              "70          1\n",
              "83          1\n",
              "Name: Term, dtype: int64"
            ]
          },
          "execution_count": 7,
          "metadata": {},
          "output_type": "execute_result"
        }
      ],
      "source": [
        "df['Term'].value_counts()"
      ]
    },
    {
      "cell_type": "markdown",
      "metadata": {
        "id": "4os_sARGmjbJ"
      },
      "source": [
        "### Log-transform 'InitialApprovalAmount','CurrentApprovalAmount','TOTAL_PROCEED','PROCEED_Per_Job','JobsReported'\n",
        "'PROCEED_Diff' not log-transformed due to log(0) resulting in -inf, please use the original scaled_standard"
      ]
    },
    {
      "cell_type": "code",
      "execution_count": null,
      "metadata": {
        "id": "5-mK6cRPmjbJ"
      },
      "outputs": [],
      "source": [
        "# following variables are significantly large in scale\n",
        "big = ['InitialApprovalAmount','CurrentApprovalAmount','TOTAL_PROCEED','PROCEED_Per_Job','JobsReported']\n",
        "\n",
        "for var in big:\n",
        "    #df[f'log_{var}'] = np.log(df[var])\n",
        "    df[f'log_{var}'] = [np.log(x) if x > 0 else 0 for x in df[var]]"
      ]
    },
    {
      "cell_type": "markdown",
      "metadata": {
        "id": "H-HvhbSImjbK"
      },
      "source": [
        "Comparing columns before and after transformation, we expect the x-axis to be more manageable."
      ]
    },
    {
      "cell_type": "code",
      "execution_count": null,
      "metadata": {
        "colab": {
          "base_uri": "https://localhost:8080/",
          "height": 171
        },
        "id": "v1swapeLmjbK",
        "outputId": "2daffe01-5026-4363-bcd1-3313fdc27eaf"
      },
      "outputs": [
        {
          "data": {
            "image/png": "[encoded data removed]",
            "text/plain": [
              "<Figure size 1600x400 with 2 Axes>"
            ]
          },
          "metadata": {},
          "output_type": "display_data"
        }
      ],
      "source": [
        "fig, axes = plt.subplots(1,2, figsize = (16,4))\n",
        "\n",
        "sns.histplot(df[['InitialApprovalAmount']], kde = True, ax = axes[0])\n",
        "sns.histplot(df[['log_InitialApprovalAmount']], kde = True, ax = axes[1])\n",
        "plt.tight_layout()\n",
        "plt.show()"
      ]
    },
    {
      "cell_type": "code",
      "execution_count": null,
      "metadata": {
        "colab": {
          "base_uri": "https://localhost:8080/",
          "height": 171
        },
        "id": "avJpIHm0mjbK",
        "outputId": "0d01c2ce-352b-460f-a584-1623509dbdc6"
      },
      "outputs": [
        {
          "data": {
            "image/png": "[encoded data removed]",
            "text/plain": [
              "<Figure size 1600x400 with 2 Axes>"
            ]
          },
          "metadata": {},
          "output_type": "display_data"
        }
      ],
      "source": [
        "fig, axes = plt.subplots(1,2, figsize = (16,4))\n",
        "\n",
        "sns.histplot(df[['CurrentApprovalAmount']], kde = True, ax = axes[0])\n",
        "sns.histplot(df[['log_CurrentApprovalAmount']], kde = True, ax = axes[1])\n",
        "plt.tight_layout()\n",
        "plt.show()"
      ]
    },
    {
      "cell_type": "code",
      "execution_count": null,
      "metadata": {
        "colab": {
          "base_uri": "https://localhost:8080/",
          "height": 171
        },
        "id": "nTsmXu94mjbK",
        "outputId": "ba16c7c6-9813-4488-9353-c20b954095eb"
      },
      "outputs": [
        {
          "data": {
            "image/png": "[encoded data removed]",
            "text/plain": [
              "<Figure size 1600x400 with 2 Axes>"
            ]
          },
          "metadata": {},
          "output_type": "display_data"
        }
      ],
      "source": [
        "fig, axes = plt.subplots(1,2, figsize = (16,4))\n",
        "\n",
        "sns.histplot(df[['TOTAL_PROCEED']], kde = True, ax = axes[0])\n",
        "sns.histplot(df[['log_TOTAL_PROCEED']], kde = True, ax = axes[1])\n",
        "plt.tight_layout()\n",
        "plt.show()"
      ]
    },
    {
      "cell_type": "code",
      "execution_count": null,
      "metadata": {
        "colab": {
          "base_uri": "https://localhost:8080/",
          "height": 171
        },
        "id": "hkuBBG6ImjbK",
        "outputId": "68dfb414-1c87-4b6b-dceb-224c322ddf92"
      },
      "outputs": [
        {
          "data": {
            "image/png": "[encoded data removed]",
            "text/plain": [
              "<Figure size 1600x400 with 2 Axes>"
            ]
          },
          "metadata": {},
          "output_type": "display_data"
        }
      ],
      "source": [
        "fig, axes = plt.subplots(1,2, figsize = (16,4))\n",
        "\n",
        "sns.histplot(df[['PROCEED_Per_Job']], kde = True, ax = axes[0])\n",
        "sns.histplot(df[['log_PROCEED_Per_Job']], kde = True, ax = axes[1])\n",
        "plt.tight_layout()\n",
        "plt.show()"
      ]
    },
    {
      "cell_type": "code",
      "execution_count": null,
      "metadata": {
        "colab": {
          "base_uri": "https://localhost:8080/",
          "height": 171
        },
        "id": "ZKBVptnbmjbL",
        "outputId": "fc177b98-61ef-4318-89b0-07e09dadbb1e"
      },
      "outputs": [
        {
          "data": {
            "image/png": "[encoded data removed]",
            "text/plain": [
              "<Figure size 1600x400 with 2 Axes>"
            ]
          },
          "metadata": {},
          "output_type": "display_data"
        }
      ],
      "source": [
        "fig, axes = plt.subplots(1,2, figsize = (16,4))\n",
        "\n",
        "sns.histplot(df[['JobsReported']], kde = True, ax = axes[0])\n",
        "sns.histplot(df[['log_JobsReported']], kde = True, ax = axes[1])\n",
        "plt.tight_layout()\n",
        "plt.show()"
      ]
    },
    {
      "cell_type": "markdown",
      "metadata": {
        "id": "6K69A_KymjbL"
      },
      "source": [
        "### Standardising log-transformed variables"
      ]
    },
    {
      "cell_type": "code",
      "execution_count": null,
      "metadata": {
        "id": "dAP0wiRPmjbL"
      },
      "outputs": [],
      "source": [
        "log_to_standardise = ['log_InitialApprovalAmount','log_CurrentApprovalAmount', 'log_TOTAL_PROCEED','log_PROCEED_Per_Job','log_JobsReported']\n",
        "\n",
        "scaler = StandardScaler()\n",
        "\n",
        "for field in log_to_standardise:\n",
        "    df[f'{field}_standardised'] = scaler.fit_transform(df[[field]])"
      ]
    },
    {
      "cell_type": "markdown",
      "metadata": {
        "id": "3HqvGk-ImjbL"
      },
      "source": [
        "### Percentages variables transformation\n",
        "\n",
        "Since all _pct variables are summed to 1 for each row, and noticing that most rows have 1 to PAYROLL_PROCEED_pct (indicating 100% allocation to payroll), we will take a ratio of proceeds that went to payroll versus proceeds that went to all other aspects.\n",
        "\n",
        "The formula: ln((1+payroll_proceed_pct)/(1+sum(all other pct)))\n",
        "\n",
        "1 is added to numerator and denominator to aid in calculation"
      ]
    },
    {
      "cell_type": "code",
      "execution_count": null,
      "metadata": {
        "id": "t5g01Z1amjbL"
      },
      "outputs": [],
      "source": [
        "payroll_scaler = StandardScaler()\n",
        "\n",
        "df['payroll_over_other'] = np.log((1+df['PAYROLL_PROCEED_pct'])/(1+df[['UTILITIES_PROCEED_pct','MORTGAGE_INTEREST_PROCEED_pct','RENT_PROCEED_pct',\n",
        "                                                                       'REFINANCE_EIDL_PROCEED_pct','HEALTH_CARE_PROCEED_pct','DEBT_INTEREST_PROCEED_pct'\n",
        "                                                                       ]].sum(axis=1)))\n",
        "\n",
        "df['payroll_over_other'] = payroll_scaler.fit_transform(df['payroll_over_other'].values.reshape((-1, 1)))"
      ]
    },
    {
      "cell_type": "markdown",
      "metadata": {
        "id": "jAALY6P6mjbL"
      },
      "source": [
        "Just for clarity, the dataframes will be split into\n",
        "\n",
        "1. Original dataset as loaded (df_original)\n",
        "2. Dataset as transformed up to now (df_new)\n",
        "\n",
        "Lists of various variables are provided, please feel free to drop accordingly.\n",
        "\n",
        "If your model requires dummy variables, please use the next section."
      ]
    },
    {
      "cell_type": "code",
      "execution_count": null,
      "metadata": {
        "id": "7WZzWSaimjbL"
      },
      "outputs": [],
      "source": [
        "# list of encoded variables\n",
        "encoded = ['ProcessingMethod_encoded','LoanStatus_encoded','RuralUrbanIndicator_encoded','HubzoneIndicator_encoded','LMIIndicator_encoded',\n",
        "           'BusinessAgeDescription_encoded','Race_encoded','Ethnicity_encoded','BusinessType_encoded','Gender_encoded','Veteran_encoded','Industry_encoded']\n",
        "\n",
        "encoded_drop = ['ProcessingMethod_encoded','LoanStatus_encoded','RuralUrbanIndicator_encoded',\n",
        "           'BusinessAgeDescription_encoded','Race_encoded','Ethnicity_encoded','BusinessType_encoded','Gender_encoded','Veteran_encoded','Industry_encoded']\n",
        "\n",
        "\n",
        "# list of existing standardised variables - drop\n",
        "standardised_drop = ['Term_standardised','JobsReported_standardised','UTILITIES_PROCEED_pct_standardised','PAYROLL_PROCEED_pct_standardised',\n",
        "                'MORTGAGE_INTEREST_PROCEED_pct_standardised','RENT_PROCEED_pct_standardised','REFINANCE_EIDL_PROCEED_pct_standardised','HEALTH_CARE_PROCEED_pct_standardised',\n",
        "                'DEBT_INTEREST_PROCEED_pct_standardised','InitialApprovalAmount_scaled_standardised','CurrentApprovalAmount_scaled_standardised','TOTAL_PROCEED_scaled_standardised',\n",
        "                'PROCEED_Per_Job_scaled_standardised']\n",
        "\n",
        "standardised_keep = ['PROCEED_Diff_standardised']\n",
        "\n",
        "# list of log_transformed variables\n",
        "logged = ['log_InitialApprovalAmount','log_CurrentApprovalAmount','log_TOTAL_PROCEED','log_PROCEED_Per_Job','log_JobsReported']\n",
        "\n",
        "# list of log_transformed_standardised variables\n",
        "log_standardise = ['log_InitialApprovalAmount_standardised','log_CurrentApprovalAmount_standardised','log_TOTAL_PROCEED_standardised',\n",
        "                   'log_PROCEED_Per_Job_standardised','log_JobsReported_standardised']\n",
        "\n",
        "# list of pct variables - drop\n",
        "pct = ['PAYROLL_PROCEED_pct','UTILITIES_PROCEED_pct','MORTGAGE_INTEREST_PROCEED_pct','RENT_PROCEED_pct','REFINANCE_EIDL_PROCEED_pct','HEALTH_CARE_PROCEED_pct','DEBT_INTEREST_PROCEED_pct']\n",
        "\n",
        "# list of commonly dropped varibles (please feel free to use your own)\n",
        "drop = ['Unnamed: 0', 'LoanNumber','DateApproved','SBAOfficeCode','BorrowerName','BorrowerCity','BorrowerZip','Term','InitialApprovalAmount','CurrentApprovalAmount',\n",
        "        'FranchiseName','ServicingLenderName','ServicingLenderZip', 'ProjectCity','NAICSCode','TOTAL_PROCEED','PROCEED_Diff']\n",
        "\n",
        "# original dataframe from ppp_transformed_updated.csv\n",
        "# df_original\n",
        "\n",
        "# original dataframe with Term transformation, log transformation, log standardised and dummies -> new dataframe transformed up to now\n",
        "df_new = df.copy()"
      ]
    },
    {
      "cell_type": "code",
      "execution_count": null,
      "metadata": {
        "id": "1udHmgj6mjbM"
      },
      "outputs": [],
      "source": [
        "# drop columns that are not required in your model"
      ]
    },
    {
      "cell_type": "markdown",
      "metadata": {
        "id": "ze2-uPzZmjbM"
      },
      "source": [
        "### Creating dummy variables"
      ]
    },
    {
      "cell_type": "code",
      "execution_count": null,
      "metadata": {
        "colab": {
          "base_uri": "https://localhost:8080/"
        },
        "id": "gZDa11DomjbN",
        "outputId": "e6d038e8-d0a4-485e-cad2-5286fdfb3bf0"
      },
      "outputs": [
        {
          "data": {
            "text/plain": [
              "Index(['Unnamed: 0', 'LoanNumber', 'DateApproved', 'SBAOfficeCode',\n",
              "       'BorrowerName', 'BorrowerCity', 'BorrowerZip', 'Term',\n",
              "       'InitialApprovalAmount', 'CurrentApprovalAmount',\n",
              "       ...\n",
              "       'Industry_Mining, quarrying, and oil and gas extraction',\n",
              "       'Industry_Nonclassifiable establishment',\n",
              "       'Industry_Other services (except public administration) ',\n",
              "       'Industry_Professional, scientific, and technical services',\n",
              "       'Industry_Public service ',\n",
              "       'Industry_Real estate and rental and leasing', 'Industry_Retail trade',\n",
              "       'Industry_Transportation and warehousing', 'Industry_Utilities',\n",
              "       'Industry_Wholesale trade'],\n",
              "      dtype='object', length=208)"
            ]
          },
          "execution_count": 23,
          "metadata": {},
          "output_type": "execute_result"
        }
      ],
      "source": [
        "df = df # please add the dataframe you are using\n",
        "\n",
        "dummies = ['BorrowerState', 'Term_cat','ProcessingMethod','LoanStatus','RuralUrbanIndicator',\n",
        "          'BusinessAgeDescription','Race','Ethnicity','BusinessType','Gender',\n",
        "           'Veteran','Industry']\n",
        "\n",
        "df_with_dummies = df.copy()\n",
        "df_with_dummies = pd.get_dummies(df_with_dummies, columns = dummies)\n",
        "\n",
        "df_with_dummies.columns"
      ]
    },
    {
      "cell_type": "code",
      "execution_count": null,
      "metadata": {
        "colab": {
          "base_uri": "https://localhost:8080/"
        },
        "id": "F-2iMIl0t5p4",
        "outputId": "f7bad478-99be-4129-c76f-e3c2d12b1486"
      },
      "outputs": [
        {
          "name": "stdout",
          "output_type": "stream",
          "text": [
            "<class 'pandas.core.frame.DataFrame'>\n",
            "RangeIndex: 961892 entries, 0 to 961891\n",
            "Columns: 208 entries, Unnamed: 0 to Industry_Wholesale trade\n",
            "dtypes: float64(38), int64(20), object(11), uint8(139)\n",
            "memory usage: 633.9+ MB\n"
          ]
        }
      ],
      "source": [
        "df_with_dummies.info()"
      ]
    },
    {
      "cell_type": "code",
      "execution_count": null,
      "metadata": {
        "colab": {
          "base_uri": "https://localhost:8080/"
        },
        "id": "0Z_7TtE-xW0o",
        "outputId": "986cdb7b-2628-49eb-f5ab-ba3acf42cc4a"
      },
      "outputs": [
        {
          "data": {
            "text/plain": [
              "Index(['Unnamed: 0', 'LoanNumber', 'DateApproved', 'SBAOfficeCode',\n",
              "       'BorrowerName', 'BorrowerCity', 'BorrowerZip', 'Term',\n",
              "       'InitialApprovalAmount', 'CurrentApprovalAmount',\n",
              "       ...\n",
              "       'Industry_Mining, quarrying, and oil and gas extraction',\n",
              "       'Industry_Nonclassifiable establishment',\n",
              "       'Industry_Other services (except public administration) ',\n",
              "       'Industry_Professional, scientific, and technical services',\n",
              "       'Industry_Public service ',\n",
              "       'Industry_Real estate and rental and leasing', 'Industry_Retail trade',\n",
              "       'Industry_Transportation and warehousing', 'Industry_Utilities',\n",
              "       'Industry_Wholesale trade'],\n",
              "      dtype='object', length=208)"
            ]
          },
          "execution_count": 25,
          "metadata": {},
          "output_type": "execute_result"
        }
      ],
      "source": [
        "df_with_dummies.columns"
      ]
    },
    {
      "cell_type": "code",
      "execution_count": null,
      "metadata": {
        "colab": {
          "base_uri": "https://localhost:8080/"
        },
        "id": "sgOdNcdPzaig",
        "outputId": "57ba7a14-a201-45ad-8e93-9daecd2a4e0c"
      },
      "outputs": [
        {
          "data": {
            "text/plain": [
              "['Unnamed: 0',\n",
              " 'LoanNumber',\n",
              " 'DateApproved',\n",
              " 'SBAOfficeCode',\n",
              " 'BorrowerName',\n",
              " 'BorrowerCity',\n",
              " 'BorrowerZip',\n",
              " 'Term',\n",
              " 'InitialApprovalAmount',\n",
              " 'CurrentApprovalAmount',\n",
              " 'FranchiseName',\n",
              " 'ServicingLenderName',\n",
              " 'ServicingLenderZip',\n",
              " 'HubzoneIndicator',\n",
              " 'LMIIndicator',\n",
              " 'ProjectCity',\n",
              " 'JobsReported',\n",
              " 'NAICSCode',\n",
              " 'TOTAL_PROCEED',\n",
              " 'PROCEED_Diff',\n",
              " 'UTILITIES_PROCEED_pct',\n",
              " 'PAYROLL_PROCEED_pct',\n",
              " 'MORTGAGE_INTEREST_PROCEED_pct',\n",
              " 'RENT_PROCEED_pct',\n",
              " 'REFINANCE_EIDL_PROCEED_pct',\n",
              " 'HEALTH_CARE_PROCEED_pct',\n",
              " 'DEBT_INTEREST_PROCEED_pct',\n",
              " 'PROCEED_Per_Job',\n",
              " 'isAfterBiden',\n",
              " 'isDiffBorrowerAndProjectCity',\n",
              " 'Subsector',\n",
              " 'ProcessingMethod_encoded',\n",
              " 'LoanStatus_encoded',\n",
              " 'RuralUrbanIndicator_encoded',\n",
              " 'HubzoneIndicator_encoded',\n",
              " 'LMIIndicator_encoded',\n",
              " 'BusinessAgeDescription_encoded',\n",
              " 'Race_encoded',\n",
              " 'Ethnicity_encoded',\n",
              " 'BusinessType_encoded',\n",
              " 'Gender_encoded',\n",
              " 'Veteran_encoded',\n",
              " 'Industry_encoded',\n",
              " 'Term_standardised',\n",
              " 'JobsReported_standardised',\n",
              " 'PROCEED_Diff_standardised',\n",
              " 'UTILITIES_PROCEED_pct_standardised',\n",
              " 'PAYROLL_PROCEED_pct_standardised',\n",
              " 'MORTGAGE_INTEREST_PROCEED_pct_standardised',\n",
              " 'RENT_PROCEED_pct_standardised',\n",
              " 'REFINANCE_EIDL_PROCEED_pct_standardised',\n",
              " 'HEALTH_CARE_PROCEED_pct_standardised',\n",
              " 'DEBT_INTEREST_PROCEED_pct_standardised',\n",
              " 'InitialApprovalAmount_scaled_standardised',\n",
              " 'CurrentApprovalAmount_scaled_standardised',\n",
              " 'TOTAL_PROCEED_scaled_standardised',\n",
              " 'PROCEED_Per_Job_scaled_standardised',\n",
              " 'isFraud',\n",
              " 'log_InitialApprovalAmount',\n",
              " 'log_CurrentApprovalAmount',\n",
              " 'log_TOTAL_PROCEED',\n",
              " 'log_PROCEED_Per_Job',\n",
              " 'log_JobsReported',\n",
              " 'log_InitialApprovalAmount_standardised',\n",
              " 'log_CurrentApprovalAmount_standardised',\n",
              " 'log_TOTAL_PROCEED_standardised',\n",
              " 'log_PROCEED_Per_Job_standardised',\n",
              " 'log_JobsReported_standardised',\n",
              " 'payroll_over_other',\n",
              " 'BorrowerState_AK',\n",
              " 'BorrowerState_AL',\n",
              " 'BorrowerState_AR',\n",
              " 'BorrowerState_AS',\n",
              " 'BorrowerState_AZ',\n",
              " 'BorrowerState_CA',\n",
              " 'BorrowerState_CO',\n",
              " 'BorrowerState_CT',\n",
              " 'BorrowerState_DC',\n",
              " 'BorrowerState_DE',\n",
              " 'BorrowerState_FL',\n",
              " 'BorrowerState_GA',\n",
              " 'BorrowerState_GU',\n",
              " 'BorrowerState_HI',\n",
              " 'BorrowerState_IA',\n",
              " 'BorrowerState_ID',\n",
              " 'BorrowerState_IL',\n",
              " 'BorrowerState_IN',\n",
              " 'BorrowerState_KS',\n",
              " 'BorrowerState_KY',\n",
              " 'BorrowerState_LA',\n",
              " 'BorrowerState_MA',\n",
              " 'BorrowerState_MD',\n",
              " 'BorrowerState_ME',\n",
              " 'BorrowerState_MI',\n",
              " 'BorrowerState_MN',\n",
              " 'BorrowerState_MO',\n",
              " 'BorrowerState_MP',\n",
              " 'BorrowerState_MS',\n",
              " 'BorrowerState_MT',\n",
              " 'BorrowerState_NC',\n",
              " 'BorrowerState_ND',\n",
              " 'BorrowerState_NE',\n",
              " 'BorrowerState_NH',\n",
              " 'BorrowerState_NJ',\n",
              " 'BorrowerState_NM',\n",
              " 'BorrowerState_NV',\n",
              " 'BorrowerState_NY',\n",
              " 'BorrowerState_OH',\n",
              " 'BorrowerState_OK',\n",
              " 'BorrowerState_OR',\n",
              " 'BorrowerState_PA',\n",
              " 'BorrowerState_PR',\n",
              " 'BorrowerState_RI',\n",
              " 'BorrowerState_SC',\n",
              " 'BorrowerState_SD',\n",
              " 'BorrowerState_TN',\n",
              " 'BorrowerState_TX',\n",
              " 'BorrowerState_UNK',\n",
              " 'BorrowerState_UT',\n",
              " 'BorrowerState_VA',\n",
              " 'BorrowerState_VI',\n",
              " 'BorrowerState_VT',\n",
              " 'BorrowerState_WA',\n",
              " 'BorrowerState_WI',\n",
              " 'BorrowerState_WV',\n",
              " 'BorrowerState_WY',\n",
              " 'Term_cat_between_24_60',\n",
              " 'Term_cat_is_24',\n",
              " 'Term_cat_is_60',\n",
              " 'Term_cat_less_than_24',\n",
              " 'Term_cat_more_than_60',\n",
              " 'ProcessingMethod_PPP',\n",
              " 'ProcessingMethod_PPS',\n",
              " 'LoanStatus_Active Un-Disbursed',\n",
              " 'LoanStatus_Exemption 4',\n",
              " 'LoanStatus_Paid in Full',\n",
              " 'RuralUrbanIndicator_R',\n",
              " 'RuralUrbanIndicator_U',\n",
              " 'BusinessAgeDescription_Change of Ownership',\n",
              " 'BusinessAgeDescription_Existing or more than 2 years old',\n",
              " 'BusinessAgeDescription_New Business or 2 years or less',\n",
              " 'BusinessAgeDescription_Startup, Loan Funds will Open Business',\n",
              " 'BusinessAgeDescription_Unanswered',\n",
              " 'Race_American Indian or Alaska Native',\n",
              " 'Race_Asian',\n",
              " 'Race_Black or African American',\n",
              " 'Race_Eskimo & Aleut',\n",
              " 'Race_Multi Group',\n",
              " 'Race_Native Hawaiian or Other Pacific Islander',\n",
              " 'Race_Puerto Rican',\n",
              " 'Race_Unanswered',\n",
              " 'Race_White',\n",
              " 'Ethnicity_Hispanic or Latino',\n",
              " 'Ethnicity_Not Hispanic or Latino',\n",
              " 'Ethnicity_Unknown/NotStated',\n",
              " 'BusinessType_501(c) – Non Profit except 3,4,6,',\n",
              " 'BusinessType_501(c)19 – Non Profit Veterans',\n",
              " 'BusinessType_501(c)3 – Non Profit',\n",
              " 'BusinessType_501(c)6 – Non Profit Membership',\n",
              " 'BusinessType_Cooperative',\n",
              " 'BusinessType_Corporation',\n",
              " 'BusinessType_Employee Stock Ownership Plan(ESOP)',\n",
              " 'BusinessType_Housing Co-op',\n",
              " 'BusinessType_Independent Contractors',\n",
              " 'BusinessType_Joint Venture',\n",
              " 'BusinessType_Limited  Liability Company(LLC)',\n",
              " 'BusinessType_Limited Liability Partnership',\n",
              " 'BusinessType_Non-Profit Childcare Center',\n",
              " 'BusinessType_Non-Profit Organization',\n",
              " 'BusinessType_Partnership',\n",
              " 'BusinessType_Professional Association',\n",
              " 'BusinessType_Qualified Joint-Venture (spouses)',\n",
              " 'BusinessType_Rollover as Business Start-Ups (ROB',\n",
              " 'BusinessType_Self-Employed Individuals',\n",
              " 'BusinessType_Single Member LLC',\n",
              " 'BusinessType_Sole Proprietorship',\n",
              " 'BusinessType_Subchapter S Corporation',\n",
              " 'BusinessType_Tenant in Common',\n",
              " 'BusinessType_Tribal Concerns',\n",
              " 'BusinessType_Trust',\n",
              " 'BusinessType_Unknown',\n",
              " 'Gender_Female Owned',\n",
              " 'Gender_Male Owned',\n",
              " 'Gender_Unanswered',\n",
              " 'Veteran_Non-Veteran',\n",
              " 'Veteran_Unanswered',\n",
              " 'Veteran_Veteran',\n",
              " 'Industry_Accommodation and food services',\n",
              " 'Industry_Administrative and support and waste management and remediation services',\n",
              " 'Industry_Agriculture, forestry, fishing and hunting',\n",
              " 'Industry_Arts, entertainment, and recreation',\n",
              " 'Industry_Construction',\n",
              " 'Industry_Educational services',\n",
              " 'Industry_Finance and insurance',\n",
              " 'Industry_Health care and social assistance',\n",
              " 'Industry_Information',\n",
              " 'Industry_Management of companies and enterprises',\n",
              " 'Industry_Manufacturing',\n",
              " 'Industry_Mining, quarrying, and oil and gas extraction',\n",
              " 'Industry_Nonclassifiable establishment',\n",
              " 'Industry_Other services (except public administration) ',\n",
              " 'Industry_Professional, scientific, and technical services',\n",
              " 'Industry_Public service ',\n",
              " 'Industry_Real estate and rental and leasing',\n",
              " 'Industry_Retail trade',\n",
              " 'Industry_Transportation and warehousing',\n",
              " 'Industry_Utilities',\n",
              " 'Industry_Wholesale trade']"
            ]
          },
          "execution_count": 27,
          "metadata": {},
          "output_type": "execute_result"
        }
      ],
      "source": [
        "df_with_dummies.columns.tolist()"
      ]
    },
    {
      "cell_type": "code",
      "execution_count": null,
      "metadata": {
        "id": "NTUgEqADuzKk"
      },
      "outputs": [],
      "source": [
        "df_with_dummies.drop(columns=drop, inplace = True)\n",
        "df_with_dummies.drop(columns=encoded_drop, inplace = True)\n",
        "df_with_dummies.drop(columns=standardised_drop, inplace = True)\n",
        "df_with_dummies.drop(columns=pct, inplace = True)\n",
        "\n"
      ]
    },
    {
      "cell_type": "code",
      "execution_count": null,
      "metadata": {
        "colab": {
          "base_uri": "https://localhost:8080/"
        },
        "id": "HvcPHrl1wpIV",
        "outputId": "acd3b7fa-1b4e-4843-8d79-0d36e2cbf2e9"
      },
      "outputs": [
        {
          "name": "stdout",
          "output_type": "stream",
          "text": [
            "<class 'pandas.core.frame.DataFrame'>\n",
            "RangeIndex: 961892 entries, 0 to 961891\n",
            "Columns: 161 entries, HubzoneIndicator to Industry_Wholesale trade\n",
            "dtypes: float64(14), int64(5), object(3), uint8(139)\n",
            "memory usage: 289.0+ MB\n"
          ]
        }
      ],
      "source": [
        "df_with_dummies.info()"
      ]
    },
    {
      "cell_type": "code",
      "execution_count": null,
      "metadata": {
        "colab": {
          "base_uri": "https://localhost:8080/"
        },
        "id": "Hfp39mBNvD9E",
        "outputId": "a2fa9bba-a249-433a-b197-70339d9d1298"
      },
      "outputs": [
        {
          "data": {
            "text/plain": [
              "Index(['HubzoneIndicator', 'LMIIndicator', 'JobsReported', 'PROCEED_Per_Job',\n",
              "       'isAfterBiden', 'isDiffBorrowerAndProjectCity', 'Subsector',\n",
              "       'HubzoneIndicator_encoded', 'LMIIndicator_encoded',\n",
              "       'PROCEED_Diff_standardised',\n",
              "       ...\n",
              "       'Industry_Mining, quarrying, and oil and gas extraction',\n",
              "       'Industry_Nonclassifiable establishment',\n",
              "       'Industry_Other services (except public administration) ',\n",
              "       'Industry_Professional, scientific, and technical services',\n",
              "       'Industry_Public service ',\n",
              "       'Industry_Real estate and rental and leasing', 'Industry_Retail trade',\n",
              "       'Industry_Transportation and warehousing', 'Industry_Utilities',\n",
              "       'Industry_Wholesale trade'],\n",
              "      dtype='object', length=161)"
            ]
          },
          "execution_count": 33,
          "metadata": {},
          "output_type": "execute_result"
        }
      ],
      "source": [
        "df_with_dummies.columns"
      ]
    },
    {
      "cell_type": "code",
      "execution_count": null,
      "metadata": {
        "colab": {
          "base_uri": "https://localhost:8080/"
        },
        "id": "j2rsjv180s-P",
        "outputId": "bb0a396c-6ade-403c-cca2-4b2b15cb0f8d"
      },
      "outputs": [
        {
          "data": {
            "text/plain": [
              " 0.335918     821996\n",
              "-2.617949      36248\n",
              "-2.046572      18366\n",
              "-11.144927      1865\n",
              "-0.878205       1753\n",
              "               ...  \n",
              "-8.693480          1\n",
              "-6.217031          1\n",
              "-6.117406          1\n",
              "-10.454217         1\n",
              "-4.014991          1\n",
              "Name: payroll_over_other, Length: 2129, dtype: int64"
            ]
          },
          "execution_count": 37,
          "metadata": {},
          "output_type": "execute_result"
        }
      ],
      "source": [
        "df_with_dummies['payroll_over_other'].value_counts()"
      ]
    },
    {
      "cell_type": "code",
      "execution_count": null,
      "metadata": {
        "id": "7B4UcDoG0JPq"
      },
      "outputs": [],
      "source": [
        "df_with_dummies.drop(columns=['HubzoneIndicator',\n",
        " 'LMIIndicator', 'JobsReported',\n",
        " 'PROCEED_Per_Job', 'log_InitialApprovalAmount',\n",
        " 'log_CurrentApprovalAmount',\n",
        " 'log_TOTAL_PROCEED',\n",
        " 'log_PROCEED_Per_Job',\n",
        " 'log_JobsReported', 'Subsector'], inplace=True)"
      ]
    },
    {
      "cell_type": "code",
      "execution_count": null,
      "metadata": {
        "colab": {
          "base_uri": "https://localhost:8080/"
        },
        "id": "cZvb-Xc9xsWx",
        "outputId": "899fa77c-8cc2-42ce-d4a6-f51406b6a3af"
      },
      "outputs": [
        {
          "data": {
            "text/plain": [
              "['isAfterBiden',\n",
              " 'isDiffBorrowerAndProjectCity',\n",
              " 'HubzoneIndicator_encoded',\n",
              " 'LMIIndicator_encoded',\n",
              " 'PROCEED_Diff_standardised',\n",
              " 'isFraud',\n",
              " 'log_InitialApprovalAmount_standardised',\n",
              " 'log_CurrentApprovalAmount_standardised',\n",
              " 'log_TOTAL_PROCEED_standardised',\n",
              " 'log_PROCEED_Per_Job_standardised',\n",
              " 'log_JobsReported_standardised',\n",
              " 'payroll_over_other',\n",
              " 'BorrowerState_AK',\n",
              " 'BorrowerState_AL',\n",
              " 'BorrowerState_AR',\n",
              " 'BorrowerState_AS',\n",
              " 'BorrowerState_AZ',\n",
              " 'BorrowerState_CA',\n",
              " 'BorrowerState_CO',\n",
              " 'BorrowerState_CT',\n",
              " 'BorrowerState_DC',\n",
              " 'BorrowerState_DE',\n",
              " 'BorrowerState_FL',\n",
              " 'BorrowerState_GA',\n",
              " 'BorrowerState_GU',\n",
              " 'BorrowerState_HI',\n",
              " 'BorrowerState_IA',\n",
              " 'BorrowerState_ID',\n",
              " 'BorrowerState_IL',\n",
              " 'BorrowerState_IN',\n",
              " 'BorrowerState_KS',\n",
              " 'BorrowerState_KY',\n",
              " 'BorrowerState_LA',\n",
              " 'BorrowerState_MA',\n",
              " 'BorrowerState_MD',\n",
              " 'BorrowerState_ME',\n",
              " 'BorrowerState_MI',\n",
              " 'BorrowerState_MN',\n",
              " 'BorrowerState_MO',\n",
              " 'BorrowerState_MP',\n",
              " 'BorrowerState_MS',\n",
              " 'BorrowerState_MT',\n",
              " 'BorrowerState_NC',\n",
              " 'BorrowerState_ND',\n",
              " 'BorrowerState_NE',\n",
              " 'BorrowerState_NH',\n",
              " 'BorrowerState_NJ',\n",
              " 'BorrowerState_NM',\n",
              " 'BorrowerState_NV',\n",
              " 'BorrowerState_NY',\n",
              " 'BorrowerState_OH',\n",
              " 'BorrowerState_OK',\n",
              " 'BorrowerState_OR',\n",
              " 'BorrowerState_PA',\n",
              " 'BorrowerState_PR',\n",
              " 'BorrowerState_RI',\n",
              " 'BorrowerState_SC',\n",
              " 'BorrowerState_SD',\n",
              " 'BorrowerState_TN',\n",
              " 'BorrowerState_TX',\n",
              " 'BorrowerState_UNK',\n",
              " 'BorrowerState_UT',\n",
              " 'BorrowerState_VA',\n",
              " 'BorrowerState_VI',\n",
              " 'BorrowerState_VT',\n",
              " 'BorrowerState_WA',\n",
              " 'BorrowerState_WI',\n",
              " 'BorrowerState_WV',\n",
              " 'BorrowerState_WY',\n",
              " 'Term_cat_between_24_60',\n",
              " 'Term_cat_is_24',\n",
              " 'Term_cat_is_60',\n",
              " 'Term_cat_less_than_24',\n",
              " 'Term_cat_more_than_60',\n",
              " 'ProcessingMethod_PPP',\n",
              " 'ProcessingMethod_PPS',\n",
              " 'LoanStatus_Active Un-Disbursed',\n",
              " 'LoanStatus_Exemption 4',\n",
              " 'LoanStatus_Paid in Full',\n",
              " 'RuralUrbanIndicator_R',\n",
              " 'RuralUrbanIndicator_U',\n",
              " 'BusinessAgeDescription_Change of Ownership',\n",
              " 'BusinessAgeDescription_Existing or more than 2 years old',\n",
              " 'BusinessAgeDescription_New Business or 2 years or less',\n",
              " 'BusinessAgeDescription_Startup, Loan Funds will Open Business',\n",
              " 'BusinessAgeDescription_Unanswered',\n",
              " 'Race_American Indian or Alaska Native',\n",
              " 'Race_Asian',\n",
              " 'Race_Black or African American',\n",
              " 'Race_Eskimo & Aleut',\n",
              " 'Race_Multi Group',\n",
              " 'Race_Native Hawaiian or Other Pacific Islander',\n",
              " 'Race_Puerto Rican',\n",
              " 'Race_Unanswered',\n",
              " 'Race_White',\n",
              " 'Ethnicity_Hispanic or Latino',\n",
              " 'Ethnicity_Not Hispanic or Latino',\n",
              " 'Ethnicity_Unknown/NotStated',\n",
              " 'BusinessType_501(c) – Non Profit except 3,4,6,',\n",
              " 'BusinessType_501(c)19 – Non Profit Veterans',\n",
              " 'BusinessType_501(c)3 – Non Profit',\n",
              " 'BusinessType_501(c)6 – Non Profit Membership',\n",
              " 'BusinessType_Cooperative',\n",
              " 'BusinessType_Corporation',\n",
              " 'BusinessType_Employee Stock Ownership Plan(ESOP)',\n",
              " 'BusinessType_Housing Co-op',\n",
              " 'BusinessType_Independent Contractors',\n",
              " 'BusinessType_Joint Venture',\n",
              " 'BusinessType_Limited  Liability Company(LLC)',\n",
              " 'BusinessType_Limited Liability Partnership',\n",
              " 'BusinessType_Non-Profit Childcare Center',\n",
              " 'BusinessType_Non-Profit Organization',\n",
              " 'BusinessType_Partnership',\n",
              " 'BusinessType_Professional Association',\n",
              " 'BusinessType_Qualified Joint-Venture (spouses)',\n",
              " 'BusinessType_Rollover as Business Start-Ups (ROB',\n",
              " 'BusinessType_Self-Employed Individuals',\n",
              " 'BusinessType_Single Member LLC',\n",
              " 'BusinessType_Sole Proprietorship',\n",
              " 'BusinessType_Subchapter S Corporation',\n",
              " 'BusinessType_Tenant in Common',\n",
              " 'BusinessType_Tribal Concerns',\n",
              " 'BusinessType_Trust',\n",
              " 'BusinessType_Unknown',\n",
              " 'Gender_Female Owned',\n",
              " 'Gender_Male Owned',\n",
              " 'Gender_Unanswered',\n",
              " 'Veteran_Non-Veteran',\n",
              " 'Veteran_Unanswered',\n",
              " 'Veteran_Veteran',\n",
              " 'Industry_Accommodation and food services',\n",
              " 'Industry_Administrative and support and waste management and remediation services',\n",
              " 'Industry_Agriculture, forestry, fishing and hunting',\n",
              " 'Industry_Arts, entertainment, and recreation',\n",
              " 'Industry_Construction',\n",
              " 'Industry_Educational services',\n",
              " 'Industry_Finance and insurance',\n",
              " 'Industry_Health care and social assistance',\n",
              " 'Industry_Information',\n",
              " 'Industry_Management of companies and enterprises',\n",
              " 'Industry_Manufacturing',\n",
              " 'Industry_Mining, quarrying, and oil and gas extraction',\n",
              " 'Industry_Nonclassifiable establishment',\n",
              " 'Industry_Other services (except public administration) ',\n",
              " 'Industry_Professional, scientific, and technical services',\n",
              " 'Industry_Public service ',\n",
              " 'Industry_Real estate and rental and leasing',\n",
              " 'Industry_Retail trade',\n",
              " 'Industry_Transportation and warehousing',\n",
              " 'Industry_Utilities',\n",
              " 'Industry_Wholesale trade']"
            ]
          },
          "execution_count": 40,
          "metadata": {},
          "output_type": "execute_result"
        }
      ],
      "source": [
        "df_with_dummies.columns.tolist()"
      ]
    },
    {
      "cell_type": "code",
      "execution_count": null,
      "metadata": {
        "id": "wFN_csUFy5Bl"
      },
      "outputs": [],
      "source": [
        "df_with_dummies.to_csv('/content/drive/MyDrive/ppp_transformed_new.csv')"
      ]
    },
    {
      "cell_type": "code",
      "execution_count": null,
      "metadata": {
        "id": "8QI208U76EtF"
      },
      "outputs": [],
      "source": []
    },
    {
      "cell_type": "markdown",
      "metadata": {
        "id": "tcJ_zwrnDrqX"
      },
      "source": [
        "# Model Training"
      ]
    },
    {
      "cell_type": "code",
      "execution_count": null,
      "metadata": {
        "colab": {
          "base_uri": "https://localhost:8080/"
        },
        "id": "QwghQ28vv8-J",
        "outputId": "6e27396a-4578-4ee0-ac76-2ec0d526a40e"
      },
      "outputs": [
        {
          "name": "stdout",
          "output_type": "stream",
          "text": [
            "Mounted at /content/drive\n"
          ]
        }
      ],
      "source": [
        "from google.colab import drive\n",
        "drive.mount('/content/drive')\n",
        "# %cd /content/drive/MyDrive/Colab Notebooks"
      ]
    },
    {
      "cell_type": "code",
      "execution_count": null,
      "metadata": {
        "id": "hxK6OTke9-A-"
      },
      "outputs": [],
      "source": [
        "import pandas as pd\n",
        "import sklearn.metrics as metrique\n",
        "from pandas import Series\n",
        "from sklearn.preprocessing import StandardScaler, MinMaxScaler\n",
        "from matplotlib import pyplot\n",
        "from sklearn.model_selection import train_test_split\n",
        "import numpy as np\n",
        "import tensorflow as tf\n",
        "\n",
        "\n",
        "\n",
        "from tensorflow.python.keras.utils import np_utils\n",
        "from keras.callbacks import EarlyStopping\n",
        "# from keras.utils import np_utils\n",
        "# from tensorflow.keras.utils import np_utils\n",
        "from sklearn.utils.class_weight import compute_class_weight\n",
        "\n",
        "from keras.callbacks import ModelCheckpoint\n",
        "from sklearn.metrics import accuracy_score\n",
        "from sklearn.metrics import classification_report, confusion_matrix\n",
        "from keras.models import Sequential\n",
        "# from keras.utils import np_utils\n",
        "from keras.layers import LSTM, Dense, Embedding, Dropout,Input, Attention, Layer, Concatenate, Permute, Dot, Multiply, Flatten, Reshape\n",
        "from keras.layers import RepeatVector, Dense, Activation, Lambda\n",
        "from keras.models import Sequential\n",
        "from keras import backend as K, regularizers, Model, metrics\n",
        "from keras.backend import cast"
      ]
    },
    {
      "cell_type": "code",
      "execution_count": null,
      "metadata": {
        "colab": {
          "base_uri": "https://localhost:8080/"
        },
        "id": "eSo3VqrI9-HV",
        "outputId": "0467ae0e-387c-48f6-e65a-991990d580d8"
      },
      "outputs": [
        {
          "name": "stdout",
          "output_type": "stream",
          "text": [
            "/content/drive/MyDrive\n"
          ]
        }
      ],
      "source": [
        "%cd /content/drive/MyDrive"
      ]
    },
    {
      "cell_type": "code",
      "execution_count": null,
      "metadata": {
        "id": "fBgGeUaq-FWZ"
      },
      "outputs": [],
      "source": [
        "data1 = pd.read_csv(\"DMBA/ppp_transformed_new.csv\")"
      ]
    },
    {
      "cell_type": "code",
      "execution_count": null,
      "metadata": {
        "colab": {
          "base_uri": "https://localhost:8080/"
        },
        "id": "fH2Ybud5-H35",
        "outputId": "c31365ed-8146-498a-d779-fd01334e550c"
      },
      "outputs": [
        {
          "name": "stdout",
          "output_type": "stream",
          "text": [
            "<class 'pandas.core.frame.DataFrame'>\n",
            "RangeIndex: 961892 entries, 0 to 961891\n",
            "Columns: 152 entries, Unnamed: 0 to Industry_Wholesale trade\n",
            "dtypes: float64(7), int64(145)\n",
            "memory usage: 1.1 GB\n"
          ]
        }
      ],
      "source": [
        "data1.info()"
      ]
    },
    {
      "cell_type": "code",
      "execution_count": null,
      "metadata": {
        "colab": {
          "base_uri": "https://localhost:8080/"
        },
        "id": "9iD1iKQAkZkQ",
        "outputId": "5f4cef9b-6a12-4845-e7a9-fb5f8afd9cd7"
      },
      "outputs": [
        {
          "data": {
            "text/plain": [
              "['Unnamed: 0',\n",
              " 'isAfterBiden',\n",
              " 'isDiffBorrowerAndProjectCity',\n",
              " 'HubzoneIndicator_encoded',\n",
              " 'LMIIndicator_encoded',\n",
              " 'PROCEED_Diff_standardised',\n",
              " 'isFraud',\n",
              " 'log_InitialApprovalAmount_standardised',\n",
              " 'log_CurrentApprovalAmount_standardised',\n",
              " 'log_TOTAL_PROCEED_standardised',\n",
              " 'log_PROCEED_Per_Job_standardised',\n",
              " 'log_JobsReported_standardised',\n",
              " 'payroll_over_other',\n",
              " 'BorrowerState_AK',\n",
              " 'BorrowerState_AL',\n",
              " 'BorrowerState_AR',\n",
              " 'BorrowerState_AS',\n",
              " 'BorrowerState_AZ',\n",
              " 'BorrowerState_CA',\n",
              " 'BorrowerState_CO',\n",
              " 'BorrowerState_CT',\n",
              " 'BorrowerState_DC',\n",
              " 'BorrowerState_DE',\n",
              " 'BorrowerState_FL',\n",
              " 'BorrowerState_GA',\n",
              " 'BorrowerState_GU',\n",
              " 'BorrowerState_HI',\n",
              " 'BorrowerState_IA',\n",
              " 'BorrowerState_ID',\n",
              " 'BorrowerState_IL',\n",
              " 'BorrowerState_IN',\n",
              " 'BorrowerState_KS',\n",
              " 'BorrowerState_KY',\n",
              " 'BorrowerState_LA',\n",
              " 'BorrowerState_MA',\n",
              " 'BorrowerState_MD',\n",
              " 'BorrowerState_ME',\n",
              " 'BorrowerState_MI',\n",
              " 'BorrowerState_MN',\n",
              " 'BorrowerState_MO',\n",
              " 'BorrowerState_MP',\n",
              " 'BorrowerState_MS',\n",
              " 'BorrowerState_MT',\n",
              " 'BorrowerState_NC',\n",
              " 'BorrowerState_ND',\n",
              " 'BorrowerState_NE',\n",
              " 'BorrowerState_NH',\n",
              " 'BorrowerState_NJ',\n",
              " 'BorrowerState_NM',\n",
              " 'BorrowerState_NV',\n",
              " 'BorrowerState_NY',\n",
              " 'BorrowerState_OH',\n",
              " 'BorrowerState_OK',\n",
              " 'BorrowerState_OR',\n",
              " 'BorrowerState_PA',\n",
              " 'BorrowerState_PR',\n",
              " 'BorrowerState_RI',\n",
              " 'BorrowerState_SC',\n",
              " 'BorrowerState_SD',\n",
              " 'BorrowerState_TN',\n",
              " 'BorrowerState_TX',\n",
              " 'BorrowerState_UNK',\n",
              " 'BorrowerState_UT',\n",
              " 'BorrowerState_VA',\n",
              " 'BorrowerState_VI',\n",
              " 'BorrowerState_VT',\n",
              " 'BorrowerState_WA',\n",
              " 'BorrowerState_WI',\n",
              " 'BorrowerState_WV',\n",
              " 'BorrowerState_WY',\n",
              " 'Term_cat_between_24_60',\n",
              " 'Term_cat_is_24',\n",
              " 'Term_cat_is_60',\n",
              " 'Term_cat_less_than_24',\n",
              " 'Term_cat_more_than_60',\n",
              " 'ProcessingMethod_PPP',\n",
              " 'ProcessingMethod_PPS',\n",
              " 'LoanStatus_Active Un-Disbursed',\n",
              " 'LoanStatus_Exemption 4',\n",
              " 'LoanStatus_Paid in Full',\n",
              " 'RuralUrbanIndicator_R',\n",
              " 'RuralUrbanIndicator_U',\n",
              " 'BusinessAgeDescription_Change of Ownership',\n",
              " 'BusinessAgeDescription_Existing or more than 2 years old',\n",
              " 'BusinessAgeDescription_New Business or 2 years or less',\n",
              " 'BusinessAgeDescription_Startup, Loan Funds will Open Business',\n",
              " 'BusinessAgeDescription_Unanswered',\n",
              " 'Race_American Indian or Alaska Native',\n",
              " 'Race_Asian',\n",
              " 'Race_Black or African American',\n",
              " 'Race_Eskimo & Aleut',\n",
              " 'Race_Multi Group',\n",
              " 'Race_Native Hawaiian or Other Pacific Islander',\n",
              " 'Race_Puerto Rican',\n",
              " 'Race_Unanswered',\n",
              " 'Race_White',\n",
              " 'Ethnicity_Hispanic or Latino',\n",
              " 'Ethnicity_Not Hispanic or Latino',\n",
              " 'Ethnicity_Unknown/NotStated',\n",
              " 'BusinessType_501(c) – Non Profit except 3,4,6,',\n",
              " 'BusinessType_501(c)19 – Non Profit Veterans',\n",
              " 'BusinessType_501(c)3 – Non Profit',\n",
              " 'BusinessType_501(c)6 – Non Profit Membership',\n",
              " 'BusinessType_Cooperative',\n",
              " 'BusinessType_Corporation',\n",
              " 'BusinessType_Employee Stock Ownership Plan(ESOP)',\n",
              " 'BusinessType_Housing Co-op',\n",
              " 'BusinessType_Independent Contractors',\n",
              " 'BusinessType_Joint Venture',\n",
              " 'BusinessType_Limited  Liability Company(LLC)',\n",
              " 'BusinessType_Limited Liability Partnership',\n",
              " 'BusinessType_Non-Profit Childcare Center',\n",
              " 'BusinessType_Non-Profit Organization',\n",
              " 'BusinessType_Partnership',\n",
              " 'BusinessType_Professional Association',\n",
              " 'BusinessType_Qualified Joint-Venture (spouses)',\n",
              " 'BusinessType_Rollover as Business Start-Ups (ROB',\n",
              " 'BusinessType_Self-Employed Individuals',\n",
              " 'BusinessType_Single Member LLC',\n",
              " 'BusinessType_Sole Proprietorship',\n",
              " 'BusinessType_Subchapter S Corporation',\n",
              " 'BusinessType_Tenant in Common',\n",
              " 'BusinessType_Tribal Concerns',\n",
              " 'BusinessType_Trust',\n",
              " 'BusinessType_Unknown',\n",
              " 'Gender_Female Owned',\n",
              " 'Gender_Male Owned',\n",
              " 'Gender_Unanswered',\n",
              " 'Veteran_Non-Veteran',\n",
              " 'Veteran_Unanswered',\n",
              " 'Veteran_Veteran',\n",
              " 'Industry_Accommodation and food services',\n",
              " 'Industry_Administrative and support and waste management and remediation services',\n",
              " 'Industry_Agriculture, forestry, fishing and hunting',\n",
              " 'Industry_Arts, entertainment, and recreation',\n",
              " 'Industry_Construction',\n",
              " 'Industry_Educational services',\n",
              " 'Industry_Finance and insurance',\n",
              " 'Industry_Health care and social assistance',\n",
              " 'Industry_Information',\n",
              " 'Industry_Management of companies and enterprises',\n",
              " 'Industry_Manufacturing',\n",
              " 'Industry_Mining, quarrying, and oil and gas extraction',\n",
              " 'Industry_Nonclassifiable establishment',\n",
              " 'Industry_Other services (except public administration) ',\n",
              " 'Industry_Professional, scientific, and technical services',\n",
              " 'Industry_Public service ',\n",
              " 'Industry_Real estate and rental and leasing',\n",
              " 'Industry_Retail trade',\n",
              " 'Industry_Transportation and warehousing',\n",
              " 'Industry_Utilities',\n",
              " 'Industry_Wholesale trade']"
            ]
          },
          "execution_count": 6,
          "metadata": {},
          "output_type": "execute_result"
        }
      ],
      "source": [
        "data1.columns.tolist()"
      ]
    },
    {
      "cell_type": "code",
      "execution_count": null,
      "metadata": {
        "id": "_bCB5NL38q4i"
      },
      "outputs": [],
      "source": [
        "data1.drop(columns=['Unnamed: 0'], inplace=True)"
      ]
    },
    {
      "cell_type": "code",
      "execution_count": null,
      "metadata": {
        "id": "1LHRdwvB-uhp"
      },
      "outputs": [],
      "source": [
        "new_df1 = data1"
      ]
    },
    {
      "cell_type": "code",
      "execution_count": null,
      "metadata": {
        "id": "KXUMOD8IB69P"
      },
      "outputs": [],
      "source": [
        "X = new_df1.drop(['isFraud'], axis = 'columns')\n",
        "Label_Data = new_df1['isFraud']"
      ]
    },
    {
      "cell_type": "code",
      "execution_count": null,
      "metadata": {
        "colab": {
          "base_uri": "https://localhost:8080/"
        },
        "id": "EI7ZOU0nQAbX",
        "outputId": "7137ce2c-6bf0-48ae-caa9-385d40c357e6"
      },
      "outputs": [
        {
          "name": "stdout",
          "output_type": "stream",
          "text": [
            "Counter({0: 961369, 1: 523})\n"
          ]
        }
      ],
      "source": [
        "# Generate and plot imbalanced classification dataset\n",
        "from collections import Counter\n",
        "from matplotlib import pyplot\n",
        "from numpy import where\n",
        "# summarize class distribution\n",
        "counter = Counter(new_df1['isFraud'])\n",
        "print(counter)\n",
        "# scatter plot of examples by class label\n",
        "for label, _ in counter.items():\n",
        "\trow_ix = where(new_df1['isFraud'] == label)[0]"
      ]
    },
    {
      "cell_type": "code",
      "execution_count": null,
      "metadata": {
        "colab": {
          "base_uri": "https://localhost:8080/"
        },
        "id": "EvlPOelQynkE",
        "outputId": "89201c16-1eb7-4d75-c8a9-994d4e282d1c"
      },
      "outputs": [
        {
          "data": {
            "text/plain": [
              "Index(['isAfterBiden', 'isDiffBorrowerAndProjectCity',\n",
              "       'HubzoneIndicator_encoded', 'LMIIndicator_encoded',\n",
              "       'PROCEED_Diff_standardised', 'log_InitialApprovalAmount_standardised',\n",
              "       'log_CurrentApprovalAmount_standardised',\n",
              "       'log_TOTAL_PROCEED_standardised', 'log_PROCEED_Per_Job_standardised',\n",
              "       'log_JobsReported_standardised',\n",
              "       ...\n",
              "       'Industry_Mining, quarrying, and oil and gas extraction',\n",
              "       'Industry_Nonclassifiable establishment',\n",
              "       'Industry_Other services (except public administration) ',\n",
              "       'Industry_Professional, scientific, and technical services',\n",
              "       'Industry_Public service ',\n",
              "       'Industry_Real estate and rental and leasing', 'Industry_Retail trade',\n",
              "       'Industry_Transportation and warehousing', 'Industry_Utilities',\n",
              "       'Industry_Wholesale trade'],\n",
              "      dtype='object', length=150)"
            ]
          },
          "execution_count": 11,
          "metadata": {},
          "output_type": "execute_result"
        }
      ],
      "source": [
        "X.columns"
      ]
    },
    {
      "cell_type": "code",
      "execution_count": null,
      "metadata": {
        "colab": {
          "base_uri": "https://localhost:8080/",
          "height": 308
        },
        "id": "yK-JTxDWQAzm",
        "outputId": "102f68a5-b8c4-4c70-dd03-f9aaf24839e2"
      },
      "outputs": [
        {
          "data": {
            "text/html": [
              "\n",
              "  <div id=\"df-ea070641-0762-44f0-a427-cbdd9e417c53\" class=\"colab-df-container\">\n",
              "    <div>\n",
              "<style scoped>\n",
              "    .dataframe tbody tr th:only-of-type {\n",
              "        vertical-align: middle;\n",
              "    }\n",
              "\n",
              "    .dataframe tbody tr th {\n",
              "        vertical-align: top;\n",
              "    }\n",
              "\n",
              "    .dataframe thead th {\n",
              "        text-align: right;\n",
              "    }\n",
              "</style>\n",
              "<table border=\"1\" class=\"dataframe\">\n",
              "  <thead>\n",
              "    <tr style=\"text-align: right;\">\n",
              "      <th></th>\n",
              "      <th>isAfterBiden</th>\n",
              "      <th>isDiffBorrowerAndProjectCity</th>\n",
              "      <th>HubzoneIndicator_encoded</th>\n",
              "      <th>LMIIndicator_encoded</th>\n",
              "      <th>PROCEED_Diff_standardised</th>\n",
              "      <th>log_InitialApprovalAmount_standardised</th>\n",
              "      <th>log_CurrentApprovalAmount_standardised</th>\n",
              "      <th>log_TOTAL_PROCEED_standardised</th>\n",
              "      <th>log_PROCEED_Per_Job_standardised</th>\n",
              "      <th>log_JobsReported_standardised</th>\n",
              "      <th>...</th>\n",
              "      <th>Industry_Mining, quarrying, and oil and gas extraction</th>\n",
              "      <th>Industry_Nonclassifiable establishment</th>\n",
              "      <th>Industry_Other services (except public administration)</th>\n",
              "      <th>Industry_Professional, scientific, and technical services</th>\n",
              "      <th>Industry_Public service</th>\n",
              "      <th>Industry_Real estate and rental and leasing</th>\n",
              "      <th>Industry_Retail trade</th>\n",
              "      <th>Industry_Transportation and warehousing</th>\n",
              "      <th>Industry_Utilities</th>\n",
              "      <th>Industry_Wholesale trade</th>\n",
              "    </tr>\n",
              "  </thead>\n",
              "  <tbody>\n",
              "    <tr>\n",
              "      <th>0</th>\n",
              "      <td>0</td>\n",
              "      <td>0</td>\n",
              "      <td>0</td>\n",
              "      <td>0</td>\n",
              "      <td>-0.004199</td>\n",
              "      <td>0.985015</td>\n",
              "      <td>0.995606</td>\n",
              "      <td>0.995611</td>\n",
              "      <td>0.255028</td>\n",
              "      <td>0.715986</td>\n",
              "      <td>...</td>\n",
              "      <td>0</td>\n",
              "      <td>0</td>\n",
              "      <td>0</td>\n",
              "      <td>0</td>\n",
              "      <td>0</td>\n",
              "      <td>0</td>\n",
              "      <td>0</td>\n",
              "      <td>0</td>\n",
              "      <td>0</td>\n",
              "      <td>0</td>\n",
              "    </tr>\n",
              "    <tr>\n",
              "      <th>1</th>\n",
              "      <td>0</td>\n",
              "      <td>0</td>\n",
              "      <td>1</td>\n",
              "      <td>1</td>\n",
              "      <td>-0.004199</td>\n",
              "      <td>0.928765</td>\n",
              "      <td>0.938581</td>\n",
              "      <td>0.938587</td>\n",
              "      <td>-0.036805</td>\n",
              "      <td>0.904422</td>\n",
              "      <td>...</td>\n",
              "      <td>0</td>\n",
              "      <td>0</td>\n",
              "      <td>0</td>\n",
              "      <td>0</td>\n",
              "      <td>0</td>\n",
              "      <td>0</td>\n",
              "      <td>0</td>\n",
              "      <td>0</td>\n",
              "      <td>0</td>\n",
              "      <td>0</td>\n",
              "    </tr>\n",
              "    <tr>\n",
              "      <th>2</th>\n",
              "      <td>0</td>\n",
              "      <td>0</td>\n",
              "      <td>0</td>\n",
              "      <td>0</td>\n",
              "      <td>-0.004199</td>\n",
              "      <td>0.421815</td>\n",
              "      <td>0.424650</td>\n",
              "      <td>0.424659</td>\n",
              "      <td>1.176095</td>\n",
              "      <td>-0.533077</td>\n",
              "      <td>...</td>\n",
              "      <td>0</td>\n",
              "      <td>0</td>\n",
              "      <td>0</td>\n",
              "      <td>0</td>\n",
              "      <td>0</td>\n",
              "      <td>0</td>\n",
              "      <td>0</td>\n",
              "      <td>0</td>\n",
              "      <td>0</td>\n",
              "      <td>0</td>\n",
              "    </tr>\n",
              "    <tr>\n",
              "      <th>3</th>\n",
              "      <td>0</td>\n",
              "      <td>0</td>\n",
              "      <td>0</td>\n",
              "      <td>0</td>\n",
              "      <td>-0.004199</td>\n",
              "      <td>0.019799</td>\n",
              "      <td>0.017099</td>\n",
              "      <td>0.017109</td>\n",
              "      <td>0.494347</td>\n",
              "      <td>-0.331917</td>\n",
              "      <td>...</td>\n",
              "      <td>0</td>\n",
              "      <td>0</td>\n",
              "      <td>0</td>\n",
              "      <td>0</td>\n",
              "      <td>0</td>\n",
              "      <td>0</td>\n",
              "      <td>0</td>\n",
              "      <td>1</td>\n",
              "      <td>0</td>\n",
              "      <td>0</td>\n",
              "    </tr>\n",
              "    <tr>\n",
              "      <th>4</th>\n",
              "      <td>0</td>\n",
              "      <td>0</td>\n",
              "      <td>0</td>\n",
              "      <td>0</td>\n",
              "      <td>-0.004199</td>\n",
              "      <td>-0.125152</td>\n",
              "      <td>-0.129848</td>\n",
              "      <td>-0.129838</td>\n",
              "      <td>0.518176</td>\n",
              "      <td>-0.479404</td>\n",
              "      <td>...</td>\n",
              "      <td>0</td>\n",
              "      <td>0</td>\n",
              "      <td>0</td>\n",
              "      <td>0</td>\n",
              "      <td>0</td>\n",
              "      <td>0</td>\n",
              "      <td>0</td>\n",
              "      <td>0</td>\n",
              "      <td>0</td>\n",
              "      <td>0</td>\n",
              "    </tr>\n",
              "  </tbody>\n",
              "</table>\n",
              "<p>5 rows × 150 columns</p>\n",
              "</div>\n",
              "    <div class=\"colab-df-buttons\">\n",
              "\n",
              "  <div class=\"colab-df-container\">\n",
              "    <button class=\"colab-df-convert\" onclick=\"convertToInteractive('df-ea070641-0762-44f0-a427-cbdd9e417c53')\"\n",
              "            title=\"Convert this dataframe to an interactive table.\"\n",
              "            style=\"display:none;\">\n",
              "\n",
              "  <svg xmlns=\"http://www.w3.org/2000/svg\" height=\"24px\" viewBox=\"0 -960 960 960\">\n",
              "    <path d=\"M120-120v-720h720v720H120Zm60-500h600v-160H180v160Zm220 220h160v-160H400v160Zm0 220h160v-160H400v160ZM180-400h160v-160H180v160Zm440 0h160v-160H620v160ZM180-180h160v-160H180v160Zm440 0h160v-160H620v160Z\"/>\n",
              "  </svg>\n",
              "    </button>\n",
              "\n",
              "  <style>\n",
              "    .colab-df-container {\n",
              "      display:flex;\n",
              "      gap: 12px;\n",
              "    }\n",
              "\n",
              "    .colab-df-convert {\n",
              "      background-color: #E8F0FE;\n",
              "      border: none;\n",
              "      border-radius: 50%;\n",
              "      cursor: pointer;\n",
              "      display: none;\n",
              "      fill: #1967D2;\n",
              "      height: 32px;\n",
              "      padding: 0 0 0 0;\n",
              "      width: 32px;\n",
              "    }\n",
              "\n",
              "    .colab-df-convert:hover {\n",
              "      background-color: #E2EBFA;\n",
              "      box-shadow: 0px 1px 2px rgba(60, 64, 67, 0.3), 0px 1px 3px 1px rgba(60, 64, 67, 0.15);\n",
              "      fill: #174EA6;\n",
              "    }\n",
              "\n",
              "    .colab-df-buttons div {\n",
              "      margin-bottom: 4px;\n",
              "    }\n",
              "\n",
              "    [theme=dark] .colab-df-convert {\n",
              "      background-color: #3B4455;\n",
              "      fill: #D2E3FC;\n",
              "    }\n",
              "\n",
              "    [theme=dark] .colab-df-convert:hover {\n",
              "      background-color: #434B5C;\n",
              "      box-shadow: 0px 1px 3px 1px rgba(0, 0, 0, 0.15);\n",
              "      filter: drop-shadow(0px 1px 2px rgba(0, 0, 0, 0.3));\n",
              "      fill: #FFFFFF;\n",
              "    }\n",
              "  </style>\n",
              "\n",
              "    <script>\n",
              "      const buttonEl =\n",
              "        document.querySelector('#df-ea070641-0762-44f0-a427-cbdd9e417c53 button.colab-df-convert');\n",
              "      buttonEl.style.display =\n",
              "        google.colab.kernel.accessAllowed ? 'block' : 'none';\n",
              "\n",
              "      async function convertToInteractive(key) {\n",
              "        const element = document.querySelector('#df-ea070641-0762-44f0-a427-cbdd9e417c53');\n",
              "        const dataTable =\n",
              "          await google.colab.kernel.invokeFunction('convertToInteractive',\n",
              "                                                    [key], {});\n",
              "        if (!dataTable) return;\n",
              "\n",
              "        const docLinkHtml = 'Like what you see? Visit the ' +\n",
              "          '<a target=\"_blank\" href=https://colab.research.google.com/notebooks/data_table.ipynb>data table notebook</a>'\n",
              "          + ' to learn more about interactive tables.';\n",
              "        element.innerHTML = '';\n",
              "        dataTable['output_type'] = 'display_data';\n",
              "        await google.colab.output.renderOutput(dataTable, element);\n",
              "        const docLink = document.createElement('div');\n",
              "        docLink.innerHTML = docLinkHtml;\n",
              "        element.appendChild(docLink);\n",
              "      }\n",
              "    </script>\n",
              "  </div>\n",
              "\n",
              "\n",
              "<div id=\"df-25638461-c26f-4d21-ae93-0a7c62820448\">\n",
              "  <button class=\"colab-df-quickchart\" onclick=\"quickchart('df-25638461-c26f-4d21-ae93-0a7c62820448')\"\n",
              "            title=\"Suggest charts.\"\n",
              "            style=\"display:none;\">\n",
              "\n",
              "<svg xmlns=\"http://www.w3.org/2000/svg\" height=\"24px\"viewBox=\"0 0 24 24\"\n",
              "     width=\"24px\">\n",
              "    <g>\n",
              "        <path d=\"M19 3H5c-1.1 0-2 .9-2 2v14c0 1.1.9 2 2 2h14c1.1 0 2-.9 2-2V5c0-1.1-.9-2-2-2zM9 17H7v-7h2v7zm4 0h-2V7h2v10zm4 0h-2v-4h2v4z\"/>\n",
              "    </g>\n",
              "</svg>\n",
              "  </button>\n",
              "\n",
              "<style>\n",
              "  .colab-df-quickchart {\n",
              "      --bg-color: #E8F0FE;\n",
              "      --fill-color: #1967D2;\n",
              "      --hover-bg-color: #E2EBFA;\n",
              "      --hover-fill-color: #174EA6;\n",
              "      --disabled-fill-color: #AAA;\n",
              "      --disabled-bg-color: #DDD;\n",
              "  }\n",
              "\n",
              "  [theme=dark] .colab-df-quickchart {\n",
              "      --bg-color: #3B4455;\n",
              "      --fill-color: #D2E3FC;\n",
              "      --hover-bg-color: #434B5C;\n",
              "      --hover-fill-color: #FFFFFF;\n",
              "      --disabled-bg-color: #3B4455;\n",
              "      --disabled-fill-color: #666;\n",
              "  }\n",
              "\n",
              "  .colab-df-quickchart {\n",
              "    background-color: var(--bg-color);\n",
              "    border: none;\n",
              "    border-radius: 50%;\n",
              "    cursor: pointer;\n",
              "    display: none;\n",
              "    fill: var(--fill-color);\n",
              "    height: 32px;\n",
              "    padding: 0;\n",
              "    width: 32px;\n",
              "  }\n",
              "\n",
              "  .colab-df-quickchart:hover {\n",
              "    background-color: var(--hover-bg-color);\n",
              "    box-shadow: 0 1px 2px rgba(60, 64, 67, 0.3), 0 1px 3px 1px rgba(60, 64, 67, 0.15);\n",
              "    fill: var(--button-hover-fill-color);\n",
              "  }\n",
              "\n",
              "  .colab-df-quickchart-complete:disabled,\n",
              "  .colab-df-quickchart-complete:disabled:hover {\n",
              "    background-color: var(--disabled-bg-color);\n",
              "    fill: var(--disabled-fill-color);\n",
              "    box-shadow: none;\n",
              "  }\n",
              "\n",
              "  .colab-df-spinner {\n",
              "    border: 2px solid var(--fill-color);\n",
              "    border-color: transparent;\n",
              "    border-bottom-color: var(--fill-color);\n",
              "    animation:\n",
              "      spin 1s steps(1) infinite;\n",
              "  }\n",
              "\n",
              "  @keyframes spin {\n",
              "    0% {\n",
              "      border-color: transparent;\n",
              "      border-bottom-color: var(--fill-color);\n",
              "      border-left-color: var(--fill-color);\n",
              "    }\n",
              "    20% {\n",
              "      border-color: transparent;\n",
              "      border-left-color: var(--fill-color);\n",
              "      border-top-color: var(--fill-color);\n",
              "    }\n",
              "    30% {\n",
              "      border-color: transparent;\n",
              "      border-left-color: var(--fill-color);\n",
              "      border-top-color: var(--fill-color);\n",
              "      border-right-color: var(--fill-color);\n",
              "    }\n",
              "    40% {\n",
              "      border-color: transparent;\n",
              "      border-right-color: var(--fill-color);\n",
              "      border-top-color: var(--fill-color);\n",
              "    }\n",
              "    60% {\n",
              "      border-color: transparent;\n",
              "      border-right-color: var(--fill-color);\n",
              "    }\n",
              "    80% {\n",
              "      border-color: transparent;\n",
              "      border-right-color: var(--fill-color);\n",
              "      border-bottom-color: var(--fill-color);\n",
              "    }\n",
              "    90% {\n",
              "      border-color: transparent;\n",
              "      border-bottom-color: var(--fill-color);\n",
              "    }\n",
              "  }\n",
              "</style>\n",
              "\n",
              "  <script>\n",
              "    async function quickchart(key) {\n",
              "      const quickchartButtonEl =\n",
              "        document.querySelector('#' + key + ' button');\n",
              "      quickchartButtonEl.disabled = true;  // To prevent multiple clicks.\n",
              "      quickchartButtonEl.classList.add('colab-df-spinner');\n",
              "      try {\n",
              "        const charts = await google.colab.kernel.invokeFunction(\n",
              "            'suggestCharts', [key], {});\n",
              "      } catch (error) {\n",
              "        console.error('Error during call to suggestCharts:', error);\n",
              "      }\n",
              "      quickchartButtonEl.classList.remove('colab-df-spinner');\n",
              "      quickchartButtonEl.classList.add('colab-df-quickchart-complete');\n",
              "    }\n",
              "    (() => {\n",
              "      let quickchartButtonEl =\n",
              "        document.querySelector('#df-25638461-c26f-4d21-ae93-0a7c62820448 button');\n",
              "      quickchartButtonEl.style.display =\n",
              "        google.colab.kernel.accessAllowed ? 'block' : 'none';\n",
              "    })();\n",
              "  </script>\n",
              "</div>\n",
              "    </div>\n",
              "  </div>\n"
            ],
            "text/plain": [
              "   isAfterBiden  isDiffBorrowerAndProjectCity  HubzoneIndicator_encoded  \\\n",
              "0             0                             0                         0   \n",
              "1             0                             0                         1   \n",
              "2             0                             0                         0   \n",
              "3             0                             0                         0   \n",
              "4             0                             0                         0   \n",
              "\n",
              "   LMIIndicator_encoded  PROCEED_Diff_standardised  \\\n",
              "0                     0                  -0.004199   \n",
              "1                     1                  -0.004199   \n",
              "2                     0                  -0.004199   \n",
              "3                     0                  -0.004199   \n",
              "4                     0                  -0.004199   \n",
              "\n",
              "   log_InitialApprovalAmount_standardised  \\\n",
              "0                                0.985015   \n",
              "1                                0.928765   \n",
              "2                                0.421815   \n",
              "3                                0.019799   \n",
              "4                               -0.125152   \n",
              "\n",
              "   log_CurrentApprovalAmount_standardised  log_TOTAL_PROCEED_standardised  \\\n",
              "0                                0.995606                        0.995611   \n",
              "1                                0.938581                        0.938587   \n",
              "2                                0.424650                        0.424659   \n",
              "3                                0.017099                        0.017109   \n",
              "4                               -0.129848                       -0.129838   \n",
              "\n",
              "   log_PROCEED_Per_Job_standardised  log_JobsReported_standardised  ...  \\\n",
              "0                          0.255028                       0.715986  ...   \n",
              "1                         -0.036805                       0.904422  ...   \n",
              "2                          1.176095                      -0.533077  ...   \n",
              "3                          0.494347                      -0.331917  ...   \n",
              "4                          0.518176                      -0.479404  ...   \n",
              "\n",
              "   Industry_Mining, quarrying, and oil and gas extraction  \\\n",
              "0                                                  0        \n",
              "1                                                  0        \n",
              "2                                                  0        \n",
              "3                                                  0        \n",
              "4                                                  0        \n",
              "\n",
              "   Industry_Nonclassifiable establishment  \\\n",
              "0                                       0   \n",
              "1                                       0   \n",
              "2                                       0   \n",
              "3                                       0   \n",
              "4                                       0   \n",
              "\n",
              "   Industry_Other services (except public administration)   \\\n",
              "0                                                  0         \n",
              "1                                                  0         \n",
              "2                                                  0         \n",
              "3                                                  0         \n",
              "4                                                  0         \n",
              "\n",
              "   Industry_Professional, scientific, and technical services  \\\n",
              "0                                                  0           \n",
              "1                                                  0           \n",
              "2                                                  0           \n",
              "3                                                  0           \n",
              "4                                                  0           \n",
              "\n",
              "   Industry_Public service   Industry_Real estate and rental and leasing  \\\n",
              "0                         0                                            0   \n",
              "1                         0                                            0   \n",
              "2                         0                                            0   \n",
              "3                         0                                            0   \n",
              "4                         0                                            0   \n",
              "\n",
              "   Industry_Retail trade  Industry_Transportation and warehousing  \\\n",
              "0                      0                                        0   \n",
              "1                      0                                        0   \n",
              "2                      0                                        0   \n",
              "3                      0                                        1   \n",
              "4                      0                                        0   \n",
              "\n",
              "   Industry_Utilities  Industry_Wholesale trade  \n",
              "0                   0                         0  \n",
              "1                   0                         0  \n",
              "2                   0                         0  \n",
              "3                   0                         0  \n",
              "4                   0                         0  \n",
              "\n",
              "[5 rows x 150 columns]"
            ]
          },
          "execution_count": 12,
          "metadata": {},
          "output_type": "execute_result"
        }
      ],
      "source": [
        "X.head()"
      ]
    },
    {
      "cell_type": "code",
      "execution_count": null,
      "metadata": {
        "id": "befcq7_1y65K"
      },
      "outputs": [],
      "source": [
        "y = Label_Data"
      ]
    },
    {
      "cell_type": "code",
      "execution_count": null,
      "metadata": {
        "colab": {
          "base_uri": "https://localhost:8080/"
        },
        "id": "7-eJ4RbpXmKz",
        "outputId": "1edaa191-1ddd-46c8-b9f9-39d7824c7bb2"
      },
      "outputs": [
        {
          "data": {
            "text/plain": [
              "0    961369\n",
              "1       523\n",
              "Name: isFraud, dtype: int64"
            ]
          },
          "execution_count": 14,
          "metadata": {},
          "output_type": "execute_result"
        }
      ],
      "source": [
        "y.value_counts()"
      ]
    },
    {
      "cell_type": "code",
      "execution_count": null,
      "metadata": {
        "colab": {
          "base_uri": "https://localhost:8080/"
        },
        "id": "QrwQ4Vo2YP1q",
        "outputId": "e2bfac8c-10dd-4018-f8c0-394840be9f6c"
      },
      "outputs": [
        {
          "data": {
            "text/plain": [
              "array([0, 1])"
            ]
          },
          "execution_count": 15,
          "metadata": {},
          "output_type": "execute_result"
        }
      ],
      "source": [
        "np.unique(y)"
      ]
    },
    {
      "cell_type": "code",
      "execution_count": null,
      "metadata": {
        "colab": {
          "base_uri": "https://localhost:8080/"
        },
        "id": "-ksKz9KCYUWG",
        "outputId": "9405b6a6-334c-4918-8829-32f59f271ce3"
      },
      "outputs": [
        {
          "data": {
            "text/plain": [
              "pandas.core.series.Series"
            ]
          },
          "execution_count": 16,
          "metadata": {},
          "output_type": "execute_result"
        }
      ],
      "source": [
        "type(y)"
      ]
    },
    {
      "cell_type": "code",
      "execution_count": null,
      "metadata": {
        "id": "uhnxSo5tYfBQ"
      },
      "outputs": [],
      "source": [
        "y_arr = pd.Series.to_numpy(y)"
      ]
    },
    {
      "cell_type": "code",
      "execution_count": null,
      "metadata": {
        "colab": {
          "base_uri": "https://localhost:8080/"
        },
        "id": "acSVgWbZYqxY",
        "outputId": "6fb5feb1-9428-4eff-e82a-92232ff23cb7"
      },
      "outputs": [
        {
          "data": {
            "text/plain": [
              "0         1\n",
              "1         1\n",
              "2         1\n",
              "3         1\n",
              "4         1\n",
              "         ..\n",
              "961887    0\n",
              "961888    0\n",
              "961889    0\n",
              "961890    0\n",
              "961891    0\n",
              "Name: isFraud, Length: 961892, dtype: int64"
            ]
          },
          "execution_count": 18,
          "metadata": {},
          "output_type": "execute_result"
        }
      ],
      "source": [
        "y"
      ]
    },
    {
      "cell_type": "code",
      "execution_count": null,
      "metadata": {
        "colab": {
          "base_uri": "https://localhost:8080/"
        },
        "id": "iVnLMaUVYnBX",
        "outputId": "3210b7e2-7e9a-41ae-a17e-199b16a993f1"
      },
      "outputs": [
        {
          "data": {
            "text/plain": [
              "array([1, 1, 1, ..., 0, 0, 0])"
            ]
          },
          "execution_count": 19,
          "metadata": {},
          "output_type": "execute_result"
        }
      ],
      "source": [
        "y_arr"
      ]
    },
    {
      "cell_type": "code",
      "execution_count": null,
      "metadata": {
        "id": "ChaHCLSdXnwh"
      },
      "outputs": [],
      "source": [
        "# weight_array = compute_class_weight('balanced', np.unique(y), y_arr)  # y is the array containing your labels\n",
        "weight_array = compute_class_weight(class_weight='balanced', classes= np.unique(y), y= y_arr)\n",
        "weight_dict = dict(zip(np.unique(y), weight_array))  # dictionary containing your weights"
      ]
    },
    {
      "cell_type": "code",
      "execution_count": null,
      "metadata": {
        "colab": {
          "base_uri": "https://localhost:8080/"
        },
        "id": "LFIpkiB7Za35",
        "outputId": "989770c5-faa4-4dab-8eb7-9e70a7b61db5"
      },
      "outputs": [
        {
          "data": {
            "text/plain": [
              "array([5.00272008e-01, 9.19590822e+02])"
            ]
          },
          "execution_count": 21,
          "metadata": {},
          "output_type": "execute_result"
        }
      ],
      "source": [
        "weight_array"
      ]
    },
    {
      "cell_type": "code",
      "execution_count": null,
      "metadata": {
        "colab": {
          "base_uri": "https://localhost:8080/"
        },
        "id": "hgmQOzDATvgx",
        "outputId": "8a70b1d8-205f-4c96-e200-7fae081b14cc"
      },
      "outputs": [
        {
          "name": "stdout",
          "output_type": "stream",
          "text": [
            "0    576821\n",
            "1       314\n",
            "Name: isFraud, dtype: int64\n",
            "0    384548\n",
            "1       209\n",
            "Name: isFraud, dtype: int64\n",
            "0    192274\n",
            "1       104\n",
            "Name: isFraud, dtype: int64\n",
            "0    192274\n",
            "1       105\n",
            "Name: isFraud, dtype: int64\n"
          ]
        }
      ],
      "source": [
        "X_train, X_test, y_train, y_test = train_test_split(X, y, test_size=0.4, stratify=y)\n",
        "print(y_train.value_counts())\n",
        "print(y_test.value_counts())\n",
        "X_val, X_test, y_val, y_test = train_test_split(X_test, y_test, test_size=0.5, stratify=y_test)\n",
        "print(y_val.value_counts())\n",
        "print(y_test.value_counts())\n"
      ]
    },
    {
      "cell_type": "code",
      "execution_count": null,
      "metadata": {
        "id": "r9sBlO0QXd54"
      },
      "outputs": [],
      "source": [
        "from sklearn.preprocessing import StandardScaler\n",
        "## Standardizing the data\n",
        "std_scale = StandardScaler()\n",
        "X_train_trans = std_scale.fit_transform(X_train)\n",
        "X_test_trans = std_scale.transform(X_test)\n",
        "X_val_trans = std_scale.transform(X_val)"
      ]
    },
    {
      "cell_type": "code",
      "execution_count": null,
      "metadata": {
        "colab": {
          "base_uri": "https://localhost:8080/"
        },
        "id": "ULq_BwcaS5l0",
        "outputId": "3ce7ec2d-9b44-4338-de25-004111d44620"
      },
      "outputs": [
        {
          "name": "stdout",
          "output_type": "stream",
          "text": [
            "Counter({0: 576821, 1: 576821})\n"
          ]
        }
      ],
      "source": [
        "# transform the dataset\n",
        "from imblearn.over_sampling import SMOTE\n",
        "oversample = SMOTE()\n",
        "X_oversampled, Y_oversampled = oversample.fit_resample(X_train_trans, y_train)\n",
        "# summarize the new class distribution\n",
        "counter = Counter(Y_oversampled)\n",
        "print(counter)\n",
        "# scatter plot of examples by class label\n",
        "for label, _ in counter.items():\n",
        "\trow_ix = where(Y_oversampled == label)[0]"
      ]
    },
    {
      "cell_type": "code",
      "execution_count": null,
      "metadata": {
        "colab": {
          "base_uri": "https://localhost:8080/"
        },
        "id": "JbWxtbRgU7rz",
        "outputId": "bd62077a-ced7-4a1e-db03-a236ada9112e"
      },
      "outputs": [
        {
          "data": {
            "text/plain": [
              "(577135, 150)"
            ]
          },
          "execution_count": 25,
          "metadata": {},
          "output_type": "execute_result"
        }
      ],
      "source": [
        "X_train.shape"
      ]
    },
    {
      "cell_type": "code",
      "execution_count": null,
      "metadata": {
        "colab": {
          "base_uri": "https://localhost:8080/"
        },
        "id": "c2E3AhzvU70q",
        "outputId": "7e0a6174-d438-4020-b374-033af8d972a4"
      },
      "outputs": [
        {
          "data": {
            "text/plain": [
              "(192379, 150)"
            ]
          },
          "execution_count": 26,
          "metadata": {},
          "output_type": "execute_result"
        }
      ],
      "source": [
        "X_test.shape"
      ]
    },
    {
      "cell_type": "code",
      "execution_count": null,
      "metadata": {
        "id": "TrZjaNirVCNS"
      },
      "outputs": [],
      "source": [
        "# design network\n",
        "np.random.seed(7)\n",
        "\n",
        "# X_train et X_val sont des dataframe qui contient les features\n",
        "train_LSTM_X=X_oversampled\n",
        "val_LSTM_X=X_val_trans\n",
        "\n",
        "\n",
        "\n",
        "\n",
        "#-- new code --#\n",
        "feature_shape = train_LSTM_X.shape[1]\n",
        "## Reshape input to be 3D [samples, timesteps, features] (format for LSTM)\n",
        "train_LSTM_X = train_LSTM_X.reshape(train_LSTM_X.shape[0], 1, feature_shape) #\n",
        "val_LSTM_X = val_LSTM_X.reshape(val_LSTM_X.shape[0], 1, feature_shape)\n",
        "\n",
        "\n",
        "train_LSTM_y=Y_oversampled\n",
        "val_LSTM_y=y_val"
      ]
    },
    {
      "cell_type": "code",
      "execution_count": null,
      "metadata": {
        "colab": {
          "base_uri": "https://localhost:8080/"
        },
        "id": "vowa1RVrVCV1",
        "outputId": "05d099ea-aa48-4faf-8198-f8b10e5a709c"
      },
      "outputs": [
        {
          "data": {
            "text/plain": [
              "1153642"
            ]
          },
          "execution_count": 28,
          "metadata": {},
          "output_type": "execute_result"
        }
      ],
      "source": [
        "train_LSTM_X.shape[0]"
      ]
    },
    {
      "cell_type": "code",
      "execution_count": null,
      "metadata": {
        "colab": {
          "base_uri": "https://localhost:8080/"
        },
        "id": "-oRqWSeA9t9J",
        "outputId": "c4e99d53-2664-433a-c004-c2bfb2152d4f"
      },
      "outputs": [
        {
          "data": {
            "text/plain": [
              "192378"
            ]
          },
          "execution_count": 29,
          "metadata": {},
          "output_type": "execute_result"
        }
      ],
      "source": [
        "val_LSTM_X.shape[0]"
      ]
    },
    {
      "cell_type": "code",
      "execution_count": null,
      "metadata": {
        "colab": {
          "base_uri": "https://localhost:8080/"
        },
        "id": "PHamVdRsVCcm",
        "outputId": "0576d57f-da9f-47ce-b848-7c66c7ae44b3"
      },
      "outputs": [
        {
          "data": {
            "text/plain": [
              "1"
            ]
          },
          "execution_count": 30,
          "metadata": {},
          "output_type": "execute_result"
        }
      ],
      "source": [
        "train_LSTM_X.shape[1]"
      ]
    },
    {
      "cell_type": "code",
      "execution_count": null,
      "metadata": {
        "colab": {
          "base_uri": "https://localhost:8080/"
        },
        "id": "Gq8lHqs0K-2-",
        "outputId": "1719b91c-c3a5-4e35-9deb-2e23763f32f4"
      },
      "outputs": [
        {
          "data": {
            "text/plain": [
              "150"
            ]
          },
          "execution_count": 31,
          "metadata": {},
          "output_type": "execute_result"
        }
      ],
      "source": [
        "feature_shape"
      ]
    },
    {
      "cell_type": "code",
      "execution_count": null,
      "metadata": {
        "colab": {
          "base_uri": "https://localhost:8080/"
        },
        "id": "ulW4qQIrZtRt",
        "outputId": "aeeb8fe8-49e2-4277-9cf6-3846f8ab8745"
      },
      "outputs": [
        {
          "data": {
            "text/plain": [
              "array([[[-0.65336161, -0.02151381, -0.60581575, ..., -0.18495096,\n",
              "         -0.04849318, -0.23519185]],\n",
              "\n",
              "       [[ 1.53054599, -0.02151381,  1.65066689, ..., -0.18495096,\n",
              "         -0.04849318, -0.23519185]],\n",
              "\n",
              "       [[-0.65336161, -0.02151381, -0.60581575, ..., -0.18495096,\n",
              "         -0.04849318, -0.23519185]],\n",
              "\n",
              "       ...,\n",
              "\n",
              "       [[-0.65336161, -0.02151381, -0.60581575, ..., -0.18495096,\n",
              "         -0.04849318, -0.23519185]],\n",
              "\n",
              "       [[-0.65336161, -0.02151381, -0.60581575, ..., -0.18495096,\n",
              "         -0.04849318, -0.23519185]],\n",
              "\n",
              "       [[-0.65336161, -0.02151381, -0.60581575, ..., -0.18495096,\n",
              "         -0.04849318, -0.23519185]]])"
            ]
          },
          "execution_count": 32,
          "metadata": {},
          "output_type": "execute_result"
        }
      ],
      "source": [
        "train_LSTM_X"
      ]
    },
    {
      "cell_type": "code",
      "execution_count": null,
      "metadata": {
        "colab": {
          "base_uri": "https://localhost:8080/"
        },
        "id": "-hX4rK7TZtZu",
        "outputId": "22309a6d-d0dd-4a37-e4c7-9f2e86f85c61"
      },
      "outputs": [
        {
          "data": {
            "text/plain": [
              "array([[[-0.65336161, -0.02151381, -0.60581575, ..., -0.18495096,\n",
              "         -0.04849318, -0.23519185]],\n",
              "\n",
              "       [[-0.65336161, -0.02151381, -0.60581575, ..., -0.18495096,\n",
              "         -0.04849318, -0.23519185]],\n",
              "\n",
              "       [[ 1.53054599, -0.02151381,  1.65066689, ..., -0.18495096,\n",
              "         -0.04849318, -0.23519185]],\n",
              "\n",
              "       ...,\n",
              "\n",
              "       [[ 1.53054599, -0.02151381,  1.65066689, ..., -0.18495096,\n",
              "         -0.04849318, -0.23519185]],\n",
              "\n",
              "       [[-0.65336161, -0.02151381, -0.60581575, ..., -0.18495096,\n",
              "         -0.04849318, -0.23519185]],\n",
              "\n",
              "       [[ 1.53054599, -0.02151381, -0.60581575, ..., -0.18495096,\n",
              "         -0.04849318, -0.23519185]]])"
            ]
          },
          "execution_count": 33,
          "metadata": {},
          "output_type": "execute_result"
        }
      ],
      "source": [
        "val_LSTM_X"
      ]
    },
    {
      "cell_type": "code",
      "execution_count": null,
      "metadata": {
        "colab": {
          "base_uri": "https://localhost:8080/"
        },
        "id": "qoSvHCjwZxUK",
        "outputId": "7d29592e-2f49-4e97-b8ad-b6b04e8ec3bc"
      },
      "outputs": [
        {
          "data": {
            "text/plain": [
              "(1153642, 1, 150)"
            ]
          },
          "execution_count": 34,
          "metadata": {},
          "output_type": "execute_result"
        }
      ],
      "source": [
        "train_LSTM_X.shape"
      ]
    },
    {
      "cell_type": "code",
      "execution_count": null,
      "metadata": {
        "id": "1FYsx_-TFIKg"
      },
      "outputs": [],
      "source": [
        "# Create Sequential model\n",
        "model = Sequential()\n",
        "\n",
        "# Add LSTM layers\n",
        "model.add(LSTM(50, dropout=0.3, recurrent_dropout=0.2, return_sequences=True, input_shape=(1, feature_shape)))\n",
        "model.add(LSTM(50, dropout=0.3, recurrent_dropout=0.2))\n",
        "\n",
        "# Output layer\n",
        "model.add(Dense(1, activation='sigmoid'))"
      ]
    },
    {
      "cell_type": "code",
      "execution_count": null,
      "metadata": {
        "id": "sPspHqbFiOlG"
      },
      "outputs": [],
      "source": []
    },
    {
      "cell_type": "code",
      "execution_count": null,
      "metadata": {
        "id": "06lLacxgZ3jr"
      },
      "outputs": [],
      "source": [
        "#Another way of implementing lstm\n",
        "# inputs = Input((1, feature_shape))\n",
        "# x1=LSTM(50,dropout=0.3,recurrent_dropout=0.2, return_sequences=True)(inputs)\n",
        "# # print(x1.shape)\n",
        "# x2=LSTM(50,dropout=0.3,recurrent_dropout=0.2)(x1)\n",
        "# outputs=Dense(1,activation='sigmoid')(x2)\n",
        "# model=Model(inputs,outputs)"
      ]
    },
    {
      "cell_type": "code",
      "execution_count": null,
      "metadata": {
        "id": "X-aCA919Z-Vh"
      },
      "outputs": [],
      "source": [
        "model.compile(loss='binary_crossentropy', optimizer='adam', metrics=['accuracy'])"
      ]
    },
    {
      "cell_type": "code",
      "execution_count": null,
      "metadata": {
        "colab": {
          "base_uri": "https://localhost:8080/"
        },
        "id": "PzO-K_Z-Z-gx",
        "outputId": "b3cdcb32-b416-4133-b413-da13cdc3b4e0"
      },
      "outputs": [
        {
          "name": "stdout",
          "output_type": "stream",
          "text": [
            "Epoch 1/100\n",
            "116/116 [==============================] - 10s 39ms/step - loss: 79.0926 - accuracy: 0.6019 - val_loss: 1.8292 - val_accuracy: 0.1592\n",
            "Epoch 2/100\n",
            "116/116 [==============================] - 4s 31ms/step - loss: 1.5099 - accuracy: 0.6090 - val_loss: 2.2090 - val_accuracy: 0.1747\n",
            "Epoch 3/100\n",
            "116/116 [==============================] - 3s 30ms/step - loss: 0.9579 - accuracy: 0.6152 - val_loss: 2.3550 - val_accuracy: 0.1900\n",
            "Epoch 4/100\n",
            "116/116 [==============================] - 3s 30ms/step - loss: 0.8271 - accuracy: 0.6234 - val_loss: 2.3899 - val_accuracy: 0.2094\n",
            "Epoch 5/100\n",
            "116/116 [==============================] - 4s 31ms/step - loss: 0.7653 - accuracy: 0.6333 - val_loss: 2.3475 - val_accuracy: 0.2332\n",
            "Epoch 6/100\n",
            "116/116 [==============================] - 4s 32ms/step - loss: 0.7227 - accuracy: 0.6446 - val_loss: 2.2633 - val_accuracy: 0.2631\n",
            "Epoch 7/100\n",
            "116/116 [==============================] - 4s 31ms/step - loss: 0.6905 - accuracy: 0.6561 - val_loss: 2.1567 - val_accuracy: 0.2973\n",
            "Epoch 8/100\n",
            "116/116 [==============================] - 4s 30ms/step - loss: 0.6555 - accuracy: 0.6695 - val_loss: 2.0322 - val_accuracy: 0.3343\n",
            "Epoch 9/100\n",
            "116/116 [==============================] - 4s 31ms/step - loss: 0.6262 - accuracy: 0.6825 - val_loss: 1.9170 - val_accuracy: 0.3718\n",
            "Epoch 10/100\n",
            "116/116 [==============================] - 4s 34ms/step - loss: 0.5953 - accuracy: 0.6941 - val_loss: 1.7966 - val_accuracy: 0.4096\n",
            "Epoch 11/100\n",
            "116/116 [==============================] - 4s 31ms/step - loss: 0.5653 - accuracy: 0.7071 - val_loss: 1.6788 - val_accuracy: 0.4493\n",
            "Epoch 12/100\n",
            "116/116 [==============================] - 3s 30ms/step - loss: 0.5418 - accuracy: 0.7189 - val_loss: 1.5801 - val_accuracy: 0.4830\n",
            "Epoch 13/100\n",
            "116/116 [==============================] - 3s 30ms/step - loss: 0.5156 - accuracy: 0.7297 - val_loss: 1.4776 - val_accuracy: 0.5187\n",
            "Epoch 14/100\n",
            "116/116 [==============================] - 4s 32ms/step - loss: 0.4897 - accuracy: 0.7411 - val_loss: 1.3792 - val_accuracy: 0.5554\n",
            "Epoch 15/100\n",
            "116/116 [==============================] - 4s 32ms/step - loss: 0.4657 - accuracy: 0.7524 - val_loss: 1.2955 - val_accuracy: 0.5894\n",
            "Epoch 16/100\n",
            "116/116 [==============================] - 4s 31ms/step - loss: 0.4426 - accuracy: 0.7635 - val_loss: 1.2074 - val_accuracy: 0.6265\n",
            "Epoch 17/100\n",
            "116/116 [==============================] - 4s 30ms/step - loss: 0.4208 - accuracy: 0.7759 - val_loss: 1.1320 - val_accuracy: 0.6578\n",
            "Epoch 18/100\n",
            "116/116 [==============================] - 4s 32ms/step - loss: 0.3993 - accuracy: 0.7872 - val_loss: 1.0560 - val_accuracy: 0.6915\n",
            "Epoch 19/100\n",
            "116/116 [==============================] - 4s 32ms/step - loss: 0.3792 - accuracy: 0.7996 - val_loss: 0.9798 - val_accuracy: 0.7261\n",
            "Epoch 20/100\n",
            "116/116 [==============================] - 4s 30ms/step - loss: 0.3626 - accuracy: 0.8114 - val_loss: 0.9205 - val_accuracy: 0.7521\n",
            "Epoch 21/100\n",
            "116/116 [==============================] - 4s 31ms/step - loss: 0.3390 - accuracy: 0.8256 - val_loss: 0.8447 - val_accuracy: 0.7821\n",
            "Epoch 22/100\n",
            "116/116 [==============================] - 4s 31ms/step - loss: 0.3205 - accuracy: 0.8384 - val_loss: 0.7831 - val_accuracy: 0.8058\n",
            "Epoch 23/100\n",
            "116/116 [==============================] - 4s 30ms/step - loss: 0.3035 - accuracy: 0.8505 - val_loss: 0.7265 - val_accuracy: 0.8262\n",
            "Epoch 24/100\n",
            "116/116 [==============================] - 4s 31ms/step - loss: 0.2870 - accuracy: 0.8624 - val_loss: 0.6612 - val_accuracy: 0.8476\n",
            "Epoch 25/100\n",
            "116/116 [==============================] - 4s 30ms/step - loss: 0.2734 - accuracy: 0.8721 - val_loss: 0.6309 - val_accuracy: 0.8580\n",
            "Epoch 26/100\n",
            "116/116 [==============================] - 4s 31ms/step - loss: 0.2571 - accuracy: 0.8815 - val_loss: 0.5752 - val_accuracy: 0.8766\n",
            "Epoch 27/100\n",
            "116/116 [==============================] - 4s 32ms/step - loss: 0.2454 - accuracy: 0.8898 - val_loss: 0.5351 - val_accuracy: 0.8886\n",
            "Epoch 28/100\n",
            "116/116 [==============================] - 4s 30ms/step - loss: 0.2338 - accuracy: 0.8975 - val_loss: 0.5050 - val_accuracy: 0.8986\n",
            "Epoch 29/100\n",
            "116/116 [==============================] - 4s 31ms/step - loss: 0.2243 - accuracy: 0.9038 - val_loss: 0.4748 - val_accuracy: 0.9068\n",
            "Epoch 30/100\n",
            "116/116 [==============================] - 4s 31ms/step - loss: 0.2204 - accuracy: 0.9088 - val_loss: 0.4515 - val_accuracy: 0.9113\n",
            "Epoch 31/100\n",
            "116/116 [==============================] - 4s 32ms/step - loss: 0.2070 - accuracy: 0.9131 - val_loss: 0.4189 - val_accuracy: 0.9196\n",
            "Epoch 32/100\n",
            "116/116 [==============================] - 4s 30ms/step - loss: 0.1984 - accuracy: 0.9175 - val_loss: 0.3924 - val_accuracy: 0.9272\n",
            "Epoch 33/100\n",
            "116/116 [==============================] - 4s 31ms/step - loss: 0.1958 - accuracy: 0.9207 - val_loss: 0.3762 - val_accuracy: 0.9295\n",
            "Epoch 34/100\n",
            "116/116 [==============================] - 4s 31ms/step - loss: 0.1826 - accuracy: 0.9253 - val_loss: 0.3425 - val_accuracy: 0.9389\n",
            "Epoch 35/100\n",
            "116/116 [==============================] - 4s 33ms/step - loss: 0.1759 - accuracy: 0.9289 - val_loss: 0.3345 - val_accuracy: 0.9394\n",
            "Epoch 36/100\n",
            "116/116 [==============================] - 4s 30ms/step - loss: 0.1682 - accuracy: 0.9331 - val_loss: 0.3140 - val_accuracy: 0.9439\n",
            "Epoch 37/100\n",
            "116/116 [==============================] - 3s 30ms/step - loss: 0.1614 - accuracy: 0.9359 - val_loss: 0.2898 - val_accuracy: 0.9497\n",
            "Epoch 38/100\n",
            "116/116 [==============================] - 4s 30ms/step - loss: 0.1606 - accuracy: 0.9370 - val_loss: 0.2846 - val_accuracy: 0.9504\n",
            "Epoch 39/100\n",
            "116/116 [==============================] - 4s 33ms/step - loss: 0.1551 - accuracy: 0.9392 - val_loss: 0.2723 - val_accuracy: 0.9519\n",
            "Epoch 40/100\n",
            "116/116 [==============================] - 4s 30ms/step - loss: 0.1491 - accuracy: 0.9421 - val_loss: 0.2590 - val_accuracy: 0.9545\n",
            "Epoch 41/100\n",
            "116/116 [==============================] - 4s 30ms/step - loss: 0.1438 - accuracy: 0.9443 - val_loss: 0.2478 - val_accuracy: 0.9566\n",
            "Epoch 42/100\n",
            "116/116 [==============================] - 4s 31ms/step - loss: 0.1470 - accuracy: 0.9450 - val_loss: 0.2425 - val_accuracy: 0.9568\n",
            "Epoch 43/100\n",
            "116/116 [==============================] - 4s 33ms/step - loss: 0.1343 - accuracy: 0.9475 - val_loss: 0.2270 - val_accuracy: 0.9602\n",
            "Epoch 44/100\n",
            "116/116 [==============================] - 4s 31ms/step - loss: 0.1353 - accuracy: 0.9487 - val_loss: 0.2235 - val_accuracy: 0.9604\n",
            "Epoch 45/100\n",
            "116/116 [==============================] - 4s 31ms/step - loss: 0.1303 - accuracy: 0.9499 - val_loss: 0.2015 - val_accuracy: 0.9649\n",
            "Epoch 46/100\n",
            "116/116 [==============================] - 3s 29ms/step - loss: 0.1305 - accuracy: 0.9514 - val_loss: 0.2067 - val_accuracy: 0.9630\n",
            "Epoch 47/100\n",
            "116/116 [==============================] - 4s 31ms/step - loss: 0.1263 - accuracy: 0.9527 - val_loss: 0.1955 - val_accuracy: 0.9649\n",
            "Epoch 48/100\n",
            "116/116 [==============================] - 3s 30ms/step - loss: 0.1155 - accuracy: 0.9558 - val_loss: 0.1876 - val_accuracy: 0.9667\n",
            "Epoch 49/100\n",
            "116/116 [==============================] - 4s 31ms/step - loss: 0.1192 - accuracy: 0.9556 - val_loss: 0.1852 - val_accuracy: 0.9667\n",
            "Epoch 50/100\n",
            "116/116 [==============================] - 4s 31ms/step - loss: 0.1152 - accuracy: 0.9570 - val_loss: 0.1763 - val_accuracy: 0.9687\n",
            "Epoch 51/100\n",
            "116/116 [==============================] - 4s 32ms/step - loss: 0.1140 - accuracy: 0.9570 - val_loss: 0.1788 - val_accuracy: 0.9678\n",
            "Epoch 52/100\n",
            "116/116 [==============================] - 4s 30ms/step - loss: 0.1086 - accuracy: 0.9592 - val_loss: 0.1668 - val_accuracy: 0.9699\n",
            "Epoch 53/100\n",
            "116/116 [==============================] - 4s 30ms/step - loss: 0.1097 - accuracy: 0.9590 - val_loss: 0.1675 - val_accuracy: 0.9694\n",
            "Epoch 54/100\n",
            "116/116 [==============================] - 4s 30ms/step - loss: 0.1015 - accuracy: 0.9616 - val_loss: 0.1573 - val_accuracy: 0.9718\n",
            "Epoch 55/100\n",
            "116/116 [==============================] - 4s 31ms/step - loss: 0.1004 - accuracy: 0.9618 - val_loss: 0.1567 - val_accuracy: 0.9718\n",
            "Epoch 56/100\n",
            "116/116 [==============================] - 4s 30ms/step - loss: 0.1000 - accuracy: 0.9631 - val_loss: 0.1589 - val_accuracy: 0.9713\n",
            "Epoch 57/100\n",
            "116/116 [==============================] - 3s 30ms/step - loss: 0.1000 - accuracy: 0.9642 - val_loss: 0.1567 - val_accuracy: 0.9716\n",
            "Epoch 58/100\n",
            "116/116 [==============================] - 3s 30ms/step - loss: 0.0948 - accuracy: 0.9643 - val_loss: 0.1461 - val_accuracy: 0.9738\n",
            "Epoch 59/100\n",
            "116/116 [==============================] - 4s 31ms/step - loss: 0.0937 - accuracy: 0.9657 - val_loss: 0.1482 - val_accuracy: 0.9740\n",
            "Epoch 60/100\n",
            "116/116 [==============================] - 4s 31ms/step - loss: 0.0908 - accuracy: 0.9665 - val_loss: 0.1416 - val_accuracy: 0.9750\n",
            "Epoch 61/100\n",
            "116/116 [==============================] - 4s 30ms/step - loss: 0.0948 - accuracy: 0.9667 - val_loss: 0.1410 - val_accuracy: 0.9753\n",
            "Epoch 62/100\n",
            "116/116 [==============================] - 4s 30ms/step - loss: 0.0919 - accuracy: 0.9672 - val_loss: 0.1363 - val_accuracy: 0.9760\n",
            "Epoch 63/100\n",
            "116/116 [==============================] - 4s 31ms/step - loss: 0.0848 - accuracy: 0.9691 - val_loss: 0.1277 - val_accuracy: 0.9779\n",
            "Epoch 64/100\n",
            "116/116 [==============================] - 4s 32ms/step - loss: 0.0887 - accuracy: 0.9691 - val_loss: 0.1298 - val_accuracy: 0.9769\n",
            "Epoch 65/100\n",
            "116/116 [==============================] - 3s 30ms/step - loss: 0.0886 - accuracy: 0.9688 - val_loss: 0.1283 - val_accuracy: 0.9770\n",
            "Epoch 66/100\n",
            "116/116 [==============================] - 3s 30ms/step - loss: 0.0839 - accuracy: 0.9697 - val_loss: 0.1313 - val_accuracy: 0.9768\n",
            "Epoch 67/100\n",
            "116/116 [==============================] - 3s 30ms/step - loss: 0.0810 - accuracy: 0.9712 - val_loss: 0.1314 - val_accuracy: 0.9767\n",
            "Epoch 68/100\n",
            "116/116 [==============================] - 4s 32ms/step - loss: 0.0768 - accuracy: 0.9721 - val_loss: 0.1274 - val_accuracy: 0.9772\n",
            "Epoch 69/100\n",
            "116/116 [==============================] - 3s 29ms/step - loss: 0.0780 - accuracy: 0.9725 - val_loss: 0.1188 - val_accuracy: 0.9793\n",
            "Epoch 70/100\n",
            "116/116 [==============================] - 3s 30ms/step - loss: 0.0789 - accuracy: 0.9724 - val_loss: 0.1185 - val_accuracy: 0.9790\n",
            "Epoch 71/100\n",
            "116/116 [==============================] - 3s 29ms/step - loss: 0.0747 - accuracy: 0.9743 - val_loss: 0.1202 - val_accuracy: 0.9794\n",
            "Epoch 72/100\n",
            "116/116 [==============================] - 4s 31ms/step - loss: 0.0780 - accuracy: 0.9734 - val_loss: 0.1189 - val_accuracy: 0.9792\n",
            "Epoch 73/100\n",
            "116/116 [==============================] - 4s 31ms/step - loss: 0.0702 - accuracy: 0.9753 - val_loss: 0.1123 - val_accuracy: 0.9806\n",
            "Epoch 74/100\n",
            "116/116 [==============================] - 3s 30ms/step - loss: 0.0723 - accuracy: 0.9752 - val_loss: 0.1058 - val_accuracy: 0.9816\n",
            "Epoch 75/100\n",
            "116/116 [==============================] - 3s 30ms/step - loss: 0.0756 - accuracy: 0.9748 - val_loss: 0.1209 - val_accuracy: 0.9793\n",
            "Epoch 76/100\n",
            "116/116 [==============================] - 4s 31ms/step - loss: 0.0753 - accuracy: 0.9745 - val_loss: 0.1234 - val_accuracy: 0.9787\n",
            "Epoch 77/100\n",
            "116/116 [==============================] - 4s 30ms/step - loss: 0.0705 - accuracy: 0.9758 - val_loss: 0.1132 - val_accuracy: 0.9802\n",
            "Epoch 78/100\n",
            "116/116 [==============================] - 3s 30ms/step - loss: 0.0730 - accuracy: 0.9749 - val_loss: 0.1098 - val_accuracy: 0.9809\n",
            "Epoch 79/100\n",
            "116/116 [==============================] - 3s 30ms/step - loss: 0.0684 - accuracy: 0.9765 - val_loss: 0.1051 - val_accuracy: 0.9822\n",
            "Epoch 80/100\n",
            "116/116 [==============================] - 4s 32ms/step - loss: 0.0645 - accuracy: 0.9780 - val_loss: 0.1026 - val_accuracy: 0.9829\n",
            "Epoch 81/100\n",
            "116/116 [==============================] - 4s 31ms/step - loss: 0.0693 - accuracy: 0.9779 - val_loss: 0.1010 - val_accuracy: 0.9830\n",
            "Epoch 82/100\n",
            "116/116 [==============================] - 3s 29ms/step - loss: 0.0684 - accuracy: 0.9779 - val_loss: 0.1014 - val_accuracy: 0.9831\n",
            "Epoch 83/100\n",
            "116/116 [==============================] - 3s 30ms/step - loss: 0.0614 - accuracy: 0.9789 - val_loss: 0.1029 - val_accuracy: 0.9832\n",
            "Epoch 84/100\n",
            "116/116 [==============================] - 4s 31ms/step - loss: 0.0621 - accuracy: 0.9792 - val_loss: 0.0987 - val_accuracy: 0.9839\n",
            "Epoch 85/100\n",
            "116/116 [==============================] - 4s 31ms/step - loss: 0.0663 - accuracy: 0.9783 - val_loss: 0.1038 - val_accuracy: 0.9829\n",
            "Epoch 86/100\n",
            "116/116 [==============================] - 3s 30ms/step - loss: 0.0651 - accuracy: 0.9787 - val_loss: 0.1009 - val_accuracy: 0.9833\n",
            "Epoch 87/100\n",
            "116/116 [==============================] - 3s 30ms/step - loss: 0.0642 - accuracy: 0.9791 - val_loss: 0.1019 - val_accuracy: 0.9831\n",
            "Epoch 88/100\n",
            "116/116 [==============================] - 4s 31ms/step - loss: 0.0605 - accuracy: 0.9797 - val_loss: 0.0992 - val_accuracy: 0.9836\n",
            "Epoch 89/100\n",
            "116/116 [==============================] - 4s 32ms/step - loss: 0.0635 - accuracy: 0.9792 - val_loss: 0.1042 - val_accuracy: 0.9824\n",
            "Epoch 90/100\n",
            "116/116 [==============================] - 3s 30ms/step - loss: 0.0590 - accuracy: 0.9802 - val_loss: 0.0956 - val_accuracy: 0.9843\n",
            "Epoch 91/100\n",
            "116/116 [==============================] - 3s 29ms/step - loss: 0.0631 - accuracy: 0.9798 - val_loss: 0.0932 - val_accuracy: 0.9846\n",
            "Epoch 92/100\n",
            "116/116 [==============================] - 3s 29ms/step - loss: 0.0625 - accuracy: 0.9799 - val_loss: 0.1010 - val_accuracy: 0.9829\n",
            "Epoch 93/100\n",
            "116/116 [==============================] - 4s 31ms/step - loss: 0.0605 - accuracy: 0.9802 - val_loss: 0.0910 - val_accuracy: 0.9847\n",
            "Epoch 94/100\n",
            "116/116 [==============================] - 3s 30ms/step - loss: 0.0608 - accuracy: 0.9804 - val_loss: 0.0906 - val_accuracy: 0.9848\n",
            "Epoch 95/100\n",
            "116/116 [==============================] - 3s 30ms/step - loss: 0.0646 - accuracy: 0.9794 - val_loss: 0.0941 - val_accuracy: 0.9841\n",
            "Epoch 96/100\n",
            "116/116 [==============================] - 3s 30ms/step - loss: 0.0574 - accuracy: 0.9808 - val_loss: 0.0866 - val_accuracy: 0.9859\n",
            "Epoch 97/100\n",
            "116/116 [==============================] - 4s 32ms/step - loss: 0.0592 - accuracy: 0.9811 - val_loss: 0.0918 - val_accuracy: 0.9849\n",
            "Epoch 98/100\n",
            "116/116 [==============================] - 3s 30ms/step - loss: 0.0571 - accuracy: 0.9815 - val_loss: 0.0904 - val_accuracy: 0.9852\n",
            "Epoch 99/100\n",
            "116/116 [==============================] - 3s 30ms/step - loss: 0.0592 - accuracy: 0.9809 - val_loss: 0.0875 - val_accuracy: 0.9857\n",
            "Epoch 100/100\n",
            "116/116 [==============================] - 3s 30ms/step - loss: 0.0578 - accuracy: 0.9817 - val_loss: 0.0882 - val_accuracy: 0.9857\n"
          ]
        }
      ],
      "source": [
        "history=model.fit(train_LSTM_X, train_LSTM_y,epochs=100,batch_size=10000, validation_data=(val_LSTM_X, val_LSTM_y), class_weight=weight_dict)"
      ]
    },
    {
      "cell_type": "code",
      "execution_count": null,
      "metadata": {
        "id": "ZQt6w8dARbVl"
      },
      "outputs": [],
      "source": []
    },
    {
      "cell_type": "code",
      "execution_count": null,
      "metadata": {
        "colab": {
          "base_uri": "https://localhost:8080/"
        },
        "id": "Uag93n4dcNMD",
        "outputId": "6ace075b-c57d-4b19-bb37-eb926be63d3f"
      },
      "outputs": [
        {
          "name": "stdout",
          "output_type": "stream",
          "text": [
            "Saved model to disk\n"
          ]
        }
      ],
      "source": [
        "model.save('NewDMBA_100epoch.h5')\n",
        "print(\"Saved model to disk\")"
      ]
    },
    {
      "cell_type": "markdown",
      "metadata": {
        "id": "qS8X9RJQyRj9"
      },
      "source": [
        "## Load Model"
      ]
    },
    {
      "cell_type": "code",
      "execution_count": null,
      "metadata": {
        "colab": {
          "base_uri": "https://localhost:8080/"
        },
        "id": "JjtLBxpjcqRH",
        "outputId": "639e74a5-96c1-4be8-8294-ffed468b594f"
      },
      "outputs": [
        {
          "name": "stdout",
          "output_type": "stream",
          "text": [
            "Model: \"sequential\"\n",
            "_________________________________________________________________\n",
            " Layer (type)                Output Shape              Param #   \n",
            "=================================================================\n",
            " lstm (LSTM)                 (None, 1, 50)             40200     \n",
            "                                                                 \n",
            " lstm_1 (LSTM)               (None, 50)                20200     \n",
            "                                                                 \n",
            " dense (Dense)               (None, 1)                 51        \n",
            "                                                                 \n",
            "=================================================================\n",
            "Total params: 60,451\n",
            "Trainable params: 60,451\n",
            "Non-trainable params: 0\n",
            "_________________________________________________________________\n"
          ]
        }
      ],
      "source": [
        "# load and evaluate a saved model\n",
        "from numpy import loadtxt\n",
        "from keras.models import load_model\n",
        "\n",
        "# load model\n",
        "model = load_model('NewDMBA_100epoch.h5')\n",
        "# summarize model.\n",
        "model.summary()"
      ]
    },
    {
      "cell_type": "code",
      "execution_count": null,
      "metadata": {
        "colab": {
          "base_uri": "https://localhost:8080/"
        },
        "id": "8nnnurb8csPD",
        "outputId": "340ae3a5-0135-4f1d-b978-f16e28de8aa9"
      },
      "outputs": [
        {
          "name": "stdout",
          "output_type": "stream",
          "text": [
            "Train: 0.991, Validation: 0.979\n"
          ]
        }
      ],
      "source": [
        "\n",
        "# evaluate the model\n",
        "_, train_acc = model.evaluate(train_LSTM_X, train_LSTM_y, verbose=0)\n",
        "_, val_acc = model.evaluate(val_LSTM_X, val_LSTM_y, verbose=0)\n",
        "print('Train: %.3f, Validation: %.3f' % (train_acc, val_acc))"
      ]
    },
    {
      "cell_type": "code",
      "execution_count": null,
      "metadata": {
        "id": "M0VIKSN-pupK"
      },
      "outputs": [],
      "source": [
        "from matplotlib import pyplot\n"
      ]
    },
    {
      "cell_type": "code",
      "execution_count": null,
      "metadata": {
        "colab": {
          "base_uri": "https://localhost:8080/",
          "height": 452
        },
        "id": "bBwAshrucx1z",
        "outputId": "d52ba688-7e1e-4c44-b823-012ea93921a6"
      },
      "outputs": [
        {
          "data": {
            "image/png": "[encoded data removed]",
            "text/plain": [
              "<Figure size 640x480 with 2 Axes>"
            ]
          },
          "metadata": {},
          "output_type": "display_data"
        }
      ],
      "source": [
        "import matplotlib.pyplot as plt\n",
        "\n",
        "# plot loss during training\n",
        "plt.subplot(211)\n",
        "plt.title('Loss')\n",
        "plt.plot(history.history['loss'], label='train')\n",
        "plt.plot(history.history['val_loss'], label='validation')\n",
        "plt.legend()\n",
        "\n",
        "# set x-axis limits\n",
        "plt.ylim([0, 2])\n",
        "\n",
        "# plot accuracy during training\n",
        "pyplot.subplot(212)\n",
        "pyplot.title('Accuracy')\n",
        "pyplot.plot(history.history['accuracy'], label='train')\n",
        "pyplot.plot(history.history['val_accuracy'], label='validation')\n",
        "\n",
        "pyplot.legend()\n",
        "pyplot.show()"
      ]
    },
    {
      "cell_type": "code",
      "execution_count": null,
      "metadata": {
        "colab": {
          "base_uri": "https://localhost:8080/"
        },
        "id": "IFKfbIWGAc36",
        "outputId": "b670c668-37b3-4195-c9bc-ae4f5cc62011"
      },
      "outputs": [
        {
          "data": {
            "text/plain": [
              "array([[ 1.53054599, -0.02151381,  1.65066689, ..., -0.18495096,\n",
              "        -0.04849318, -0.23519185],\n",
              "       [ 1.53054599, -0.02151381,  1.65066689, ..., -0.18495096,\n",
              "        -0.04849318, -0.23519185],\n",
              "       [ 1.53054599, -0.02151381, -0.60581575, ..., -0.18495096,\n",
              "        -0.04849318,  4.2518481 ],\n",
              "       ...,\n",
              "       [ 1.53054599, -0.02151381,  1.65066689, ..., -0.18495096,\n",
              "        20.62145632, -0.23519185],\n",
              "       [-0.65336161, -0.02151381,  1.65066689, ...,  5.40683866,\n",
              "        -0.04849318, -0.23519185],\n",
              "       [-0.65336161, -0.02151381, -0.60581575, ..., -0.18495096,\n",
              "        -0.04849318, -0.23519185]])"
            ]
          },
          "execution_count": 42,
          "metadata": {},
          "output_type": "execute_result"
        }
      ],
      "source": [
        "X_test_trans"
      ]
    },
    {
      "cell_type": "code",
      "execution_count": null,
      "metadata": {
        "colab": {
          "base_uri": "https://localhost:8080/"
        },
        "id": "-Rrp1kfkAqvW",
        "outputId": "604f621b-5386-47bb-e82e-e10412d48478"
      },
      "outputs": [
        {
          "name": "stdout",
          "output_type": "stream",
          "text": [
            "(1153642, 1, 150)\n",
            "(192378, 1, 150)\n",
            "(192379, 150)\n"
          ]
        }
      ],
      "source": [
        "print(train_LSTM_X.shape)\n",
        "print(val_LSTM_X.shape)\n",
        "print(X_test_trans.shape)"
      ]
    },
    {
      "cell_type": "code",
      "execution_count": null,
      "metadata": {
        "id": "b7R0_bRrAqRY"
      },
      "outputs": [],
      "source": [
        "test_LSTM_X = X_test_trans.reshape(X_test_trans.shape[0], 1, feature_shape)"
      ]
    },
    {
      "cell_type": "code",
      "execution_count": null,
      "metadata": {
        "colab": {
          "base_uri": "https://localhost:8080/"
        },
        "id": "b_GdfpFzBHvM",
        "outputId": "2d60f909-9282-4109-f754-168a85d3eff2"
      },
      "outputs": [
        {
          "name": "stdout",
          "output_type": "stream",
          "text": [
            "(192379, 1, 150)\n"
          ]
        }
      ],
      "source": [
        "print(test_LSTM_X.shape)"
      ]
    },
    {
      "cell_type": "code",
      "execution_count": null,
      "metadata": {
        "id": "A6fG_5hjcx_K"
      },
      "outputs": [],
      "source": [
        "\n",
        "# predict probabilities for test set\n",
        "yhat_probs = model.predict(test_LSTM_X, verbose=0)\n",
        "# reduce to 1d array\n",
        "yhat_probs = yhat_probs[:, 0]"
      ]
    },
    {
      "cell_type": "code",
      "execution_count": null,
      "metadata": {
        "colab": {
          "base_uri": "https://localhost:8080/"
        },
        "id": "LpDLaSghdNml",
        "outputId": "55c9365d-075d-493f-d223-475396ec78db"
      },
      "outputs": [
        {
          "name": "stdout",
          "output_type": "stream",
          "text": [
            "6012/6012 [==============================] - 10s 2ms/step\n"
          ]
        }
      ],
      "source": [
        "predictions = model.predict(test_LSTM_X)\n",
        "preds = predictions > 0.5"
      ]
    },
    {
      "cell_type": "code",
      "execution_count": null,
      "metadata": {
        "id": "3aq6dsVP6trW"
      },
      "outputs": [],
      "source": [
        "# X_train1,X_test1,y_train1,y_test1 = train_test_split(X, y, test_size=0.4)\n",
        "# X_test1,X_val1,y_test1,y_val1 = train_test_split(X_test1, y_test1, test_size=0.5)\n"
      ]
    },
    {
      "cell_type": "code",
      "execution_count": null,
      "metadata": {
        "colab": {
          "base_uri": "https://localhost:8080/"
        },
        "id": "3HJlmgrUdNxG",
        "outputId": "fc36a4da-8ebf-49a4-fffc-ed16b167bfc6"
      },
      "outputs": [
        {
          "data": {
            "text/plain": [
              "array([[0.0036377 ],\n",
              "       [0.00151007],\n",
              "       [0.00128395],\n",
              "       ...,\n",
              "       [0.00184119],\n",
              "       [0.02471862],\n",
              "       [0.00092192]], dtype=float32)"
            ]
          },
          "execution_count": 48,
          "metadata": {},
          "output_type": "execute_result"
        }
      ],
      "source": [
        "predictions"
      ]
    },
    {
      "cell_type": "code",
      "execution_count": null,
      "metadata": {
        "colab": {
          "base_uri": "https://localhost:8080/"
        },
        "id": "HQ-VhGeye4Pr",
        "outputId": "084c185d-98de-4a95-b5cc-f3220d08ef18"
      },
      "outputs": [
        {
          "data": {
            "text/plain": [
              "472963    0\n",
              "550939    0\n",
              "709907    0\n",
              "635809    0\n",
              "725634    0\n",
              "         ..\n",
              "921493    0\n",
              "596891    0\n",
              "47627     0\n",
              "262720    0\n",
              "732421    0\n",
              "Name: isFraud, Length: 192378, dtype: int64"
            ]
          },
          "execution_count": 49,
          "metadata": {},
          "output_type": "execute_result"
        }
      ],
      "source": [
        "val_LSTM_y"
      ]
    },
    {
      "cell_type": "code",
      "execution_count": null,
      "metadata": {
        "colab": {
          "base_uri": "https://localhost:8080/",
          "height": 764
        },
        "id": "cERIjXDLdZ6x",
        "outputId": "eae2794d-a35b-40ca-dbf5-604e84195982"
      },
      "outputs": [
        {
          "name": "stderr",
          "output_type": "stream",
          "text": [
            "<ipython-input-50-bfe060d1fbf3>:8: DeprecationWarning: `np.int` is a deprecated alias for the builtin `int`. To silence this warning, use `int` by itself. Doing this will not modify any behavior and is safe. When replacing `np.int`, you may wish to use e.g. `np.int64` or `np.int32` to specify the precision. If you wish to review your current use, check the release note link for additional information.\n",
            "Deprecated in NumPy 1.20; for more details and guidance: https://numpy.org/devdocs/release/1.20.0-notes.html#deprecations\n",
            "  n_correct = np.int((corr_pred[0][0] + corr_pred[1][1]))\n",
            "<ipython-input-50-bfe060d1fbf3>:10: DeprecationWarning: `np.int` is a deprecated alias for the builtin `int`. To silence this warning, use `int` by itself. Doing this will not modify any behavior and is safe. When replacing `np.int`, you may wish to use e.g. `np.int64` or `np.int32` to specify the precision. If you wish to review your current use, check the release note link for additional information.\n",
            "Deprecated in NumPy 1.20; for more details and guidance: https://numpy.org/devdocs/release/1.20.0-notes.html#deprecations\n",
            "  n_wrongs = np.int((corr_pred[0][1] + (corr_pred[1][0])))\n"
          ]
        },
        {
          "name": "stdout",
          "output_type": "stream",
          "text": [
            "> Correct Predictions: 189552\n",
            "> Wrong Predictions: 2827\n",
            "              precision    recall  f1-score   support\n",
            "\n",
            "    NonFraud       1.00      0.99      0.99    192274\n",
            "       Fraud       0.03      0.88      0.06       105\n",
            "\n",
            "    accuracy                           0.99    192379\n",
            "   macro avg       0.52      0.93      0.53    192379\n",
            "weighted avg       1.00      0.99      0.99    192379\n",
            "\n"
          ]
        },
        {
          "data": {
            "image/png": "[encoded data removed]",
            "text/plain": [
              "<Figure size 640x480 with 1 Axes>"
            ]
          },
          "metadata": {},
          "output_type": "display_data"
        }
      ],
      "source": [
        "import seaborn as sns\n",
        "from sklearn import metrics\n",
        "\n",
        "from sklearn.metrics import RocCurveDisplay\n",
        "\n",
        "corr_pred = metrics.confusion_matrix(y_test, preds)\n",
        "\n",
        "n_correct = np.int((corr_pred[0][0] + corr_pred[1][1]))\n",
        "print('> Correct Predictions:', n_correct)\n",
        "n_wrongs = np.int((corr_pred[0][1] + (corr_pred[1][0])))\n",
        "print('> Wrong Predictions:', n_wrongs)\n",
        "\n",
        "fpr, tpr, _ = metrics.roc_curve(y_test, preds)\n",
        "\n",
        "disp = RocCurveDisplay(fpr=fpr, tpr=tpr)\n",
        "disp.plot()\n",
        "\n",
        "print(metrics.classification_report(y_test, preds,\n",
        "                           target_names=[\"NonFraud\", \"Fraud\"]))"
      ]
    },
    {
      "cell_type": "code",
      "execution_count": null,
      "metadata": {
        "id": "sdv0PNkydaDD"
      },
      "outputs": [],
      "source": []
    },
    {
      "cell_type": "code",
      "execution_count": null,
      "metadata": {
        "id": "fN2q7Tv9c7ua"
      },
      "outputs": [],
      "source": [
        "conf_matrix = confusion_matrix(y_test, preds)"
      ]
    },
    {
      "cell_type": "code",
      "execution_count": null,
      "metadata": {
        "colab": {
          "base_uri": "https://localhost:8080/"
        },
        "id": "X_JC0EIGc7n8",
        "outputId": "fb91e83c-675a-40ca-f152-254c2634f899"
      },
      "outputs": [
        {
          "data": {
            "text/plain": [
              "array([[189460,   2814],\n",
              "       [    13,     92]])"
            ]
          },
          "execution_count": 52,
          "metadata": {},
          "output_type": "execute_result"
        }
      ],
      "source": [
        "conf_matrix"
      ]
    },
    {
      "cell_type": "code",
      "execution_count": null,
      "metadata": {
        "id": "m_Un3DFqc718"
      },
      "outputs": [],
      "source": [
        "tn, fp, fn, tp = confusion_matrix(y_test, preds).ravel()"
      ]
    },
    {
      "cell_type": "code",
      "execution_count": null,
      "metadata": {
        "colab": {
          "base_uri": "https://localhost:8080/"
        },
        "id": "tsgmYy5gc_VD",
        "outputId": "e72a7a99-6e74-4115-c61b-924003cd19c4"
      },
      "outputs": [
        {
          "name": "stdout",
          "output_type": "stream",
          "text": [
            "189460 2814 13 92\n"
          ]
        }
      ],
      "source": [
        "print(tn, fp, fn, tp)"
      ]
    },
    {
      "cell_type": "code",
      "execution_count": null,
      "metadata": {
        "colab": {
          "base_uri": "https://localhost:8080/"
        },
        "id": "rtOrKtQbdAqC",
        "outputId": "03c540a9-c243-4d69-c388-0b032b9cb948"
      },
      "outputs": [
        {
          "name": "stdout",
          "output_type": "stream",
          "text": [
            "Accuracy score: 0.9853050488878724\n",
            "Precision score: 0.031658637302133516\n",
            "Recall score: 0.8761904761904762\n",
            "F1 score: 0.06110926602457656\n"
          ]
        }
      ],
      "source": [
        "accuracy = ((tp+tn)/(tp+tn+fp+fn))\n",
        "precision = tp / (tp+fp)\n",
        "recall = tp /(tp+fn)\n",
        "f1_score = (2*precision*recall)/(precision+recall)\n",
        "\n",
        "print(\"Accuracy score:\", accuracy)\n",
        "print(\"Precision score:\", precision)\n",
        "print(\"Recall score:\", recall)\n",
        "print(\"F1 score:\", f1_score)"
      ]
    },
    {
      "cell_type": "code",
      "execution_count": null,
      "metadata": {
        "colab": {
          "base_uri": "https://localhost:8080/"
        },
        "id": "terPQmB6fEc5",
        "outputId": "095313c0-41fc-4a6c-e0d3-b6fe85295151"
      },
      "outputs": [
        {
          "name": "stdout",
          "output_type": "stream",
          "text": [
            "Accuracy: 0.985305\n",
            "Precision: 0.031659\n",
            "Recall: 0.876190\n"
          ]
        }
      ],
      "source": [
        "\n",
        "# demonstration of calculating metrics for a neural network model using sklearn\n",
        "from sklearn.metrics import accuracy_score\n",
        "from sklearn.metrics import precision_score\n",
        "from sklearn.metrics import recall_score\n",
        "from sklearn.metrics import confusion_matrix\n",
        "\n",
        "# Assuming yhat_probs are probabilities ranging from 0 to 1\n",
        "threshold = 0.5\n",
        "yhat_classes = (yhat_probs >= threshold).astype(int)\n",
        "\n",
        "# Now yhat_classes contains binary class labels (0 or 1)\n",
        "accuracy = accuracy_score(y_test, yhat_classes)\n",
        "precision = precision_score(y_test, yhat_classes)\n",
        "recall = recall_score(y_test, yhat_classes)\n",
        "\n",
        "print('Accuracy: %f' % accuracy)\n",
        "print('Precision: %f' % precision)\n",
        "print('Recall: %f' % recall)"
      ]
    },
    {
      "cell_type": "code",
      "execution_count": null,
      "metadata": {
        "colab": {
          "base_uri": "https://localhost:8080/"
        },
        "id": "VL562VZMcXMz",
        "outputId": "e641069f-e559-4c64-a5b1-a2d1e0a046a6"
      },
      "outputs": [
        {
          "data": {
            "text/plain": [
              "192379"
            ]
          },
          "execution_count": 57,
          "metadata": {},
          "output_type": "execute_result"
        }
      ],
      "source": [
        "y_test.count()"
      ]
    },
    {
      "cell_type": "code",
      "execution_count": null,
      "metadata": {
        "id": "0YG_prFTho-6"
      },
      "outputs": [],
      "source": [
        "%matplotlib inline\n",
        "from sklearn.metrics import confusion_matrix\n",
        "import itertools\n",
        "import matplotlib.pyplot as plt"
      ]
    },
    {
      "cell_type": "code",
      "execution_count": null,
      "metadata": {
        "id": "pBD4CuHxhpG0"
      },
      "outputs": [],
      "source": [
        "cm = confusion_matrix(y_true=y_test, y_pred=yhat_classes)\n"
      ]
    },
    {
      "cell_type": "code",
      "execution_count": null,
      "metadata": {
        "id": "AjCMCdL_hxey"
      },
      "outputs": [],
      "source": [
        "def plot_confusion_matrix(cm, classes,\n",
        "                        normalize=False,\n",
        "                        title='Confusion matrix',\n",
        "                        cmap=plt.cm.Blues):\n",
        "    \"\"\"\n",
        "    This function prints and plots the confusion matrix.\n",
        "    Normalization can be applied by setting `normalize=True`.\n",
        "    \"\"\"\n",
        "    plt.imshow(cm, interpolation='nearest', cmap=cmap)\n",
        "    plt.title(title)\n",
        "    plt.colorbar()\n",
        "    tick_marks = np.arange(len(classes))\n",
        "    plt.xticks(tick_marks, classes, rotation=45)\n",
        "    plt.yticks(tick_marks, classes)\n",
        "\n",
        "    if normalize:\n",
        "        cm = cm.astype('float') / cm.sum(axis=1)[:, np.newaxis]\n",
        "        print(\"Normalized confusion matrix\")\n",
        "    else:\n",
        "        print('Confusion matrix, without normalization')\n",
        "\n",
        "    print(cm)\n",
        "\n",
        "    thresh = cm.max() / 2.\n",
        "    for i, j in itertools.product(range(cm.shape[0]), range(cm.shape[1])):\n",
        "        plt.text(j, i, cm[i, j],\n",
        "            horizontalalignment=\"center\",\n",
        "            color=\"white\" if cm[i, j] > thresh else \"black\")\n",
        "\n",
        "    plt.tight_layout()\n",
        "    plt.ylabel('True label')\n",
        "    plt.xlabel('Predicted label')\n",
        "labels = ['Normal','Fraud']"
      ]
    },
    {
      "cell_type": "code",
      "execution_count": null,
      "metadata": {
        "colab": {
          "base_uri": "https://localhost:8080/",
          "height": 558
        },
        "id": "ksonCdPph1M7",
        "outputId": "06d125f2-f0a3-43d8-94ab-cf7170954284"
      },
      "outputs": [
        {
          "name": "stdout",
          "output_type": "stream",
          "text": [
            "Confusion matrix, without normalization\n",
            "[[189460   2814]\n",
            " [    13     92]]\n"
          ]
        },
        {
          "data": {
            "image/png": "[encoded data removed]",
            "text/plain": [
              "<Figure size 640x480 with 2 Axes>"
            ]
          },
          "metadata": {},
          "output_type": "display_data"
        }
      ],
      "source": [
        "plot_confusion_matrix(cm=cm, classes=labels, title='LSTM')\n"
      ]
    },
    {
      "cell_type": "code",
      "execution_count": null,
      "metadata": {
        "colab": {
          "base_uri": "https://localhost:8080/",
          "height": 447
        },
        "id": "WaPGCy7hVirI",
        "outputId": "e38069fd-a6d7-485d-878f-b2ab65452323"
      },
      "outputs": [
        {
          "data": {
            "text/plain": [
              "<Axes: >"
            ]
          },
          "execution_count": 62,
          "metadata": {},
          "output_type": "execute_result"
        },
        {
          "data": {
            "image/png": "[encoded data removed]",
            "text/plain": [
              "<Figure size 640x480 with 2 Axes>"
            ]
          },
          "metadata": {},
          "output_type": "display_data"
        }
      ],
      "source": [
        "group_names = [\"True Neg\",\"False Pos\",\"False Neg\",\"True Pos\"]\n",
        "group_counts = [\"{0:0.0f}\".format(value) for value in\n",
        "                conf_matrix.flatten()]\n",
        "group_percentages = [\"{0:.2%}\".format(value) for value in\n",
        "                     conf_matrix.flatten()/np.sum(conf_matrix)]\n",
        "labels = [f\"{v1}\\n{v2}\\n{v3}\" for v1, v2, v3 in\n",
        "          zip(group_names,group_counts,group_percentages)]\n",
        "labels = np.asarray(labels).reshape(2,2)\n",
        "sns.heatmap(conf_matrix, annot=labels, fmt='', cmap='Blues')"
      ]
    }
  ],
  "metadata": {
    "accelerator": "TPU",
    "colab": {
      "machine_shape": "hm",
      "provenance": []
    },
    "kernelspec": {
      "display_name": "Python 3",
      "name": "python3"
    },
    "language_info": {
      "codemirror_mode": {
        "name": "ipython",
        "version": 3
      },
      "file_extension": ".py",
      "mimetype": "text/x-python",
      "name": "python",
      "nbconvert_exporter": "python",
      "pygments_lexer": "ipython3",
      "version": "3.9.13"
    }
  },
  "nbformat": 4,
  "nbformat_minor": 0
}